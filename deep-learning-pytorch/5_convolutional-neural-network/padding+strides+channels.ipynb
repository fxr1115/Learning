{
 "cells": [
  {
   "cell_type": "markdown",
   "id": "29229c82-7545-409c-8d26-b977e91a5f76",
   "metadata": {},
   "source": [
    "# 填充和步幅"
   ]
  },
  {
   "cell_type": "markdown",
   "id": "06f1f0ba-e33b-46cf-b404-a1d8ded9b100",
   "metadata": {},
   "source": [
    "### 填充padding\n",
    "- 通常使用小卷积核，对于单个卷积，可能只丢失几个像素；但是应用多层卷积时，常常**丢失边缘像素**，则会丢失很多有用信息\n",
    "- 给定$(32\\times32)$输入图像，应用$5\\times5$大小的卷积核\n",
    "    - 第1层得到输出大小$28\\times28$\n",
    "    - 第7层得到的输出大小$4\\times4$\n",
    "- **更大的卷积核**可以**更快地减小**输出大小\n",
    "    - 形状从 $n_k \\times n_w$ 减少到$(n_k-k_h+1) \\times (n_w-k_w+1)$\n",
    "#### **在输入周围添加额外的行/列**\n",
    "- 填充$p_h$行和$p_w$列，输出形状为$(n_h-k_h+p_h+1) \\times (n_w-k_w+p_w+1)$\n",
    "    - **通常取**$p_h=k_h-1$，$p_w=k_w-1$ (核的高、宽-1)——**输出形状和输入形状相同**\n",
    "        - 当$k_h$为奇数：在上下两侧填充$p_h/2$\n",
    "        - 当$k_h$为偶数(很少)：在上侧填充$\\left\\lceil p_h/2 \\right\\rceil $在下侧填充 $\\left\\lfloor p_h/2 \\right\\rfloor $ (上侧多一行，下侧少一行；反过来也无所谓)\n",
    "- 填充减小的输出大小与层数线性相关"
   ]
  },
  {
   "attachments": {},
   "cell_type": "markdown",
   "id": "64d8e6f2-4681-4f83-8bb8-690453d9d9c4",
   "metadata": {},
   "source": [
    "### 步幅strides\n",
    "- 给定$(224\\times224)$输入图像，应用$5\\times5$大小的卷积核，需要55层得到输出大小$4\\times4$\n",
    "    - 需要大量的计算才能得到较小输出\n",
    "#### **步幅是指行/列的滑动步长**\n",
    "- 给定高度 $ s_h $ 和宽度 $ s_w $ 的步幅，输出形状是（向下取整）\n",
    "$$\n",
    "  \\left\\lfloor \\frac{(n_h - k_h + p_h + s_h)}{s_h} \\right\\rfloor \\times \\left\\lfloor \\frac{(n_w - k_w + p_w + s_w)}{s_w} \\right\\rfloor\n",
    "$$\n",
    "\n",
    "- 如果$ p_h = k_h - 1$，$ p_w = k_w - 1 $ （向下取整）\n",
    "$$\n",
    "  \\left\\lfloor \\frac{(n_h + s_h - 1)}{s_h} \\right\\rfloor \\times \\left\\lfloor \\frac{(n_w + s_w - 1)}{s_w} \\right\\rfloor\n",
    "$$\n",
    "\n",
    "- 如果输入高度和宽度可以被步幅整除\n",
    "$$\n",
    "  \\left(\\frac{n_h}{s_h}\\right) \\times \\left(\\frac{n_w}{s_w}\\right)\n",
    "$$"
   ]
  },
  {
   "cell_type": "markdown",
   "id": "eb70bbdc-b5dc-48f1-bbb1-e81445dbf631",
   "metadata": {},
   "source": [
    "### 总结\n",
    "- **填充**和**步幅**是卷积层的**超参数**\n",
    "- 填充在输入周围添加额外的行/列，来**控制输出形状的减少量**\n",
    "    - 常用使得输入和输出具有相同的高和宽\n",
    "- 步幅是每次滑动核窗口时的行/列的步长，可以**成倍的减少输出形状**"
   ]
  },
  {
   "cell_type": "markdown",
   "id": "1a104b0f-35ee-46e8-9fee-1a0ba67ac126",
   "metadata": {},
   "source": [
    "## 代码"
   ]
  },
  {
   "cell_type": "markdown",
   "id": "3040f8a0-6cf6-49b4-81f1-43108299ca25",
   "metadata": {},
   "source": [
    "**在所有侧边填充1个像素**\n",
    "- 使得输出形状不变，则需要添加2行/列，那就是每侧加1行/列"
   ]
  },
  {
   "cell_type": "code",
   "execution_count": 5,
   "id": "a114e945-5d33-4108-bba1-11dc05189da9",
   "metadata": {},
   "outputs": [
    {
     "data": {
      "text/plain": [
       "torch.Size([8, 8])"
      ]
     },
     "execution_count": 5,
     "metadata": {},
     "output_type": "execute_result"
    }
   ],
   "source": [
    "import torch\n",
    "\n",
    "from torch import nn\n",
    "\n",
    "# 定义了一个计算卷积层的函数\n",
    "def comp_conv2d(conv2d, X):\n",
    "    X = X.reshape((1, 1) + X.shape)\n",
    "    Y = conv2d(X)\n",
    "    return Y.reshape(Y.shape[2:])\n",
    "\n",
    "conv2d = nn.Conv2d(1, 1, kernel_size=3, padding=1) \n",
    "X = torch.rand(size=(8, 8))\n",
    "comp_conv2d(conv2d, X).shape"
   ]
  },
  {
   "cell_type": "markdown",
   "id": "ea27c0bf-22d6-49c1-b171-a4ac16200388",
   "metadata": {},
   "source": [
    "**填充不同的高度和宽度**"
   ]
  },
  {
   "cell_type": "code",
   "execution_count": 7,
   "id": "e6a5aa35-f527-41f5-8bcc-b4a1e65c9690",
   "metadata": {},
   "outputs": [
    {
     "data": {
      "text/plain": [
       "torch.Size([8, 8])"
      ]
     },
     "execution_count": 7,
     "metadata": {},
     "output_type": "execute_result"
    }
   ],
   "source": [
    "conv2d = nn.Conv2d(1, 1, kernel_size=(5, 3), padding=(2, 1))\n",
    "comp_conv2d(conv2d, X).shape"
   ]
  },
  {
   "cell_type": "markdown",
   "id": "06ec8645-3899-4867-9b94-6384b7b56605",
   "metadata": {},
   "source": [
    "**将高度和宽度的步幅设置为2**"
   ]
  },
  {
   "cell_type": "code",
   "execution_count": 8,
   "id": "c87f3320-d8ce-40e5-88d2-291e05ab448d",
   "metadata": {},
   "outputs": [
    {
     "data": {
      "text/plain": [
       "torch.Size([4, 4])"
      ]
     },
     "execution_count": 8,
     "metadata": {},
     "output_type": "execute_result"
    }
   ],
   "source": [
    "conv2d = nn.Conv2d(1, 1, kernel_size=3, padding=1, stride=2)\n",
    "comp_conv2d(conv2d, X).shape"
   ]
  },
  {
   "cell_type": "markdown",
   "id": "b1085b4e-7fdc-4628-983e-c7d89fc0a76e",
   "metadata": {},
   "source": [
    "**一个稍微复杂的例子**"
   ]
  },
  {
   "cell_type": "code",
   "execution_count": 9,
   "id": "241c0d42-f49e-4470-b7ad-e849f7e9590e",
   "metadata": {},
   "outputs": [
    {
     "data": {
      "text/plain": [
       "torch.Size([2, 2])"
      ]
     },
     "execution_count": 9,
     "metadata": {},
     "output_type": "execute_result"
    }
   ],
   "source": [
    "conv2d = nn.Conv2d(1, 1, kernel_size=(3, 5), padding=(0, 1), stride=(3, 4))\n",
    "comp_conv2d(conv2d, X).shape"
   ]
  },
  {
   "cell_type": "markdown",
   "id": "bebd8ae4-0068-472c-ab2c-d5d9f1ab5fd9",
   "metadata": {},
   "source": [
    "### 练习\n",
    "1. 在本节中的实验中，试一试其他填充和步幅组合"
   ]
  },
  {
   "cell_type": "code",
   "execution_count": 11,
   "id": "7a917d69-6ef7-4733-ae3e-ded277190b98",
   "metadata": {},
   "outputs": [
    {
     "data": {
      "text/plain": [
       "torch.Size([5, 6])"
      ]
     },
     "execution_count": 11,
     "metadata": {},
     "output_type": "execute_result"
    }
   ],
   "source": [
    "conv2d = nn.Conv2d(1, 1, kernel_size=3, padding=(2, 3), stride=2)\n",
    "comp_conv2d(conv2d, X).shape"
   ]
  },
  {
   "cell_type": "markdown",
   "id": "6dc5339b-da9f-482f-bf89-cdfd3268197a",
   "metadata": {},
   "source": [
    "2. 对于音频信号，步幅$2$说明什么？\n",
    "3. 步幅大于1的计算优势是什么？\n",
    "- 减小计算量，减小内存占用，提高模型的泛化能力"
   ]
  },
  {
   "cell_type": "markdown",
   "id": "271b3666-5551-4e83-ac2b-0cd657dcb95b",
   "metadata": {},
   "source": [
    "### 注意：\n",
    "- 超参数：**核**的大小通常是**最关键**的，**填充**一般是**默认**的——核的大小-1，**步幅**则**取决于模型**\n",
    "- 卷积核一般都是取$3\\times3$，多一个少一个其实效果大差不差\n",
    "- 一般就是用经典的网络结构，很少自己去设计神经网络"
   ]
  },
  {
   "cell_type": "code",
   "execution_count": null,
   "id": "90049c54-a74d-41c1-aeae-291cfad31f3d",
   "metadata": {},
   "outputs": [],
   "source": []
  },
  {
   "cell_type": "markdown",
   "id": "0fc58af0-1ebe-44f5-96aa-8d5ddd1cc5e6",
   "metadata": {},
   "source": [
    "# 多个输入和输出通道"
   ]
  },
  {
   "attachments": {
    "13e92012-92aa-4efc-8670-f5b3d210a8ef.png": {
     "image/png": "[encoded data removed]"
    }
   },
   "cell_type": "markdown",
   "id": "2a7e7b77-4649-43e0-b600-a14b3ba3feb4",
   "metadata": {},
   "source": [
    "### 多个输入通道\n",
    "- 彩色图像可能有RGB三个通道，转为灰度会丢失信息\n",
    "- 每个通道都有一个卷积核，结果是所有通道卷积结果的**和**\n",
    "    - 输入$X$:$c_i \\times n_h \\times n_w$\n",
    "    - 核$W$:$c_i \\times k_h \\times k_w$\n",
    "    - 输出$Y$:$m_h \\times m_w$\n",
    "    - $\\mathbf{Y} = \\sum_{i=0}^{c_i} \\mathbf{X}_{i,:,:} \\star \\mathbf{W}_{i,:,:}$\n",
    "\n",
    "### 多个输出通道\n",
    "- 可以有多个三维卷积核，每个核生成一个输出通道\n",
    "    - 输入$X$:$c_i \\times n_h \\times n_w$\n",
    "    - 核$W$:$c_o \\times c_i \\times k_h \\times k_w$\n",
    "    - 输出$Y$:$c_o \\times m_h \\times m_w$\n",
    "    - $\\mathbf{Y}_{i,:,:} = \\mathbf{X} \\star \\mathbf{W}_{i,:,:,:} \\quad \\text{for } i = 1, \\dots, c_o$\n",
    "- 现实中，每个通道不是独立学习的，而是为了共同使用而优化的\n",
    "\n",
    "### 多个输入和输出通道\n",
    "- 每个输出通道可以**识别特定模型**\n",
    "- 输入通道核识别并组合输入中的模式\n",
    "\n",
    "### $1\\times1$卷积层\n",
    "$k_h=k_w=1$是一个受欢迎的选择\n",
    "- **不识别空间模式，只是融合通道**\n",
    "- **相当于**输入形状为$n_hn_w \\times c_i$，权重为$c_o \\times c_i$的**全连接层**\n",
    "- ![image.png](attachment:13e92012-92aa-4efc-8670-f5b3d210a8ef.png)\n",
    "- $1\\times1$卷积层通常用于调整网络层的通道数量和控制模型复杂性\n",
    "\n",
    "### 二维卷积层\n",
    "- 输入$X$:$c_i \\times n_h \\times n_w$\n",
    "- 核$W$:$c_o \\times c_i \\times k_h \\times k_w$\n",
    "- 偏差$B$:$c_o \\times c_i$\n",
    "- 输出$Y$:$c_o \\times m_h \\times m_w$\n",
    "- $$\\mathbf{Y} = \\mathbf{X} \\star \\mathbf{W} + \\mathbf{B}$$\n",
    "- 计算复杂度（浮点计算数FLOP）$\\mathbf{O}(c_ic_ok_hk_wm_hm_w)$\n",
    "    - $c_i=c_o=100$,$k_h=k_w=5$,$m_h=m_w=64$\n",
    "    - $1GFLOP$\n",
    "- 10层，1M样本，10PFLOPS（CPU:0.15TF=18H, GPU:12TF=14min）仅前向forward"
   ]
  },
  {
   "cell_type": "markdown",
   "id": "92ff27a0-c24e-4a7b-adf6-1410c466ae94",
   "metadata": {},
   "source": [
    "### 总结\n",
    "- **输出通道数**是卷积层的**超参数**\n",
    "- 每个**输入**通道有独立的**二维**卷积核，**所有通道结果相加**得到**一个**输出通道结果\n",
    "- 每个**输出**通道有独立的**三维**卷积核"
   ]
  },
  {
   "cell_type": "markdown",
   "id": "696f9117-7889-48a6-bc3c-ccf3d81dec3e",
   "metadata": {},
   "source": [
    "## 代码"
   ]
  },
  {
   "cell_type": "markdown",
   "id": "758cb598-3264-42e6-b1d5-d6ce7e4e508d",
   "metadata": {},
   "source": [
    "**实现一下多输入通道互相关运算**"
   ]
  },
  {
   "cell_type": "code",
   "execution_count": 12,
   "id": "e1b580fc-bb8f-4367-b55d-497a9b4a710b",
   "metadata": {},
   "outputs": [],
   "source": [
    "import torch\n",
    "from d2l import torch as d2l\n",
    "\n",
    "def corr2d_multi_in(X, K):\n",
    "    return sum(d2l.corr2d(x, k) for x, k in zip(X, K))"
   ]
  },
  {
   "cell_type": "markdown",
   "id": "c888a6c7-b901-4a75-ba7c-1a3f78f097c5",
   "metadata": {},
   "source": [
    "**验证互相关运算的输出**"
   ]
  },
  {
   "cell_type": "code",
   "execution_count": 13,
   "id": "a0223da3-e449-4d87-9cbe-00eba8e45082",
   "metadata": {},
   "outputs": [
    {
     "data": {
      "text/plain": [
       "tensor([[ 56.,  72.],\n",
       "        [104., 120.]])"
      ]
     },
     "execution_count": 13,
     "metadata": {},
     "output_type": "execute_result"
    }
   ],
   "source": [
    "X = torch.tensor([[[0.0, 1.0, 2.0], [3.0, 4.0, 5.0], [6.0, 7.0, 8.0]],\n",
    "               [[1.0, 2.0, 3.0], [4.0, 5.0, 6.0], [7.0, 8.0, 9.0]]])\n",
    "K = torch.tensor([[[0.0, 1.0], [2.0, 3.0]], [[1.0, 2.0], [3.0, 4.0]]])\n",
    "\n",
    "corr2d_multi_in(X, K)"
   ]
  },
  {
   "cell_type": "markdown",
   "id": "c51bfd4d-9c51-4764-9d18-ffd5d4574eeb",
   "metadata": {},
   "source": [
    "**计算多个通道的输出的互相关函数**\n",
    "- `torch.stack(tensors, dim=0)`用于沿新维度对一组张量进行拼接\n",
    "    - 与`torch.cat`不同的是，`torch.stack`会在拼接时**创建一个新的维度**\n",
    "    - `dim=0`：新维度插入的位置"
   ]
  },
  {
   "cell_type": "code",
   "execution_count": 14,
   "id": "9e6c2054-b46e-464f-9eae-8590e870e867",
   "metadata": {},
   "outputs": [
    {
     "name": "stdout",
     "output_type": "stream",
     "text": [
      "torch.Size([3, 2, 2, 2])\n"
     ]
    },
    {
     "data": {
      "text/plain": [
       "tensor([[[ 56.,  72.],\n",
       "         [104., 120.]],\n",
       "\n",
       "        [[ 76., 100.],\n",
       "         [148., 172.]],\n",
       "\n",
       "        [[ 96., 128.],\n",
       "         [192., 224.]]])"
      ]
     },
     "execution_count": 14,
     "metadata": {},
     "output_type": "execute_result"
    }
   ],
   "source": [
    "def corr2d_multi_in_out(X, k):\n",
    "    return torch.stack([corr2d_multi_in(X, k) for k in K], 0)\n",
    "\n",
    "K = torch.stack((K, K + 1, K + 2), 0)\n",
    "print(K.shape)\n",
    "\n",
    "corr2d_multi_in_out(X, K)"
   ]
  },
  {
   "cell_type": "markdown",
   "id": "00e4e715-d68f-4c7e-a0b7-2fd8bbf533ca",
   "metadata": {},
   "source": [
    "**实现 $1\\times1$ 卷积**"
   ]
  },
  {
   "cell_type": "code",
   "execution_count": 17,
   "id": "14ffc316-620b-4bd3-a53e-a72b30a217d5",
   "metadata": {},
   "outputs": [],
   "source": [
    "def corr2d_multi_in_out_1x1(X, K):\n",
    "    c_i, h, w = X.shape\n",
    "    c_o = K.shape[0]\n",
    "    X = X.reshape((c_i, h * w))  # 将高、宽拉成一条向量\n",
    "    K = K.reshape((c_o, c_i))\n",
    "    Y = torch.matmul(K, X)\n",
    "    return Y.reshape((c_o, h, w))"
   ]
  },
  {
   "cell_type": "code",
   "execution_count": 18,
   "id": "28d91c9c-9817-4659-97da-058659a38fc0",
   "metadata": {},
   "outputs": [],
   "source": [
    "X = torch.normal(0, 1, (3, 3, 3))\n",
    "K = torch.normal(0, 1, (2, 3, 1, 1))"
   ]
  },
  {
   "cell_type": "code",
   "execution_count": 22,
   "id": "e0b5dad1-dad6-4f12-9a65-e0589ee5662d",
   "metadata": {},
   "outputs": [],
   "source": [
    "Y_1 = corr2d_multi_in_out_1x1(X, K)\n",
    "Y_2 = corr2d_multi_in_out(X, K)\n",
    "assert float(torch.abs(Y_1 - Y_2).sum()) < 1e-6"
   ]
  },
  {
   "cell_type": "markdown",
   "id": "60cec0ee-640d-45d6-a707-86041280ffb0",
   "metadata": {},
   "source": [
    "### 练习\n",
    "1. 假设我们有两个卷积核，大小分别为$k_1$和$k_2$（中间没有非线性激活函数）。\n",
    "    1. 证明运算可以用单次卷积来表示。\n",
    "    1. 这个等效的单个卷积核的维数是多少呢？\n",
    "    1. 反之亦然吗？\n",
    "- 回答：\n",
    "    1. 输入$X$，第一个卷积核$K_1$，第二个卷积核$K_2$\n",
    "        - $Y=X*K1$，$Z=Y*K_2=(X*K_1)*K_2$\n",
    "        - 根据**卷积的结合性**$Z=X*(K_1*K_2)$\n",
    "        - 得到一个等效卷积核$K_{eq}=K_1*K_2$，直接用$K_{eq}$对$X$进行一次卷积\n",
    "    2. 设$K_1$的大小是$K_1 \\times K_1$，$K_2$的大小是$K_2 \\times K_2$\n",
    "        - 则卷积的结果是$(K_1+K_2-1) \\times (K_1+K_2-1)$，即等效的卷积核$K_{eq}$的大小$\n",
    "    3. 反过来**不一定**，并不是所有卷积核都能被分解为两个更小的卷积核的组合\n",
    "\n",
    "2. 假设输入为$c_i\\times h\\times w$，卷积核大小为$c_o\\times c_i\\times k_h\\times k_w$，填充为$(p_h, p_w)$，步幅为$(s_h, s_w)$。\n",
    "    1. 前向传播的计算成本（乘法和加法）是多少？\n",
    "    1. 内存占用是多少？\n",
    "    1. 反向传播的内存占用是多少？\n",
    "    1. 反向传播的计算成本是多少？   \n",
    "- 回答： \n",
    "    1. 前面的讲解里有\n",
    "    2. 反向传播的总计算成本（乘法和加法）大约是前向传播的两倍\n",
    "3. 如果我们将输入通道$c_i$和输出通道$c_o$的数量加倍，计算数量会增加多少？如果我们把填充数量翻一番会怎么样？\n",
    "    - 如果将输入和输出通道的数量加倍，计算数量会增加4倍\n",
    "    - 如果把填充数量加倍，计算数量会增加2倍\n",
    "4. 如果卷积核的高度和宽度是$k_h=k_w=1$，前向传播的计算复杂度是多少？\n",
    "    - 就是$1\\times1$ 卷积**\n",
    "5. 本节最后一个示例中的变量`Y1`和`Y2`是否完全相同？为什么？\n",
    "    - 浮点数计算有误差，因此两者不会完全相同\n",
    "6.  当卷积窗口不是$1\\times 1$时，如何使用矩阵乘法实现卷积？\n",
    "    - 可以将输入张量和卷积核张量分别展开为二维矩阵，然后对这两个矩阵进行乘法运算，得到的结果再变换为输出张量"
   ]
  },
  {
   "cell_type": "markdown",
   "id": "5da11611-ab24-4ab1-af90-27d3f7102b8f",
   "metadata": {},
   "source": [
    "### 注意：\n",
    "- 一般情况下：假设输入输出的高宽没有变，一般不会变通道数的值；假设输入输出的高宽都减半，通常会把输出的通道数加一倍\n",
    "- padding基本不会影响模型的性能（加进去0）\n",
    "- 偏移的作用不是很大（因为一般都会对数据做一些均匀化的操作），但是加上偏置几乎对计算性能产生影响，一般默认有\n",
    "- 如果是深度图，使用3D卷积\n",
    "- 不共享参数"
   ]
  }
 ],
 "metadata": {
  "kernelspec": {
   "display_name": "Python 3 (ipykernel)",
   "language": "python",
   "name": "python3"
  },
  "language_info": {
   "codemirror_mode": {
    "name": "ipython",
    "version": 3
   },
   "file_extension": ".py",
   "mimetype": "text/x-python",
   "name": "python",
   "nbconvert_exporter": "python",
   "pygments_lexer": "ipython3",
   "version": "3.8.20"
  }
 },
 "nbformat": 4,
 "nbformat_minor": 5
}
