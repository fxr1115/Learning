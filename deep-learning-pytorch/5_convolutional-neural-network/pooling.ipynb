{
 "cells": [
  {
   "cell_type": "markdown",
   "id": "36be84fe-0ccc-4b2c-ac39-1d8d486aeb8d",
   "metadata": {},
   "source": [
    "# 池化层pooling"
   ]
  },
  {
   "cell_type": "markdown",
   "id": "421468dd-462f-451e-b7ea-8d4896cae38d",
   "metadata": {},
   "source": [
    "当处理图像时，通常希望**逐渐降低**隐藏表示的空间分辨率、聚集信息，这样随着在神经网络中层数的上升，每个神经元对其敏感的**感受野就越大**  \n",
    "\n",
    "机器学习任务通常会跟全局图像的问题有关，故最后一层的神经元应该对整个输入的全局敏感。通过逐渐聚合信息，生成越来越粗糙的映射，最终实现学习全局表示的目标，同时将卷积图层的所有优势保留在中间层\n",
    "\n",
    "- 卷积对位置敏感\n",
    "    - 前例：检测垂直边缘——1像素移位，就会导致0输出\n",
    "- 需要一定程度的**平移不变性**\n",
    "    - 照明、物体位置、比例、外观等因图像而异\n",
    "\n",
    "### 二维最大池\n",
    "- 返回滑动窗口中的最大值\n",
    "    - 返回**滑动窗口中的最大值**\n",
    "- 垂直边缘检测——卷积——$2\\times2$最大池化\n",
    "    - 可容1像素移动\n",
    "\n",
    "### 填充，步幅和多个通道\n",
    "- 池化层和卷积层类似，**都具有填充和步幅**\n",
    "- 没有可学习的参数（没有kernel）\n",
    "- 在每个输入通道应用池化层以获得相应的输出通道\n",
    "- **输出通道数 = 输入通道数**（不会融合通道，融合交给卷积）\n",
    "\n",
    "### 平均池化层\n",
    "- 最大池化层；每个窗口中最强的模式信号\n",
    "- 平均池化层：将最大池化层中‘最大’操作替换为**‘平均’**\n",
    "\n",
    "### 总结\n",
    "- 池化层返回窗口中最大或平均值\n",
    "- **缓解卷积层对位置的敏感性**，一般在卷积层之后\n",
    "- 同样有**窗口大小**、**填充**和**步幅**作为超参数"
   ]
  },
  {
   "cell_type": "markdown",
   "id": "2506184e-66f0-462f-b274-c1517db1762b",
   "metadata": {},
   "source": [
    "## 代码"
   ]
  },
  {
   "cell_type": "markdown",
   "id": "97c440ea-9c99-47a4-8eaa-f2329b079fc0",
   "metadata": {},
   "source": [
    "**实现池化层的正向传播**"
   ]
  },
  {
   "cell_type": "code",
   "execution_count": 1,
   "id": "05b182b0-7ecf-4964-a799-85bdcd9073f6",
   "metadata": {},
   "outputs": [],
   "source": [
    "import torch\n",
    "from torch import nn\n",
    "from d2l import torch as d2l\n",
    "\n",
    "def pool2d(X, pool_size, mode='max'):\n",
    "    p_h, p_w = pool_size\n",
    "    Y = torch.zeros(X.shape[0] - p_h + 1, X.shape[1] - p_w + 1)\n",
    "    for i in range(Y.shape[0]):\n",
    "        for j in range(Y.shape[1]):\n",
    "            if mode == 'max':\n",
    "                Y[i, j] = X[i:i+p_h, j:j+p_w].max()\n",
    "            elif mode == 'avg':\n",
    "                Y[i, j] = X[i:i+p_h, j:j+p_w].mean()\n",
    "    return Y"
   ]
  },
  {
   "cell_type": "markdown",
   "id": "057789f7-4f44-4997-8117-7920ef12b517",
   "metadata": {},
   "source": [
    "**验证二维最大池化层和平均池化层的输出**"
   ]
  },
  {
   "cell_type": "code",
   "execution_count": 2,
   "id": "4605119a-7b12-4e85-b364-c10a4ee64f64",
   "metadata": {},
   "outputs": [
    {
     "data": {
      "text/plain": [
       "tensor([[4., 5.],\n",
       "        [7., 8.]])"
      ]
     },
     "execution_count": 2,
     "metadata": {},
     "output_type": "execute_result"
    }
   ],
   "source": [
    "X = torch.tensor([[0.0, 1.0, 2.0], [3.0, 4.0, 5.0], [6.0, 7.0, 8.0]])\n",
    "pool2d(X, (2, 2))"
   ]
  },
  {
   "cell_type": "code",
   "execution_count": 3,
   "id": "837757b1-d04f-4ef5-a8a1-bb871bf7660f",
   "metadata": {},
   "outputs": [
    {
     "data": {
      "text/plain": [
       "tensor([[2., 3.],\n",
       "        [5., 6.]])"
      ]
     },
     "execution_count": 3,
     "metadata": {},
     "output_type": "execute_result"
    }
   ],
   "source": [
    "pool2d(X, (2, 2), 'avg')"
   ]
  },
  {
   "cell_type": "markdown",
   "id": "0683ab4f-4772-4342-8e81-5ea297e7e766",
   "metadata": {},
   "source": [
    "**填充和步幅**——使用深度学习框架中**内置**的二维最大池化层"
   ]
  },
  {
   "cell_type": "code",
   "execution_count": 4,
   "id": "79c1b91d-4890-4309-b8e6-4058baf3af99",
   "metadata": {},
   "outputs": [
    {
     "data": {
      "text/plain": [
       "tensor([[[[ 0.,  1.,  2.,  3.],\n",
       "          [ 4.,  5.,  6.,  7.],\n",
       "          [ 8.,  9., 10., 11.],\n",
       "          [12., 13., 14., 15.]]]])"
      ]
     },
     "execution_count": 4,
     "metadata": {},
     "output_type": "execute_result"
    }
   ],
   "source": [
    "X = torch.arange(16, dtype=torch.float32).reshape((1, 1, 4, 4))\n",
    "X"
   ]
  },
  {
   "cell_type": "markdown",
   "id": "a0903e59-30fc-4607-a9d7-aedddb0d4cd4",
   "metadata": {},
   "source": [
    "**默认情况下**，深度学习框架的**池化层**，如果不指定`stride`，**步幅会默认等于池化窗口大小**"
   ]
  },
  {
   "cell_type": "code",
   "execution_count": 5,
   "id": "91f5ce0f-6611-48a9-895f-25f17cf371b1",
   "metadata": {},
   "outputs": [
    {
     "name": "stderr",
     "output_type": "stream",
     "text": [
      "C:\\Users\\lenovo\\.conda\\envs\\fxr_env2\\lib\\site-packages\\torch\\nn\\functional.py:718: UserWarning: Named tensors and all their associated APIs are an experimental feature and subject to change. Please do not use them for anything important until they are released as stable. (Triggered internally at  ..\\c10/core/TensorImpl.h:1156.)\n",
      "  return torch.max_pool2d(input, kernel_size, stride, padding, dilation, ceil_mode)\n"
     ]
    },
    {
     "data": {
      "text/plain": [
       "tensor([[[[10.]]]])"
      ]
     },
     "execution_count": 5,
     "metadata": {},
     "output_type": "execute_result"
    }
   ],
   "source": [
    "pool2d = nn.MaxPool2d(3)\n",
    "pool2d(X)"
   ]
  },
  {
   "cell_type": "markdown",
   "id": "3613f990-c9be-4486-9f13-8067c7ef93ef",
   "metadata": {},
   "source": [
    "**填充和步幅可以手动设定**"
   ]
  },
  {
   "cell_type": "code",
   "execution_count": 6,
   "id": "5e63325e-a6f6-4620-82f2-b4671c1f134a",
   "metadata": {},
   "outputs": [
    {
     "data": {
      "text/plain": [
       "tensor([[[[ 5.,  7.],\n",
       "          [13., 15.]]]])"
      ]
     },
     "execution_count": 6,
     "metadata": {},
     "output_type": "execute_result"
    }
   ],
   "source": [
    "pool2d = nn.MaxPool2d(3, padding=1, stride=(2, 3))\n",
    "pool2d(X)"
   ]
  },
  {
   "cell_type": "markdown",
   "id": "886c36fc-e70c-4291-949d-da734a11fca7",
   "metadata": {},
   "source": [
    "**设定一个任意大小的矩形池化窗口，并且分别设定填充和步幅的高度和宽度**"
   ]
  },
  {
   "cell_type": "code",
   "execution_count": 7,
   "id": "5c7e2875-6dff-407c-ac4e-d0624b10c1ac",
   "metadata": {},
   "outputs": [
    {
     "data": {
      "text/plain": [
       "tensor([[[[ 1.,  3.],\n",
       "          [ 9., 11.],\n",
       "          [13., 15.]]]])"
      ]
     },
     "execution_count": 7,
     "metadata": {},
     "output_type": "execute_result"
    }
   ],
   "source": [
    "pool2d = nn.MaxPool2d((2, 3), padding=(1, 1), stride=(2, 3))\n",
    "pool2d(X)"
   ]
  },
  {
   "cell_type": "markdown",
   "id": "6f59878c-ffff-4455-8ba1-e6e7c342bf6f",
   "metadata": {},
   "source": [
    "#### 多个通道\n",
    "**池化层在每个输入通道上单独运算**，而不是像卷积层一样在通道上对输入进行汇总——输入通道=输出通道\n",
    "- 在**通道维度**上连结张量`X`和`X + 1`，以构建具有2个通道的输入"
   ]
  },
  {
   "cell_type": "code",
   "execution_count": 8,
   "id": "2984f8d3-467a-4ea8-a856-ba50c4d021a2",
   "metadata": {},
   "outputs": [
    {
     "data": {
      "text/plain": [
       "tensor([[[[ 0.,  1.,  2.,  3.],\n",
       "          [ 4.,  5.,  6.,  7.],\n",
       "          [ 8.,  9., 10., 11.],\n",
       "          [12., 13., 14., 15.]],\n",
       "\n",
       "         [[ 1.,  2.,  3.,  4.],\n",
       "          [ 5.,  6.,  7.,  8.],\n",
       "          [ 9., 10., 11., 12.],\n",
       "          [13., 14., 15., 16.]]]])"
      ]
     },
     "execution_count": 8,
     "metadata": {},
     "output_type": "execute_result"
    }
   ],
   "source": [
    "X = torch.cat([X, X +1], 1)\n",
    "# X = torch.cat((X, X +1), 1)\n",
    "X"
   ]
  },
  {
   "cell_type": "code",
   "execution_count": 9,
   "id": "33651044-4d7e-4ffd-99c5-3c7b1a0fcbfd",
   "metadata": {
    "scrolled": true
   },
   "outputs": [
    {
     "data": {
      "text/plain": [
       "tensor([[[[ 5.,  7.],\n",
       "          [13., 15.]],\n",
       "\n",
       "         [[ 6.,  8.],\n",
       "          [14., 16.]]]])"
      ]
     },
     "execution_count": 9,
     "metadata": {},
     "output_type": "execute_result"
    }
   ],
   "source": [
    "pool2d = nn.MaxPool2d(3, padding=1, stride=2)\n",
    "pool2d(X)"
   ]
  },
  {
   "cell_type": "markdown",
   "id": "4893f6b1-ad93-4189-9948-7e16935872bc",
   "metadata": {},
   "source": [
    "### 注意\n",
    "- 池化层目前用的越来越少——首先会对数据本身做很多变化（扰动操作）+卷积层的步幅就可以减少计算量\n",
    "- 池化时窗口有没有重叠都无所谓了"
   ]
  },
  {
   "cell_type": "markdown",
   "id": "04170ad2-3e38-4396-b875-99dea54a4ea9",
   "metadata": {},
   "source": [
    "### 练习\n",
    "1. 尝试将平均池化层作为卷积层的特殊情况实现"
   ]
  },
  {
   "cell_type": "code",
   "execution_count": null,
   "id": "4b9c76d9-0019-446f-a99e-844348107333",
   "metadata": {},
   "outputs": [],
   "source": [
    "import torch\n",
    "\n",
    "from torch import nn\n",
    "from torch.nn import functional as F\n",
    "\n",
    "class Net(nn.Module):\n",
    "    def __init__(self):\n",
    "        super().__init__()\n",
    "        self.conv1 = nn.Conv2d(in_channels=1, out_channels=6, kernel_size=5)\n",
    "        self.pool = nn.Conv2d(6, 6, 5)\n",
    "        self.conv2 = nn.Conv2d(6, 16, 5)\n",
    "        self.lin1 = nn.Linear(16 * 5 * 5, 128)\n",
    "        self.lin2 = nn.Linear(128, 64)\n",
    "        self.lin3 = nn.Linear(64, 10)\n",
    "\n",
    "    def forward(self, x):\n",
    "        x = F.relu(self.conv1(x))\n",
    "        x = F.avg_pool2d(X, (2, 2)) # 平均池化层\n",
    "        x = F.relu(self.conv2(x))\n",
    "        "
   ]
  }
 ],
 "metadata": {
  "kernelspec": {
   "display_name": "Python 3 (ipykernel)",
   "language": "python",
   "name": "python3"
  },
  "language_info": {
   "codemirror_mode": {
    "name": "ipython",
    "version": 3
   },
   "file_extension": ".py",
   "mimetype": "text/x-python",
   "name": "python",
   "nbconvert_exporter": "python",
   "pygments_lexer": "ipython3",
   "version": "3.8.20"
  }
 },
 "nbformat": 4,
 "nbformat_minor": 5
}
