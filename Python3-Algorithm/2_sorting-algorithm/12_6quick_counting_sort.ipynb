{
  "nbformat": 4,
  "nbformat_minor": 0,
  "metadata": {
    "colab": {
      "provenance": [],
      "authorship_tag": "ABX9TyNI992a7goudOTWH8EkntVW",
      "include_colab_link": true
    },
    "kernelspec": {
      "name": "python3",
      "display_name": "Python 3"
    },
    "language_info": {
      "name": "python"
    }
  },
  "cells": [
    {
      "cell_type": "markdown",
      "metadata": {
        "id": "view-in-github",
        "colab_type": "text"
      },
      "source": [
        "<a href=\"https://colab.research.google.com/github/fxr1115/Learning/blob/main/Python3-Algorithm/2_sorting-algorithm/12_6quick_counting_sort.ipynb\" target=\"_parent\"><img src=\"https://colab.research.google.com/assets/colab-badge.svg\" alt=\"Open In Colab\"/></a>"
      ]
    },
    {
      "cell_type": "code",
      "source": [
        "from typing import List"
      ],
      "metadata": {
        "id": "GnzkZeD9ZaRQ"
      },
      "execution_count": null,
      "outputs": []
    },
    {
      "cell_type": "markdown",
      "source": [
        "### 题目1 相对名次"
      ],
      "metadata": {
        "id": "zvgKBm7rV7lb"
      }
    },
    {
      "cell_type": "markdown",
      "source": [
        "一个长度为`n`的整数数组`score`，其中`score[i]`是第`i`位运动员得分，互不相同\n",
        "- 运动员根据得分决定名次，按排名获`Gold Medal`,`Silver Medal`,`Bronze Medal`，从第4名到第`n`名的运动员获得名次编号\n",
        "- 使用长度为`n`的数组`answer`返回奖状，其中`answer[i]`是第`i`位运动员的获奖情况"
      ],
      "metadata": {
        "id": "jlT5kneKWAev"
      }
    },
    {
      "cell_type": "code",
      "execution_count": null,
      "metadata": {
        "id": "iN2_hZi9MDCO",
        "colab": {
          "base_uri": "https://localhost:8080/"
        },
        "outputId": "37b1ad27-43dd-48aa-d6b6-770295a69ac8"
      },
      "outputs": [
        {
          "output_type": "execute_result",
          "data": {
            "text/plain": [
              "['Gold Medal', 'Silver Medal', 'Bronze Medal', '4', '5']"
            ]
          },
          "metadata": {},
          "execution_count": 6
        }
      ],
      "source": [
        "import copy\n",
        "\n",
        "class Solution:\n",
        "    def findRelativeRanks(self, score: List[int]) -> List[str]:\n",
        "        answer = copy.deepcopy(score)\n",
        "        score.sort(reverse=True)\n",
        "        for i in range(len(score)):\n",
        "            index = answer.index(score[i])\n",
        "            if i + 1 == 1:\n",
        "                answer[index] = 'Gold Medal'\n",
        "            elif i + 1 == 2:\n",
        "                answer[index] = 'Silver Medal'\n",
        "            elif i + 1 == 3:\n",
        "                answer[index] = 'Bronze Medal'\n",
        "            else:\n",
        "                answer[index] = str(i + 1)\n",
        "        return answer\n",
        "\n",
        "Solution().findRelativeRanks([5,4,3,2,1])"
      ]
    },
    {
      "cell_type": "markdown",
      "source": [
        "**另一种**：（过两遍）\n",
        "- `zip()`将两个列表组合成一个迭代器，每对元素一一对应\n",
        "- 再转为字典，`key`是分数，`value`是奖项"
      ],
      "metadata": {
        "id": "2AXYqmHeZeKP"
      }
    },
    {
      "cell_type": "code",
      "source": [
        "def findRelativeRanks(score: List[int]) -> List[str]:\n",
        "    dic = dict(\n",
        "        zip(\n",
        "            sorted(score, reverse=True),\n",
        "            ['Gold Medal', 'Silver Medal', 'Bronze Medal'] +\n",
        "            [str(i + 4) for i in range(len(score) - 3)]\n",
        "        )\n",
        "    )\n",
        "    return [dic[i] for i in score]\n",
        "\n",
        "findRelativeRanks([5,4,3,2,1])"
      ],
      "metadata": {
        "colab": {
          "base_uri": "https://localhost:8080/"
        },
        "id": "jUo2lY7mZesT",
        "outputId": "8de2adc7-4d3a-467d-f7df-8d673addbd85"
      },
      "execution_count": null,
      "outputs": [
        {
          "output_type": "execute_result",
          "data": {
            "text/plain": [
              "['Gold Medal', 'Silver Medal', 'Bronze Medal', '4', '5']"
            ]
          },
          "metadata": {},
          "execution_count": 7
        }
      ]
    },
    {
      "cell_type": "markdown",
      "source": [
        "### 题目2 数组中第k个最大元素"
      ],
      "metadata": {
        "id": "IQQIChCWcaCy"
      }
    },
    {
      "cell_type": "markdown",
      "source": [
        "给定整数数组`nums`和整数`k`，返回数组中第`k`个最大元素"
      ],
      "metadata": {
        "id": "PPgs0S8xcdSL"
      }
    },
    {
      "cell_type": "code",
      "source": [
        "def findKthLargest(nums: List[int], k: int) -> int:\n",
        "    nums.sort(reverse=True)\n",
        "    return nums[k - 1]\n",
        "\n",
        "findKthLargest([3,2,1,5,6,4], 2)"
      ],
      "metadata": {
        "colab": {
          "base_uri": "https://localhost:8080/"
        },
        "id": "PPVF_rW9cc0S",
        "outputId": "d0b3bf70-47a9-4f3e-92d9-cda4138d61ea"
      },
      "execution_count": null,
      "outputs": [
        {
          "output_type": "execute_result",
          "data": {
            "text/plain": [
              "5"
            ]
          },
          "metadata": {},
          "execution_count": 9
        }
      ]
    },
    {
      "cell_type": "code",
      "source": [
        "def findKthLargest(nums: List[int], k: int) -> int:\n",
        "    def quick_select(nums, k):\n",
        "        pivot = random.choice(nums)\n",
        "        big, equal, small = [], [], []\n",
        "        for num in nums:\n",
        "            if num > pivot:\n",
        "                big.append(num)\n",
        "            elif num < pivot:\n",
        "                small.append(num)\n",
        "            else:\n",
        "                equal.append(num)\n",
        "        if k <= len(big):\n",
        "            return quick_select(big, k)\n",
        "        if len(nums) - len(small) < k:\n",
        "            return quick_select(small, k - len(nums) + len(small))\n",
        "        return pivot\n",
        "    return quick_select(nums, k)\n",
        "\n",
        "findKthLargest([3,2,1,5,6,4], 2)"
      ],
      "metadata": {
        "colab": {
          "base_uri": "https://localhost:8080/"
        },
        "id": "KXzJ5OXGwkYr",
        "outputId": "e13eb712-7d52-4661-f538-57d5e1c88997"
      },
      "execution_count": null,
      "outputs": [
        {
          "output_type": "execute_result",
          "data": {
            "text/plain": [
              "5"
            ]
          },
          "metadata": {},
          "execution_count": 31
        }
      ]
    },
    {
      "cell_type": "markdown",
      "source": [
        "### 快速排序"
      ],
      "metadata": {
        "id": "nVEjZMcteb7v"
      }
    },
    {
      "cell_type": "markdown",
      "source": [
        "**两个核心点**：哨兵划分和递归\n",
        "\n"
      ],
      "metadata": {
        "id": "S7x2X1gQekvW"
      }
    },
    {
      "cell_type": "markdown",
      "source": [
        "**哨兵划分**\n",
        "- 以数组某个元素（一般选取首元素）为基准数\n",
        "    - 将所有小于基准数的元素移动到左边\n",
        "    - 大于的移到右边"
      ],
      "metadata": {
        "id": "zGalYlXAfv7G"
      }
    },
    {
      "cell_type": "code",
      "source": [
        "i, j = l, r\n",
        "while i < j:\n",
        "    while i < j and arr[j] >= arr[l]: j -= 1\n",
        "    while i < j and arr[i] <= arr[l]: i += 1\n",
        "    arr[i], arr[j] = arr[j], arr[i]\n",
        "arr[l], arr[i] = arr[i], arr[l]"
      ],
      "metadata": {
        "id": "6UDxkk1SfxpI"
      },
      "execution_count": null,
      "outputs": []
    },
    {
      "cell_type": "markdown",
      "source": [
        "**递归**\n",
        "- 对左子数组和右子数组分别递归执行哨兵划分\n",
        "- 直到子数组长度为1时终止递归，即可完成对整个数组的排序"
      ],
      "metadata": {
        "id": "WmA65zeSeiKN"
      }
    },
    {
      "cell_type": "markdown",
      "source": [
        "**综合**"
      ],
      "metadata": {
        "id": "8QPa-OKQgpUi"
      }
    },
    {
      "cell_type": "code",
      "source": [
        "def quick_sort(nums, l, r):\n",
        "    # 子数组长度为1时，终止递归\n",
        "    if l >= r:\n",
        "        return\n",
        "    # 哨兵划分操作\n",
        "    i = partition(nums, l, r)\n",
        "    # 递归左（右）子数组执行哨兵分划\n",
        "    quick_sort(nums, l, i - 1)\n",
        "    quick_sort(nums, i + 1, r)\n",
        "\n",
        "def partition(nums, l, r):\n",
        "    # 以nums[l]作为基准数\n",
        "    i, j = l, r\n",
        "    while i < j:\n",
        "        while i < j and nums[j] >= nums[l]:\n",
        "            j -= 1\n",
        "        while i < j and nums[i] <= nums[l]:\n",
        "            i += 1\n",
        "        nums[i], nums[j] = nums[j], nums[i]\n",
        "    nums[l], nums[i] = nums[i], nums[l]\n",
        "    return i\n",
        "\n",
        "nums = [3, 4, 1, 5, 2]\n",
        "quick_sort(nums, 0, len(nums) - 1)\n",
        "nums"
      ],
      "metadata": {
        "colab": {
          "base_uri": "https://localhost:8080/"
        },
        "id": "QvtEwy7AeeEB",
        "outputId": "3b759e2b-b052-4b22-ed9a-0997661e0428"
      },
      "execution_count": null,
      "outputs": [
        {
          "output_type": "execute_result",
          "data": {
            "text/plain": [
              "[1, 2, 3, 4, 5]"
            ]
          },
          "metadata": {},
          "execution_count": 22
        }
      ]
    },
    {
      "cell_type": "markdown",
      "source": [
        "虽然平均时间复杂度与「归并排序」和「堆排序」一致，但在实际使用中快速排序 **效率更高**\n",
        "- 是**不稳定**排序"
      ],
      "metadata": {
        "id": "vgP6SvPymCJP"
      }
    },
    {
      "cell_type": "markdown",
      "source": [
        "**优化**：**随机基准数**\n",
        "- 使用随机函数，每轮在子数组中随机选择一个元素作为基准数"
      ],
      "metadata": {
        "id": "t6NYEsdJp32H"
      }
    },
    {
      "cell_type": "markdown",
      "source": [
        "**注**：`partition`函数中，**对于`i`和`j`的搜索顺序不能交换**\n",
        "- `partition`最后一步互换要求`nums[i]`要小于`nums[l]`\n",
        "- 如果`i`先移动，可能会错过一些比基准小的元素，它们会被误判为大于基准的元素，导致分区不正确"
      ],
      "metadata": {
        "id": "vSS1QwcOt2Sh"
      }
    },
    {
      "cell_type": "code",
      "source": [
        "import random\n",
        "\n",
        "def partition(nums, l, r):\n",
        "    # 在闭区间 [l, r] 随机选取任意索引，并与 nums[l] 交换\n",
        "    ra = random.randrange(l, r + 1)\n",
        "    nums[l], nums[ra] = nums[ra], nums[l]\n",
        "    # 以 nums[l] 作为基准数\n",
        "    i, j = l, r\n",
        "    while i < j:\n",
        "        while i < j and nums[j] >= nums[l]: j -= 1\n",
        "        while i < j and nums[i] <= nums[l]: i += 1\n",
        "        nums[i], nums[j] = nums[j], nums[i]\n",
        "    nums[l], nums[i] = nums[i], nums[l]\n",
        "    return i\n",
        "\n",
        "nums = [3, 4, 1, 5, 2]\n",
        "quick_sort(nums, 0, len(nums) - 1)\n",
        "nums"
      ],
      "metadata": {
        "colab": {
          "base_uri": "https://localhost:8080/"
        },
        "id": "YGZC77alot5O",
        "outputId": "0cddad98-3720-4217-8a83-78ad96aa1df5"
      },
      "execution_count": null,
      "outputs": [
        {
          "output_type": "execute_result",
          "data": {
            "text/plain": [
              "[1, 2, 3, 4, 5]"
            ]
          },
          "metadata": {},
          "execution_count": 29
        }
      ]
    },
    {
      "cell_type": "markdown",
      "source": [
        "### 题目3 多数元素\n"
      ],
      "metadata": {
        "id": "HMyPNa13yTN3"
      }
    },
    {
      "cell_type": "markdown",
      "source": [
        "给定一个大小为`n`的数组`nums`，返回其中的多数元素\n",
        "- 多数元素指在数组中出现次数大于的元素\n",
        "- 假设数组非空，且给定的数组总是存在多数元素\n",
        "- 尝试设计时间复杂度为$O(n)$、空间复杂度为$O(1)$的算法解决此问题。"
      ],
      "metadata": {
        "id": "vAQ0Ds5vofjJ"
      }
    },
    {
      "cell_type": "code",
      "source": [
        "class Solution:\n",
        "    def majorityElement(self, nums: List[int]) -> int:\n",
        "        # output = []\n",
        "        n = len(nums) // 2\n",
        "        set_meb = set(nums)\n",
        "        for num in set_meb:\n",
        "            count = nums.count(num)\n",
        "            if count > n:\n",
        "                return num"
      ],
      "metadata": {
        "id": "GcgwzHSZyWsT"
      },
      "execution_count": null,
      "outputs": []
    },
    {
      "cell_type": "markdown",
      "source": [
        "**或者**：进行**排序**，因为是多数元素，所以**中间位置一定是多数元素**"
      ],
      "metadata": {
        "id": "EWhUf5Bbq4Wq"
      }
    },
    {
      "cell_type": "code",
      "source": [
        "def majorityElement(nums: List[int]) -> int:\n",
        "    nums.sort()\n",
        "    return nums[len(nums) // 2]"
      ],
      "metadata": {
        "id": "C1WAAwBhrBM6"
      },
      "execution_count": null,
      "outputs": []
    },
    {
      "cell_type": "markdown",
      "source": [
        "### 题目4 合并排序的数组"
      ],
      "metadata": {
        "id": "QzN9jw9prKjz"
      }
    },
    {
      "cell_type": "markdown",
      "source": [
        "给定两个排序后的数组A和B，其中A的末端有足够的缓冲空间容纳B\n",
        "- 编写一个方法，将B合并入A并排序\n",
        "- 初始化A和B的元素数量分别是`m`和`n`"
      ],
      "metadata": {
        "id": "PvuOW86KspQg"
      }
    },
    {
      "cell_type": "code",
      "source": [
        "class Solution:\n",
        "    def merge(self, A: List[int], m: int, B: List[int], n: int) -> None:\n",
        "        result = []\n",
        "        index1, index2 = 0, 0\n",
        "        while index1 < m and index2 < n:\n",
        "            if A[index1] <= B[index2]:\n",
        "                result.append(A[index1])\n",
        "                index1 += 1\n",
        "            else:\n",
        "                result.append(B[index2])\n",
        "                index2 += 1\n",
        "        result.extend(A[index1: m])\n",
        "        result.extend(B[index2:])\n",
        "        return result\n",
        "\n",
        "Solution().merge([1,2,3,0,0,0], 3, [2,5,6], 3)"
      ],
      "metadata": {
        "colab": {
          "base_uri": "https://localhost:8080/"
        },
        "id": "Q_GYGfDDsoyC",
        "outputId": "4618f35d-7fcf-468a-dd99-50c0f4c8e645"
      },
      "execution_count": null,
      "outputs": [
        {
          "output_type": "execute_result",
          "data": {
            "text/plain": [
              "[1, 2, 2, 3, 5, 6]"
            ]
          },
          "metadata": {},
          "execution_count": 3
        }
      ]
    },
    {
      "cell_type": "markdown",
      "source": [
        "题目要求是**原地操作**，所以运行的答案一直显示不对\n",
        "- **思路**：\n",
        "    - 使用双指针，**从后往前遍历**`A`和`B`，可以避免覆盖掉`A`中元素\n",
        "    - 从**末尾**开始填充`A`"
      ],
      "metadata": {
        "id": "cH7BMthMwGs7"
      }
    },
    {
      "cell_type": "code",
      "source": [
        "class Solution:\n",
        "    def merge(self, A: List[int], m: int, B: List[int], n: int) -> None:\n",
        "        \"\"\"\n",
        "        Do not return anything, modify A in-place instead.\n",
        "        \"\"\"\n",
        "        index1, index2 = m - 1, n - 1\n",
        "        while index1 >= 0 and index2 >= 0:\n",
        "            if A[index1] > B[index2]:\n",
        "                A[index1 + index2 + 1] = A[index1]\n",
        "                index1 -= 1\n",
        "            else:\n",
        "                A[index1 + index2 + 1] = B[index2]\n",
        "                index2 -= 1\n",
        "        if index2 >= 0:\n",
        "            A[:index2 + 1] = B[:index2 + 1]\n"
      ],
      "metadata": {
        "id": "pkUyTfs3wrVA"
      },
      "execution_count": null,
      "outputs": []
    },
    {
      "cell_type": "markdown",
      "source": [
        "### 题目5 数组的相对排序"
      ],
      "metadata": {
        "id": "kPHt_ek0xt80"
      }
    },
    {
      "cell_type": "markdown",
      "source": [
        "给两个数组，`arr1`和`arr2`，`arr2`中的元素各不相同，`arr2`中的每个远山都出现在`arr1`中\n",
        "- 对`arr1`中元素进行排序，使`arr1`中项的相对顺序和`arr2`中的相对顺序相同\n",
        "- 未出现在`arr2`的元素需要按照升序放在`arr1`的末尾"
      ],
      "metadata": {
        "id": "lv2HXrgKyXps"
      }
    },
    {
      "cell_type": "markdown",
      "source": [
        "**注**：`.extend`是原地操作"
      ],
      "metadata": {
        "id": "Dwni4Wfx2Dw8"
      }
    },
    {
      "cell_type": "code",
      "source": [
        "class Solution:\n",
        "    def relativeSortArray(self, arr1: List[int], arr2: List[int]) -> List[int]:\n",
        "        output1 = []\n",
        "        output2 = []\n",
        "        for num in arr2:\n",
        "            count = arr1.count(num)\n",
        "            output1.extend([num for _ in range(count)])\n",
        "        for num in arr1:\n",
        "            if num not in arr2:\n",
        "                output2.append(num)\n",
        "        output2.sort()\n",
        "        output1.extend(output2)\n",
        "        return output1\n",
        "\n",
        "Solution().relativeSortArray([2,3,1,3,2,4,6,7,9,2,19], [2,1,4,3,9,6])"
      ],
      "metadata": {
        "colab": {
          "base_uri": "https://localhost:8080/"
        },
        "id": "J3mtOLpMyXKe",
        "outputId": "d9e729f7-9583-459c-ea43-6ada055c81ca"
      },
      "execution_count": null,
      "outputs": [
        {
          "output_type": "execute_result",
          "data": {
            "text/plain": [
              "[2, 2, 2, 1, 4, 3, 3, 9, 6, 7, 19]"
            ]
          },
          "metadata": {},
          "execution_count": 4
        }
      ]
    },
    {
      "cell_type": "markdown",
      "source": [
        "- **`collections.Counter`**:一个**字典子类**\n",
        "    - 返回：是一个`collections.Counter`类，继承自`dict`，`key`是元素，`value`是次数\n",
        "    - `.elements()`返回一个迭代器，生成所有元素，包括重复的\n",
        "    - `.most_common(n)`获取出现次数最多的`n`个元素\n",
        "    - `subtract()`从另一个`Counter`中减去对应元素\n",
        "    - `pop()`从`Counter`中删去指定元素，并返回该元素的计数值\n",
        "\n",
        "- **`list`还能用`+`连接呢**"
      ],
      "metadata": {
        "id": "sMvjmF3q51l6"
      }
    },
    {
      "cell_type": "code",
      "source": [
        "from collections import Counter\n",
        "\n",
        "def relativeSortArray(arr1: List[int], arr2: List[int]) -> List[int]:\n",
        "    count = Counter(arr1)\n",
        "    output1 = []\n",
        "    for num in arr2:\n",
        "        output1.extend([num] * count.pop(num))\n",
        "    output2 = sorted(count.elements())\n",
        "    return output1 + output2\n",
        "\n",
        "relativeSortArray([2,3,1,3,2,4,6,7,9,2,19], [2,1,4,3,9,6])"
      ],
      "metadata": {
        "colab": {
          "base_uri": "https://localhost:8080/"
        },
        "id": "g37-fO2q6vYA",
        "outputId": "7d622ebb-f0b9-4ed8-a385-d6e7741c807d"
      },
      "execution_count": null,
      "outputs": [
        {
          "output_type": "execute_result",
          "data": {
            "text/plain": [
              "[2, 2, 2, 1, 4, 3, 3, 9, 6, 7, 19]"
            ]
          },
          "metadata": {},
          "execution_count": 6
        }
      ]
    },
    {
      "cell_type": "markdown",
      "source": [
        "**计数排序的变种**"
      ],
      "metadata": {
        "id": "Aj1p8U_Xkp_f"
      }
    },
    {
      "cell_type": "code",
      "source": [
        "class Solution:\n",
        "    def relativeSortArray(self, arr1: List[int], arr2: List[int]) -> List[int]:\n",
        "        min_1, max_1 = min(arr1), max(arr1)\n",
        "        range_1 = max_1 - min_1 + 1\n",
        "        counting = [0] * range_1\n",
        "        ans = []\n",
        "        # 统计arr1中每个元素的出现次数\n",
        "        for a in arr1:\n",
        "            counting[a - min_1] += 1\n",
        "        # 按arr2的顺序填充结果\n",
        "        for i in range(len(arr2)):\n",
        "            while counting[arr2[i] - min_1] > 0:\n",
        "                ans.append(arr2[i])\n",
        "                counting[arr2[i] - min_1] -= 1\n",
        "        # 处理arr1中不在arr2中的元素\n",
        "        for i in range(len(counting)):\n",
        "            while counting[i] > 0:  # 这里用if也可以，直接.extend([min_1 + i] * counting[i])\n",
        "                ans.append(min_1 + i)\n",
        "                counting[i] -= 1\n",
        "        return ans\n",
        "\n",
        "Solution().relativeSortArray([2,3,1,3,2,4,6,7,9,2,19], [2,1,4,3,9,6])"
      ],
      "metadata": {
        "colab": {
          "base_uri": "https://localhost:8080/"
        },
        "id": "ROknscFxf9fk",
        "outputId": "6f0831dd-4032-436e-c095-8c116fae1a68"
      },
      "execution_count": null,
      "outputs": [
        {
          "output_type": "execute_result",
          "data": {
            "text/plain": [
              "[2, 2, 2, 1, 4, 3, 3, 9, 6, 7, 19]"
            ]
          },
          "metadata": {},
          "execution_count": 13
        }
      ]
    },
    {
      "cell_type": "markdown",
      "source": [
        "### 计数排序\n",
        "\n",
        "\n",
        "\n"
      ],
      "metadata": {
        "id": "NhYU95Xk5cip"
      }
    },
    {
      "cell_type": "markdown",
      "source": [
        "**核心思想**\n",
        "- 统计每个元素出现的次数\n",
        "- 使用这些计数来确定每个元素在排序结果中的位置\n",
        "- 按照统计结果将元素放入正确位置，形成有序数组\n",
        "\n",
        "**特点**：\n",
        "- 是**稳定排序**（相同元素的相对位置不变）\n",
        "- **只能用于**非负整数或者可离散化的数值范围数据"
      ],
      "metadata": {
        "id": "TF-n5sKnSsSs"
      }
    },
    {
      "cell_type": "markdown",
      "source": [
        "**完整的计数算法**(这里只适用于整数)"
      ],
      "metadata": {
        "id": "3WhHpqi2X_AD"
      }
    },
    {
      "cell_type": "code",
      "source": [
        "def counting_sort(arr):\n",
        "    if arr is None or len(arr) <= 1:\n",
        "        return\n",
        "\n",
        "    # 找到最大、最小值\n",
        "    max_val = arr[0]\n",
        "    min_val = arr[0]\n",
        "    for num in arr[1:]:\n",
        "        if num > max_val:\n",
        "            max_val = num\n",
        "        elif num < min_val:\n",
        "            min_val = num\n",
        "\n",
        "    # 确定计数范围\n",
        "    range_val = max_val - min_val + 1\n",
        "\n",
        "    # 建立长度为range的数组，下标 0~range-1 对应数字 min~max\n",
        "    counting = [0] * range_val\n",
        "\n",
        "    # 遍历arr中的每个元素，统计每个元素出现次数\n",
        "    for element in arr:\n",
        "        counting[element - min_val] += 1  # 只能对于整数\n",
        "\n",
        "    # 记录前面比自己小的数字的总数（累积计数）\n",
        "    pre_counts = 0\n",
        "    for i in range(range_val):\n",
        "        pre_counts += counting[i]\n",
        "        counting[i] = pre_counts - counting[i]\n",
        "\n",
        "    # 创建结果数组\n",
        "    result = [0] * len(arr)\n",
        "    for element in arr:\n",
        "        result[counting[element - min_val]] = element\n",
        "        counting[element - min_val] += 1\n",
        "\n",
        "    # 将结果赋值回原数组\n",
        "    for i in range(len(arr)):\n",
        "        arr[i] = result[i]\n",
        "\n",
        "arr = [5, 3, 2, 6, 1, 3, 2, 6, 1]\n",
        "counting_sort(arr)\n",
        "print(arr)"
      ],
      "metadata": {
        "colab": {
          "base_uri": "https://localhost:8080/"
        },
        "id": "t_6HdxBMYJyK",
        "outputId": "015fc081-36df-46de-a3a4-d23e82b7a496"
      },
      "execution_count": null,
      "outputs": [
        {
          "output_type": "stream",
          "name": "stdout",
          "text": [
            "[1, 1, 2, 2, 3, 3, 5, 6, 6]\n"
          ]
        }
      ]
    },
    {
      "cell_type": "markdown",
      "source": [
        "**倒序遍历的计数排序**\n",
        "- *从后往前填充*——为了**保持稳定性**"
      ],
      "metadata": {
        "id": "SRE69U6vdPqD"
      }
    },
    {
      "cell_type": "code",
      "source": [
        "def counting_sort(arr):\n",
        "    if arr is None or len(arr) < 2:\n",
        "        return\n",
        "    max_val = arr[0]\n",
        "    min_val = arr[0]\n",
        "    for num in arr[1:]:\n",
        "        if num > max_val:\n",
        "            max_val = num\n",
        "        if num < min_val:\n",
        "            min_val = num\n",
        "    range_val = max_val - min_val + 1\n",
        "    counting = [0] * range_val\n",
        "    for num in arr:\n",
        "        counting[num - min_val] += 1\n",
        "\n",
        "    # 每个元素在结果数组中的最后一个下标位置 = 前面比自己小的数字的总数 + 自己的数量 - 1\n",
        "    # 将 counting[0] 先减去 1，后续 counting 直接累加即可\n",
        "    counting[0] -= 1\n",
        "    for i in range(1, range_val):\n",
        "        counting[i] += counting[i - 1]\n",
        "    result = [0] * len(arr)\n",
        "\n",
        "    for i in range(len(arr) - 1, -1, -1):\n",
        "        result[counting[arr[i] - min_val]] = arr[i]\n",
        "        counting[arr[i] - min_val] -= 1\n",
        "\n",
        "    for i in range(len(arr)):\n",
        "        arr[i] = result[i]\n",
        "\n",
        "arr = [5, 3, 7, 6, 1, 8, 2, 6, 1]\n",
        "counting_sort(arr)\n",
        "print(arr)"
      ],
      "metadata": {
        "colab": {
          "base_uri": "https://localhost:8080/"
        },
        "id": "kwLDJtZKdUDT",
        "outputId": "bb8c466f-2a52-452e-e34d-045e6fe0b1de"
      },
      "execution_count": null,
      "outputs": [
        {
          "output_type": "stream",
          "name": "stdout",
          "text": [
            "[1, 1, 2, 3, 5, 6, 6, 7, 8]\n"
          ]
        }
      ]
    },
    {
      "cell_type": "markdown",
      "source": [
        "### 题目6 最大间距"
      ],
      "metadata": {
        "id": "-6fJ8uSq8_OI"
      }
    },
    {
      "cell_type": "markdown",
      "source": [
        "给定一个无序的数组`nums`，返回数组在排序之后，相邻元素之间最大的差值\n",
        "- 如果数组元素个数小于`2`，则返回0\n",
        "- 编写一个在「线性时间」内运行并使用「线性额外空间」的算法。"
      ],
      "metadata": {
        "id": "LP4XXW6l9DTA"
      }
    },
    {
      "cell_type": "markdown",
      "source": [
        "自己写的*没有满足时间复杂度要求*"
      ],
      "metadata": {
        "id": "rCvufh2IAXf6"
      }
    },
    {
      "cell_type": "code",
      "source": [
        "class Solution:\n",
        "    def maximumGap(self, nums: List[int]) -> int:\n",
        "        n = len(nums)\n",
        "        if n < 2:\n",
        "            return 0\n",
        "        nums.sort()\n",
        "        max_gap = 0\n",
        "        for i in range(n - 1):\n",
        "            gap = nums[i + 1] - nums[i]\n",
        "            if gap > max_gap:\n",
        "                max_gap = gap\n",
        "        return max_gap"
      ],
      "metadata": {
        "id": "SCj-5kDO5hAB"
      },
      "execution_count": null,
      "outputs": []
    },
    {
      "cell_type": "markdown",
      "source": [
        "### 题目7 高度检查器\n"
      ],
      "metadata": {
        "id": "ZpN2Das7Ah1w"
      }
    },
    {
      "cell_type": "markdown",
      "source": [
        "学生需要按照非递减的高度顺序排成一行\n",
        "- 排序后的高度情况用整数数组`expected`表示，其中`expected[i]`是预计排在这一行中第`i`位的学生的高度（下标从`0`开始）\n",
        "- 给一个整数数组`heights`，表示当前学生站位的高度情况。`heights[i]`是这一行中第`i`位学生的高度（下标从`0`开始）\n",
        "- 返回满足`heights[i] != expected[i]`的下标数量"
      ],
      "metadata": {
        "id": "T2JmVQOOAm8M"
      }
    },
    {
      "cell_type": "code",
      "source": [
        "class Solution:\n",
        "    def heightChecker(self, heights: List[int]) -> int:\n",
        "        heights_sort = sorted(heights)\n",
        "        count = 0\n",
        "        for i in range(len(heights)):\n",
        "            if heights[i] != heights_sort[i]:\n",
        "                count += 1\n",
        "        return count"
      ],
      "metadata": {
        "id": "6N3pLEvpAmdO"
      },
      "execution_count": null,
      "outputs": []
    }
  ]
}