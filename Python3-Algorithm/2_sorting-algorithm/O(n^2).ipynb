{
  "nbformat": 4,
  "nbformat_minor": 0,
  "metadata": {
    "colab": {
      "provenance": [],
      "authorship_tag": "ABX9TyPd7ZIrg2H+nepoGhEAcDln",
      "include_colab_link": true
    },
    "kernelspec": {
      "name": "python3",
      "display_name": "Python 3"
    },
    "language_info": {
      "name": "python"
    }
  },
  "cells": [
    {
      "cell_type": "markdown",
      "metadata": {
        "id": "view-in-github",
        "colab_type": "text"
      },
      "source": [
        "<a href=\"https://colab.research.google.com/github/fxr1115/Learning/blob/main/Python3-Algorithm/sorting-algorithm/O(n%5E2).ipynb\" target=\"_parent\"><img src=\"https://colab.research.google.com/assets/colab-badge.svg\" alt=\"Open In Colab\"/></a>"
      ]
    },
    {
      "cell_type": "code",
      "source": [
        "from typing import List"
      ],
      "metadata": {
        "id": "5uG2OhM_pkAM"
      },
      "execution_count": null,
      "outputs": []
    },
    {
      "cell_type": "markdown",
      "source": [
        "# 时间复杂度$O(n^2)$级排序算法\n"
      ],
      "metadata": {
        "id": "S-T2nohlhJIc"
      }
    },
    {
      "cell_type": "markdown",
      "source": [
        "## 冒泡排序"
      ],
      "metadata": {
        "id": "AKIs9SvnhUTS"
      }
    },
    {
      "cell_type": "markdown",
      "source": [
        "冒泡排序有三种写法：\n",
        "- 一边比较一边向后两两交换，将最大值/最小值冒泡到最后一位\n",
        "- 经过优化的写法：使用一个变量**记录当前轮次的比较是否发生过交换**，如果没有发生交换表示已经有序，不再继续排序\n",
        "- 进一步优化的写法：**除了**使用变量记录当前轮次是否发生交换外，**再使用一个变量记录上次发生交换的位置**，下一轮排序时到达上次交换的位置就停止比较"
      ],
      "metadata": {
        "id": "gQ8QXi2xhgib"
      }
    },
    {
      "cell_type": "markdown",
      "source": [
        "**第一种**"
      ],
      "metadata": {
        "id": "bSSbun0piFJ9"
      }
    },
    {
      "cell_type": "code",
      "execution_count": null,
      "metadata": {
        "colab": {
          "base_uri": "https://localhost:8080/"
        },
        "id": "6H4cNtxOdlfA",
        "outputId": "72cb6018-2e02-465d-d434-f11d03e5521a"
      },
      "outputs": [
        {
          "output_type": "stream",
          "name": "stdout",
          "text": [
            "[11, 12, 22, 25, 34, 64, 90]\n"
          ]
        }
      ],
      "source": [
        "def bubble_sort(arr):\n",
        "    n = len(arr)\n",
        "    for i in range(n - 1):  # 外层循环控制遍历次数\n",
        "        for j in range(n - 1 - i): #内层循环比较相邻元素\n",
        "            if arr[j] > arr[j + 1]:\n",
        "                arr[j], arr[j + 1] = arr[j + 1], arr[j]\n",
        "\n",
        "# 测试\n",
        "arr = [64, 34, 25, 12, 22, 11, 90]\n",
        "bubble_sort(arr)\n",
        "print(arr)"
      ]
    },
    {
      "cell_type": "markdown",
      "source": [
        "**第二种**\n",
        "- 通过添加**`swapped`标志位**避免不必要的比较操作"
      ],
      "metadata": {
        "id": "W-jD-EAzjyET"
      }
    },
    {
      "cell_type": "code",
      "source": [
        "def bubble_sort(arr):\n",
        "    n = len(arr)\n",
        "    for i in range(n - 1):\n",
        "        swapped = False  # 标志位，记录本轮是否发生交换\n",
        "        for j in range(n - 1 - i):\n",
        "            if arr[j] > arr[j + 1]:\n",
        "                arr[j], arr[j + 1] = arr[j + 1], arr[j]\n",
        "                swapped = True\n",
        "        if not swapped:\n",
        "            break\n",
        "\n",
        "arr = [64, 34, 25, 12, 22, 11, 90]\n",
        "bubble_sort(arr)\n",
        "print(arr)"
      ],
      "metadata": {
        "colab": {
          "base_uri": "https://localhost:8080/"
        },
        "id": "ms43mg3YjHsB",
        "outputId": "2b4e46bf-b95c-49d3-a697-73136c7bb6b9"
      },
      "execution_count": null,
      "outputs": [
        {
          "output_type": "stream",
          "name": "stdout",
          "text": [
            "[11, 12, 22, 25, 34, 64, 90]\n"
          ]
        }
      ]
    },
    {
      "cell_type": "markdown",
      "source": [
        "**第三种**\n",
        "- 使用**`index_of_last_unsorted_element`**，**最后一个未排序元素的位置**，来缩小排序范围"
      ],
      "metadata": {
        "id": "tGlKbP0nk-Cb"
      }
    },
    {
      "cell_type": "code",
      "source": [
        "def bubble_sort(arr):\n",
        "    swapped = True\n",
        "    # 最后一个没有经过排序的元素的下标\n",
        "    index_of_last_unsorted_elemnet = len(arr) - 1\n",
        "    # 上次发生交换的位置\n",
        "    swapped_index = - 1\n",
        "\n",
        "    while swapped:\n",
        "        swapped = False\n",
        "        for i in range(index_of_last_unsorted_elemnet):\n",
        "            if arr[i] > arr[i + 1]:\n",
        "                arr[i], arr[i + 1] = arr[i + 1], arr[i]\n",
        "                swapped = True\n",
        "                # 更新最后一次发生交换的位置\n",
        "                swapped_index = i\n",
        "        # 更新最后一个未排序元素的下标\n",
        "        index_of_last_unsorted_elemnet = swapped_index\n",
        "\n",
        "arr = [64, 34, 25, 12, 22, 11, 90]\n",
        "bubble_sort(arr)\n",
        "print(arr)"
      ],
      "metadata": {
        "colab": {
          "base_uri": "https://localhost:8080/"
        },
        "id": "HrpGS8W7ki_9",
        "outputId": "fc689748-ac77-4574-ec6e-1b59bf061d7c"
      },
      "execution_count": null,
      "outputs": [
        {
          "output_type": "stream",
          "name": "stdout",
          "text": [
            "[11, 12, 22, 25, 34, 64, 90]\n"
          ]
        }
      ]
    },
    {
      "cell_type": "markdown",
      "source": [
        "#### 题目：移除0"
      ],
      "metadata": {
        "id": "IF5G56yNovbh"
      }
    },
    {
      "cell_type": "markdown",
      "source": [
        "- `list.remove(x)`从列表中移除第一个匹配的指定元素，若没有，则抛出`ValueError`\n",
        "- `list.count(x)`返回列表中指定元素的出现次数"
      ],
      "metadata": {
        "id": "0OyLWTZlo2N7"
      }
    },
    {
      "cell_type": "code",
      "source": [
        "def moveZeros(self, nums: List[int]) -> None:\n",
        "    n = nums.count(0)\n",
        "    for i in range(n):\n",
        "        nums.remove(0)\n",
        "    nums.extend([0] * n)"
      ],
      "metadata": {
        "id": "N8ZYHsLpo1zx"
      },
      "execution_count": null,
      "outputs": []
    },
    {
      "cell_type": "markdown",
      "source": [
        "## 选择排序\n"
      ],
      "metadata": {
        "id": "BA_xJgPFqTJz"
      }
    },
    {
      "cell_type": "markdown",
      "source": [
        "**思想**：\n",
        "- 双重循环遍历数组，每经过一轮比较，找到最小的元素的下标，将其交换到首尾\n",
        "\n",
        "与冒泡**不同**\n",
        "- 冒泡排序在比较过程中就不断交换\n",
        "- 选择排序增加了一个变量保存最小值最大值的下标，遍历完成后才交换，减少了交换次数\n",
        "- **排序算法的稳定性和效率、可靠性都无关**\n",
        "    - 唯一有意义的：当要排序的内容是一个对象的多个属性，且其原本的顺序存在意义时，如果我们需要在二次排序后保持原有排序的意义，就需要使用到稳定性的算法\n",
        "- **选择排序不稳定**"
      ],
      "metadata": {
        "id": "fsPxinFLqX6d"
      }
    },
    {
      "cell_type": "code",
      "source": [
        "def selection_sort(arr):\n",
        "    for i in range(len(arr) - 1):\n",
        "        min_index = i\n",
        "        for j in range(i + 1, len(arr)):\n",
        "            if arr[min_index] > arr[j]:\n",
        "                min_index = j\n",
        "        arr[i], arr[min_index] = arr[min_index], arr[i]\n",
        "    return arr\n",
        "\n",
        "arr = [64, 25, 12, 22, 11]\n",
        "selection_sort(arr)\n",
        "print(\"排序后的数组:\", arr)"
      ],
      "metadata": {
        "colab": {
          "base_uri": "https://localhost:8080/"
        },
        "id": "KnNTqKHoqUq3",
        "outputId": "63a346dd-464a-4be6-8d2f-4643f9a6695c"
      },
      "execution_count": null,
      "outputs": [
        {
          "output_type": "stream",
          "name": "stdout",
          "text": [
            "排序后的数组: [11, 12, 22, 25, 64]\n"
          ]
        }
      ]
    },
    {
      "cell_type": "markdown",
      "source": [
        "#### 二元选择排序\n",
        "\n",
        "既然每轮遍历时找出了最小值，何不把最大值也顺便找出来呢？\n",
        "- 每轮选择时记录最**小值和最大值**，可以把数组需要遍历的范围缩小一倍"
      ],
      "metadata": {
        "id": "UFxx2eS-r4PA"
      }
    },
    {
      "cell_type": "code",
      "source": [
        "def selection_sort_optimized(arr):\n",
        "    for i in range(len(arr) // 2):\n",
        "        min_index = i\n",
        "        max_index = i\n",
        "        for j in range(i + 1, len(arr) - 1):\n",
        "            if arr[min_index] > arr[j]:\n",
        "                min_index = j\n",
        "            elif arr[max_index] < arr[j]:\n",
        "                max_index = j\n",
        "        # 如果 min_index 和 max_index 相等，说明剩余部分已经有序，直接结束\n",
        "        if min_index == max_index:\n",
        "            break\n",
        "        arr[i], arr[min_index] = arr[min_index], arr[i]\n",
        "\n",
        "        # 最大值的位置恰好是起始位置（i），则在交换最小值到 i 后，原本的最大值位置会发生变化\n",
        "        if max_index == i:\n",
        "            max_index = min_index\n",
        "\n",
        "        last_index = len(arr) - 1 - i  # 本轮中未排序部分的末尾位置\n",
        "        arr[last_index], arr[max_index] = arr[max_index], arr[last_index]\n",
        "\n",
        "arr = [64, 25, 12, 22, 11, 90]\n",
        "selection_sort_optimized(arr)\n",
        "print(\"排序后的数组:\", arr)"
      ],
      "metadata": {
        "colab": {
          "base_uri": "https://localhost:8080/"
        },
        "id": "1stfu-DZsDxw",
        "outputId": "7a92881e-7eb0-44db-8292-e4f3ba017c87"
      },
      "execution_count": null,
      "outputs": [
        {
          "output_type": "stream",
          "name": "stdout",
          "text": [
            "排序后的数组: [11, 12, 22, 90, 25, 64]\n"
          ]
        }
      ]
    },
    {
      "cell_type": "markdown",
      "source": [
        "### 题目：数组中的第K个最大元素\n",
        "给定整数数组`nums`和整数`k`，返回数组中第`k`个最大元素\n",
        "- 设计时间复杂度是$O(n)$的算法解决问题"
      ],
      "metadata": {
        "id": "0y67u53Yv-1P"
      }
    },
    {
      "cell_type": "markdown",
      "source": [
        "直接内置方法不得了，费那老大劲\n",
        "- `sort`的时间复杂度是$O(nlogn)$"
      ],
      "metadata": {
        "id": "CjmOjnsHwQju"
      }
    },
    {
      "cell_type": "code",
      "source": [
        "class Solution:\n",
        "    def findKthLargest(self, nums: List[int], k: int) -> int:\n",
        "        nums.sort(reverse=True)\n",
        "        return nums[k - 1]"
      ],
      "metadata": {
        "id": "hJ8sHY8ouA45"
      },
      "execution_count": null,
      "outputs": []
    },
    {
      "cell_type": "markdown",
      "source": [
        "## 插入排序"
      ],
      "metadata": {
        "id": "E92IJyzmlkOw"
      }
    },
    {
      "cell_type": "code",
      "source": [
        "def insert_sort(arr):\n",
        "    # 从第二个数字开始，往前插入数字\n",
        "    for i in range(1, len(arr)):\n",
        "        # 要插入的数字\n",
        "        curr = arr[i]\n",
        "        j = i\n",
        "        # 向左移动比当前数字大的元素\n",
        "        while j >= 1 and arr[j - 1] > curr:\n",
        "            arr[j] = arr[j - 1]\n",
        "            j -= 1\n",
        "        # 将当前数字插入正确位置\n",
        "        arr[j] = curr\n",
        "    return arr\n",
        "\n",
        "arr = [5, 2, 9, 1, 5, 6]\n",
        "print(insert_sort(arr))"
      ],
      "metadata": {
        "colab": {
          "base_uri": "https://localhost:8080/"
        },
        "id": "qup_rrNMlnqs",
        "outputId": "10241c16-363a-44e5-bb91-3fb53db37e70"
      },
      "execution_count": 4,
      "outputs": [
        {
          "output_type": "stream",
          "name": "stdout",
          "text": [
            "[1, 2, 5, 5, 6, 9]\n"
          ]
        }
      ]
    },
    {
      "cell_type": "markdown",
      "source": [
        "## 方法太多了 直接做题 过程中再学吧"
      ],
      "metadata": {
        "id": "vtBXN71hqR04"
      }
    }
  ]
}