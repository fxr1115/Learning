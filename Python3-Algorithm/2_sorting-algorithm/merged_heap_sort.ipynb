{
  "nbformat": 4,
  "nbformat_minor": 0,
  "metadata": {
    "colab": {
      "provenance": [],
      "authorship_tag": "ABX9TyOtgWKu9H5MzbXzlHVx+O1T",
      "include_colab_link": true
    },
    "kernelspec": {
      "name": "python3",
      "display_name": "Python 3"
    },
    "language_info": {
      "name": "python"
    }
  },
  "cells": [
    {
      "cell_type": "markdown",
      "metadata": {
        "id": "view-in-github",
        "colab_type": "text"
      },
      "source": [
        "<a href=\"https://colab.research.google.com/github/fxr1115/Learning/blob/main/Python3-Algorithm/2_sorting-algorithm/merged_heap_sort.ipynb\" target=\"_parent\"><img src=\"https://colab.research.google.com/assets/colab-badge.svg\" alt=\"Open In Colab\"/></a>"
      ]
    },
    {
      "cell_type": "code",
      "source": [
        "from typing import List"
      ],
      "metadata": {
        "id": "iMR0jhToiEKs"
      },
      "execution_count": 4,
      "outputs": []
    },
    {
      "cell_type": "markdown",
      "source": [
        "## 题目1 排序数组"
      ],
      "metadata": {
        "id": "1RXbsd82rDjk"
      }
    },
    {
      "cell_type": "markdown",
      "source": [
        "### 归并排序$O(nlogn)$"
      ],
      "metadata": {
        "id": "PzrFKthIr7Dr"
      }
    },
    {
      "cell_type": "markdown",
      "source": [
        "**将两个有序列表合并成一个有序的列表**\n",
        "- 开辟一个长度等同于两个数组长度之和的新数组，动态更新\n",
        "- 使用**两个指针**来遍历原有的两个数组，不断将较小的数字添加到新数组中，并移动对应的指针"
      ],
      "metadata": {
        "id": "ybbp54puseTz"
      }
    },
    {
      "cell_type": "code",
      "execution_count": 2,
      "metadata": {
        "colab": {
          "base_uri": "https://localhost:8080/"
        },
        "id": "nA5AnPXBsvoV",
        "outputId": "2168e8ca-7a1d-4f11-9a0e-f7ebe19db8a6"
      },
      "outputs": [
        {
          "output_type": "stream",
          "name": "stdout",
          "text": [
            "[1, 2, 3, 4, 5, 6]\n"
          ]
        }
      ],
      "source": [
        "def merge(arr1, arr2):\n",
        "    arr = []\n",
        "    index1, index2 = 0, 0\n",
        "\n",
        "    while index1 < len(arr1) and index2 < len(arr2):\n",
        "        if arr1[index1] <= arr2[index2]:\n",
        "            arr.append(arr1[index1])\n",
        "            index1 += 1\n",
        "        else:\n",
        "            arr.append(arr2[index2])\n",
        "            index2 += 1\n",
        "\n",
        "    # 当一个元素全部处理完，还有一个有未处理完的\n",
        "    arr.extend(arr1[index1:])\n",
        "    arr.extend(arr2[index2:])\n",
        "\n",
        "    return arr\n",
        "\n",
        "arr1 = [1, 3, 5]\n",
        "arr2 = [2, 4, 6]\n",
        "merged_array = merge(arr1, arr2)\n",
        "print(merged_array)"
      ]
    },
    {
      "cell_type": "markdown",
      "source": [
        "归并排序：**将数组拆分为有序数组**\n",
        "- 一个二分拆数组的*递归函数*，加上*一个合并两个有序列表的函数*\n",
        "- 过程\n",
        "    - 将原有数组不断地二分，直到只剩下最后一个数字\n",
        "    - 嵌套的递归开始返回，一层层地调用`merge`函数\n",
        "\n"
      ],
      "metadata": {
        "id": "yBn5rcs-bEPf"
      }
    },
    {
      "cell_type": "code",
      "source": [
        "def merge_sort(arr):\n",
        "    if len(arr) == 0:\n",
        "        return\n",
        "\n",
        "    # 对arr的[start, end]区间归并排序\n",
        "    def merge_sort_recursive(arr, start, end):\n",
        "        # 只剩下一个数字，停止拆分，返回单个数字组成的列表\n",
        "        if start == end:\n",
        "            return [arr[start]]\n",
        "\n",
        "        middle = (start + end) // 2\n",
        "        left = merge_sort_recursive(arr, start, middle)\n",
        "        right = merge_sort_recursive(arr, middle + 1, end)\n",
        "        return merge(left, right)\n",
        "\n",
        "    # 调用递归函数，并将结果拷贝回原数组\n",
        "    result = merge_sort_recursive(arr, 0, len(arr) - 1)\n",
        "    for i in range(len(arr)):\n",
        "        arr[i] = result[i]\n",
        "\n",
        "arr = [5, 2, 9, 1, 5, 6]\n",
        "merge_sort(arr)\n",
        "print(arr)"
      ],
      "metadata": {
        "colab": {
          "base_uri": "https://localhost:8080/"
        },
        "id": "C9dBnyEVbfh8",
        "outputId": "bd74af4f-ef25-4bc7-af53-6bbfdeb1b924"
      },
      "execution_count": 3,
      "outputs": [
        {
          "output_type": "stream",
          "name": "stdout",
          "text": [
            "[1, 2, 5, 5, 6, 9]\n"
          ]
        }
      ]
    },
    {
      "cell_type": "markdown",
      "source": [
        "### 堆排序（不稳定）"
      ],
      "metadata": {
        "id": "XNC_MDg_hM3O"
      }
    },
    {
      "cell_type": "markdown",
      "source": [
        "**堆**：  \n",
        "符合以下两个条件之一的完全二叉树（所有层（除了最后一层）都是满的）\n",
        "- 根节点的值 ≥ 子节点的值，这样的堆被称之为最大堆，或大顶堆\n",
        "- 根节点的值 ≤ 子节点的值，这样的堆被称之为最小堆，或小顶堆。\n",
        "\n",
        "**堆排序过程**：\n",
        "- 用数列构建出一个大顶堆，取出堆顶的数字\n",
        "- 调整剩余的数字，构建出新的大顶堆，再次取出堆顶的数字\n",
        "- 循环往复，完成整个排序\n",
        "\n",
        "要**解决的问题**：\n",
        "- 如何用数列构建出一个大顶堆；\n",
        "- 取出堆顶的数字后，如何将剩余的数字调整成新的大顶堆\n",
        "\n",
        "**完全二叉树的性质**，将根节点的下标视为0：\n",
        "- 对于完全二叉树中的第`i`个数，它的左子节点下标：`left = 2i + 1`\n",
        "- 对于完全二叉树中的第`i`个数，它的右子节点下标：`right = left + 1`\n",
        "- 对于有`n`个元素的完全二叉树(n≥2)，它的最后一个非叶子结点的下标：`n/2 - 1`\n"
      ],
      "metadata": {
        "id": "JYBvIjDJhRwv"
      }
    },
    {
      "cell_type": "markdown",
      "source": [
        "- 每次都是3个数在比较"
      ],
      "metadata": {
        "id": "zto6RMOFqC2F"
      }
    },
    {
      "cell_type": "code",
      "source": [
        "def heap_sort(arr):\n",
        "    # 构建初始大顶堆\n",
        "    build_max_heap(arr)\n",
        "    for i in range(len(arr) - 1, 0, -1):\n",
        "        arr[0], arr[i] = arr[i], arr[0]\n",
        "        # 调整剩余数组，使其满足大顶堆\n",
        "        max_heapify(arr, 0, i)\n",
        "\n",
        "# 构建初始大顶堆\n",
        "def build_max_heap(arr):\n",
        "    # 从最后一个非叶子结点开始调整大顶堆\n",
        "    for i in range(len(arr) // 2 - 1, -1, -1):\n",
        "        max_heapify(arr, i, len(arr))\n",
        "\n",
        "# 调整大顶堆，heap_size 表示剩余未排序的数字的数量\n",
        "def max_heapify(arr, i, heap_size):\n",
        "    l = 2 * i + 1\n",
        "    r = l + 1\n",
        "    # 记录根结点、左子树结点、右子树结点三者中的最大值下标\n",
        "    largest = i\n",
        "    if l < heap_size and arr[l] > arr[largest]:\n",
        "        largest = l\n",
        "    if r < heap_size and arr[r] > arr[largest]:\n",
        "        largest = r\n",
        "    if largest != i:\n",
        "        arr[i], arr[largest] = arr[largest], arr[i]\n",
        "        max_heapify(arr, largest, heap_size)\n",
        "\n",
        "arr = [5, 3, 8, 6, 2, 7, 4, 1]\n",
        "heap_sort(arr)\n",
        "print(arr)"
      ],
      "metadata": {
        "colab": {
          "base_uri": "https://localhost:8080/"
        },
        "id": "A5gYnI9VnNiE",
        "outputId": "cb3e4856-7e55-43e0-b5f7-8fa494f406c2"
      },
      "execution_count": 7,
      "outputs": [
        {
          "output_type": "stream",
          "name": "stdout",
          "text": [
            "[1, 2, 3, 4, 5, 6, 7, 8]\n"
          ]
        }
      ]
    },
    {
      "cell_type": "markdown",
      "source": [
        "### 题\n",
        "给定一个整数数组`nums`，将该数组升序排列\n",
        "-  不使用任何内置函数 的情况下解决问题，时间复杂度为$O(nlog(n))$，并且空间复杂度尽可能小"
      ],
      "metadata": {
        "id": "DkG74dLTfCNm"
      }
    },
    {
      "cell_type": "markdown",
      "source": [
        "**归并排序**"
      ],
      "metadata": {
        "id": "mnKSQAQAuIpQ"
      }
    },
    {
      "cell_type": "code",
      "source": [
        "class Solution:\n",
        "    def sortArray(self, nums: List[int]) -> List[int]:\n",
        "        return self.merge_sort(nums, 0, len(nums) - 1)\n",
        "\n",
        "    def merge_sort(self, nums, start, end):\n",
        "        if start == end:\n",
        "            return [nums[start]]\n",
        "        middle = (start + end) // 2\n",
        "        left = self.merge_sort(nums, start, middle)\n",
        "        right = self.merge_sort(nums, middle + 1, end)\n",
        "        return self.merge(left, right)\n",
        "\n",
        "    def merge(self, left, right):\n",
        "        arr = []\n",
        "        index1, index2 = 0, 0\n",
        "        while index1 < len(left) and index2 < len(right):\n",
        "            if left[index1] <= right[index2]:\n",
        "                arr.append(left[index1])\n",
        "                index1 += 1\n",
        "            else:\n",
        "                arr.append(right[index2])\n",
        "                index2 += 1\n",
        "        arr.extend(left[index1:])\n",
        "        arr.extend(right[index2:])\n",
        "        return arr\n",
        "\n",
        "Solution().sortArray([5,2,3,1])"
      ],
      "metadata": {
        "colab": {
          "base_uri": "https://localhost:8080/"
        },
        "id": "W2BzbtG1fHkl",
        "outputId": "a9fe64c7-b957-4fdf-f385-7379e38376e8"
      },
      "execution_count": 5,
      "outputs": [
        {
          "output_type": "execute_result",
          "data": {
            "text/plain": [
              "[1, 2, 3, 5]"
            ]
          },
          "metadata": {},
          "execution_count": 5
        }
      ]
    },
    {
      "cell_type": "markdown",
      "source": [
        "**堆排序**"
      ],
      "metadata": {
        "id": "8S9_RjBouPT7"
      }
    },
    {
      "cell_type": "code",
      "source": [
        "class Solution:\n",
        "    def sortArray(self, nums: List[int]) -> List[int]:\n",
        "        n = len(nums)\n",
        "        # 构建最大堆\n",
        "        for i in range(n // 2 - 1, -1, -1):\n",
        "            self.heapify(nums, i, n)\n",
        "\n",
        "        # 逐步取出堆顶元素\n",
        "        for i in range(n - 1, 0, -1):\n",
        "            nums[i], nums[0] = nums[0], nums[i]\n",
        "            self.heapify(nums, 0, i)\n",
        "\n",
        "        return nums\n",
        "\n",
        "    def heapify(self, nums, i, n):\n",
        "        largest = i\n",
        "        left = 2 * i + 1\n",
        "        right = left + 1\n",
        "\n",
        "        if left < n and nums[left] > nums[largest]:\n",
        "            largest = left\n",
        "        if right < n and nums[right] > nums[largest]:\n",
        "            largest = right\n",
        "\n",
        "        if largest != i:\n",
        "            nums[i], nums[largest] = nums[largest], nums[i]\n",
        "            self.heapify(nums, largest, n)\n",
        "\n",
        "Solution().sortArray([5,2,3,1])"
      ],
      "metadata": {
        "colab": {
          "base_uri": "https://localhost:8080/"
        },
        "id": "AIbcKBJWrpoL",
        "outputId": "1e04659e-b8e6-437a-9a17-1ba68787b24b"
      },
      "execution_count": 8,
      "outputs": [
        {
          "output_type": "execute_result",
          "data": {
            "text/plain": [
              "[1, 2, 3, 5]"
            ]
          },
          "metadata": {},
          "execution_count": 8
        }
      ]
    }
  ]
}