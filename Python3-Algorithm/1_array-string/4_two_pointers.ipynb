{
  "nbformat": 4,
  "nbformat_minor": 0,
  "metadata": {
    "colab": {
      "provenance": [],
      "authorship_tag": "ABX9TyML+wIVF/ZN2tphlUAhZeAr",
      "include_colab_link": true
    },
    "kernelspec": {
      "name": "python3",
      "display_name": "Python 3"
    },
    "language_info": {
      "name": "python"
    }
  },
  "cells": [
    {
      "cell_type": "markdown",
      "metadata": {
        "id": "view-in-github",
        "colab_type": "text"
      },
      "source": [
        "<a href=\"https://colab.research.google.com/github/fxr1115/Learning/blob/main/Python3-Algorithm/array-string/4_two_pointers.ipynb\" target=\"_parent\"><img src=\"https://colab.research.google.com/assets/colab-badge.svg\" alt=\"Open In Colab\"/></a>"
      ]
    },
    {
      "cell_type": "code",
      "source": [
        "from typing import List"
      ],
      "metadata": {
        "id": "0LHIZkHjFwGK"
      },
      "execution_count": 1,
      "outputs": []
    },
    {
      "cell_type": "markdown",
      "source": [
        "## 双指针技巧"
      ],
      "metadata": {
        "id": "QNk8AKLvDRrX"
      }
    },
    {
      "cell_type": "markdown",
      "source": [
        "## 情景1\n",
        "从两端向中间迭代数组——一个指针从头部开始，而另一个指针从尾部开始\n",
        "- 这种技巧常在排序数组中使用"
      ],
      "metadata": {
        "id": "l2E4HCIrDWmb"
      }
    },
    {
      "cell_type": "markdown",
      "source": [
        "### 题目1 反转字符串\n",
        "将输入的字符串反转过来，输入的字符串以字符数组形式给出\n",
        "- 不要给另外的数组分配额外的空间，原地修改输入数组"
      ],
      "metadata": {
        "id": "V47LvNNjDc0e"
      }
    },
    {
      "cell_type": "code",
      "execution_count": 6,
      "metadata": {
        "id": "gqiO5_TYCJWh"
      },
      "outputs": [],
      "source": [
        "def reverseString(s: List[str]) -> None:\n",
        "    i, j = 0, len(s) - 1\n",
        "    while i < j:\n",
        "        s[i], s[j] = s[j], s[i]\n",
        "        i += 1\n",
        "        j -= 1"
      ]
    },
    {
      "cell_type": "markdown",
      "source": [
        "直接使用**API**，或者**切片**：\n",
        "- `list.reverse()`是**原地**操作，*只能用于列表*\n",
        "- `[::-1]`会返回一个**新**的列表"
      ],
      "metadata": {
        "id": "xAIjj-R6EjAy"
      }
    },
    {
      "cell_type": "markdown",
      "source": [
        "### 题目2 数组拆分\n",
        "给定长度为`2n`的整数数组`nums`，将这些数分为`n`对，使得每对的min的总和最大，返回该最大总和"
      ],
      "metadata": {
        "id": "tavKf_YwEr7w"
      }
    },
    {
      "cell_type": "markdown",
      "source": [
        "**思考**：\n",
        "- 如何分这`n`个组合的所有可能性？——错误！暴力穷举的复杂度太高\n",
        "\n",
        "**正确**：应该思考**何时**才能取到最大的情况？\n",
        "- 应该让数组按正序排\n",
        "- `sort()`是**就地**排序，返回是**`None`**"
      ],
      "metadata": {
        "id": "LklCP7GlE-Sc"
      }
    },
    {
      "cell_type": "code",
      "source": [
        "def arrayPairSum(nums: List[int]) -> int:\n",
        "    n = len(nums)\n",
        "    nums.sort()\n",
        "    sums = 0\n",
        "    for i in range(0, n, 2):\n",
        "        sums += nums[i]\n",
        "    return sums\n",
        "\n",
        "arrayPairSum([1,4,3,2])"
      ],
      "metadata": {
        "colab": {
          "base_uri": "https://localhost:8080/"
        },
        "id": "5VPfYzr3Eqc2",
        "outputId": "4fee27b9-6806-4c6a-bf38-53fa07bcd1a4"
      },
      "execution_count": 10,
      "outputs": [
        {
          "output_type": "execute_result",
          "data": {
            "text/plain": [
              "4"
            ]
          },
          "metadata": {},
          "execution_count": 10
        }
      ]
    },
    {
      "cell_type": "markdown",
      "source": [
        "### 题目3 两数之和II-输入有序数组\n",
        "给一个下标从1开始的整数数组`numbers`，已经按非递减顺序排列，从数组中找到满足相加之和等于目标数`target`的两个数，以长度为2的整数数组的形式返回两个整数的下标`[index1, index2]`，且`index1<index2`\n",
        "- 只使用常量级的额外空间"
      ],
      "metadata": {
        "id": "fi-GdSleF2v5"
      }
    },
    {
      "cell_type": "code",
      "source": [
        "class Solution:\n",
        "    def twoSum(self, numbers: List[int], target: int) -> List[int]:\n",
        "        n = len(numbers)\n",
        "        for i in range(n - 1):\n",
        "            for j in range(i + 1, n):\n",
        "                if numbers[i] + numbers[j] == target:\n",
        "                    return [i + 1, j + 1]\n",
        "\n",
        "Solution().twoSum([2,7,11,15], 9)"
      ],
      "metadata": {
        "colab": {
          "base_uri": "https://localhost:8080/"
        },
        "id": "PtrjYD5hF_e2",
        "outputId": "9fb183d5-cfe8-4848-e541-b7bc8db0e9a8"
      },
      "execution_count": 9,
      "outputs": [
        {
          "output_type": "execute_result",
          "data": {
            "text/plain": [
              "[1, 2]"
            ]
          },
          "metadata": {},
          "execution_count": 9
        }
      ]
    },
    {
      "cell_type": "markdown",
      "source": [
        "**问题**：傻瓜式双层循环，运行速度很慢，直接超出运行时间\n",
        "- 但是，如何使用双指针，没有思路\n",
        "- 忘记了：人家已经给的是*非递减顺序排列*了——根据当前和目标值的大小关系，有方向的缩小搜索范围\n",
        "    - 根据两指针对应的元素和与`target`之间的大小关系 来分情况处理"
      ],
      "metadata": {
        "id": "wV7zZcHsIlXw"
      }
    },
    {
      "cell_type": "code",
      "source": [
        "def twoSum(numbers: List[int], target: int) -> List[int]:\n",
        "    i, j = 0, len(numbers) - 1\n",
        "    while i < j:\n",
        "        s = numbers[i] + numbers[j]\n",
        "        if s == target:\n",
        "            return [i + 1, j + 1]\n",
        "        elif s > target:\n",
        "            j -= 1\n",
        "        else:\n",
        "            i += 1\n",
        "    return [-1, -1]\n",
        "\n",
        "twoSum([2,7,11,15], 9)"
      ],
      "metadata": {
        "colab": {
          "base_uri": "https://localhost:8080/"
        },
        "id": "hxInbmMMI-Wx",
        "outputId": "084c8c2e-07dd-4dbc-a173-ece3dbd5bbaa"
      },
      "execution_count": 11,
      "outputs": [
        {
          "output_type": "execute_result",
          "data": {
            "text/plain": [
              "[1, 2]"
            ]
          },
          "metadata": {},
          "execution_count": 11
        }
      ]
    },
    {
      "cell_type": "markdown",
      "source": [
        "## 情景1\n",
        "使用两个不同步的指针来解决问题（**快慢针**）\n",
        "- 两个指针运行的方向相同，同时有一个慢指针和快指针\n",
        "- 问题的**关键**：确定两个指针的移动策略\n"
      ],
      "metadata": {
        "id": "6_LHguAZJ7Ap"
      }
    },
    {
      "cell_type": "markdown",
      "source": [
        "### 题目4 移除元素\n",
        "给一个数组`nums`和一个值`val`，需要原地移除所有数值等于`val`的元素，返回`nums`中与`val`不同的元素的数量\n",
        "- 更改`nums`，使得前`k`个元素包含不等于`val`的元素，后面的元素不重要，随意\n"
      ],
      "metadata": {
        "id": "fjN3oAabKF-j"
      }
    },
    {
      "cell_type": "code",
      "source": [
        "class Solution1:\n",
        "    def removeElement(self, nums: List[int], val: int) -> int:\n",
        "        slow = 0\n",
        "        for fast in range(len(nums)):\n",
        "            if nums[fast] != val:\n",
        "                nums[slow] = nums[fast]\n",
        "                slow += 1\n",
        "        return slow\n",
        "\n",
        "Solution1().removeElement([3,2,2,3], 3)"
      ],
      "metadata": {
        "colab": {
          "base_uri": "https://localhost:8080/"
        },
        "id": "ivX3fUXvKFTp",
        "outputId": "945f4b41-ac73-4540-e9d2-a62513366a62"
      },
      "execution_count": 12,
      "outputs": [
        {
          "output_type": "execute_result",
          "data": {
            "text/plain": [
              "2"
            ]
          },
          "metadata": {},
          "execution_count": 12
        }
      ]
    },
    {
      "cell_type": "markdown",
      "source": [
        "### 题目5 最大连续1的个数\n",
        "给定一个二进制数组`nums`，计算其中最大连续`1`的个数"
      ],
      "metadata": {
        "id": "YQQG8ySUK_Gt"
      }
    },
    {
      "cell_type": "code",
      "source": [
        "def findMaxConsecutiveOnes(nums: List[int]) -> int:\n",
        "    max_len = 0\n",
        "    n = len(nums)\n",
        "    count = 0\n",
        "    for i in range(n):\n",
        "        if nums[i] == 1:\n",
        "            count += 1\n",
        "        if nums[i] != 1:\n",
        "            count = 0\n",
        "        if max_len < count:\n",
        "            max_len = count\n",
        "    return max_len\n",
        "\n",
        "findMaxConsecutiveOnes([1,1,0,1,1,1])"
      ],
      "metadata": {
        "colab": {
          "base_uri": "https://localhost:8080/"
        },
        "id": "3Wfngm6SLfDM",
        "outputId": "2647b916-76ef-486d-cce3-ed033d9b40b1"
      },
      "execution_count": 14,
      "outputs": [
        {
          "output_type": "execute_result",
          "data": {
            "text/plain": [
              "3"
            ]
          },
          "metadata": {},
          "execution_count": 14
        }
      ]
    },
    {
      "cell_type": "markdown",
      "source": [
        "### 题目6 长度最小的子数组\n",
        "给定一个含有`n`个正整数的数组和一个正整数`target`，找出该数组中满足总和大于等于`target`的长度最小的子数组，并返回其长度；如果不存在符合条件的子数组，返回`0`\n",
        "- - 一个O(n)，一个O(nlogn)时间复杂度的解法"
      ],
      "metadata": {
        "id": "LW2dy-P-PenK"
      }
    },
    {
      "cell_type": "code",
      "source": [
        "class Solution:\n",
        "    def minSubArrayLen(self, target: int, nums: List[int]) -> int:\n",
        "        n = len(nums)\n",
        "        min_len, start = float('Inf'), 0  # min_len记得起始是正无穷\n",
        "        for i in range(n):\n",
        "            sum = 0\n",
        "            for j in range(i, n):\n",
        "                sum += nums[j]\n",
        "                if sum == target:\n",
        "                    if min_len > j - i + 1:\n",
        "                        start = i\n",
        "                        min_len = j - i + 1\n",
        "        return min_len if min_len < float('inf') else 0\n",
        "\n",
        "Solution().minSubArrayLen(7, [2,3,1,2,4,3])"
      ],
      "metadata": {
        "colab": {
          "base_uri": "https://localhost:8080/"
        },
        "id": "F_XyD2t4R2CA",
        "outputId": "8e12e7da-bd55-4deb-9685-791f5dd5958c"
      },
      "execution_count": 15,
      "outputs": [
        {
          "output_type": "execute_result",
          "data": {
            "text/plain": [
              "2"
            ]
          },
          "metadata": {},
          "execution_count": 15
        }
      ]
    },
    {
      "cell_type": "markdown",
      "source": [
        "**问题**：运行太慢，都超出时间限制了，时间复杂度是$O(n^2)$\n",
        "- 题目看错了"
      ],
      "metadata": {
        "id": "wWBWvX6CdVbE"
      }
    },
    {
      "cell_type": "markdown",
      "source": [
        "**优化**：时间复杂度$O(n)$，使用**双指针**（滑动窗口）\n",
        "- 没想出来咋用\n",
        "- 题目是大于等于。。。不是等于。。。"
      ],
      "metadata": {
        "id": "BFEQilwidefs"
      }
    },
    {
      "cell_type": "code",
      "source": [
        "def minSubArrayLen(target: int, nums: List[int]) -> int:\n",
        "    n = len(nums)\n",
        "    left = 0\n",
        "    sum = 0\n",
        "    min_len = float('inf')\n",
        "\n",
        "    for right in range(n):\n",
        "        sum += nums[right]  # 右扩边界\n",
        "        while sum >= target:\n",
        "            min_len = min(min_len, right - left + 1)\n",
        "            sum -= nums[left]  # 从左边缩小窗口\n",
        "            left += 1\n",
        "    return min_len if min_len != float('inf') else 0\n",
        "\n",
        "minSubArrayLen(7, [2,3,1,2,4,3])"
      ],
      "metadata": {
        "colab": {
          "base_uri": "https://localhost:8080/"
        },
        "id": "rfmNONlSdape",
        "outputId": "2cd44cf7-02bc-4cf8-cf5f-62572e72209d"
      },
      "execution_count": 16,
      "outputs": [
        {
          "output_type": "execute_result",
          "data": {
            "text/plain": [
              "2"
            ]
          },
          "metadata": {},
          "execution_count": 16
        }
      ]
    },
    {
      "cell_type": "markdown",
      "source": [
        "**优化**：时间复杂度是$O(nlogn)$，使用前缀和+二分查找（二分的时间复杂度是$O(nlogn)$）"
      ],
      "metadata": {
        "id": "9Mrym6dvjiEW"
      }
    }
  ]
}