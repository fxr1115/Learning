{
  "nbformat": 4,
  "nbformat_minor": 0,
  "metadata": {
    "colab": {
      "provenance": [],
      "authorship_tag": "ABX9TyMlQU7YMkJG4IcTtj2Z0m6d",
      "include_colab_link": true
    },
    "kernelspec": {
      "name": "python3",
      "display_name": "Python 3"
    },
    "language_info": {
      "name": "python"
    }
  },
  "cells": [
    {
      "cell_type": "markdown",
      "metadata": {
        "id": "view-in-github",
        "colab_type": "text"
      },
      "source": [
        "<a href=\"https://colab.research.google.com/github/fxr1115/Learning/blob/main/Python3-Algorithm/array-string/5_summary.ipynb\" target=\"_parent\"><img src=\"https://colab.research.google.com/assets/colab-badge.svg\" alt=\"Open In Colab\"/></a>"
      ]
    },
    {
      "cell_type": "code",
      "source": [
        "from typing import List"
      ],
      "metadata": {
        "id": "ED49_cAAOoSN"
      },
      "execution_count": 5,
      "outputs": []
    },
    {
      "cell_type": "markdown",
      "source": [
        "### 题目1 杨辉三角\n",
        "给定一个非负整数`numRows`，生成杨辉三角的前`numRows`行\n",
        "- 每个数是其左上方和右上方的数的和\n"
      ],
      "metadata": {
        "id": "SS639Pa-JKPd"
      }
    },
    {
      "cell_type": "code",
      "execution_count": 27,
      "metadata": {
        "id": "Ng-mqeJwI1eg"
      },
      "outputs": [],
      "source": [
        "class Solution1:\n",
        "    def generate(self, numRows: int) -> List[List[int]]:\n",
        "        # 初始化，没有必要\n",
        "        outputs = [[0 for i in range(k + 1)] for k in range(numRows)]\n",
        "        for output in outputs:\n",
        "            output[0] = output[-1] = 1\n",
        "\n",
        "        if len(outputs) < 2:\n",
        "            return outputs\n",
        "        else:\n",
        "            for i, output in enumerate(outputs[2:]):\n",
        "              for j in range(1, i + 2):\n",
        "                  output[j] = outputs[i + 1][j - 1] + outputs[i + 1][j]\n",
        "            return outputs\n",
        "\n",
        "    def getRow(self, rowIndex: int) -> List[int]:\n",
        "        outputs = self.generate(rowIndex + 1)\n",
        "        return outputs[rowIndex]"
      ]
    },
    {
      "cell_type": "code",
      "source": [
        "Solution1().generate(5)"
      ],
      "metadata": {
        "colab": {
          "base_uri": "https://localhost:8080/"
        },
        "id": "UaIegD55ONG6",
        "outputId": "3911fef9-95fd-4c16-eabd-f8ef00ae5bcf"
      },
      "execution_count": 9,
      "outputs": [
        {
          "output_type": "execute_result",
          "data": {
            "text/plain": [
              "[[1], [1, 1], [1, 2, 1], [1, 3, 3, 1], [1, 4, 6, 4, 1]]"
            ]
          },
          "metadata": {},
          "execution_count": 9
        }
      ]
    },
    {
      "cell_type": "markdown",
      "source": [
        "#### **优化**\n",
        "- 去掉多余的初始化\n",
        "- 简化if条件判断\n",
        "- 优化索引使用"
      ],
      "metadata": {
        "id": "DhhBEm1qUKg9"
      }
    },
    {
      "cell_type": "code",
      "source": [
        "class Solution2:\n",
        "    def generate(self, numRows: int) -> List[List[int]]:\n",
        "        if numRows <= 0:\n",
        "            return []\n",
        "        outputs = []\n",
        "        for i in range(numRows):\n",
        "            row = [1]\n",
        "            if i > 0:\n",
        "                for j in range(1, i):\n",
        "                    row.append(outputs[i - 1][j - 1] + outputs[i - 1][j])\n",
        "                row.append(1)\n",
        "            outputs.append(row)\n",
        "      return outputs"
      ],
      "metadata": {
        "id": "CoZXm_ezSLXE"
      },
      "execution_count": 11,
      "outputs": []
    },
    {
      "cell_type": "code",
      "source": [
        "Solution2().generate(5)"
      ],
      "metadata": {
        "colab": {
          "base_uri": "https://localhost:8080/"
        },
        "id": "aevhJ4AIVvqs",
        "outputId": "b1a7631f-e250-4363-f111-2728b2970384"
      },
      "execution_count": 12,
      "outputs": [
        {
          "output_type": "execute_result",
          "data": {
            "text/plain": [
              "[[1], [1, 1], [1, 2, 1], [1, 3, 3, 1], [1, 4, 6, 4, 1]]"
            ]
          },
          "metadata": {},
          "execution_count": 12
        }
      ]
    },
    {
      "cell_type": "markdown",
      "source": [
        "### 题目2 杨辉三角II\n",
        "给定一个非负索引`rowIndex`，返回杨辉三角的第`rowIndex`行"
      ],
      "metadata": {
        "id": "9FfRfSvcQKeZ"
      }
    },
    {
      "cell_type": "markdown",
      "source": [
        "**自己**：生成完成的杨辉三角"
      ],
      "metadata": {
        "id": "6qQMO-w_WmzI"
      }
    },
    {
      "cell_type": "code",
      "source": [
        "Solution1().getRow(3)"
      ],
      "metadata": {
        "colab": {
          "base_uri": "https://localhost:8080/"
        },
        "id": "MXGYkHijQN9X",
        "outputId": "5a45278f-c3d3-4b1a-bbf4-3580a0ca70cb"
      },
      "execution_count": 14,
      "outputs": [
        {
          "output_type": "execute_result",
          "data": {
            "text/plain": [
              "[1, 3, 3, 1]"
            ]
          },
          "metadata": {},
          "execution_count": 14
        }
      ]
    },
    {
      "cell_type": "markdown",
      "source": [
        "#### **优化**（只是优化了空间复杂度）\n",
        "使用**滚动数组**，仅**存储当前行**"
      ],
      "metadata": {
        "id": "eB8oj_f4WZYm"
      }
    },
    {
      "cell_type": "code",
      "source": [
        "class Solution3:\n",
        "    def getRow(self, rowIndex: int) -> List[int]:\n",
        "        row = [1]\n",
        "        for i in range(1, rowIndex + 1):\n",
        "            row = [1] + [row[j - 1] + row[j] for j in range(1, i)] + [1]\n",
        "        return row"
      ],
      "metadata": {
        "id": "y8KBN9ZjWhL8"
      },
      "execution_count": 16,
      "outputs": []
    },
    {
      "cell_type": "code",
      "source": [
        "Solution3().getRow(3)"
      ],
      "metadata": {
        "colab": {
          "base_uri": "https://localhost:8080/"
        },
        "id": "z2vlQQPxXpHU",
        "outputId": "b41825a2-27f4-44cf-a71e-07715fef8287"
      },
      "execution_count": 17,
      "outputs": [
        {
          "output_type": "execute_result",
          "data": {
            "text/plain": [
              "[1, 3, 3, 1]"
            ]
          },
          "metadata": {},
          "execution_count": 17
        }
      ]
    },
    {
      "cell_type": "markdown",
      "source": [
        "### 题目3 反转字符串中的单词\n",
        "给定一个字符串`s`，反转字符串中每个单词的字符顺序，同时仍然保留空格和单词的初始顺序\n",
        "- `s`不包含任何开头或结尾空格\n",
        "- `s`中的所有单词都用一个空格隔开"
      ],
      "metadata": {
        "id": "2iRyYNvFY9lP"
      }
    },
    {
      "cell_type": "code",
      "source": [
        "class Solution4:\n",
        "    def reverseWords(self, s: str) -> str:\n",
        "        s_list = s.split()\n",
        "        s_output = []\n",
        "        for str in s_list:\n",
        "            s_output.append(str[::-1])\n",
        "        return ' '.join(s_output)"
      ],
      "metadata": {
        "id": "RbQUYZQuY9BC"
      },
      "execution_count": 18,
      "outputs": []
    },
    {
      "cell_type": "code",
      "source": [
        "Solution4().reverseWords(\"Let's take LeetCode contest\")"
      ],
      "metadata": {
        "colab": {
          "base_uri": "https://localhost:8080/",
          "height": 35
        },
        "id": "tS7yad4jaOny",
        "outputId": "61a45a1d-9133-48e4-f59e-a638550b189c"
      },
      "execution_count": 19,
      "outputs": [
        {
          "output_type": "execute_result",
          "data": {
            "text/plain": [
              "\"s'teL ekat edoCteeL tsetnoc\""
            ],
            "application/vnd.google.colaboratory.intrinsic+json": {
              "type": "string"
            }
          },
          "metadata": {},
          "execution_count": 19
        }
      ]
    },
    {
      "cell_type": "markdown",
      "source": [
        "写一行也行"
      ],
      "metadata": {
        "id": "CwSEQRntaxVz"
      }
    },
    {
      "cell_type": "code",
      "source": [
        "def reverseWords(s: str) -> str:\n",
        "    return ' '.join([str[::-1 ]for str in s.split()])"
      ],
      "metadata": {
        "id": "9EmLkE5RazQr"
      },
      "execution_count": null,
      "outputs": []
    },
    {
      "cell_type": "markdown",
      "source": [
        "### 题目4  删除排序数组中的重复项\n",
        "一个**非严格递增排序**的数组`nums`，**原地**删除重复出现的元素，使得每个元素**只出现一次**，返回删除后数组的新长度；元素的**相对顺序保持一致**，返回`nums`中唯一元素的个数\n",
        "\n",
        "\n",
        "\n"
      ],
      "metadata": {
        "id": "zGi1b5pabR7d"
      }
    },
    {
      "cell_type": "code",
      "source": [
        "class Solution5:\n",
        "    def removeDuplicates(self, nums: List[int]) -> int:\n",
        "        n = len(nums)\n",
        "        slow = 0\n",
        "        count = 1\n",
        "        for fast in range(1, n):\n",
        "            if nums[fast] != nums[fast - 1]:\n",
        "                slow += 1\n",
        "                count += 1\n",
        "                nums[slow] = nums[fast]\n",
        "      return count, nums[:count]"
      ],
      "metadata": {
        "id": "7IE_JHqrbgIf"
      },
      "execution_count": 25,
      "outputs": []
    },
    {
      "cell_type": "code",
      "source": [
        "Solution5().removeDuplicates([1, 1, 1, 2, 5, 5, 7])"
      ],
      "metadata": {
        "colab": {
          "base_uri": "https://localhost:8080/"
        },
        "id": "j9v5pQ6bd13z",
        "outputId": "de0f1f06-a0c4-4ec0-db56-31a1ed67a60a"
      },
      "execution_count": 26,
      "outputs": [
        {
          "output_type": "execute_result",
          "data": {
            "text/plain": [
              "(4, [1, 2, 5, 7])"
            ]
          },
          "metadata": {},
          "execution_count": 26
        }
      ]
    },
    {
      "cell_type": "markdown",
      "source": [
        "**注**：\n",
        "- 如果`slow`初始值设为`1`，并且在`if`中后进行`slow += 1`，就有`count = slow`——可以省去`count`"
      ],
      "metadata": {
        "id": "890Tl6LQepgi"
      }
    },
    {
      "cell_type": "markdown",
      "source": [
        "### 题目5 寻找旋转排序数组中的最小值\n",
        "长度为`n`的数组，预先按照升序排列，经由`1`到`n`次旋转后，得到输入数组\n",
        "- 数组`[a[0], a[1], a[2],..., a[n-1]]`旋转一次得到的结果是`[a[n-1], a[0], a[1], a[2],..., a[n-2]]`\n",
        "\n",
        "给一个元素值互不相同的`nums`，原本是一个升序排列的数组，按上述情形进行多次旋转后找出并返回数组中最小元素\n",
        "- 时间复杂度要求$O(log n)$"
      ],
      "metadata": {
        "id": "o7_BkO3ZBNe3"
      }
    },
    {
      "cell_type": "markdown",
      "source": [
        "##### **二分查找**\n",
        "- 旋转后由两个有序数组组成，最小值是第二部分里的第一个\n",
        "- 二分查找快速定位到**分界点**\n",
        "- *没想到用二分*"
      ],
      "metadata": {
        "id": "pLx60nhaFYSN"
      }
    },
    {
      "cell_type": "code",
      "source": [
        "# 如果限制不让用min方法的话\n",
        "# 使用二分查找\n",
        "class Solution6:\n",
        "    def findMin(self, nums: List[int]) -> int:\n",
        "        left, right = 0, len(nums) - 1\n",
        "        while left < right:\n",
        "            mid = (left + right) // 2\n",
        "            if nums[mid] > nums[right]:\n",
        "                left = mid + 1\n",
        "            else:\n",
        "                right = mid\n",
        "        return nums[left]"
      ],
      "metadata": {
        "id": "xT7b_UyufAAA"
      },
      "execution_count": 35,
      "outputs": []
    },
    {
      "cell_type": "code",
      "source": [
        "Solution6().findMin([3,4,5,1,2])"
      ],
      "metadata": {
        "colab": {
          "base_uri": "https://localhost:8080/"
        },
        "id": "9yS2YDgbGcr9",
        "outputId": "b0fe5c05-2b7e-4ee4-a836-fbb554b74ff9"
      },
      "execution_count": 36,
      "outputs": [
        {
          "output_type": "execute_result",
          "data": {
            "text/plain": [
              "1"
            ]
          },
          "metadata": {},
          "execution_count": 36
        }
      ]
    },
    {
      "cell_type": "markdown",
      "source": [
        "### 题目6 移动零\n",
        "给定一个数组`nums`，编写一个函数将所有`0`移动到数组的末尾，同时保持非零元素的相对顺序"
      ],
      "metadata": {
        "id": "QzTqfQj6Iv3s"
      }
    },
    {
      "cell_type": "code",
      "source": [
        "class Solution7:\n",
        "    def moveZeroes(self, nums: List[int]) -> None:\n",
        "        \"\"\"\n",
        "        Do not return anything, modify nums in-place instead.\n",
        "        \"\"\"\n",
        "        soft = 0\n",
        "        n = len(nums)\n",
        "        for fast in range(n):\n",
        "            if nums[fast] !=0:\n",
        "                nums[soft] = nums[fast]\n",
        "                soft += 1\n",
        "        for i in range(soft, n):\n",
        "            nums[i] = 0"
      ],
      "metadata": {
        "id": "Z-LohVKIJCJN"
      },
      "execution_count": 37,
      "outputs": []
    },
    {
      "cell_type": "code",
      "source": [
        "Solution7().moveZeroes([0,1,0,3,12])"
      ],
      "metadata": {
        "id": "BOpv9T_uLeYo"
      },
      "execution_count": 38,
      "outputs": []
    }
  ]
}