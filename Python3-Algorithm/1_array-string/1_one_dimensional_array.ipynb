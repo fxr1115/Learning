{
 "cells": [
  {
   "cell_type": "markdown",
   "metadata": {
    "colab_type": "text",
    "id": "view-in-github"
   },
   "source": [
    "<a href=\"https://colab.research.google.com/github/fxr1115/Learning/blob/main/Python3-Algorithm/array-string/1_one_dimensional_array.ipynb\" target=\"_parent\"><img src=\"https://colab.research.google.com/assets/colab-badge.svg\" alt=\"Open In Colab\"/></a>"
   ]
  },
  {
   "cell_type": "code",
   "execution_count": 3,
   "metadata": {
    "id": "IlgpJXK1i9bM"
   },
   "outputs": [],
   "source": [
    "from typing import List"
   ]
  },
  {
   "cell_type": "markdown",
   "metadata": {
    "id": "EuaHr92egm30"
   },
   "source": [
    "### 列表和数组"
   ]
  },
  {
   "cell_type": "markdown",
   "metadata": {
    "id": "w6GjxB-Efq8X"
   },
   "source": [
    "列表list：\n",
    "- 可以存储不同类型的元素\n",
    "- 适合动态操作，但在处理大量数值时，性能和内存效率差\n",
    "\n",
    "数组array：\n",
    "- `import array`\n",
    "- 所有元素必须是相同类型\n",
    "- 数值计算下更高效，使用的内存比list少\n",
    "- 更常用的是`numpy.ndarray`\n",
    "\n"
   ]
  },
  {
   "cell_type": "markdown",
   "metadata": {
    "id": "LmhRlsqvgfNl"
   },
   "source": [
    "#### 数组的四种操作\n",
    "\n",
    "读取元素：\n",
    "- 访问索引来读取\n",
    "- 对于数组，计算机会在内存中为其申请一段**连续**空间，并记下索引为0处的内存地址\n",
    "- 复杂度是常数级别$O(1)$\n",
    "\n",
    "查找元素\n",
    "- 只保存了索引为0的内存地址，查找时从头逐步查\n",
    "- 时间复杂度是$O(N)$，N是数组长度\n",
    "\n",
    "插入元素\n",
    "- 数组末尾插入只需一步\n",
    "- 其他位置，需要为该元素要插入位置**腾出**空间（依次腾）\n",
    "- 频繁插入会浪费时间，链表更好使\n",
    "\n",
    "删除元素\n",
    "- 数组会留下**空缺**位置，内存是连续，所以后面元素要对该位置进行**填补**操作（依次）"
   ]
  },
  {
   "cell_type": "markdown",
   "metadata": {
    "id": "3CQ3EOIOhEGl"
   },
   "source": [
    "### 题目1 寻找中心下标\n",
    "给一个整数数组`nums`，计算数组的中心下标（使得左侧的所有元素相加之和等于右侧所有元素之和）"
   ]
  },
  {
   "cell_type": "code",
   "execution_count": null,
   "metadata": {
    "id": "_5o4sB3pfme2"
   },
   "outputs": [],
   "source": [
    "class Solution1:\n",
    "    def pivotIndex(self, nums: List[int]) -> int:\n",
    "        all_sum = sum(nums)\n",
    "        for i in range(len(nums)):\n",
    "            left_sum = 0\n",
    "            right_sum = 0\n",
    "            for j in range(i):\n",
    "                left_sum += nums[j]\n",
    "            right_sum = all_sum - left_sum - nums[i]\n",
    "            if left_sum == right_sum:\n",
    "                return i\n",
    "                break\n",
    "        return -1"
   ]
  },
  {
   "cell_type": "code",
   "execution_count": 5,
   "metadata": {
    "colab": {
     "base_uri": "https://localhost:8080/"
    },
    "id": "Xocop_GQi1DU",
    "outputId": "2800e013-4fb1-40d2-9fbf-aabf4259f8ea"
   },
   "outputs": [
    {
     "data": {
      "text/plain": [
       "3"
      ]
     },
     "execution_count": 5,
     "metadata": {},
     "output_type": "execute_result"
    }
   ],
   "source": [
    "Solution1().pivotIndex([1,7,3,6,5,6])"
   ]
  },
  {
   "cell_type": "markdown",
   "metadata": {
    "id": "5uCZHlF8ir_O"
   },
   "source": [
    "**代码改进**：（效率问题，冗余计算，变量名优化）\n"
   ]
  },
  {
   "cell_type": "markdown",
   "metadata": {
    "id": "f0F_zpkiizGF"
   },
   "source": [
    "- 每次计算左侧和（left_sum）都需要*从头*到当前位置遍历一遍，导致时间复杂度为$O(n^2)$\n",
    "\n",
    "- 循环中的 break 是多余的，因为在满足条件时直接返回即可\n",
    "- left_sum 和 right_sum 的更新可以整合到循环中，无需额外定义并重复赋值"
   ]
  },
  {
   "cell_type": "code",
   "execution_count": null,
   "metadata": {
    "id": "LefN1on9ISsT"
   },
   "outputs": [],
   "source": [
    "class Solution2:\n",
    "    def pivotIndex(self, nums: List[int]) -> int:\n",
    "        all_sum = sum(nums)\n",
    "        left_sum = 0\n",
    "        for i in range(len(nums)):\n",
    "            right_sum = all_sum - left_sum - nums[i]\n",
    "            if right_sum == left_sum:\n",
    "                return i\n",
    "            left_sum += nums[i]\n",
    "        return -1"
   ]
  },
  {
   "cell_type": "code",
   "execution_count": 7,
   "metadata": {
    "colab": {
     "base_uri": "https://localhost:8080/"
    },
    "id": "nGxBKoMTjkC2",
    "outputId": "2880888a-7d42-4b9d-c18f-1b70b76bda97"
   },
   "outputs": [
    {
     "data": {
      "text/plain": [
       "3"
      ]
     },
     "execution_count": 7,
     "metadata": {},
     "output_type": "execute_result"
    }
   ],
   "source": [
    "Solution2().pivotIndex([1,7,3,6,5,6])"
   ]
  },
  {
   "cell_type": "markdown",
   "metadata": {
    "id": "VgLyPA_gjzb8"
   },
   "source": [
    "### 题目2 搜索插入位置\n",
    "给定一个**排序**数组和一个目标值，在数组中找到目标值，并返回其索引；如果目标值不存在于数组中，返回它将会被按顺序插入的位置\n",
    "- 请必须使用时间复杂度为$O(log n)$的算法。"
   ]
  },
  {
   "cell_type": "markdown",
   "metadata": {
    "id": "OYhQPFaskgCK"
   },
   "source": [
    "**自己**：**错误**\n",
    "- 使用的是线性查找，时间复杂度为O(n)\n",
    "- 当`target`比所有元素都小的话无法正确插入位置"
   ]
  },
  {
   "cell_type": "code",
   "execution_count": null,
   "metadata": {
    "id": "v8prEfXujzBB"
   },
   "outputs": [],
   "source": [
    "class Solution:\n",
    "    def searchInsert(self, nums: List[int], target: int) -> int:\n",
    "        for i in range(len(nums)):\n",
    "            if nums[i] == target:\n",
    "                return i\n",
    "            if nums[i] > target:\n",
    "                return i\n",
    "      return i + 1"
   ]
  },
  {
   "cell_type": "markdown",
   "metadata": {
    "id": "gRY10Iavkmcf"
   },
   "source": [
    "**线性改进**"
   ]
  },
  {
   "cell_type": "code",
   "execution_count": null,
   "metadata": {
    "id": "GW_YpofjklTm"
   },
   "outputs": [],
   "source": [
    "class Solution:\n",
    "    def searchInsert(self, nums: List[int], target: int) -> int:\n",
    "        for i in range(len(nums)):\n",
    "            if nums[i] >= target:\n",
    "                return i\n",
    "        return len(nums)"
   ]
  },
  {
   "cell_type": "markdown",
   "metadata": {
    "id": "qlB9b9kMlKJg"
   },
   "source": [
    "**$O(logn)$改进**：使用**二分法**"
   ]
  },
  {
   "cell_type": "code",
   "execution_count": null,
   "metadata": {
    "id": "X-i3KlGhlOXy"
   },
   "outputs": [],
   "source": [
    "class Solution3:\n",
    "    def searchInsert(self, nums: List[int], target: int) -> int:\n",
    "        left, right = 0, len(nums) - 1\n",
    "        while left <= right:\n",
    "            mid = (left + right) // 2\n",
    "            if nums[mid] == target:\n",
    "                return mid\n",
    "            elif nums[mid] > target:\n",
    "                right = mid\n",
    "            elif nums[mid] < target:\n",
    "                left = mid\n",
    "        return left"
   ]
  },
  {
   "cell_type": "code",
   "execution_count": 10,
   "metadata": {
    "colab": {
     "base_uri": "https://localhost:8080/"
    },
    "id": "S0yjAgBgl9p_",
    "outputId": "e2efc350-0dd9-4551-a455-825b550a95c1"
   },
   "outputs": [
    {
     "data": {
      "text/plain": [
       "2"
      ]
     },
     "execution_count": 10,
     "metadata": {},
     "output_type": "execute_result"
    }
   ],
   "source": [
    "Solution3().searchInsert([1,3,5,6], 5)"
   ]
  },
  {
   "cell_type": "markdown",
   "metadata": {
    "id": "0CUvBN5imKrS"
   },
   "source": [
    "### 题目3 合并区间\n",
    "以数组`intervals`表示若干个区间的集合，其中单个区间为 `intervals[i] = [starti, endi]`\n",
    "- 合并所有重叠的区间，并返回一个不重叠的区间数组，该数组需恰好覆盖输入中的所有区间"
   ]
  },
  {
   "cell_type": "markdown",
   "metadata": {
    "id": "rMCIyegamlqf"
   },
   "source": [
    "**问题**：\n",
    "- 如果多个重叠怎么办？\n",
    "- 怎么将需要写入的区间写出来？"
   ]
  },
  {
   "cell_type": "markdown",
   "metadata": {
    "id": "JNvfiI-im1XC"
   },
   "source": [
    "**尽力**版本"
   ]
  },
  {
   "cell_type": "code",
   "execution_count": null,
   "metadata": {
    "id": "pAasdCxKmN19"
   },
   "outputs": [],
   "source": [
    "class Solution:\n",
    "    def merge(self, intervals: List[List[int]]) -> List[List[int]]:\n",
    "        output = []\n",
    "        for i in range(len(intervals)):\n",
    "            for j in range(i + 1, len(intervals)):\n",
    "                output.append([intervals[i][0], intervals[j][1]])\n",
    "                break\n",
    "        return output"
   ]
  },
  {
   "cell_type": "markdown",
   "metadata": {
    "id": "ZdAH6CT1nop_"
   },
   "source": [
    "**代码问题**：（逻辑问题，未排序区间，输出逻辑错误，嵌套循环效率低下）\n",
    "- `if intervals[i][1] > intervals[j][0]`的逻辑仅检查当前两个区间是否有交集，没有动态更新合并区间的上下界\n",
    "- 在合并区间问题中，排序是必要前置条件\n",
    "- 直接将找到的交集区间追加到`output`上，而不是持续更新区间的边界\n",
    "- 嵌套循环的时间复杂度是$O(n^2)$；排序后一次遍历即可完成合并，时间复杂度是$O(nlogn)$"
   ]
  },
  {
   "cell_type": "markdown",
   "metadata": {
    "id": "1eeJylENojaC"
   },
   "source": [
    "**改进思路**\n",
    "- 先对区间按起点**升序排列**\n",
    "- 逐一遍历合并区间\n",
    "- 要动态的更新\n",
    "\n",
    "**注**：\n",
    "- sorted()：适用于*任何可迭代对象*，返回一个*新*列表，是*内置函数*\n",
    "- list.sort()：*只作用于列表*，在*原*列表上排序，是*列表*的方法"
   ]
  },
  {
   "cell_type": "code",
   "execution_count": null,
   "metadata": {
    "id": "UvsGS-2qnoDN"
   },
   "outputs": [],
   "source": [
    "class Solution4:\n",
    "    def merge(self, intervals: List[List[int]]) -> List[List[int]]:\n",
    "        if not intervals:\n",
    "            return []\n",
    "        # 排序\n",
    "        intervals.sort(key=lambda x: x[0])\n",
    "        merged = [intervals[0]]\n",
    "        # 遍历剩余区间\n",
    "        for i in range(1, len(intervals)):\n",
    "            prev = merged[-1]\n",
    "            curr = intervals[i]\n",
    "            if curr[0] <= prev[1]:             \n",
    "                prev[1] = max(prev[1], curr[1])\n",
    "            else:\n",
    "                merged.append(curr)\n",
    "        return merged"
   ]
  },
  {
   "cell_type": "code",
   "execution_count": 18,
   "metadata": {
    "colab": {
     "base_uri": "https://localhost:8080/"
    },
    "id": "p8xc-Ppsqkew",
    "outputId": "49c3f188-a89f-42d9-97e6-cdae481d1e8d"
   },
   "outputs": [
    {
     "data": {
      "text/plain": [
       "[[1, 6], [8, 10], [15, 18]]"
      ]
     },
     "execution_count": 18,
     "metadata": {},
     "output_type": "execute_result"
    }
   ],
   "source": [
    "Solution4().merge([[1,3],[2,6],[8,10],[15,18]])"
   ]
  },
  {
   "cell_type": "markdown",
   "metadata": {
    "id": "_Pxu28pmrzSe"
   },
   "source": [
    "**更简洁一点**"
   ]
  },
  {
   "cell_type": "code",
   "execution_count": null,
   "metadata": {
    "id": "WRplozq-q6ua"
   },
   "outputs": [],
   "source": [
    "class Solution4:\n",
    "    def merge(self, intervals: List[List[int]]) -> List[List[int]]:\n",
    "        interval.sort(key lambda x:)\n",
    "        ans = []\n",
    "        for x in intervals:\n",
    "            if ans and x[0] <= ans[-1][1]:\n",
    "                ans[-1][1] = max(x[1], ans[-1][1])\n",
    "             else:\n",
    "                ans.append(x)\n",
    "        return ans"
   ]
  }
 ],
 "metadata": {
  "colab": {
   "authorship_tag": "ABX9TyO0/s6UbC78f3z3aSQ62WXM",
   "include_colab_link": true,
   "provenance": []
  },
  "kernelspec": {
   "display_name": "Python 3",
   "name": "python3"
  },
  "language_info": {
   "name": "python"
  }
 },
 "nbformat": 4,
 "nbformat_minor": 0
}
