{
 "cells": [
  {
   "cell_type": "markdown",
   "metadata": {
    "colab_type": "text",
    "id": "view-in-github"
   },
   "source": [
    "<a href=\"https://colab.research.google.com/github/fxr1115/Learning/blob/main/Python3-Algorithm/array-string/2_2D_array.ipynb\" target=\"_parent\"><img src=\"https://colab.research.google.com/assets/colab-badge.svg\" alt=\"Open In Colab\"/></a>"
   ]
  },
  {
   "cell_type": "code",
   "execution_count": 2,
   "metadata": {
    "id": "UN372X85PevK"
   },
   "outputs": [],
   "source": [
    "from typing import List"
   ]
  },
  {
   "cell_type": "markdown",
   "metadata": {
    "id": "qiQWmEZAObb8"
   },
   "source": [
    "### 二维数组"
   ]
  },
  {
   "cell_type": "markdown",
   "metadata": {
    "id": "YOt_JwKYOevt"
   },
   "source": [
    "- 是一种结构较为特殊的数组，将数组中的每个元素变成了一维数组\n",
    "- 类似于一维数组，对于一个二元数组，计算机同样在内存中申请一段**连续**的空间，并记录第一行数组的索引位置，即**`A[0][0]**`的内存地址"
   ]
  },
  {
   "cell_type": "markdown",
   "metadata": {
    "id": "a_bCrfL1Ok44"
   },
   "source": [
    "### 题目1 旋转矩阵\n",
    "一幅由$N \\times N$矩阵表示的图像，其中每个像素的大小为4字节，设计一种算法，将图像旋转90度\n",
    "- **不占用额外内存空间**"
   ]
  },
  {
   "cell_type": "code",
   "execution_count": 7,
   "metadata": {
    "id": "RGl7r1-MORhG"
   },
   "outputs": [],
   "source": [
    "def rotate(matrix: List[List[int]]) -> None:\n",
    "    \"\"\"\n",
    "    Do not return anything, modify matrix in-place instead.\n",
    "    \"\"\"\n",
    "    n = len(matrix)\n",
    "    col = [[] for _ in range(n)]\n",
    "    for j in range(n):\n",
    "        for i in range(n - 1, -1, -1):\n",
    "            col[j].append(matrix[i][j])\n",
    "    for k in range(n):\n",
    "        matrix[k] = col[k]"
   ]
  },
  {
   "cell_type": "code",
   "execution_count": 8,
   "metadata": {
    "id": "MW5fHGUJPmQo"
   },
   "outputs": [],
   "source": [
    "rotate([[1,2,3],[4,5,6],[7,8,9]])"
   ]
  },
  {
   "cell_type": "markdown",
   "metadata": {
    "id": "nGbek4JpPUje"
   },
   "source": [
    "**代码问题**：（额外空间问题，操作复杂度问题）\n",
    "- 创建了额外的`col`二维列表，占用了额外的空间\n",
    "- 通过多次嵌套循环和赋值操作，可以进一步优化\n",
    "\n",
    "**优化方法**：\n",
    "- 使用原地操作，避免创建额外的列表\n",
    "- 步骤分解：转置矩阵（行列互换）+ 反转每一行（每一行元素反转）"
   ]
  },
  {
   "cell_type": "markdown",
   "metadata": {
    "id": "d4XTkKTsQX--"
   },
   "source": [
    "- 多变量赋值，一次性完成`matrix[i][j], matrix[j][i]`的交换\n",
    "- `list.reverse()`是列表的内置方法，**原地反转**列表中的元素顺序"
   ]
  },
  {
   "cell_type": "code",
   "execution_count": 9,
   "metadata": {
    "id": "hyLfMub-PR5h"
   },
   "outputs": [],
   "source": [
    "def rotate(matrix: List[List[int]]) -> None:\n",
    "    \"\"\"\n",
    "    Do not return anything, modify matrix in-place instead.\n",
    "    \"\"\"\n",
    "    n = len(matrix)\n",
    "    for i in range(n):\n",
    "        for j in range(i, n):\n",
    "            matrix[i][j], matrix[j][i] = matrix[j][i], matrix[i][j]\n",
    "\n",
    "    for i in range(n):\n",
    "        matrix[i].reverse()"
   ]
  },
  {
   "cell_type": "markdown",
   "metadata": {
    "id": "7V3tCLTNQmAh"
   },
   "source": [
    "**使用深拷贝**，修改任何部分都不会影响原对象\n",
    "- 但是不符合题目要求"
   ]
  },
  {
   "cell_type": "code",
   "execution_count": 10,
   "metadata": {
    "id": "_UcN3N10Qrg5"
   },
   "outputs": [],
   "source": [
    "import copy\n",
    "\n",
    "def rotate(matrix: List[List[int]]) -> None:\n",
    "    \"\"\"\n",
    "    Do not return anything, modify matrix in-place instead.\n",
    "    \"\"\"\n",
    "    matrix1 = copy.deepcopy(matrix)\n",
    "    row = len(matrix)\n",
    "    col = len(matrix[0])\n",
    "    for i in range(row):\n",
    "        for j in range(col):\n",
    "            matrix[j][row - i - 1] = matrix1[i][j]"
   ]
  },
  {
   "cell_type": "code",
   "execution_count": 11,
   "metadata": {
    "id": "axug2PmdR3Wv"
   },
   "outputs": [],
   "source": [
    "rotate([[1,2,3],[4,5,6],[7,8,9]])"
   ]
  },
  {
   "cell_type": "markdown",
   "metadata": {
    "id": "dLWhq9ZbRe1M"
   },
   "source": [
    "### 题目2 零矩阵\n",
    "若$M \\times N$矩阵中某个元素为0，则将其所在的行和列清零"
   ]
  },
  {
   "cell_type": "markdown",
   "metadata": {
    "id": "RehNcUyLTRXe"
   },
   "source": [
    "下面是**错的**"
   ]
  },
  {
   "cell_type": "code",
   "execution_count": 20,
   "metadata": {
    "id": "WOYuJUVARnXS"
   },
   "outputs": [],
   "source": [
    "def setZeroes(matrix: List[List[int]]) -> None:\n",
    "    \"\"\"\n",
    "    Do not return anything, modify matrix in-place instead.\n",
    "    \"\"\"\n",
    "    m = len(matrix)\n",
    "    n = len(matrix[0])\n",
    "    matrix1 = copy.deepcopy(matrix)\n",
    "    for i in range(m):\n",
    "        for j in range(n):\n",
    "            if matrix1[i][j] == 0:\n",
    "                matrix[i] = [0] * m\n",
    "                for i in range(m):\n",
    "                    matrix[i][j] = 0\n",
    "    return matrix"
   ]
  },
  {
   "cell_type": "code",
   "execution_count": 22,
   "metadata": {
    "colab": {
     "base_uri": "https://localhost:8080/"
    },
    "id": "ziVKq3PYS53q",
    "outputId": "6a98fc9d-a6e5-487b-bf7c-f4c0234b3167"
   },
   "outputs": [
    {
     "data": {
      "text/plain": [
       "[[0, 0, 0], [0, 4, 5, 2], [0, 3, 1, 5]]"
      ]
     },
     "execution_count": 22,
     "metadata": {},
     "output_type": "execute_result"
    }
   ],
   "source": [
    "setZeroes([[0,1,2,0],[3,4,5,2],[1,3,1,5]])"
   ]
  },
  {
   "cell_type": "markdown",
   "metadata": {
    "id": "PlMkXLNJSLla"
   },
   "source": [
    "**代码问题**：（深拷贝没有解决问题，逻辑错误<行和列清零顺序冲突>）\n",
    "- `matrix[i] = [0] * m` 将整个行替换为一个新列表，会**破坏原矩阵结构**，导致列清零逻辑错误\n",
    "    - 第i行原始引用被替换，`matrix[i]`不再与矩阵中其他部分共享结构，失去与原始矩阵的关联\n",
    "    - 在清零过程中不断修改`matrix`，导致下一步清零的逻辑依赖了已经被改变的矩阵，产生错误\n",
    "- 代码逻辑未能正确区分哪些行和列需要清零，清零操作互相干扰"
   ]
  },
  {
   "cell_type": "code",
   "execution_count": 23,
   "metadata": {
    "id": "uNPRsQTtSOCt"
   },
   "outputs": [],
   "source": [
    "def setZeroes(matrix: List[List[int]]) -> None:\n",
    "    \"\"\"\n",
    "    Do not return anything, modify matrix in-place instead.\n",
    "    \"\"\"\n",
    "    m = len(matrix)\n",
    "    n = len(matrix[0])\n",
    "    matrix1 = copy.deepcopy(matrix)\n",
    "    for i in range(m):\n",
    "        for j in range(n):\n",
    "            if matrix1[i][j] == 0:\n",
    "                for k in range(n):\n",
    "                    matrix[i][k] = 0\n",
    "                for k in range(m):\n",
    "                    matrix[k][j] = 0\n",
    "    return matrix"
   ]
  },
  {
   "cell_type": "code",
   "execution_count": 24,
   "metadata": {
    "colab": {
     "base_uri": "https://localhost:8080/"
    },
    "id": "LV0Y7P1KSlVs",
    "outputId": "6bb4fb09-10e1-4281-c6d8-5bc5af2a7991"
   },
   "outputs": [
    {
     "data": {
      "text/plain": [
       "[[0, 0, 0, 0], [0, 4, 5, 0], [0, 3, 1, 0]]"
      ]
     },
     "execution_count": 24,
     "metadata": {},
     "output_type": "execute_result"
    }
   ],
   "source": [
    "setZeroes([[0,1,2,0],[3,4,5,2],[1,3,1,5]])"
   ]
  },
  {
   "cell_type": "markdown",
   "metadata": {
    "id": "Jjeo_LeISjd7"
   },
   "source": [
    "**优化**\n",
    "- 使用**标记法**，记录需要清零的行和列\n",
    "- 避免使用深拷贝\n",
    "- 使用原地操作"
   ]
  },
  {
   "cell_type": "markdown",
   "metadata": {
    "id": "oe75gUgxUX7p"
   },
   "source": [
    "- `rows`和`cols`也可以使用列表来表示，添加时使用`.append()`即可"
   ]
  },
  {
   "cell_type": "code",
   "execution_count": 27,
   "metadata": {
    "id": "8lGqNABgTdCS"
   },
   "outputs": [],
   "source": [
    "def setZeroes(matrix: List[List[int]]) -> None:\n",
    "    \"\"\"\n",
    "    Do not return anything, modify matrix in-place instead.\n",
    "    \"\"\"\n",
    "    m, n = len(matrix), len(matrix[0])\n",
    "    row, col = [], []\n",
    "\n",
    "    # 标记需要清零的行和列\n",
    "    for i in range(m):\n",
    "        for j in range(n):\n",
    "            if matrix[i][j] == 0:\n",
    "                row.append(i)\n",
    "                col.append(j)\n",
    "\n",
    "    # 根据标记清零行\n",
    "    for i in row:\n",
    "        for j in range(n):\n",
    "            matrix[i][j] = 0\n",
    "\n",
    "    for j in col:\n",
    "        for i in range(m):\n",
    "            matrix[i][j] = 0\n",
    "\n",
    "    return matrix"
   ]
  },
  {
   "cell_type": "code",
   "execution_count": 28,
   "metadata": {
    "colab": {
     "base_uri": "https://localhost:8080/"
    },
    "id": "u-B3Q0yGUQX3",
    "outputId": "fc4ac252-de98-4418-b29c-c3126c6fd58f"
   },
   "outputs": [
    {
     "data": {
      "text/plain": [
       "[[0, 0, 0, 0], [0, 4, 5, 0], [0, 3, 1, 0]]"
      ]
     },
     "execution_count": 28,
     "metadata": {},
     "output_type": "execute_result"
    }
   ],
   "source": [
    "setZeroes([[0,1,2,0],[3,4,5,2],[1,3,1,5]])"
   ]
  },
  {
   "cell_type": "markdown",
   "metadata": {
    "id": "t446k-UlUbLS"
   },
   "source": [
    "### 题目3 对角线遍历\n",
    "大小为$M \\times N$的矩阵`mat`，以对角线遍历的顺序，用一个数组返回这个矩阵中的所有元素"
   ]
  },
  {
   "cell_type": "markdown",
   "metadata": {
    "id": "XMlizgCmUubG"
   },
   "source": [
    "**不会**：如何表示索引"
   ]
  },
  {
   "cell_type": "code",
   "execution_count": null,
   "metadata": {
    "id": "6lN_Xx2zUjiR"
   },
   "outputs": [],
   "source": [
    "class Solution:\n",
    "    def findDiagonalOrder(self, mat: List[List[int]]) -> List[int]:\n",
    "        arr = []\n",
    "        # 行列和是常数\n",
    "        n = len(mat) + len(mat[0]) - 1\n",
    "        for i in range(n):\n",
    "            if i % 2 == 0:  # 从左下到右上\n",
    "                for j in range(i + 1):\n",
    "                    arr.append(mat[j][i - j])\n",
    "            else:\n",
    "                for j in range(i + 1):\n",
    "                    arr.append(mat[i - j][j])\n",
    "        return arr"
   ]
  },
  {
   "cell_type": "markdown",
   "metadata": {
    "id": "JxUHTT94VVS9"
   },
   "source": [
    "**代码问题**：\n",
    "- 没有区分矩阵上下三角形部分：上三角部分，`i`的范围受列的限制\n",
    "\n",
    "**优化思路**：\n",
    "- 明确对角线遍历的范围（这个思考了一半）\n",
    "- 区分遍历方向，分奇偶（这个也想到了）\n",
    "- 利用`max`和`min`限制索引范围（这个没有想到）\n",
    "- 先得到对角线元素，再分奇偶"
   ]
  },
  {
   "cell_type": "code",
   "execution_count": 29,
   "metadata": {
    "id": "o7op19TVVdK7"
   },
   "outputs": [],
   "source": [
    "class Solution:\n",
    "    def findDiagonalOrder(self, mat: List[List[int]]) -> List[int]:\n",
    "        arr = []\n",
    "        m, n = len(mat), len(mat[0])\n",
    "        for i in range(m + n - 1):\n",
    "            # 定义当前对角线的起点（行和列）\n",
    "            if i < m:  # 上三角区域\n",
    "                row, col = i, 0\n",
    "            else:\n",
    "                row, col = m - 1, i - m + 1\n",
    "\n",
    "            diagonal = []\n",
    "\n",
    "            # 遍历当前对角线\n",
    "            while row >= 0 and col < n:\n",
    "                diagonal.append(mat[row][col])\n",
    "                row -= 1\n",
    "                col += 1\n",
    "\n",
    "            # 根据对角线编号的奇偶确定遍历方向\n",
    "            if i % 2 == 0:\n",
    "                arr.extend(diagonal)\n",
    "            else:\n",
    "                arr.extend(diagonal[::-1])\n",
    "        return arr"
   ]
  },
  {
   "cell_type": "code",
   "execution_count": 30,
   "metadata": {
    "colab": {
     "base_uri": "https://localhost:8080/"
    },
    "id": "3Yr4LrYpXoPj",
    "outputId": "0ed2a599-c6e0-4d7b-defb-aa7462fd20d6"
   },
   "outputs": [
    {
     "data": {
      "text/plain": [
       "[1, 2, 4, 7, 5, 3, 6, 8, 9]"
      ]
     },
     "execution_count": 30,
     "metadata": {},
     "output_type": "execute_result"
    }
   ],
   "source": [
    "Solution().findDiagonalOrder([[1,2,3],[4,5,6],[7,8,9]])"
   ]
  },
  {
   "cell_type": "markdown",
   "metadata": {
    "id": "xqMf92NWX1Sq"
   },
   "source": [
    "**直接操作结果列表，索引计算更加简洁，更高效的边界限制逻辑**"
   ]
  },
  {
   "cell_type": "code",
   "execution_count": 31,
   "metadata": {
    "id": "tRbIdO6JX6ba"
   },
   "outputs": [],
   "source": [
    "class Solution:\n",
    "    def findDiagonalOrder(self, mat: List[List[int]]) -> List[int]:\n",
    "        m, n = len(mat), len(mat[0])\n",
    "        result = [mat[0][0]]\n",
    "        for d in range(1, m + n - 1):\n",
    "            if d % 2 == 0:\n",
    "                x = d if d < m else m - 1\n",
    "                y = 0 if d < m else d - m + 1\n",
    "                while x >= 0 and y < n:\n",
    "                    result.append(mat[x][y])\n",
    "                    x -= 1\n",
    "                    y += 1\n",
    "\n",
    "            else:\n",
    "                y = d if d < n else n - 1\n",
    "                x = 0 if d < n else d - n + 1\n",
    "                while x < m and y >= 0:\n",
    "                    result.append(mat[x][y])\n",
    "                    x += 1\n",
    "                    y -= 1\n",
    "        return result"
   ]
  },
  {
   "cell_type": "code",
   "execution_count": 32,
   "metadata": {
    "colab": {
     "base_uri": "https://localhost:8080/"
    },
    "id": "VSMuxVEkYqaa",
    "outputId": "dd235f88-795c-44b7-c262-719d32236c3e"
   },
   "outputs": [
    {
     "data": {
      "text/plain": [
       "[1, 2, 4, 7, 5, 3, 6, 8, 9]"
      ]
     },
     "execution_count": 32,
     "metadata": {},
     "output_type": "execute_result"
    }
   ],
   "source": [
    "Solution().findDiagonalOrder([[1,2,3],[4,5,6],[7,8,9]])"
   ]
  }
 ],
 "metadata": {
  "colab": {
   "authorship_tag": "ABX9TyNvplXpgj3luPLVZrI3Tdz7",
   "include_colab_link": true,
   "provenance": []
  },
  "kernelspec": {
   "display_name": "Python 3",
   "name": "python3"
  },
  "language_info": {
   "name": "python"
  }
 },
 "nbformat": 4,
 "nbformat_minor": 0
}
