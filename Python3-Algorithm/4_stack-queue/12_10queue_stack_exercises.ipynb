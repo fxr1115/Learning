{
  "nbformat": 4,
  "nbformat_minor": 0,
  "metadata": {
    "colab": {
      "provenance": [],
      "authorship_tag": "ABX9TyNoDnu2BkCsuCw74E2KQx1v",
      "include_colab_link": true
    },
    "kernelspec": {
      "name": "python3",
      "display_name": "Python 3"
    },
    "language_info": {
      "name": "python"
    }
  },
  "cells": [
    {
      "cell_type": "markdown",
      "metadata": {
        "id": "view-in-github",
        "colab_type": "text"
      },
      "source": [
        "<a href=\"https://colab.research.google.com/github/fxr1115/Learning/blob/main/Python3-Algorithm/4_stack-queue/12_10queue_stack_exercises.ipynb\" target=\"_parent\"><img src=\"https://colab.research.google.com/assets/colab-badge.svg\" alt=\"Open In Colab\"/></a>"
      ]
    },
    {
      "cell_type": "markdown",
      "source": [
        "## 队列"
      ],
      "metadata": {
        "id": "J6EyfqufPuln"
      }
    },
    {
      "cell_type": "markdown",
      "source": [
        "### 题目1：\n",
        "设计循环队列实现"
      ],
      "metadata": {
        "id": "XnS7Ff3q1kmN"
      }
    },
    {
      "cell_type": "code",
      "execution_count": null,
      "metadata": {
        "id": "5NwStR6pXcqk"
      },
      "outputs": [],
      "source": [
        "class MyCircularQueue:\n",
        "\n",
        "    def __init__(self, k: int):\n",
        "        self.queue = [None] * k\n",
        "        self.front = 0\n",
        "        self.rear = 0\n",
        "        self.k = k\n",
        "\n",
        "    def enQueue(self, value: int) -> bool:\n",
        "        if (self.rear + 1) % self.k == self.front:  # 满了\n",
        "            return False\n",
        "        else:\n",
        "            self.queue[self.rear] = value\n",
        "            self.rear = (self.rear + 1) % self.k\n",
        "            return True\n",
        "\n",
        "    def deQueue(self) -> bool:\n",
        "        if self.front == self.rear:\n",
        "            return False\n",
        "        else:\n",
        "            self.queue[self.front] = None\n",
        "            self.front = (self.front + 1) % self.k\n",
        "            return True\n",
        "\n",
        "    def Front(self) -> int:\n",
        "        if self.rear == self.front:\n",
        "            return -1\n",
        "        else:\n",
        "            return self.queue[self.front]\n",
        "\n",
        "    def Rear(self) -> int:\n",
        "        if self.rear == self.front:\n",
        "            return -1\n",
        "        else:\n",
        "            return self.queue[(self.rear - 1 + self.k) % self.k]  # 避免负数索引\n",
        "\n",
        "    def isEmpty(self) -> bool:\n",
        "        return self.rear == self.front:\n",
        "\n",
        "    def isFull(self) -> bool:\n",
        "        return (self.rear + 1) % self.k == self.front:"
      ]
    },
    {
      "cell_type": "markdown",
      "source": [
        "#### **`collection.deque`：一个双向队列实现**\n",
        "- 提供了高效的从**两端**进行插入和删除操作的功能\n",
        "- 不严格遵守先进先出（FIFO）原则，是**双向**操作\n",
        "- 灵活性：`deque`可以用于实现FIFO，LIFO以及其他队列操作"
      ],
      "metadata": {
        "id": "kUuE92wx43cM"
      }
    },
    {
      "cell_type": "markdown",
      "source": [
        "**补充**\n",
        "- `collections.deque`: 如果需要简单、高性能的队列操作，尤其是在单线程环境中，这是首选。\n",
        "- `queue.Queue`: 如果需要线程安全的队列，选择它。\n",
        "- `multiprocessing.Queue`: 用于多进程间的数据通信。\n",
        "- `asyncio.Queue`: 用于异步编程的队列"
      ],
      "metadata": {
        "id": "5yT86UXI6VUD"
      }
    },
    {
      "cell_type": "markdown",
      "source": [
        "### 题目2 数据流中的移动平均值\n"
      ],
      "metadata": {
        "id": "MAULC4CM6lon"
      }
    },
    {
      "cell_type": "markdown",
      "source": [
        "给定一个整数数据流和一个窗口大小，根据该滑动窗口的大小，计算其所有整数的移动平均值\n",
        "- 实现`MovingAverage`类：\n",
        "    - `MovingAverage(int, size)`用窗口大小`size`初始化对象\n",
        "    - `double next(int val)`计算并返回数据流中最后`size`个值的移动平均值"
      ],
      "metadata": {
        "id": "onM5kMnG6njo"
      }
    },
    {
      "cell_type": "markdown",
      "source": [
        "#### 自己，自行定义"
      ],
      "metadata": {
        "id": "zYA9LN_0El-g"
      }
    },
    {
      "cell_type": "code",
      "source": [
        "class MovingAverage:\n",
        "\n",
        "    def __init__(self, size: int):\n",
        "        self.queue  = [None] * (size + 1)\n",
        "        self.front = 0\n",
        "        self.rear = 0\n",
        "        self.size = size + 1\n",
        "\n",
        "    def next(self, val: int) -> float:\n",
        "        sum = 0\n",
        "        count = 0\n",
        "        if (self.rear + 1) % self.size == self.front:  # 满了\n",
        "            self.queue[self.front] = None\n",
        "            self.queue[self.rear] = val\n",
        "            self.front = (self.front + 1) % self.size\n",
        "            self.rear = (self.rear + 1) % self.size\n",
        "            q = self.front\n",
        "            while q != self.rear:\n",
        "                sum += self.queue[q]\n",
        "                count += 1\n",
        "                q = (q + 1) % self.size\n",
        "            return sum / count\n",
        "        else:\n",
        "            self.queue[self.rear] = val\n",
        "            self.rear = (self.rear + 1) % self.size\n",
        "            q = self.front\n",
        "            while q != self.rear:\n",
        "                sum += self.queue[q]\n",
        "                count += 1\n",
        "                q = (q + 1) % self.size\n",
        "            return sum / count"
      ],
      "metadata": {
        "id": "CUduPtrN5mkT"
      },
      "execution_count": null,
      "outputs": []
    },
    {
      "cell_type": "markdown",
      "source": [
        "#### **使用`collections.deque`**"
      ],
      "metadata": {
        "id": "Qv8ed74mEeC_"
      }
    },
    {
      "cell_type": "markdown",
      "source": [
        "`collections.deque`的常见操作\n",
        "```\n",
        "from collections import deque\n",
        "\n",
        "deque()  # 创建空的或带初始元素的deque\n",
        "\n",
        "append()  # 在队尾添加元素\n",
        "appendleft()  # 在队头添加元素\n",
        "\n",
        "pop()  # 删除队尾元素并返回\n",
        "popleft()  # 删除队头元素并返回\n",
        "\n",
        "deque([], maxlen=)  # maxlen限制队列的最大长度\n",
        "\n",
        "ratate(n)  # 将队列旋转n个位置，正数向右旋转，负数向左旋转\n",
        "\n",
        "extend(iterable)  # 在队尾扩展多个元素\n",
        "extendleft(iterable)\n",
        "\n",
        "clear()  # 移除所有元素\n",
        "\n",
        "len(que)  # 返回队列中元素个数\n",
        "```\n",
        "\n",
        "**使用场景**：\n",
        "- **队列和栈操作**：适用于需要双端插入和删除的场景\n",
        "- **滑动窗口问题**：通过设置`maxlen`实现固定大小的队列，用于窗口统计等问题\n",
        "- **循环数据处理**：支持旋转操作"
      ],
      "metadata": {
        "id": "jp8C-2LSGmf9"
      }
    },
    {
      "cell_type": "code",
      "source": [
        "class MovingAverage:\n",
        "\n",
        "    def __init__(self, size: int):\n",
        "        self.size = size\n",
        "        self.q = deque()\n",
        "        self.sum = 0\n",
        "\n",
        "    def next(self, val: int) -> float:\n",
        "        if len(self.q) == self.size:\n",
        "            self.sum -= self.q.popleft()\n",
        "        self.sum += val\n",
        "        self.q.append(val)\n",
        "        return self.sum / len(self.q)\n",
        ""
      ],
      "metadata": {
        "id": "Fik8fWR-EkQN"
      },
      "execution_count": null,
      "outputs": []
    },
    {
      "cell_type": "markdown",
      "source": [
        "### 题目3 图书整理\n"
      ],
      "metadata": {
        "id": "MFssU0xDbVLU"
      }
    },
    {
      "cell_type": "markdown",
      "source": [
        "为了保持图书的顺序，图书管理员每次取出供读者借阅的书籍是最早归还到图书馆的书籍\n",
        "- 返回每次读者借出书的值"
      ],
      "metadata": {
        "id": "eF0v3j4tbVgw"
      }
    },
    {
      "cell_type": "markdown",
      "source": [
        "**没有**使用自定义，循环队列，是用`collections.deque`\n",
        "- 需要有`front`和`rear`\n",
        "- 还有就是判断是否为空要有特定的公式"
      ],
      "metadata": {
        "id": "1poaFafmbkKH"
      }
    },
    {
      "cell_type": "code",
      "source": [
        "class CQueue:\n",
        "\n",
        "    def __init__(self):\n",
        "        self.st = deque()\n",
        "\n",
        "    def appendTail(self, value: int) -> None:\n",
        "        self.st.append(value)\n",
        "\n",
        "    def deleteHead(self) -> int:\n",
        "        if len(self.st) != 0:\n",
        "            return self.st.popleft()\n",
        "        else:\n",
        "            return -1"
      ],
      "metadata": {
        "id": "ISibo-DBbV1i"
      },
      "execution_count": null,
      "outputs": []
    },
    {
      "cell_type": "markdown",
      "source": [
        "#### 来个没有必要的：用**两个栈实现一个队列**\n",
        "- 列表倒序操作可**使用双栈**实现\n",
        "    - A出栈并添加入栈B，直到A为空——B执行出栈相当于删除A的栈底元素，即对应队首元素"
      ],
      "metadata": {
        "id": "CVIVkJhqebRx"
      }
    },
    {
      "cell_type": "code",
      "source": [
        "class CQueue:\n",
        "\n",
        "    def __init__(self):\n",
        "        self.A = []\n",
        "        self.B = []\n",
        "\n",
        "    def appendTail(self, value: int) -> None:\n",
        "        self.A.append(value)\n",
        "\n",
        "    def deleteHead(self) -> int:\n",
        "        if self.B:  # B不为空，仍有已完成倒序的元素\n",
        "            return self.B.pop()\n",
        "        if not self.A:  # 都为空\n",
        "            return -1\n",
        "        while self.A:\n",
        "            self.B.append(self.A.pop())\n",
        "        return self.B.pop()"
      ],
      "metadata": {
        "id": "CngtLqNBet9O"
      },
      "execution_count": null,
      "outputs": []
    },
    {
      "cell_type": "markdown",
      "source": [
        "### 题目4 望远镜中最高的海拔"
      ],
      "metadata": {
        "id": "7bsLqmY0EN0Q"
      }
    },
    {
      "cell_type": "markdown",
      "source": [
        "固定视野：`heights`记录每个位置对应的海拔高度\n",
        "- 找出并返回望远镜视野范围`limit`内，可以观测到的最高海拔值"
      ],
      "metadata": {
        "id": "affDqXDHETo8"
      }
    },
    {
      "cell_type": "markdown",
      "source": [
        "#### **自己**：最笨的办法"
      ],
      "metadata": {
        "id": "TwrDmpciclNV"
      }
    },
    {
      "cell_type": "code",
      "source": [
        "class Solution:\n",
        "    def maxAltitude(self, heights: List[int], limit: int) -> List[int]:\n",
        "        if not heights:\n",
        "            return []\n",
        "        max_result = []\n",
        "        que = deque(heights[:limit])\n",
        "        max_ = -float('inf')\n",
        "        for i in range(limit):\n",
        "            if que[i] > max_:\n",
        "                max_ = que[i]\n",
        "        max_result.append(max_)\n",
        "        for i in range(limit, len(heights)):\n",
        "            que.append(heights[i])\n",
        "            que.popleft()\n",
        "            max_ = -float('inf')\n",
        "            for i in range(limit):\n",
        "                if que[i] > max_:\n",
        "                    max_ = que[i]\n",
        "            max_result.append(max_)\n",
        "        return max_result"
      ],
      "metadata": {
        "id": "04EQbbZxhQlu"
      },
      "execution_count": null,
      "outputs": []
    },
    {
      "cell_type": "markdown",
      "source": [
        "#### 使用单调队列（monotonic deque）"
      ],
      "metadata": {
        "id": "iFNSU7Wjf-Dq"
      }
    },
    {
      "cell_type": "markdown",
      "source": [
        "- `deque`内**仅包含窗口内的元素**\n",
        "- `deque`内的元素**非严格递减**"
      ],
      "metadata": {
        "id": "0QksskJTgG63"
      }
    },
    {
      "cell_type": "code",
      "source": [
        "class Solution:\n",
        "    def maxAltitude(self, heights: List[int], limit: int) -> List[int]:\n",
        "        que = collections.deque()\n",
        "        res = []\n",
        "        n = len(heights)\n",
        "        for i, j in zip(range(1 - limit, n + 1 - limit), range(n)):\n",
        "            # 删除 deque 中对应的 heights[i-1]\n",
        "            if i > 0 and que[0] == heights[i - 1]:\n",
        "                que.popleft()\n",
        "            # 保持 deque 递减\n",
        "            while que and que[-1] < heights[j]:\n",
        "                que.pop()\n",
        "            que.append(heights[j])\n",
        "            # 记录窗口最大值\n",
        "            if i >= 0:\n",
        "                res.append(que[0])\n",
        "        return res"
      ],
      "metadata": {
        "id": "SuLoHUzIgF4i"
      },
      "execution_count": null,
      "outputs": []
    },
    {
      "cell_type": "markdown",
      "source": [
        "将未形成窗口和行程窗口**分开**讨论"
      ],
      "metadata": {
        "id": "84KsAVlfmptk"
      }
    },
    {
      "cell_type": "code",
      "source": [
        "class Solution:\n",
        "    def maxAltitude(self, heights: List[int], limit: int) -> List[int]:\n",
        "        if not heights or limit == 0:\n",
        "            return []\n",
        "        deque = collections.deque()\n",
        "        # 没有形成窗口\n",
        "        for i in range(limit):\n",
        "            while deque and deque[-1] < heights[i]:\n",
        "                deque.pop()\n",
        "            deque.append(heights[i])\n",
        "        res = [deque[0]]\n",
        "        # 形成窗口后\n",
        "        for i in range(limit, len(heights)):\n",
        "            if deque[0] == heights[i - limit]:\n",
        "                deque.popleft()\n",
        "            while deque and deque[-1] < heights[i]:\n",
        "                deque.pop()\n",
        "            deque.append(heights[i])\n",
        "            res.append(deque[0])\n",
        "        return res"
      ],
      "metadata": {
        "id": "qf_Lp8J2kgy8"
      },
      "execution_count": null,
      "outputs": []
    },
    {
      "cell_type": "markdown",
      "source": [
        "### 题目5 设计自助结算系统"
      ],
      "metadata": {
        "id": "efx4lfBnnH0f"
      }
    },
    {
      "cell_type": "markdown",
      "source": [
        "系统需要通过一个队列来模拟顾客通过购物车的结算过程，需要实现的功能有：\n",
        "- `get_max()`：获取结算商品中的最高价格，如果队列为空，则返回`-1`\n",
        "- `add(value)`：将价格为`value`的商品加入待结算商品队列的尾部\n",
        "- `remove()`：移除第一个待结算的商品价格，如果队列为空，则返回`-1`\n",
        "\n",
        "注意，为保证该系统运转高效性，以上函数的均摊时间复杂度均为$O(1)$\n"
      ],
      "metadata": {
        "id": "K6SbBOKUncC7"
      }
    },
    {
      "cell_type": "markdown",
      "source": [
        "#### 自己：对了，但是没有想明白\n",
        "- 没有问题——就是构建了一个递减的队列"
      ],
      "metadata": {
        "id": "X7E4KUIfrfL6"
      }
    },
    {
      "cell_type": "code",
      "source": [
        "class Checkout:\n",
        "\n",
        "    def __init__(self):\n",
        "        self.que = collections.deque()\n",
        "        self.st = []\n",
        "\n",
        "    def get_max(self) -> int:\n",
        "        if self.que:\n",
        "            return self.st[0]\n",
        "        else:\n",
        "            return -1\n",
        "\n",
        "    def add(self, value: int) -> None:\n",
        "        self.que.append(value)\n",
        "        while self.st and self.st[-1] < value:\n",
        "            self.st.pop()\n",
        "        self.st.append(value)\n",
        "\n",
        "    def remove(self) -> int:\n",
        "        if not self.que:\n",
        "            return -1\n",
        "        value = self.que.popleft()\n",
        "        if value == self.st[0]:\n",
        "            self.st.pop(0)\n",
        "        return value"
      ],
      "metadata": {
        "id": "u1AGb8v-nz_h"
      },
      "execution_count": null,
      "outputs": []
    },
    {
      "cell_type": "markdown",
      "source": [
        "#### 构建一个递减列表来保存队列中**所有递减的元素**"
      ],
      "metadata": {
        "id": "gz22hvcQtQo8"
      }
    },
    {
      "cell_type": "markdown",
      "source": [
        "**`import queue`**用于线程安全的队列，通常用于多线程编程中\n",
        "- `queue.Queue`\n",
        "    - `put(itme)`；将元素添加到队列的末尾\n",
        "    - `get()`：移除并返回队列的第一个元素\n",
        "    - 遵循先进先出(FIFO)原则\n",
        "- `queue.LifoQueue`\n",
        "    - `put(itme)`；将元素添加到队列的末尾\n",
        "    - `get()`：移除并返回队列的最后一个元素\n",
        "    - 遵循后进先出(LIFO)原则"
      ],
      "metadata": {
        "id": "zLVDotd-9lwq"
      }
    },
    {
      "cell_type": "code",
      "source": [
        "import queue\n",
        "\n",
        "class Checkout:\n",
        "    def __init__(self):\n",
        "        self.queue = queue.Queue()\n",
        "        self.deque = collections.deque()\n",
        "\n",
        "    def get_max(self):\n",
        "        return self.deque[0] if self.deque else -1\n",
        "\n",
        "\n",
        "    def add(self, vlaue):\n",
        "        self.queue.put(value)\n",
        "        while self.queue and self.deque[-1] < value:\n",
        "            self.deque.pop()\n",
        "        self.deque.append(value)\n",
        "\n",
        "    def remove(self):\n",
        "        if self.queue.empty():\n",
        "            return -1\n",
        "        val = self.queue.get()\n",
        "        if val == self.deque[0]:\n",
        "            self.deque.popleft()\n",
        "        return val"
      ],
      "metadata": {
        "id": "JS3Z3BmO9TwZ"
      },
      "execution_count": null,
      "outputs": []
    },
    {
      "cell_type": "markdown",
      "source": [
        "## 栈"
      ],
      "metadata": {
        "id": "qqVzrzRIQTcI"
      }
    },
    {
      "cell_type": "markdown",
      "source": [
        "### 题目1 最小栈"
      ],
      "metadata": {
        "id": "GgrVuarkQV4i"
      }
    },
    {
      "cell_type": "markdown",
      "source": [
        "设计一个支持`push`，`pop`，`top`操作，并且能在常数时间内检索到最小元素的栈"
      ],
      "metadata": {
        "id": "wupghAcxQZwY"
      }
    },
    {
      "cell_type": "markdown",
      "source": [
        "其实就是Python中的列表`list`"
      ],
      "metadata": {
        "id": "tmgzUzJ4RWGF"
      }
    },
    {
      "cell_type": "code",
      "source": [
        "class MinStack:\n",
        "\n",
        "    def __init__(self):\n",
        "        self.s = []\n",
        "\n",
        "    def push(self, val: int) -> None:\n",
        "        self.s.append(val)\n",
        "\n",
        "    def pop(self) -> None:\n",
        "        self.s.pop()\n",
        "\n",
        "    def top(self) -> int:\n",
        "        return self.s[-1]\n",
        "\n",
        "    def getMin(self) -> int:\n",
        "        return min(self.s)"
      ],
      "metadata": {
        "id": "6mq3wdAcQUvp"
      },
      "execution_count": null,
      "outputs": []
    },
    {
      "cell_type": "markdown",
      "source": [
        "#### **常数时间内检索到最小元素的栈**"
      ],
      "metadata": {
        "id": "btSKcNIqnD7g"
      }
    },
    {
      "cell_type": "markdown",
      "source": [
        "##### 自己：只会$O(n)$复杂度的（使用的是链表）"
      ],
      "metadata": {
        "id": "OUZ4NtZlnWfx"
      }
    },
    {
      "cell_type": "code",
      "source": [
        "class Node:\n",
        "    def __init__(self, data):\n",
        "        self.val = data\n",
        "        self.next = None\n",
        "\n",
        "class MinStack:\n",
        "    # 使用链表\n",
        "    def __init__(self):\n",
        "        \"\"\"\n",
        "        initialize your data structure here.\n",
        "        \"\"\"\n",
        "        self._top = None\n",
        "\n",
        "    def push(self, x: int) -> None:\n",
        "        node = Node(x)\n",
        "        if not self._top:\n",
        "            self._top = node\n",
        "        else:\n",
        "            node.next = self._top\n",
        "            self._top = node\n",
        "\n",
        "    def pop(self) -> None:\n",
        "        if self._top:\n",
        "            self._top = self._top.next\n",
        "        else:\n",
        "            return False\n",
        "\n",
        "    def top(self) -> int:\n",
        "        if self._top:\n",
        "            return self._top.val\n",
        "        else:\n",
        "            return None\n",
        "\n",
        "    def getMin(self) -> int:\n",
        "        if not self._top:\n",
        "            return None\n",
        "        min_val = float('inf')\n",
        "        p = self._top\n",
        "        while p is not None:\n",
        "            if p.val < min_val:\n",
        "                min_val = p.val\n",
        "            p = p.next\n",
        "        return min_val"
      ],
      "metadata": {
        "id": "JSGFwTZqnUJX"
      },
      "execution_count": null,
      "outputs": []
    },
    {
      "cell_type": "markdown",
      "source": [
        "##### 方法一：在**每个节点存储当前的最小值**"
      ],
      "metadata": {
        "id": "0IjX0jlmq_Up"
      }
    },
    {
      "cell_type": "code",
      "source": [
        "class Node:\n",
        "    def __init__(self, data):\n",
        "        self.val = data\n",
        "        self.next = None\n",
        "        self.min_val = None  # 存储当前的最小值\n",
        "\n",
        "class MinStack:\n",
        "    def __init__(self):\n",
        "        self._top = None\n",
        "\n",
        "    def push(self, x):\n",
        "        node = Node(x)\n",
        "        if not self._top:  # 栈为空\n",
        "            node.min_val = x\n",
        "        else:\n",
        "            node.min_val = min(x, self._top.min_val)\n",
        "            node.next = self._top\n",
        "        self._top = node\n",
        "\n",
        "    def pop(self):\n",
        "        if self._top:\n",
        "            self._top = self._top.next\n",
        "            # 根据栈的特性，每个节点记录了从栈底到当前节点的最小值\n",
        "            # if self._top: 完全没有必要\n",
        "            #     self._top.min_val = min(self._top.val, self._top.next.min_val) if self._top.next else self._top.val\n",
        "        else:\n",
        "            return False\n",
        "\n",
        "    def top(self):\n",
        "        if self._top:\n",
        "            return self._top.val\n",
        "        else:\n",
        "            return None\n",
        "\n",
        "    def getMin(self):\n",
        "        if self._top:\n",
        "            return self._top.min_val\n",
        "        else:\n",
        "            return None"
      ],
      "metadata": {
        "id": "KbYKnqDNrLq0"
      },
      "execution_count": null,
      "outputs": []
    },
    {
      "cell_type": "markdown",
      "source": [
        "##### 方法二：使用**辅助链表**\n",
        "- 使用辅助链表来跟踪最小值\n",
        "    - 每次`push`时，如果新值小于或等于当前最小值，则将**新值添加**到辅助链表中\n",
        "    - 每次`pop`时，如果弹出的值等于当前最小值，则从辅助链表中**移除该值**"
      ],
      "metadata": {
        "id": "kq3kQG9JnTER"
      }
    },
    {
      "cell_type": "code",
      "source": [
        "class Node:\n",
        "    def __init__(self, data):\n",
        "        self.val = data\n",
        "        self.next = None\n",
        "\n",
        "class MinStack:\n",
        "    def __init__(self):\n",
        "        self._top = None\n",
        "        self._min_stack = []  # 辅助链表\n",
        "\n",
        "    def push(self, data):\n",
        "        node = Node(data)\n",
        "        if not self._top:\n",
        "            self._top = node\n",
        "        else:\n",
        "            node.next = self._top\n",
        "            self._top = node\n",
        "        # 更新最小值链表\n",
        "        if not self._min_stack or data <= self._min_stack[-1]:\n",
        "            self._min_stack.append(data)\n",
        "\n",
        "    def pop(self):\n",
        "        if not self._top:\n",
        "            return False\n",
        "        else:\n",
        "            if self._top.val == self._min_stack[-1]:\n",
        "                self._min_stack.pop()\n",
        "            self._top = self._top.next\n",
        "\n",
        "    def top(self) -> int:\n",
        "        if self._top:\n",
        "            return self._top.val\n",
        "        else:\n",
        "            return None\n",
        "\n",
        "    def getMin(self) -> int:\n",
        "        if self._min_stack:\n",
        "            return self._min_stack[-1]\n",
        "        else:\n",
        "            return None"
      ],
      "metadata": {
        "id": "XIWKvJwvx2IU"
      },
      "execution_count": null,
      "outputs": []
    },
    {
      "cell_type": "markdown",
      "source": [
        "使用**顺序表**来进行相同的操作也可以"
      ],
      "metadata": {
        "id": "I0kOk892nTca"
      }
    },
    {
      "cell_type": "code",
      "source": [
        "class MinStack:\n",
        "    def __init__(self):\n",
        "        self.A, self.B = [], []\n",
        "\n",
        "    def push(self, x):\n",
        "        self.A.append(x)\n",
        "        if not self.B or x <= self.B[-1]:\n",
        "            self.B.append(x)\n",
        "\n",
        "    def pop(self):\n",
        "        if self.A.pop() == self.B[-1]:\n",
        "            self.B.pop()\n",
        "\n",
        "    def top(self):\n",
        "        return self.A[-1]\n",
        "\n",
        "    def getMin(self):\n",
        "        return self.B[-1]"
      ],
      "metadata": {
        "id": "f9fLiQ7E5c7p"
      },
      "execution_count": null,
      "outputs": []
    },
    {
      "cell_type": "markdown",
      "source": [
        "### 题目2 有效的括号"
      ],
      "metadata": {
        "id": "RSnS3Z1XRZSz"
      }
    },
    {
      "cell_type": "markdown",
      "source": [
        "给定一个只包含`(`,`)`,`{`,`}`,`[`,`]`的字符串`s`，判断字符串是否有效"
      ],
      "metadata": {
        "id": "_uQV6_tGRdmv"
      }
    },
    {
      "cell_type": "markdown",
      "source": [
        "#### 自己没有想出**思路**，**问**过deepseek了\n",
        "- 遇到左括号，就**压入栈**\n",
        "- 遇到有括号，**检查栈顶元素**\n",
        "- 最后栈**是否为空**"
      ],
      "metadata": {
        "id": "BLN8lnPeSmbp"
      }
    },
    {
      "cell_type": "code",
      "source": [
        "class Solution:\n",
        "    def isValid(self, s: str) -> bool:\n",
        "        stack = []\n",
        "        for char in s:\n",
        "            if char in ['(', '[', '{']:\n",
        "                stack.append(char)\n",
        "            else:\n",
        "                if stack == []:\n",
        "                    return False\n",
        "                else:\n",
        "                    val = stack.pop()\n",
        "                    if val == '(':\n",
        "                        if char != ')':\n",
        "                            return False\n",
        "                    if val == '[':\n",
        "                        if char != ']':\n",
        "                            return False\n",
        "                    if val =='{':\n",
        "                        if char != '}':\n",
        "                            return False\n",
        "        if stack == []:\n",
        "            return True\n",
        "        else:\n",
        "            return False"
      ],
      "metadata": {
        "id": "ZdPLWahxRdQ_"
      },
      "execution_count": null,
      "outputs": []
    },
    {
      "cell_type": "markdown",
      "source": [
        "#### 栈+**哈希表**\n",
        "建立**哈希表**`dic`，构建左右括号对应关系：\n",
        "- `key`左括号，`value`右括号\n",
        "\n",
        "**解决边界问题**：\n",
        "- 当栈为**空**，则`stack.pop()`操作会**报错**\n",
        "    - 给`stack`赋初值`?`\n",
        "    - 在哈希表`dic`中建立`'?': '?'`"
      ],
      "metadata": {
        "id": "Gn3xlINZVvfw"
      }
    },
    {
      "cell_type": "code",
      "source": [
        "class Solution:\n",
        "    def isValid(self, s: str) -> bool:\n",
        "        dic = {'{': '}', '[': ']', '(': ')', '?': '?'}\n",
        "        stack = ['?']\n",
        "        for c in s:\n",
        "            if c in dic:\n",
        "                stack.append(c)\n",
        "            elif dic[stack.pop()] != c:\n",
        "                return False\n",
        "        return len(stack) == 1"
      ],
      "metadata": {
        "id": "jgUAB1WnWUkO"
      },
      "execution_count": null,
      "outputs": []
    },
    {
      "cell_type": "markdown",
      "source": [
        "### 题目2 每日温度"
      ],
      "metadata": {
        "id": "ksusocYbYnBr"
      }
    },
    {
      "cell_type": "markdown",
      "source": [
        "给定一个整数数组`temperatures`，表示每天的温度，返回一个数组`answer`\n",
        "- 其中`answer[i]`是指对第`i`天，下一个更高温度出现在几天后\n",
        "- 如果气温在这之后都不会升高，则用`0`代替"
      ],
      "metadata": {
        "id": "s7xH5of1ab_q"
      }
    },
    {
      "cell_type": "markdown",
      "source": [
        "#### 自己：解决不了如何正确添加`0`+双循环直接超出限时"
      ],
      "metadata": {
        "id": "TUw9yG1GgpFw"
      }
    },
    {
      "cell_type": "code",
      "source": [
        "class Solution:\n",
        "    def dailyTemperatures(self, temperatures: List[int]) -> List[int]:\n",
        "        answer = []\n",
        "        n = len(temperatures)\n",
        "        for i in range(n):\n",
        "            for j in range(i + 1, n):\n",
        "                if temperatures[j] > temperatures[i]:\n",
        "                    answer.append(j - i)\n",
        "                    break\n",
        "            answer.append(0)\n",
        "        return answer"
      ],
      "metadata": {
        "id": "gwpMFcBLYSdd"
      },
      "execution_count": null,
      "outputs": []
    },
    {
      "cell_type": "markdown",
      "source": [
        "使用一个`found`**变量来标记**是否找到了更高温度"
      ],
      "metadata": {
        "id": "AgORgIzFg0Tg"
      }
    },
    {
      "cell_type": "code",
      "source": [
        "class Solution:\n",
        "    def dailyTemperatures(self, temperatures: List[int]) -> List[int]:\n",
        "        answer = []\n",
        "        n = len(temperatures)\n",
        "        for i in range(n):\n",
        "            found = False\n",
        "            for j in range(i + 1, n):\n",
        "                if temperatures[j] > temperatures[i]:\n",
        "                    answer.append(j - i)\n",
        "                    found = True\n",
        "                    break\n",
        "            if not found:\n",
        "                answer.append(0)\n",
        "        return answer"
      ],
      "metadata": {
        "id": "0QRMjkI2gy8D"
      },
      "execution_count": null,
      "outputs": []
    },
    {
      "cell_type": "markdown",
      "source": [
        "#### **单调栈**——解决类似于‘下一个更大元素’的问题（**看！**）\n",
        "- 通过维护一个栈，来记录数组中每个元素的下一个更大元素的索引\n",
        "- 是在$O(n)$的时间复杂度内找到**每个元素的下一个更大元素**"
      ],
      "metadata": {
        "id": "ljEydTr8hsJE"
      }
    },
    {
      "cell_type": "code",
      "source": [
        "class Solution:\n",
        "    def monotonicStack(self, nums: List[int]) -> List[int]:\n",
        "        n = len(nums)\n",
        "        ans = [0] * n  # 初始化结果数组，默认值为0\n",
        "        st = []  # 单调栈\n",
        "        for i, v in enumerate(nums):\n",
        "            # 当栈不是空，并且当前元素v大于栈顶索引对应的元素\n",
        "            # 是一个循环过程，只要比pop后得到的新栈顶缩影对应的元素小，就继续pop\n",
        "            while st and v > nums[st[-1]]:\n",
        "                prev = st.pop()  # 弹出栈顶索引\n",
        "                ans[prev] = i  # 更新结果数组，记录下一个更大元素的索引\n",
        "            st.append(i)\n",
        "        return ans"
      ],
      "metadata": {
        "id": "Flb-sKNXjnKT"
      },
      "execution_count": null,
      "outputs": []
    },
    {
      "cell_type": "markdown",
      "source": [
        "此题需要的是**天数差**"
      ],
      "metadata": {
        "id": "igdJexndrHWy"
      }
    },
    {
      "cell_type": "code",
      "source": [
        "class Solution:\n",
        "    def dailyTemperatures(self, temperatures: List[int]) -> List[int]:\n",
        "        n = len(temperatures)\n",
        "        ans = [0] * n\n",
        "        st = []\n",
        "        for i, data in enumerate(temperatures):\n",
        "            while st and data > temperatures[st[-1]]:\n",
        "                prev_index = st.pop()\n",
        "                ans[prev_index] = i - prev_index  # 计算天数差并更新结果\n",
        "            st.append(i)\n",
        "        return ans"
      ],
      "metadata": {
        "id": "YB6RidlUrEuZ"
      },
      "execution_count": null,
      "outputs": []
    },
    {
      "cell_type": "markdown",
      "source": [
        "### 题目3 逆波兰表达式求值"
      ],
      "metadata": {
        "id": "KLgiKAsirDwb"
      }
    },
    {
      "cell_type": "markdown",
      "source": [
        "**原理**：\n",
        "- **数字入栈**\n",
        "- **算符**操作：遇到算符时，从栈中取出栈顶两个数字计算，结果重新压入栈中\n",
        "- 继续操作，直到表达式处理完\n",
        "- 最终结果，就是**栈中最后剩的一个元素**、\n",
        "\n",
        "**注意**：\n",
        "- 运算顺序：是`num2`**先于**`num1`"
      ],
      "metadata": {
        "id": "-ndOyVrOODtm"
      }
    },
    {
      "cell_type": "code",
      "source": [
        "class Solution:\n",
        "    def evalRPN(self, tokens: List[str]) -> int:\n",
        "        st = []\n",
        "        # dic = {'+': }\n",
        "        for token in tokens:\n",
        "            if token not in ('+', '-', '*', '/'):\n",
        "                st.append(int(token))\n",
        "            else:\n",
        "                num1 = st.pop()\n",
        "                num2 = st.pop()\n",
        "                if token == '+':\n",
        "                    st.append(num1 + num2)\n",
        "                elif token == '-':\n",
        "                    st.append(num2 - num1)\n",
        "                elif token == '*':\n",
        "                    st.append(num1 * num2)\n",
        "                elif token == '/':\n",
        "                    st.append(int(num2 / num1))\n",
        "        return st[-1]"
      ],
      "metadata": {
        "id": "JcAWX2b0rfr_"
      },
      "execution_count": null,
      "outputs": []
    },
    {
      "cell_type": "markdown",
      "source": [
        "#### 使用**哈希表**\n",
        "- `value`是**函数**"
      ],
      "metadata": {
        "id": "6fKA8GLlRvgY"
      }
    },
    {
      "cell_type": "code",
      "source": [
        "class Solution:\n",
        "    def evalRPN(self, tokens: List[str]) -> int:\n",
        "        st = []\n",
        "        operators = {\n",
        "            '+': lambda x, y: x + y,\n",
        "            '-': lambda x, y: x - y,\n",
        "            '*': lambda x, y: x * y,\n",
        "            '/': lambda x, y: int(x / y)  # 向0截断\n",
        "        }\n",
        "        for token in tokens:\n",
        "            if token in operators:\n",
        "                num1 = st.pop()\n",
        "                num2 = st.pop()\n",
        "                result = operators[token](num2, num1)  # 注意顺序\n",
        "                st.append(result)\n",
        "            else:\n",
        "                st.append(int(token))\n",
        "        return st[-1]"
      ],
      "metadata": {
        "id": "ms3InsafRx6Y"
      },
      "execution_count": null,
      "outputs": []
    },
    {
      "cell_type": "markdown",
      "source": [
        "### 题目4 验证图书取出顺序（栈模拟问题）\n"
      ],
      "metadata": {
        "id": "cAfRNFEUbCv1"
      }
    },
    {
      "cell_type": "markdown",
      "source": [
        "其实就是：对于栈，有一个`putIn`的放入顺序\n",
        "- 判断序列`takeOut`是否有可能是一个拿取书籍的操作序列"
      ],
      "metadata": {
        "id": "16DXdRTG7DEa"
      }
    },
    {
      "cell_type": "markdown",
      "source": [
        "**思路**：（自己就是没有思路）\n",
        "- 动态模拟(使用**双指针**)\n",
        "    - 模拟书架操作，遍历`putIn`，入栈，按照压栈序列的顺序执行\n",
        "    - 模拟拿取操作，遍历`takeOut`，出栈，循环判断`栈顶元素==拿取序列的当前元素`是否成立\n",
        "- 合法性判断"
      ],
      "metadata": {
        "id": "cd5Ri77z9Nff"
      }
    },
    {
      "cell_type": "code",
      "source": [
        "class Solution:\n",
        "    def validateBookSequences(self, putIn: List[int], takeOut: List[int]) -> bool:\n",
        "        st = []\n",
        "        j = 0\n",
        "        for book in putIn:\n",
        "            st.append(book)\n",
        "            # 检查栈顶元素是否和takeOut序列中的当前元素匹配\n",
        "            while st and st[-1] == takeOut[j]:\n",
        "                st.pop()\n",
        "                j += 1\n",
        "        return j == len(takeOut)"
      ],
      "metadata": {
        "id": "-BmOTl93DbKO"
      },
      "execution_count": null,
      "outputs": []
    },
    {
      "cell_type": "code",
      "source": [
        "class Solution:\n",
        "    def validateBookSequences(self, putIn: List[int], takeOut: List[int]) -> bool:\n",
        "        stack = []\n",
        "        i = 0\n",
        "        for num in putIn:\n",
        "            stack.append(num)\n",
        "            while stack and stack[-1] == takeOut[i]:\n",
        "                stack.pop()\n",
        "                i += 1\n",
        "        return not stack\n"
      ],
      "metadata": {
        "id": "K7Mq58AN7Cd3"
      },
      "execution_count": null,
      "outputs": []
    },
    {
      "cell_type": "markdown",
      "source": [
        "### 题目5 数据流中的中位数"
      ],
      "metadata": {
        "id": "eEhchCveKLzk"
      }
    },
    {
      "cell_type": "markdown",
      "source": [
        "设计一个数据结构，支持\n",
        "- `void addNum(int num)`，从数据流中添加一个整数到数据结构中。\n",
        "- `double findMedian()`，返回目前所有元素的中位数。"
      ],
      "metadata": {
        "id": "uiMrQWGGKU2b"
      }
    },
    {
      "cell_type": "markdown",
      "source": [
        "#### 自己：能跑，但是速度很慢$O(n)$"
      ],
      "metadata": {
        "id": "eAfONRP6MfAR"
      }
    },
    {
      "cell_type": "markdown",
      "source": [
        "**注**：\n",
        "- `queue.LifoQueue()`和`queue.Queue()`都是不**可下标访问**"
      ],
      "metadata": {
        "id": "46siT14HKhwt"
      }
    },
    {
      "cell_type": "code",
      "source": [
        "class MedianFinder:\n",
        "\n",
        "    def __init__(self):\n",
        "        \"\"\"\n",
        "        initialize your data structure here.\n",
        "        \"\"\"\n",
        "        self.st1 = []   # 栈\n",
        "        self.st2 = []\n",
        "\n",
        "    def addNum(self, num: int) -> None:\n",
        "        while self.st1 and self.st1[-1] < num:\n",
        "            val = self.st1.pop()\n",
        "            self.st2.append(val)\n",
        "        self.st1.append(num)\n",
        "        while self.st2:\n",
        "            val = self.st2.pop()\n",
        "            self.st1.append(val)\n",
        "\n",
        "    def findMedian(self) -> float:\n",
        "        n = len(self.st1)\n",
        "        if n % 2 == 0:\n",
        "            return (self.st1[n // 2 - 1] + self.st1[n // 2]) / 2\n",
        "        else:\n",
        "            return self.st1[n // 2]"
      ],
      "metadata": {
        "id": "Q3tRMAWtDTBp"
      },
      "execution_count": null,
      "outputs": []
    },
    {
      "cell_type": "markdown",
      "source": [
        "#### 使用**堆**，还没学，**之后再看**"
      ],
      "metadata": {
        "id": "eNwJxpixMull"
      }
    }
  ]
}