{
  "nbformat": 4,
  "nbformat_minor": 0,
  "metadata": {
    "colab": {
      "provenance": [],
      "authorship_tag": "ABX9TyM29KndZU9WNeyW0o+0tmH6",
      "include_colab_link": true
    },
    "kernelspec": {
      "name": "python3",
      "display_name": "Python 3"
    },
    "language_info": {
      "name": "python"
    }
  },
  "cells": [
    {
      "cell_type": "markdown",
      "metadata": {
        "id": "view-in-github",
        "colab_type": "text"
      },
      "source": [
        "<a href=\"https://colab.research.google.com/github/fxr1115/Learning/blob/main/Python3-Algorithm/3_linked-list/12_7_linked_list.ipynb\" target=\"_parent\"><img src=\"https://colab.research.google.com/assets/colab-badge.svg\" alt=\"Open In Colab\"/></a>"
      ]
    },
    {
      "cell_type": "markdown",
      "source": [
        "**程序**=数据结构（数学模型）+算法（处理问题的策略）"
      ],
      "metadata": {
        "id": "7xjeoZ47bV_W"
      }
    },
    {
      "cell_type": "markdown",
      "source": [
        "## 存储、逻辑结构"
      ],
      "metadata": {
        "id": "Yusi2pe1cpN_"
      }
    },
    {
      "cell_type": "markdown",
      "source": [
        "数据的**逻辑结构**：\n",
        "- **线性**结构——一个对一个\n",
        "    - 对线性表的主要操作：查找、修改、插入和删除等\n",
        "- **树形**结构——一个对多个\n",
        "    - 对树型结构的主要操作：查找、修改、插入和删除等\n",
        "- **图状**结果——多个对多个\n",
        "    - 网状结果（图型结构）的操作：求一个顶点到另一个顶点的最短路径\n",
        "- 集合关系（没有关系的数据放在一起，不讨论）\n",
        "\n",
        "数据的**物理结构**：\n",
        "- 是数据逻辑结构*在计算机中*的表示和实现\n",
        "- 不仅要*存储数据本身*，还要存放*数据和数据之间的关系*\n",
        "    - 存进去之后才能对数据进行相应的操作\n",
        "    - **顺序存储**：借助元素在存储器中的**相对位置**表示数据元素之间的逻辑关系\n",
        "    - **链式存储**：借助指针元素存储地址的**指针**表示数据元素之间的逻辑关系\n",
        "\n"
      ],
      "metadata": {
        "id": "OVt4MXxcJzfS"
      }
    },
    {
      "cell_type": "markdown",
      "source": [
        "**顺序存储**：\n",
        "- 存储单元地址连续，以‘**物理位置相邻**’来表示线性表中数据元素间的逻辑关系，可随机存取表中任一元素\n",
        "- 特点：\n",
        "    - 可实现对结点的随机存取，即每个结点对应一个序号，*由该序号可以直接计算出结点的存储地址*\n",
        "    - 对结点的插入、删除运算时，要移动一系列的结点\n",
        "\n",
        "**链式存储**：\n",
        "- 逻辑关系通过指针的链接来表示\n",
        "- 在表示数据元素之间的逻辑关系时，这两部分组成数据元素的存储映像，称为**结点**\n",
        "    - 除了存储器*本身的信息*\n",
        "    - 还要存储一个指示其直接后继的信息（即**直接后继的存储位置**）  \n",
        "- 特点：\n",
        "    - 结点除自身的信息域外，还有表示关联信息的指针域\n",
        "        - 故链式存储结构的存储密度小，存储空间利用率低\n",
        "    - 在逻辑上相邻的结点在物理上不必相邻\n",
        "        - 故不可以随机存储，只能**顺序**存储\n",
        "    - 插入和删除操作方便灵活，不必移动结点，只需*移动结点中的指针域*即可\n"
      ],
      "metadata": {
        "id": "BFWqM5hzUpm2"
      }
    },
    {
      "cell_type": "markdown",
      "source": [
        "**逻辑结构和存储结构之间的关系**\n",
        "- 面对一个问题\n",
        "    - 步骤1：选择某个数据结构——**面向问题**\n",
        "    - 步骤2：选择某个数据结构的表示——**面向机器**\n",
        "- 数据结构要研究的内容\n",
        "    - *面向问题的数据的逻辑结构* 向 *面向机器的数据 的存储结构* **转换的问题**"
      ],
      "metadata": {
        "id": "1a2chN1OZx3g"
      }
    },
    {
      "cell_type": "markdown",
      "source": [
        "## 算法和算法分析"
      ],
      "metadata": {
        "id": "ALGFPEGmvTpC"
      }
    },
    {
      "cell_type": "markdown",
      "source": [
        "**算法**\n",
        "- 解决某一特定问题的**具体步骤的描述**\n",
        "- 是指令的有限序列，每一个指令表示一个或多个操作\n",
        "\n",
        "**特性**：\n",
        "- 有穷性\n",
        "- 确定性\n",
        "- 可行性\n",
        "- 没有或有若干输入\n",
        "- 有若干个输出：没有输出的算法是没有意义的\n",
        "\n",
        "**衡量标准**：\n",
        "- 正确性\n",
        "- 可读性\n",
        "- 健壮性\n",
        "- 效率与低存储量\n",
        "\n",
        "**时间复杂度**\n",
        "- 使用**渐进复杂度**\n",
        "    - 取决于*最深循环*内包含基本操作的语句重复执行次数\n",
        "- 根据算法写成的程度在执行时耗费时间的长度\n",
        "    - 这个长度往往和输入数据的规模有关\n",
        "\n",
        "空间复杂度（**很少考虑**）\n",
        "- 除去存储程序本身的输入数据之外\n",
        "- 会要存储对数据操作的存储单元\n",
        "\n"
      ],
      "metadata": {
        "id": "ym7wgg0XcyNJ"
      }
    },
    {
      "cell_type": "markdown",
      "source": [
        "## 线性表"
      ],
      "metadata": {
        "id": "XNLoNBzFcyf1"
      }
    },
    {
      "cell_type": "markdown",
      "source": [
        "**定义**：线性表是相同数据类型的n个数据元素的有限序列\n",
        "$$A=(a_1, a_2,...,a_{i-1}, a_i, a_{i+1},.., a_n)$$\n",
        "- 表头元素，无前驱\n",
        "- $a_i$的直接前驱$a_{i-1}$，$a_{i+1}$直接前驱$a_i$\n",
        "- 表尾元素，无后继\n",
        "- `n`表示线性表`A`的长度，`n=0`时，表示`A`是空表\n",
        "\n",
        "**特点**：\n",
        "- 存在**唯一**一个被称为**第一个**的数据元素\n",
        "- 存在**唯一**一个被称为**最后一个**的数据元素\n",
        "- 除第一个，每个数据元素均**只有一个前**驱\n",
        "- 除最后一个，每个元素均**只有一个**后继"
      ],
      "metadata": {
        "id": "GPKtVb3Wcyh8"
      }
    },
    {
      "cell_type": "markdown",
      "source": [
        "**实现**：\n",
        "- **顺序**存储：**顺序表**\n",
        "    - 将表中元素顺序存放在一大块连续的存储区中\n",
        "    - 元素之间的顺序关系是由存储顺序体现\n",
        "- **链式**存储：**链表**\n",
        "    - 将表元素存放在通过地址连接构造起来的一些列内存中\n",
        "    - 通过地址的指引来体现数据之间的顺序关系"
      ],
      "metadata": {
        "id": "RZTI57ZPjjdx"
      }
    },
    {
      "cell_type": "markdown",
      "source": [
        "### 顺序表\n"
      ],
      "metadata": {
        "id": "n0oIXcJjkTrB"
      }
    },
    {
      "cell_type": "markdown",
      "source": [
        "**存储器**：\n",
        "- 外存：长期保持、存储容量大、存取速度慢\n",
        "- 内存：存取速度快\n",
        "\n",
        "**CPU只能**直接访问内存，在内存区数据进行操作\n"
      ],
      "metadata": {
        "id": "zuz38G_NcykE"
      }
    },
    {
      "cell_type": "markdown",
      "source": [
        "**定义**：用一组地址连续的存储单元存放一个线性表\n",
        "\n",
        "**元素地址计算方法**\n",
        "- 一个数据元素所占存储空间$L$\n",
        "- 基地址$LOC(a_1)$\n",
        "- $a_i$的元素地址：$$LOC(a_1)+(i-1)*L$$\n",
        "\n",
        "**存储特点**：\n",
        "- 逻辑上相邻的数据元素，物理地址也相邻\n",
        "    - 用物理上的相邻表示逻辑上的相邻\n",
        "- 实现随机存取，时间复杂度$O(1)$"
      ],
      "metadata": {
        "id": "FNgN4PQQcymK"
      }
    },
    {
      "cell_type": "markdown",
      "source": [
        "**删除**操作\n",
        "```\n",
        "j = i + 1\n",
        "while j < list.len():\n",
        "    list.a[j - 1] = list.a[j]\n",
        "    j += 1\n",
        "```\n",
        "\n",
        "**插入**操作\n",
        "```\n",
        "j = list.len() - 1\n",
        "while j >= i:\n",
        "    list.a[j + 1] = list.a[j]\n",
        "    j -= 1\n",
        "list.a[i] = x\n",
        "```\n",
        "\n",
        "**结论**：\n",
        "- 在顺序表中**插入或删除**一个元素时，**平均移动表的一半元素**\n",
        "- 当`n`很大时，效率很低"
      ],
      "metadata": {
        "id": "DNwz5JVocyok"
      }
    },
    {
      "cell_type": "markdown",
      "source": [
        "Python中顺序表是实现\n",
        "- Python中的`list`（可变）和`tuple`（不可变）两种类型采用了顺序表的实现技术\n",
        "    - `list`和`tuple`底层都是基于数组\n",
        "-\n",
        "```\n",
        "list.append(x)\n",
        "list.insert(index, x)\n",
        "list.pop(index)\n",
        "list.pop()\n",
        "list,remove(x)\n",
        "list[index]\n",
        "list[-index]\n",
        "list[index]=x\n",
        "list.sort() # 复杂度O(nlogn)\n",
        "```"
      ],
      "metadata": {
        "id": "PEAMG9SgtJ5u"
      }
    },
    {
      "cell_type": "markdown",
      "source": [
        "顺序表的**结构定义**：\n",
        "- 应该顺序表的完整信息包括两个部分\n",
        "    - **数据区**：表中元素集合\n",
        "    - **表头**：记录表的整体情况信息（两项）\n",
        "        - 元素存储区的**容量**\n",
        "        - 已有元素**个数**\n",
        "\n",
        "**动态顺序表**：\n",
        "- 当执行插入操作时，列表会自动扩容，即换一块更大的存储区域\n",
        "- **列表**就是动态顺序表，采用分离式结构\n",
        "- 列表是**元素外置**顺序表\n",
        "    - 使得可以存储不同的类型数据\n"
      ],
      "metadata": {
        "id": "2qDMRWh930tD"
      }
    },
    {
      "cell_type": "markdown",
      "source": [
        "### 链表"
      ],
      "metadata": {
        "id": "gGo9fzyT6COY"
      }
    },
    {
      "cell_type": "markdown",
      "source": [
        "**特点**：\n",
        "- 用一组任意的存储单元（可不连续）存储线性表的数据元素\n",
        "- 每个元素利用**地址**（**指针**）实现用不同的存储单元存放逻辑上相邻的元素\n",
        "\n",
        "**结点结构**：\n",
        "- 数据域：数据元素本身信息\n",
        "- 链接域：直接后继或直接前驱的存储地址（地址/指针域）\n",
        "\n",
        "**线性链表的分类**\n",
        "- **单链表**：每个结点除包含有数据域外，只设置**一个链接域**，用以指向后继结点\n",
        "- **双向链表**：每个结点除包含数据域外，设置**两个链接域**，分别用以指向前驱结点和后继结点"
      ],
      "metadata": {
        "id": "IW_cOrV56HZL"
      }
    },
    {
      "cell_type": "markdown",
      "source": [
        "#### 单链表"
      ],
      "metadata": {
        "id": "zALSluG--TmC"
      }
    },
    {
      "cell_type": "markdown",
      "source": [
        "##### **结点类**"
      ],
      "metadata": {
        "id": "RzW0G2G-KJ8g"
      }
    },
    {
      "cell_type": "markdown",
      "source": [
        "\n",
        "```\n",
        "class Node(object):  # 创建一个结点类\n",
        "    def __init__(self, data):  # 初始化\n",
        "        self.data = data  # data为自定义数据\n",
        "        self.next = None  # next为下一个结点的地址\n",
        "\n",
        "p = Node(100)   # 创建一个类对象\n",
        "```\n",
        "- 有`p.data=100` `p.next=None`"
      ],
      "metadata": {
        "id": "1uHwYats9VKt"
      }
    },
    {
      "cell_type": "markdown",
      "source": [
        "##### **单链表类**"
      ],
      "metadata": {
        "id": "DQBed6RBbdua"
      }
    },
    {
      "cell_type": "markdown",
      "source": [
        "```\n",
        "# 创建一个单链表的类\n",
        "class List(object):\n",
        "    def __init__(self):\n",
        "        self.__head = None  # 表头为空\n",
        "    \n",
        "    # 判断链表是否为空\n",
        "    def is_empty(self):\n",
        "        if self.__head == None:  # head是否为空\n",
        "            return 1\n",
        "        else:\n",
        "            return 0\n",
        "        # return self.__head is None  # 直接返回布尔值\n",
        "\n",
        "    # 头插法添加元素\n",
        "    def add(self, item):\n",
        "        s = Node(item)\n",
        "        s.next = self.__head\n",
        "        self.__head = s\n",
        "\n",
        "    # 遍历单链表，并打印输出\n",
        "    def travel(self):\n",
        "        p = self.__head   # 指针p从表头开始\n",
        "        while p != None:  # 判断指针是否指向了链表末尾\n",
        "            print(p.data, end='')\n",
        "            p = p.next  # 指针移到下一个元素\n",
        "        # print() 打印换行符\n",
        "    \n",
        "    # 求单链表表长\n",
        "    def length(self):\n",
        "        p = self.__head\n",
        "        count = 0\n",
        "        while p != None:  # 没有扫描到最后一个结点\n",
        "            count += 1\n",
        "            p = p.next\n",
        "        return count\n",
        "    \n",
        "    # 按序号查找\n",
        "    def searchpos(self, pos):\n",
        "        p = self.__head\n",
        "        count = 1\n",
        "        if pos < 1 or pos > self.length():  # 判断输入的位置是否合法\n",
        "            return None\n",
        "        else:\n",
        "            while p != None and count != pos:  # while count < pos:\n",
        "                p = p.next\n",
        "                count += 1\n",
        "        return p\n",
        "\n",
        "    # 按值查找\n",
        "    def search(self, item):\n",
        "        p = self.__head\n",
        "        while p != None and p.data != item:\n",
        "            p = p.next\n",
        "        return p  # 如果找到了，返回结点；如果没有找到，返回None\n",
        "        # if p.data == item:\n",
        "        #     return p\n",
        "        # elif p == None:\n",
        "        #     return None\n",
        "\n",
        "    # 尾插法建立单链表过程\n",
        "    def append(self, x):\n",
        "        s = None(x)\n",
        "        if self.__head is None:  # 链表为空\n",
        "            self.__head = s\n",
        "        else:\n",
        "            p = self.__head\n",
        "            while p.next != None: # 遍历到链表末尾\n",
        "                p = p.next\n",
        "            p.next = s\n",
        "    \n",
        "    # 在指定位置插入元素\n",
        "    def insert(self, pos, x):\n",
        "        p = self.__head\n",
        "        count = 0\n",
        "        if pos >= self.length() or pos < 1:\n",
        "            return -1\n",
        "        while count < pos:  # 查找插入的位置\n",
        "            p = p.next\n",
        "            count += 1\n",
        "        s = Node(x)      # 生成待插入结点\n",
        "        s.next = p.next\n",
        "        p.next = s\n",
        "        return 1\n",
        "    \n",
        "    # 按值删除元素\n",
        "    def remove(self, item):\n",
        "        p = self.__head\n",
        "        if p.data == item:  # 删除的是第一个结点，单独处理\n",
        "            self.__head = p.next\n",
        "        else:\n",
        "            while p != None:  # 循环查找待删除的结点\n",
        "                if p.data != item:\n",
        "                    pre = p\n",
        "                    p = p.next\n",
        "                else:\n",
        "                    pre.next = p.next\n",
        "                    break\n",
        "                    # return True\n",
        "            return p\n",
        "            # return False\n",
        "\n",
        "\n",
        "```\n",
        "\n"
      ],
      "metadata": {
        "id": "U3t1z5xK6Hba"
      }
    },
    {
      "cell_type": "markdown",
      "source": [
        "**初始化**单链表\n",
        "- `L1 = List()`：创建一个单链表类对象\n",
        "\n",
        "\n"
      ],
      "metadata": {
        "id": "-KoId-2r-WBu"
      }
    },
    {
      "cell_type": "markdown",
      "source": [
        "判断单链表**是否为空**\n",
        "- **`is_empty`**\n",
        "\n"
      ],
      "metadata": {
        "id": "9WTP9pIZKn8u"
      }
    },
    {
      "cell_type": "markdown",
      "source": [
        "**头插法**添加元素\n",
        "- **`add`**\n",
        "- **注**：Python中变量存放的是在内存空间中的**地址**\n",
        "\n",
        "```\n",
        "s = Node(5)      # 第一步：生成结点\n",
        "s.next = self.__head  # 第二步；修改指针1th\n",
        "self.__head = s    # 第二步：修改指针2nd\n",
        "\n"
      ],
      "metadata": {
        "id": "Dqy-oUlSKpTM"
      }
    },
    {
      "cell_type": "markdown",
      "source": [
        "**遍历单链表：扫描指针**\n",
        "- **`travel`**\n",
        "- 在已知单链表的`head`首地址的情况下，如果需要访问到单链表中的所有结点\n",
        "- 需要一个**扫描指针**（扫描游标）\n",
        "    - 设`p`的初值是指向第一个结点，`p = self.__head`\n",
        "    - 移动指针的操作是:`p = p.next`\n",
        "    - 直到`p.next`得到的是`None`，到链表尾部\n",
        "- 性能：对链表中`n`个元素扫描一遍，时间复杂为$O(n)$"
      ],
      "metadata": {
        "id": "Cr5BydOgBuIw"
      }
    },
    {
      "cell_type": "markdown",
      "source": [
        "**求单链表表长**\n",
        "- **`length`**\n",
        "- 性能分析：时间复杂度$O(n)$"
      ],
      "metadata": {
        "id": "sfH4Tt1AKvML"
      }
    },
    {
      "cell_type": "markdown",
      "source": [
        "**按序号查找**\n",
        "- **`searchpos`**\n",
        "- 在链表中，即使知道被访问结点的序号`i`，不能直接按序号`i`访问结点，只能从链表的`head`出发，顺链域逐个结点向下搜索，直到搜索到第`i`个结点为止\n",
        "- **基本思想**\n",
        "    - 借助扫描指针，从第一个结点开始扫描\n",
        "    - 判断当前结点是否是第`i`个，是就返回地址，否则继续向后查找，直到找到或链表结束\n",
        "- 性能分析：按序号查找操作和`pos`取值有关，平均时间复杂度为$O(n)$"
      ],
      "metadata": {
        "id": "aRioNFXUGNyW"
      }
    },
    {
      "cell_type": "markdown",
      "source": [
        "**按值查找**\n",
        "- **`search`**\n",
        "- 性能分析：复杂度为$O(n)$"
      ],
      "metadata": {
        "id": "qUB12Hnh_ugE"
      }
    },
    {
      "cell_type": "markdown",
      "source": [
        "**尾插法建立单链表**过程\n",
        "- **`append`**\n",
        "- 先把指针达到链表的末尾，生成结点，修改链接\n"
      ],
      "metadata": {
        "id": "xb_Wd3KU_uib"
      }
    },
    {
      "cell_type": "markdown",
      "source": [
        "**在指定位置插入元素**\n",
        "- **`insert(self, pos, x)`**\n",
        "- 步骤\n",
        "    - 找到`a_{i-1}`的存储位置`p`\n",
        "    - 生成一个数据域为`x`的新结点`s`，`s=Node(x)`\n",
        "    - 新结点的链接域指向结点`a_i`：`s.next = p.next`\n",
        "    - 结点`p`的链接域指向新结点`p.next = s`\n",
        "- 性能分析：定位插入元素的时间复杂度是$O(n)$"
      ],
      "metadata": {
        "id": "lFZnIP6NSL4w"
      }
    },
    {
      "cell_type": "markdown",
      "source": [
        "**按值删除元素**\n",
        "- **`remove(self, item)`**\n",
        "- 步骤\n",
        "    - 找到`a_{i-1}`的存储位置`pre`\n",
        "    - 令`p`指向待删除的元素`a_i`\n",
        "    - 令`p.next`指向`a_i`的直接后继结点`pre.next=p.next`\n",
        "- **注**：要有一个变量`pre`来记录前一个结点\n",
        "- 性能分析：按值删除元素的时间复杂度是$O(n)$"
      ],
      "metadata": {
        "id": "f1dqeAum_ukd"
      }
    },
    {
      "cell_type": "markdown",
      "source": [
        "**单链表特点**：\n",
        "- 是一种**动态结构**，整个内存空间为多个链表共用\n",
        "- **不需要预先分配**空间\n",
        "- 链接域占用**额外**存储空间\n",
        "- **不能随机存取**，查找速度慢"
      ],
      "metadata": {
        "id": "VGTqyk9ha5_F"
      }
    },
    {
      "cell_type": "markdown",
      "source": [
        "#### 双链表"
      ],
      "metadata": {
        "id": "Drn7vZb7_ul9"
      }
    },
    {
      "cell_type": "markdown",
      "source": [
        "双链表**定义**：\n",
        "- 每个结点包含两个链接域\n",
        "    - 一个指向直接前驱（prior）\n",
        "    - 一个指向直接后继（next）\n",
        "- 双链表由头指针`head`唯一确定\n",
        "- 将双链表中的**头结点和尾结点链接起**来可以构成循环链表，并称之为**双向循环链表**\n"
      ],
      "metadata": {
        "id": "tvwKvfwGbsaf"
      }
    },
    {
      "cell_type": "markdown",
      "source": [
        "##### 双向链表**结点类**的描述\n",
        "```\n",
        "class DLNode(object):\n",
        "    def __init__(self, data):\n",
        "        self.data = data\n",
        "        self.prior = None\n",
        "        self.next = None\n",
        "```"
      ],
      "metadata": {
        "id": "MKBqBe1_cnNw"
      }
    },
    {
      "cell_type": "markdown",
      "source": [
        "双链表**在某个节点$a_i$前插入结点算法**\n",
        "- 先找到$a_i$的位置`p`\n",
        "-\n",
        "```\n",
        "s = DLNode(b)\n",
        "s.prior = p.prior\n",
        "p.prior.next = s\n",
        "s.next = p\n",
        "p.prior = s\n",
        "```"
      ],
      "metadata": {
        "id": "lXGgr5z9dGWl"
      }
    },
    {
      "cell_type": "markdown",
      "source": [
        "双链表中**删除节点$a_i$**算法\n",
        "- 先找到$a_i$的位置`p`\n",
        "-\n",
        "```\n",
        "p.prior.next = p.next\n",
        "p.next.prior = p.prior\n",
        "```"
      ],
      "metadata": {
        "id": "Ax7x6LXUe6GO"
      }
    },
    {
      "cell_type": "markdown",
      "source": [
        "### 顺序表和链表的**比较**"
      ],
      "metadata": {
        "id": "fW9QSxC6gHAU"
      }
    },
    {
      "cell_type": "markdown",
      "source": [
        "从**空间**上考虑：\n",
        "- 线性表**长度变化较大**，难以估计存储规模，则采取**动态链表**作为存储结构更好\n",
        "- 线性表**长度变化不大**，为**提高存储密度**，采取**顺序表**作为存储结构\n",
        "    - 存储密度：结点数据本身所占存储量和整个结点结构所占的存储量之比\n",
        "\n",
        "从**时间**上考虑\n",
        "- 如果线性表的操作**主要是进行按序号访问数据**元素，很好做插入、删除等操作，采用顺序表更好\n",
        "- 对于**频繁进行插入和删除**的线性表，采用链表存储结构更好"
      ],
      "metadata": {
        "id": "zHaneHKrc_cN"
      }
    },
    {
      "cell_type": "markdown",
      "source": [
        "## 线性表的应用案例"
      ],
      "metadata": {
        "id": "BfvKK__W_upZ"
      }
    },
    {
      "cell_type": "markdown",
      "source": [
        "**线性表的合并问题**\n",
        "- 已知两长度为`m`和`n`的升序序列，是实现将其合并为一个长度为`m+n`的升序序列"
      ],
      "metadata": {
        "id": "yNN9zQ9l_uuT"
      }
    },
    {
      "cell_type": "markdown",
      "source": [
        "### **顺序存储**的线性表合并\n",
        "- 数量级$O(m+n)$\n"
      ],
      "metadata": {
        "id": "sTesY8cV5KzZ"
      }
    },
    {
      "cell_type": "code",
      "source": [
        "def merge(la, lb, lc):\n",
        "    i = 0\n",
        "    j = 0\n",
        "    while i < len(la) and j < len(lb):\n",
        "        if la[i] <= lb[j]:\n",
        "            lc.append(la[i])\n",
        "            i += 1\n",
        "        else:\n",
        "            lc.append(lb[j])\n",
        "            j += 1\n",
        "    if i >= len(la):\n",
        "        lc.extend(lb[j:])\n",
        "    else:\n",
        "        lc.extend(la[i:])\n",
        "    return lc\n",
        "\n",
        "la = [1, 3, 5, 7]\n",
        "lb = [2, 4, 6, 8, 10, 11]\n",
        "lc = []\n",
        "lc = merge(la, lb, lc)\n",
        "print(lc)"
      ],
      "metadata": {
        "colab": {
          "base_uri": "https://localhost:8080/"
        },
        "id": "ay1i_E285hyO",
        "outputId": "14d8f07f-abf0-4d6d-ebe2-8416bf56f80f"
      },
      "execution_count": 1,
      "outputs": [
        {
          "output_type": "stream",
          "name": "stdout",
          "text": [
            "[1, 2, 3, 4, 5, 6, 7, 8, 10, 11]\n"
          ]
        }
      ]
    },
    {
      "cell_type": "markdown",
      "source": [
        "### **链式**存储的线性表合并"
      ],
      "metadata": {
        "id": "DVN8h76XB1oz"
      }
    },
    {
      "cell_type": "markdown",
      "source": [
        "- 有递归和非递归两种思想\n",
        "- **非递归**：**循环**的从两个带合并的列表中取出当前数值较小的结点，追加到新的列表中，直到参与合并的列表中有一个结束为止\n",
        "    - 一种：**新生成结点**加入新的链表中\n",
        "        - 两个遍历指针`pa`，`pb`分别指向`La`和`Lb`的第一个结点\n",
        "        - 还有一个指向新链表最后的`tail`指针（刚开始新链表和`tail`指针都是空）\n",
        "        - 每次比较取出较小的值，生成结点\n",
        "        - **注**：时间复杂度O(m+n)，原来的链表`La`和`Lb`都还在\n",
        "    - 另一种：**采摘节点法**\n",
        "        - 两个遍历指针`pa`，`pb`分别指向`La`和`Lb`的第一个结点\n",
        "        - 设置一个头指针`Lc`，作为新链表的表头指针，定义一个`tail`指针记录链表的尾结点\n",
        "        - 比较`pa`和`pb`结点的数据域的值，将较小的链接在tail`后面，并修改数据小的指针，同时修改 tail`指针\n",
        "        - 重复上步操作，直到`pa`或`pb`为空，将剩余的直接链接在`tail`后面\n",
        "        - 注：不用生成新结点，复杂度是O(2n+1)，其中n<=m，但是原来的链表`La`和`Lb`都不复存在\n"
      ],
      "metadata": {
        "id": "yZSeKcVb_uwQ"
      }
    },
    {
      "cell_type": "markdown",
      "source": [
        "#### 算法实现"
      ],
      "metadata": {
        "id": "RlNCZfOEB-VZ"
      }
    },
    {
      "cell_type": "code",
      "source": [
        "class Node:\n",
        "    def __init__(self, data):\n",
        "        self.data = data\n",
        "        self.next = None\n",
        "\n",
        "\n",
        "class List:\n",
        "    def __init__(self):\n",
        "        self._head = None\n",
        "\n",
        "    def is_empty(self):\n",
        "        return self._head\n",
        "\n",
        "    def append(self, data):  # 尾插法\n",
        "        p = self._head\n",
        "        n = Node(data)\n",
        "        if self._head == None:  # 链表为空，直接将新结点作为头结点\n",
        "            self._head = n\n",
        "        else:\n",
        "            while p.next != None:\n",
        "                p = p.next\n",
        "            p.next = n\n",
        "\n",
        "    def printlist(self):\n",
        "        p = self._head\n",
        "        while p != None:\n",
        "            print(p.data, end=' ')  # print中end默认是换行符'\\n'\n",
        "            p = p.next\n",
        "        print('\\n')\n"
      ],
      "metadata": {
        "id": "2UoOQ8Kz64Dv"
      },
      "execution_count": 1,
      "outputs": []
    },
    {
      "cell_type": "code",
      "source": [
        "la = List()\n",
        "lb = List()\n",
        "data = int(input('请输入链表a的值，输入-1结束：'))\n",
        "while data != -1:\n",
        "    la.append(data)\n",
        "    data = int(input('请输入链表a的值，输入-1结束：'))\n",
        "la.printlist()\n",
        "\n",
        "data = int(input('请输入链表b的值，输入-1结束：'))\n",
        "while data != -1:\n",
        "    lb.append(data)\n",
        "    data = int(input('请输入链表b的值，输入-1结束：'))\n",
        "lb.printlist()"
      ],
      "metadata": {
        "colab": {
          "base_uri": "https://localhost:8080/"
        },
        "id": "kRDBKLbDM0_O",
        "outputId": "fca465da-6cbc-46fd-e17e-74a13eb77c60"
      },
      "execution_count": 6,
      "outputs": [
        {
          "output_type": "stream",
          "name": "stdout",
          "text": [
            "请输入链表a的值，输入-1结束：1\n",
            "请输入链表a的值，输入-1结束：3\n",
            "请输入链表a的值，输入-1结束：-1\n",
            "1 3 请输入链表b的值，输入-1结束：2\n",
            "请输入链表b的值，输入-1结束：4\n",
            "请输入链表b的值，输入-1结束：6\n",
            "请输入链表b的值，输入-1结束：-1\n",
            "2 4 6 "
          ]
        }
      ]
    },
    {
      "cell_type": "code",
      "source": [
        "def Merge(la, lb, lc):\n",
        "    pa = la._head\n",
        "    pb = lb._head\n",
        "    tail = lc._head\n",
        "    while pa != None and pb != None:\n",
        "        if pa.data < pb.data:\n",
        "            if lc._head == None:  # 链表是空的时候\n",
        "                lc._head = pa\n",
        "            else:\n",
        "                tail.next = pa  # tail指向pa\n",
        "            tail = pa  # tail的指针向后移动\n",
        "            pa = pa.next  # pa指向下一个结点\n",
        "        else:\n",
        "            if lc._head == None:  # 链表是空的时候\n",
        "                lc._head = pb\n",
        "            else:\n",
        "                tail.next = pb\n",
        "            tail = pb\n",
        "            pb = pb.next\n",
        "    if pa != None:\n",
        "        tail.next = pa\n",
        "    else:\n",
        "        tail.next = pb"
      ],
      "metadata": {
        "id": "Nr8oS2rtHEgn"
      },
      "execution_count": 7,
      "outputs": []
    },
    {
      "cell_type": "code",
      "source": [
        "lc = List()\n",
        "Merge(la, lb, lc)\n",
        "lc.printlist()"
      ],
      "metadata": {
        "colab": {
          "base_uri": "https://localhost:8080/"
        },
        "id": "svKzRq2kLWCc",
        "outputId": "d86393a5-66b4-41ec-eaa2-2c643bfd34f4"
      },
      "execution_count": 8,
      "outputs": [
        {
          "output_type": "stream",
          "name": "stdout",
          "text": [
            "1 2 3 4 6 "
          ]
        }
      ]
    },
    {
      "cell_type": "markdown",
      "source": [
        "### 不使用自带函数实现顺序表基本操作"
      ],
      "metadata": {
        "id": "jxnk_b1s63M-"
      }
    },
    {
      "cell_type": "code",
      "source": [
        "# 创建一个顺序表类\n",
        "class seqlist:\n",
        "    def __init__(self, max_space=30):\n",
        "        self.max_space = 30\n",
        "        self.sl = max_space * [0]  # 申请一个列表\n",
        "        self.length = 0  # 记录实际元素个数\n",
        "\n",
        "    def append(self, data):\n",
        "        if self.length == self.max_space:\n",
        "            print('顺序表已经满了，不能再添加')\n",
        "        else:\n",
        "            self.sl[self.length] = data\n",
        "            self.length += 1\n",
        "\n",
        "    def printdata(self):\n",
        "        for i in range(self.length):\n",
        "            print(self.sl[i], end=' ')\n",
        "        print('\\n')\n",
        "\n",
        "    def insert(self, index, data):\n",
        "        if self.length == self.max_space or index < 0 or index >= self.length:\n",
        "            print('无法插入')\n",
        "        else:\n",
        "            for i in range(self.length - 1, index - 1, -1):\n",
        "                self.sl[i + 1] = self.sl[i]\n",
        "            self.sl[index] = data\n",
        "            self.length += 1\n",
        "\n",
        "    def delete_index(self, index):\n",
        "        if self.length ==0 or index < 0 or index >= self.length:\n",
        "            print('无法删除')\n",
        "        else:\n",
        "            for i in range(index, self.length - 1):  # 注意取值范围\n",
        "                self.sl[i] = self.sl[i + 1]\n",
        "            self.length -= 1\n",
        "\n",
        "    def search_data(self, data):\n",
        "        for i in range(self.length):\n",
        "            if self.sl[i] == data:\n",
        "                return i\n",
        "        return i\n",
        "\n",
        "    def delete_data(self, data):\n",
        "        i = self.search_data(data)\n",
        "        if i != -1:\n",
        "            self.delete_index(i)"
      ],
      "metadata": {
        "id": "qRtcbQHUq1lR"
      },
      "execution_count": 41,
      "outputs": []
    },
    {
      "cell_type": "markdown",
      "source": [
        "### 单链表的基本操作"
      ],
      "metadata": {
        "id": "cnfjMVb06HdY"
      }
    },
    {
      "cell_type": "markdown",
      "source": [
        "- `object`是所有类的基类（基类是所有类都默认继承的类），为所有的Python类提供了一些基本方法和功能\n",
        "    - 所有类会自动视为是从`object`继承的类\n",
        "    - 可以省略不写"
      ],
      "metadata": {
        "id": "2bYhP6vj6xCN"
      }
    },
    {
      "cell_type": "code",
      "source": [
        "class Node(object):\n",
        "    def __init__(self, data):\n",
        "        self.data = data\n",
        "        self.next = None\n",
        "\n",
        "class SingleLinkList:\n",
        "    def __init__(self):\n",
        "        self._head = None\n",
        "\n",
        "    def is_empty(self):\n",
        "        return self._head is None\n",
        "\n",
        "    def addhead(self, data):\n",
        "        node = Node(data)\n",
        "        node.next = self._head\n",
        "        self._head = node\n",
        "\n",
        "    def printdata(self):\n",
        "        p = self._head\n",
        "        while p != None:\n",
        "            print(p.data, end=' ')\n",
        "            p = p.next\n",
        "        print()\n",
        "\n",
        "    def length(self):\n",
        "        p = self._head\n",
        "        count = 0\n",
        "        while p != None:\n",
        "            count += 1\n",
        "            p = p.next\n",
        "        print (count)\n",
        "\n",
        "    def searchdata(self, data):\n",
        "        p = self._head\n",
        "        while p != None:\n",
        "            if p.data == data:\n",
        "                return True\n",
        "            p = p.next\n",
        "        return False\n",
        "\n",
        "    def insert_index(self, pos, data):\n",
        "        if pos < 0 or pos > self.length():\n",
        "            return 'fail'\n",
        "        node = Node(data)\n",
        "        p = self._head\n",
        "        count = 0\n",
        "        if pos == 0:  # 或者使用self.addhead(data)\n",
        "            node.next = self._head\n",
        "            self._head = node\n",
        "            return\n",
        "        while count < pos - 1:\n",
        "            p = p.next\n",
        "            count += 1\n",
        "        node.next = p.next\n",
        "        p.next = node\n",
        "\n",
        "    def remove_data(self, data):\n",
        "        p = self._head\n",
        "        if p != None and p.data == data:  # 处理头结点的删除\n",
        "            self._head = p.next\n",
        "            return True\n",
        "        else:\n",
        "            pre = None  # pre只有在p向后移动才被更新，不等于_head，直到p移到第二个节点，才会等于_head\n",
        "            while p != None:\n",
        "                if p.data == data:\n",
        "                    pre.next = p.next\n",
        "                    return True\n",
        "                pre = p\n",
        "                p = p.next\n",
        "        return False\n",
        "\n",
        "    def searchmaxdata(self):\n",
        "        p = self._head\n",
        "        max_data = p.data\n",
        "        while p.next != None:\n",
        "            p = p.next\n",
        "            if max_data < p.data:\n",
        "                max_data = p.data\n",
        "        return max_data"
      ],
      "metadata": {
        "id": "-i5316Oo5PAd"
      },
      "execution_count": 11,
      "outputs": []
    },
    {
      "cell_type": "markdown",
      "source": [],
      "metadata": {
        "id": "xuV1SnE86HfJ"
      }
    },
    {
      "cell_type": "markdown",
      "source": [],
      "metadata": {
        "id": "uQwizGSH6HhV"
      }
    },
    {
      "cell_type": "markdown",
      "source": [],
      "metadata": {
        "id": "7_xdsEMp6Hjg"
      }
    },
    {
      "cell_type": "markdown",
      "source": [],
      "metadata": {
        "id": "532oRh_H6HnU"
      }
    }
  ]
}