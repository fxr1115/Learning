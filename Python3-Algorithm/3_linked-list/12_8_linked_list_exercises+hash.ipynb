{
  "nbformat": 4,
  "nbformat_minor": 0,
  "metadata": {
    "colab": {
      "provenance": [],
      "authorship_tag": "ABX9TyMfNMz4TF3iufgSWQiXXdUq",
      "include_colab_link": true
    },
    "kernelspec": {
      "name": "python3",
      "display_name": "Python 3"
    },
    "language_info": {
      "name": "python"
    }
  },
  "cells": [
    {
      "cell_type": "markdown",
      "metadata": {
        "id": "view-in-github",
        "colab_type": "text"
      },
      "source": [
        "<a href=\"https://colab.research.google.com/github/fxr1115/Learning/blob/main/Python3-Algorithm/3_linked-list/12_8_linked_list_exercises%2Bhash.ipynb\" target=\"_parent\"><img src=\"https://colab.research.google.com/assets/colab-badge.svg\" alt=\"Open In Colab\"/></a>"
      ]
    },
    {
      "cell_type": "code",
      "source": [
        "from typing import List, Optional"
      ],
      "metadata": {
        "id": "BXBdljZ2Sxyy"
      },
      "execution_count": null,
      "outputs": []
    },
    {
      "cell_type": "markdown",
      "source": [
        "### 题目1 图书整理\n"
      ],
      "metadata": {
        "id": "Vv9ygdGCPSAB"
      }
    },
    {
      "cell_type": "markdown",
      "source": [
        "有一张链表形式的书单，每个节点代表一本书，节点中的值表示书的编号\n",
        "- 需要将书单倒过来排序，请倒序返回这个书单链表"
      ],
      "metadata": {
        "id": "Y9bvKlOHPXTa"
      }
    },
    {
      "cell_type": "markdown",
      "source": [
        "- `Optional`用于类型提示\n",
        "    - 表示一个类型可以是某个特定类型，或者是`None`\n",
        "    - `Optinal[X]`实际就是`Union[X, None]`的简写"
      ],
      "metadata": {
        "id": "4ynHWnASULC0"
      }
    },
    {
      "cell_type": "code",
      "execution_count": null,
      "metadata": {
        "id": "ZaVPhUYANmW7"
      },
      "outputs": [],
      "source": [
        "# Definition for singly-linked list.\n",
        "class ListNode:\n",
        "    def __init__(self, val=0, next=None):\n",
        "        self.val = val\n",
        "        self.next = next\n",
        "\n",
        "class Solution:\n",
        "    def reverseBookList(self, head: Optional[ListNode]) -> List[int]:\n",
        "        # 这里head是表头的意思\n",
        "        output = []\n",
        "        p = head\n",
        "        while p != None:\n",
        "            output.append(p.val)\n",
        "            p = p.next\n",
        "        output.reverse()\n",
        "        return output\n"
      ]
    },
    {
      "cell_type": "markdown",
      "source": [
        "需要有一个**列表转换为链表的函数**，才能运行实例"
      ],
      "metadata": {
        "id": "Thu02p57VSm8"
      }
    },
    {
      "cell_type": "code",
      "source": [
        "def list_to_linkedlist(arr):\n",
        "    dummy = ListNode()  # 哨兵节点\n",
        "    curr = dummy\n",
        "    for value in arr:\n",
        "        curr.next = ListNode(value)\n",
        "        curr = curr.next\n",
        "    return dummy.next  # 返回链表的头节点（dummy节点是一个空节点，返回的是dummy的下一个节点，即链表的实际头节点）\n",
        "\n",
        "head = list_to_linkedlist([3, 6, 4, 1])\n",
        "Solution().reverseBookList(head)"
      ],
      "metadata": {
        "colab": {
          "base_uri": "https://localhost:8080/"
        },
        "id": "xLK0SV8BVQ4f",
        "outputId": "1e1282df-93cc-4d40-fabd-893cc498e411"
      },
      "execution_count": null,
      "outputs": [
        {
          "output_type": "execute_result",
          "data": {
            "text/plain": [
              "[1, 4, 6, 3]"
            ]
          },
          "metadata": {},
          "execution_count": 4
        }
      ]
    },
    {
      "cell_type": "markdown",
      "source": [
        "**或者**（小变化）"
      ],
      "metadata": {
        "id": "ZmJ8PUbuVAi9"
      }
    },
    {
      "cell_type": "code",
      "source": [
        "class Solution:\n",
        "    def reverseBookList(self, head: Optional[ListNode]) -> List[int]:\n",
        "        # 这里head是表头的意思\n",
        "        stack = []\n",
        "        p = head\n",
        "        while p != None:\n",
        "            stack.append(p.val)\n",
        "            p = p.next\n",
        "        result = []\n",
        "        while stack:\n",
        "            result.append(stack.pop())\n",
        "        return result\n",
        "\n",
        "Solution().reverseBookList(head)"
      ],
      "metadata": {
        "colab": {
          "base_uri": "https://localhost:8080/"
        },
        "id": "XIfL4v0ZU_88",
        "outputId": "253afc8d-925a-4f66-9e6b-d1a807301b04"
      },
      "execution_count": null,
      "outputs": [
        {
          "output_type": "execute_result",
          "data": {
            "text/plain": [
              "[1, 4, 6, 3]"
            ]
          },
          "metadata": {},
          "execution_count": 11
        }
      ]
    },
    {
      "cell_type": "markdown",
      "source": [
        "#### **递归方法**"
      ],
      "metadata": {
        "id": "W2g1Jxc0YIiL"
      }
    },
    {
      "cell_type": "markdown",
      "source": [
        "- **终止条件**：`head == None`时，表示越过了链表尾节点，返回空列表\n",
        "- **递推工作**：访问下一个节点`head.next`\n",
        "- **回溯阶段**：返回`当前list + 当前节点值[head.val]`"
      ],
      "metadata": {
        "id": "mmHSQboFYL-I"
      }
    },
    {
      "cell_type": "markdown",
      "source": [
        "- 时间复杂度：$O(N)$"
      ],
      "metadata": {
        "id": "SRh3hhj0Ze-E"
      }
    },
    {
      "cell_type": "code",
      "source": [
        "class Solution:\n",
        "    def reverseBookList(self, head: Optional[ListNode]) -> List[int]:\n",
        "        return self.reverseBookList(head.next) + [head.val] if head else []\n",
        "\n",
        "Solution().reverseBookList(head)"
      ],
      "metadata": {
        "colab": {
          "base_uri": "https://localhost:8080/"
        },
        "id": "mAK1YejmXX86",
        "outputId": "26570a0e-bc28-4d69-9d0f-de3b73c5d78b"
      },
      "execution_count": null,
      "outputs": [
        {
          "output_type": "execute_result",
          "data": {
            "text/plain": [
              "[1, 4, 6, 3]"
            ]
          },
          "metadata": {},
          "execution_count": 12
        }
      ]
    },
    {
      "cell_type": "markdown",
      "source": [
        "### 题目2 删除链表节点"
      ],
      "metadata": {
        "id": "xrKtxmWUZmk-"
      }
    },
    {
      "cell_type": "markdown",
      "source": [
        "给定单向链表的头指针和一个要删除的节点的值，定义一个函数删除该节点\n",
        "- 返回删除后的链表的头节点"
      ],
      "metadata": {
        "id": "vwz23I2DZyPi"
      }
    },
    {
      "cell_type": "code",
      "source": [
        "# Definition for singly-linked list.\n",
        "# class ListNode:\n",
        "#     def __init__(self, val=0, next=None):\n",
        "#         self.val = val\n",
        "#         self.next = next\n",
        "class Solution:\n",
        "    def deleteNode(self, head: Optional[ListNode], val: int) -> Optional[ListNode]:\n",
        "        curr = head\n",
        "        if curr.val == val:\n",
        "            head = curr.next\n",
        "            return head\n",
        "        else:\n",
        "            head_ = curr\n",
        "            while curr.next != None:\n",
        "                pre = curr\n",
        "                curr = curr.next\n",
        "                if curr.val == val:\n",
        "                    pre.next = curr.next\n",
        "                    return head_\n",
        "        return -1\n",
        "\n",
        "head = list_to_linkedlist([4, 5, 1, 9])\n",
        "Solution().deleteNode(head, 7)"
      ],
      "metadata": {
        "colab": {
          "base_uri": "https://localhost:8080/"
        },
        "id": "c1nSe9TtZxkw",
        "outputId": "1466b8d1-349b-40ce-de85-a372fad610f9"
      },
      "execution_count": null,
      "outputs": [
        {
          "output_type": "execute_result",
          "data": {
            "text/plain": [
              "-1"
            ]
          },
          "metadata": {},
          "execution_count": 15
        }
      ]
    },
    {
      "cell_type": "markdown",
      "source": [
        "上面过程有点**繁琐**，更**简洁点**"
      ],
      "metadata": {
        "id": "Avgm-4PbdrNW"
      }
    },
    {
      "cell_type": "code",
      "source": [
        "class Solution:\n",
        "    def deleteNode(self, head: Optional[ListNode], val: int) -> Optional[ListNode]:\n",
        "        if head.val == val:\n",
        "            return head.next\n",
        "        pre, cur = head, head.next\n",
        "        while cur and cur.val != val:\n",
        "            pre, cur = cur, cur.next\n",
        "        if cur:\n",
        "            pre.next = cur.next\n",
        "        return head\n",
        "\n",
        "Solution().deleteNode(head, 5)"
      ],
      "metadata": {
        "colab": {
          "base_uri": "https://localhost:8080/"
        },
        "id": "nyvsosBkdvuE",
        "outputId": "c786e25f-09ad-4a87-f5b0-b99cf2d070d2"
      },
      "execution_count": null,
      "outputs": [
        {
          "output_type": "execute_result",
          "data": {
            "text/plain": [
              "<__main__.ListNode at 0x787f312d6d40>"
            ]
          },
          "metadata": {},
          "execution_count": 17
        }
      ]
    },
    {
      "cell_type": "markdown",
      "source": [
        "### 题目3 **重点看**"
      ],
      "metadata": {
        "id": "uLxS8P7Jd_XZ"
      }
    },
    {
      "cell_type": "markdown",
      "source": [
        "给定一个头节点为`head`的单链表，用于记录一系列核心肌群训练编号\n",
        "- 将该系列训练编号**倒序**记录于**链表**并返回"
      ],
      "metadata": {
        "id": "-szMNxy1eCrk"
      }
    },
    {
      "cell_type": "markdown",
      "source": [
        "#### **自己**：\n",
        "- linked_list $\\rightarrow$ 转list $\\rightarrow$ 反转 $\\rightarrow$ 转linked_list"
      ],
      "metadata": {
        "id": "3-UB_q4w4ewG"
      }
    },
    {
      "cell_type": "code",
      "source": [
        "# Definition for singly-linked list.\n",
        "# class ListNode:\n",
        "#     def __init__(self, val=0, next=None):\n",
        "#         self.val = val\n",
        "#         self.next = next\n",
        "class Solution:\n",
        "    def trainningPlan(self, head: Optional[ListNode]) -> Optional[ListNode]:\n",
        "        if head is None:\n",
        "            return head\n",
        "\n",
        "        outlink = ListNode()\n",
        "        p1 = outlink\n",
        "        p2 = head\n",
        "        arr = []\n",
        "        while p2 is not None:\n",
        "            arr.append(p2.val)\n",
        "            p2 = p2.next\n",
        "        for num in arr[::-1]:\n",
        "            p1.next = ListNode(num)\n",
        "            p1 = p1.next\n",
        "        return outlink.next\n",
        "\n",
        "head = list_to_linkedlist([])\n",
        "Solution().trainningPlan(head)"
      ],
      "metadata": {
        "id": "qZ5wH5yFeCM-"
      },
      "execution_count": null,
      "outputs": []
    },
    {
      "cell_type": "markdown",
      "source": [
        "#### **迭代**（**双指针**）再**多看两眼**"
      ],
      "metadata": {
        "id": "QQz2LI8U1R6L"
      }
    },
    {
      "cell_type": "markdown",
      "source": [
        "- 时间复杂度：$O(N)$  \n",
        "- 空间复杂度：$O(1)$"
      ],
      "metadata": {
        "id": "-8fGu_LBMr7z"
      }
    },
    {
      "cell_type": "markdown",
      "source": [
        "- **双指针的作用**：`cur`用来遍历链表，`pre`用来保存当前节点的前一个节点，从而实现反转链表的操作\n",
        "    -\n",
        "    ```\n",
        "    tmp = cur.next\n",
        "    pre = cur\n",
        "    cur = tmp\n",
        "    ```\n",
        "\n",
        "- **反转过程**：每次修改`cur.next`指向前一个节点，逐步实现链表的反转\n",
        "    - `cur.next = pre`"
      ],
      "metadata": {
        "id": "bZknubyT3A3Z"
      }
    },
    {
      "cell_type": "code",
      "source": [
        "class Solution:\n",
        "    def trainningPlan(self, head: Optional[ListNode]) -> Optional[ListNode]:\n",
        "        cur, pre = head, None\n",
        "        while cur:\n",
        "            tmp = cur.next  # 保存cur.next暂存后继节点\n",
        "            cur.next = pre  # 修改引用指向！！！\n",
        "            pre = cur     # 暂存当前节点\n",
        "            cur = tmp     # 访问下一个节点\n",
        "        return pre"
      ],
      "metadata": {
        "id": "gV5iGLCv1VPP"
      },
      "execution_count": null,
      "outputs": []
    },
    {
      "cell_type": "markdown",
      "source": [
        "#### **递归**（也**多看**）"
      ],
      "metadata": {
        "id": "RLKiZpvk8cTz"
      }
    },
    {
      "cell_type": "markdown",
      "source": [
        "- 时间复杂度：$O(N)$\n",
        "- 空间复杂度：$O(N)$，遍历链表的递归深度达到$N$，系统使用$O(N)$大小额外空间"
      ],
      "metadata": {
        "id": "9e6uYVHBM0yw"
      }
    },
    {
      "cell_type": "code",
      "source": [
        "class Solution:\n",
        "    def trainningPlan(self, head: Optional[ListNode]) -> Optional[ListNode]:\n",
        "        def recur(cur, pre):\n",
        "            if not cur:\n",
        "                return pre  # cur为空，返回尾节点pre（即反转链表的头节点）\n",
        "            res = recur(cur.next, cur)  # 递归后继结点，记录返回值（反转链表的头节点）\n",
        "            cur.next = pre  # 修改当前节点cur引用，指向前驱节点pre\n",
        "            return res  # 返回反转链表的头节点res\n",
        "        return recur(head, None)"
      ],
      "metadata": {
        "id": "vHfFbDIO7qJX"
      },
      "execution_count": null,
      "outputs": []
    },
    {
      "cell_type": "markdown",
      "source": [
        "**链表的反转**"
      ],
      "metadata": {
        "id": "jDtSsOTi_Spi"
      }
    },
    {
      "cell_type": "code",
      "source": [
        "class Solution:\n",
        "    def trainningPlan(self, head: Optional[ListNode]) -> Optional[ListNode]:\n",
        "        return self.recur(head, None)\n",
        "\n",
        "    def recur(self, cur: ListNode, pre: ListNode) -> ListNode:\n",
        "        # 终止条件：如果cur为None，说明链表已经遍历完\n",
        "        if cur is None:\n",
        "            return pre\n",
        "\n",
        "        next_node = cur.next\n",
        "        cur.next = pre  # 反转当前节点指向下一个节点\n",
        "\n",
        "        # 递归下去，处理剩余部分\n",
        "        return self.recur(next_node, cur)"
      ],
      "metadata": {
        "id": "gUrXoABh_SBR"
      },
      "execution_count": null,
      "outputs": []
    },
    {
      "cell_type": "markdown",
      "source": [
        "**举例说明**  \n",
        "假设链表是`1 -> 2 -> 3 -> 4 -> None`\n",
        "- **初始调用**：`recur(1, None)`  \n",
        "`cur = 1`,`pre = None`  \n",
        "递归调用`recur(2, 1)`\n",
        "\n",
        "- **第二次调用**：`recur(2, 1)`  \n",
        "`cur = 2`,`pre = 1`  \n",
        "递归调用`recur(3, 2)`\n",
        "- **第三次调用**：`recur(3, 2)`  \n",
        "`cur = 3`,`pre = 2`  \n",
        "递归调用`recur(4, 3)`\n",
        "- **第四次调用**：`recur(4, 3)`  \n",
        "`cur = 4`,`pre = 3`  \n",
        "递归调用`recur(None, 4)`\n",
        "- **终止条件**：`recur(None, 4)`\n",
        "`cur = None`,`pre = 4`  \n",
        "返回`pre = 4`，开始回溯\n",
        "- **回溯过程**：  \n",
        "回溯到`recur(4, 3)`，修改`cur.next = pre`，即`4.next = 3`  \n",
        "回溯到`recur(3, 2)`，修改`cur.next = pre`，即`3.next = 2`  \n",
        "回溯到`recur(2, 1)`，修改`cur.next = pre`，即`2.next = 1`  \n",
        "回溯到`recur(1, None)`，修改`cur.next = pre`，即`1.next = None`\n",
        "\n",
        "最终，链表被反转为`4 -> 3 -> 2 -> 1 -> None`"
      ],
      "metadata": {
        "id": "7o16kMYwAIMk"
      }
    },
    {
      "cell_type": "markdown",
      "source": [
        "**题目还要求返回值**\n",
        "- 就要返回未反转前链表的最后一个节点，即满足终止条件的`pre`"
      ],
      "metadata": {
        "id": "Yc1LVFErCHlT"
      }
    },
    {
      "cell_type": "code",
      "source": [
        "class Solution:\n",
        "    def trainningPlan(self, head: Optional[ListNode]) -> Optional[ListNode]:\n",
        "        return self.recur(head, None)\n",
        "\n",
        "    def recur(self, cur: ListNode, pre: ListNode) -> ListNode:\n",
        "        # 终止条件：如果cur为None，说明链表已经遍历完\n",
        "        if cur is None:\n",
        "            return pre\n",
        "        # 递推：递归调用下一个节点\n",
        "        res = self.recur(cur.next, cur)\n",
        "        # 回溯：修改当前节点的next指向前一个节点\n",
        "        cur.next = pre\n",
        "        # 返回反转后的链表表头节点\n",
        "        return res"
      ],
      "metadata": {
        "id": "eWIC7qOkB7x0"
      },
      "execution_count": null,
      "outputs": []
    },
    {
      "cell_type": "markdown",
      "source": [
        "**举例说明**  \n",
        "假设链表是`1 -> 2 -> 3 -> 4 -> None`\n",
        "- **初始调用**：`recur(1, None)`  \n",
        "`cur = 1`,`pre = None`  \n",
        "\n",
        "- **递归深入**：  \n",
        "`recur(2, 1)``cur = 2`,`pre = 1`  \n",
        "`recur(3, 2)``cur = 3`,`pre = 2`  \n",
        "`recur(4, 3)``cur = 4`,`pre = 3`  \n",
        "`recur(None, 4)``cur = None`,`pre = 4`，到达链表末尾，返回`pre = 4`\n",
        "- **回溯过程**：  \n",
        "回溯到`recur(4, 3)`，修改`cur.next = pre`，即`4.next = 3`，返回`res = 4`  \n",
        "回溯到`recur(3, 2)`，修改`cur.next = pre`，即`3.next = 2`，返回`res = 4`  \n",
        "回溯到`recur(2, 1)`，修改`cur.next = pre`，即`2.next = 1`，返回`res = 4`  \n",
        "回溯到`recur(1, None)`，修改`cur.next = pre`，即`1.next = None`，返回`res = 4`\n",
        "\n",
        "最终，链表被反转为`4 -> 3 -> 2 -> 1 -> None`，并且`reverseList`返回反转后的链表头节点`4`"
      ],
      "metadata": {
        "id": "yWFQnInGC46a"
      }
    },
    {
      "cell_type": "markdown",
      "source": [
        "### 题目4"
      ],
      "metadata": {
        "id": "Havl41BIEupb"
      }
    },
    {
      "cell_type": "markdown",
      "source": [
        "给定一个头节点为`head`的链表用于记录一系列核心肌群训练项目编号\n",
        "- 查找并返回倒数第`cnt`个训练项目编号"
      ],
      "metadata": {
        "id": "-u5Bo2kNEyaR"
      }
    },
    {
      "cell_type": "markdown",
      "source": [
        "#### **自己**\n",
        "- 就是第一时间所想到的**思路**：\n",
        "    - 先遍历统计链表长度`n`\n",
        "    - 设置一个指针走`n - cnt`步，即可得到倒数第`cnt`个节点\n",
        "- 根据题目要求结果，正确写出返回`return curr`"
      ],
      "metadata": {
        "id": "o3LHPYSrHjVv"
      }
    },
    {
      "cell_type": "markdown",
      "source": [
        "**回忆**：**`assert`**的用法\n",
        "- `assert condition, 'Error message'`"
      ],
      "metadata": {
        "id": "fVhRNL_RQJyI"
      }
    },
    {
      "cell_type": "code",
      "source": [
        "# Definition for singly-linked list.\n",
        "# class ListNode:\n",
        "#     def __init__(self, val=0, next=None):\n",
        "#         self.val = val\n",
        "#         self.next = next\n",
        "class Solution:\n",
        "    def trainingPlan(self, head: Optional[ListNode], cnt: int) -> Optional[ListNode]:\n",
        "        n = self.length(head)\n",
        "        assert cnt <= n\n",
        "        m = n - cnt\n",
        "        curr = head\n",
        "        count = 0\n",
        "        while count < m:\n",
        "            curr = curr.next\n",
        "            count += 1\n",
        "        return curr\n",
        "\n",
        "    def length(self, head):\n",
        "        curr = head\n",
        "        count = 0\n",
        "        while curr is not None:\n",
        "            curr = curr.next\n",
        "            count += 1\n",
        "        return count"
      ],
      "metadata": {
        "id": "WQNQZjobDrYI"
      },
      "execution_count": null,
      "outputs": []
    },
    {
      "cell_type": "markdown",
      "source": [
        "**可以使用一个list来存储节点，然后用list的`len`**"
      ],
      "metadata": {
        "id": "WbM2RWFPKRaj"
      }
    },
    {
      "cell_type": "code",
      "source": [
        "class Solution:\n",
        "    def trainingPlan(self, head: Optional[ListNode], cnt: int) -> Optional[ListNode]:\n",
        "        l = []\n",
        "        while head is not None:\n",
        "            l.append(head)\n",
        "            head = head.next\n",
        "        if cnt > len(l) or cnt <= 0:\n",
        "            return None\n",
        "        return l[-cnt]"
      ],
      "metadata": {
        "id": "9Pe7i711Kb-m"
      },
      "execution_count": null,
      "outputs": []
    },
    {
      "cell_type": "markdown",
      "source": [
        "#### **双指针**"
      ],
      "metadata": {
        "id": "PhYEuYV4LhX0"
      }
    },
    {
      "cell_type": "markdown",
      "source": [
        "不用统计链表长度，思路：\n",
        "- 初始化：前后指针`former` `latter`都指向头节点`head`\n",
        "- 构建双指针距离：`former`先向前走`cnt`步\n",
        "- 双指针共同移动：共同向前走，直到`former`走过链表尾节点时跳出\n",
        "- 返回值：`latter`"
      ],
      "metadata": {
        "id": "Yt-sVI8gLlSh"
      }
    },
    {
      "cell_type": "code",
      "source": [
        "# Definition for singly-linked list.\n",
        "# class ListNode:\n",
        "#     def __init__(self, val=0, next=None):\n",
        "#         self.val = val\n",
        "#         self.next = next\n",
        "class Solution:\n",
        "    def trainingPlan(self, head: Optional[ListNode], cnt: int) -> Optional[ListNode]:\n",
        "        former, latter = head, head\n",
        "        for _ in range(cnt):\n",
        "            if not former:  # 如果链表长度小于cnt，直接返回None\n",
        "                return None\n",
        "            former = former.next\n",
        "        while former is not None:\n",
        "            former = former.next\n",
        "            latter = latter.next\n",
        "        return latter"
      ],
      "metadata": {
        "id": "RQCGHzu1Ljkc"
      },
      "execution_count": null,
      "outputs": []
    },
    {
      "cell_type": "markdown",
      "source": [
        "### 题目5"
      ],
      "metadata": {
        "id": "gTk8eFkMQgWS"
      }
    },
    {
      "cell_type": "markdown",
      "source": [
        "给定两个以**有序链表**形式记录的训练计划`l1`、`l2`，分别记录了两套核心肌群训练项目编号\n",
        "- 结合这两个训练计划，按训练项目编号**升序**记录于链表，并返回\n",
        "- **注意**：新链表是通过拼接给定两个链表的所有节点组成的"
      ],
      "metadata": {
        "id": "ProUVY9UQjOn"
      }
    },
    {
      "cell_type": "markdown",
      "source": [
        "#### **自己**（双指针）：\n",
        "- **问题**：得到的链表，最前面**多出来一个`0`**，不知道应该怎么解决\n",
        "- 时间复杂度：$O(m+n)$\n",
        "\n",
        "回答：\n",
        "- 合并链表在**伪头节点**`l3`之后\n",
        "- `return`的时候直接`l3.next`不就行了吗 -_-\n",
        "\n"
      ],
      "metadata": {
        "id": "xt4siBZwu3WS"
      }
    },
    {
      "cell_type": "code",
      "source": [
        "# Definition for singly-linked list.\n",
        "# class ListNode:\n",
        "#     def __init__(self, val=0, next=None):\n",
        "#         self.val = val\n",
        "#         self.next = next\n",
        "class Solution:\n",
        "    def trainningPlan(self, l1: Optional[ListNode], l2: Optional[ListNode]) -> Optional[ListNode]:\n",
        "        l3 = ListNode()\n",
        "        p = l3\n",
        "        label1, label2 = l1, l2\n",
        "        while label1 is not None and label2 is not None:\n",
        "            if label1.val <= label2.val:\n",
        "                p.next = label1\n",
        "                p = p.next\n",
        "                label1 = label1.next\n",
        "            else:\n",
        "                p.next = label2\n",
        "                p = p.next\n",
        "                label2 = label2.next\n",
        "        if label1 is not None:\n",
        "            p.next = label1\n",
        "        if label2 is not None:\n",
        "            p.next = label2\n",
        "        return l3.next"
      ],
      "metadata": {
        "id": "cd9I2UgJQf45"
      },
      "execution_count": null,
      "outputs": []
    },
    {
      "cell_type": "markdown",
      "source": [
        "写的更**简单**一点"
      ],
      "metadata": {
        "id": "Z7pBUKmZz1iH"
      }
    },
    {
      "cell_type": "code",
      "source": [
        "class Solution:\n",
        "    def trainningPlan(self, l1: ListNode, l2: ListNode) -> ListNode:\n",
        "        cur = dummy = ListNode()\n",
        "        while l1 and l2:\n",
        "            if l1.val < l2.val:\n",
        "                cur.next, l1 = l1, l1.next\n",
        "            else:\n",
        "                cur.next, l2 = l2, l2.next\n",
        "            cur = cur.next\n",
        "        cur.next = l1 if l1 else l2\n",
        "        return dummy.next"
      ],
      "metadata": {
        "id": "tkKzfrgAz04X"
      },
      "execution_count": null,
      "outputs": []
    },
    {
      "cell_type": "markdown",
      "source": [
        "#### **使用递归**"
      ],
      "metadata": {
        "id": "5PfmYo4M0yRL"
      }
    },
    {
      "cell_type": "code",
      "source": [
        "class Solution:\n",
        "    def trainningPlan(self, l1: Optional[ListNode], l2: Optional[ListNode]) -> Optional[ListNode]:\n",
        "        if not l1 or not l2:  # 有是空的\n",
        "            return l2 if not l1 else l1\n",
        "\n",
        "        if l1.val <= l2.val:\n",
        "            l1.next = self.trainningPlan(l1.next, l2)\n",
        "            return l1\n",
        "        else:\n",
        "            l2.next = self.trainningPlan(l1, l2.next)\n",
        "            return l2"
      ],
      "metadata": {
        "id": "ncMaCJwixllT"
      },
      "execution_count": null,
      "outputs": []
    },
    {
      "cell_type": "markdown",
      "source": [
        "### 题目6"
      ],
      "metadata": {
        "id": "isuDKzGR5XtW"
      }
    },
    {
      "cell_type": "markdown",
      "source": [
        "以链表`l1`、`l2`记录两套核心肌群训练计划，节点值为训练项目编号\n",
        "- 两套训练计划只有前半部分热身项目不同，后续正常训练项目相同\n",
        "- 找出并返回第一个正式训练项目编号\n",
        "- 如果两链表不存在相交节点，返回`null`"
      ],
      "metadata": {
        "id": "VY2qdhAN5bNM"
      }
    },
    {
      "cell_type": "markdown",
      "source": [
        "#### **自己，有问题**：反转，然后逐个比较，看哪个对不上\n",
        "- 对题目的错误理解：**相交节点**的含义，比啥`.val`还\n",
        "- 再次思考：遍历算长度得**差值**，让长的先走差值"
      ],
      "metadata": {
        "id": "OmTDKle4AomY"
      }
    },
    {
      "cell_type": "code",
      "source": [
        "# Definition for singly-linked list.\n",
        "# class ListNode:\n",
        "#     def __init__(self, x):\n",
        "#         self.val = x\n",
        "#         self.next = None\n",
        "\n",
        "class Solution:\n",
        "    def getIntersectionNode(self, headA: ListNode, headB: ListNode) -> ListNode:\n",
        "        n1 = self.length(headA)\n",
        "        n2 = self.length(headB)\n",
        "        d = abs(n1 - n2)\n",
        "        if n1 >= n2:\n",
        "            for i in range(d):\n",
        "                headA = headA.next\n",
        "        else:\n",
        "            for i in range(d):\n",
        "                headB = headB.next\n",
        "        while headA and headB:\n",
        "            if headA != headB:\n",
        "                headA = headA.next\n",
        "                headB = headB.next\n",
        "            else:\n",
        "                return headA\n",
        "\n",
        "    def length(self, head):\n",
        "        count = 0\n",
        "        while head:\n",
        "            count += 1\n",
        "            head = head.next\n",
        "        return count"
      ],
      "metadata": {
        "id": "cm3Y33cf5ajL"
      },
      "execution_count": null,
      "outputs": []
    },
    {
      "cell_type": "markdown",
      "source": [
        "#### **巧妙的方法**：两个指针，**都遍历两个链表**\n",
        "- 时间复杂度：$O(n+m)$"
      ],
      "metadata": {
        "id": "NFtNRPftdNLC"
      }
    },
    {
      "cell_type": "code",
      "source": [
        "# Definition for singly-linked list.\n",
        "# class ListNode:\n",
        "#     def __init__(self, x):\n",
        "#         self.val = x\n",
        "#         self.next = None\n",
        "\n",
        "class Solution:\n",
        "    def getIntersectionNode(self, headA: ListNode, headB: ListNode) -> ListNode:\n",
        "        p, q = headA, headB\n",
        "        while p != q:\n",
        "            p = p.next if p else headB\n",
        "            q = q.next if q else headA\n",
        "        return p\n"
      ],
      "metadata": {
        "id": "UTTAMdH7dU1A"
      },
      "execution_count": null,
      "outputs": []
    },
    {
      "cell_type": "markdown",
      "source": [
        "### 题目7 随机链表的复制"
      ],
      "metadata": {
        "id": "aJ26qy3ke9DM"
      }
    },
    {
      "cell_type": "markdown",
      "source": [
        "**题目**：复制一个复杂链表\n",
        "- 在复杂链表中\n",
        "    - 每个节点除了有一个`next`指针指向下一个节点\n",
        "    - 还有一个`random`指针指向链表中的任意节点或`null`"
      ],
      "metadata": {
        "id": "oVeuvh-mfBh-"
      }
    },
    {
      "cell_type": "markdown",
      "source": [
        "**自己**没明白啥意思。。\n",
        "\n",
        "**复制普通链表**：\n",
        "- 遍历链表，每轮建立新节点\n",
        "- 构建前节点`pre`和当前节点的`node`的引用指向即可\n"
      ],
      "metadata": {
        "id": "vroPFCb2ipCx"
      }
    },
    {
      "cell_type": "code",
      "source": [
        "class ListNode:\n",
        "    def __init__(self, val=0, next=None):\n",
        "        self.val = val\n",
        "        self.next = next\n",
        "\n",
        "class Solution:\n",
        "    def copyList(self, head: 'ListNode') -> 'ListNode':\n",
        "        if not head:\n",
        "            return None\n",
        "        p = n = ListNode()\n",
        "        while head:\n",
        "            node = ListNode(head.val)\n",
        "            p.next = node\n",
        "            p = p.next\n",
        "            head = head.next\n",
        "        return n.next\n",
        "\n",
        "def list_to_linkedlist(arr):\n",
        "    dummy = ListNode()\n",
        "    curr = dummy\n",
        "    for value in arr:\n",
        "        curr.next = ListNode(value)\n",
        "        curr = curr.next\n",
        "    return dummy.next\n",
        "\n",
        "head = list_to_linkedlist([3, 6, 7, 1])\n",
        "Solution().copyList(head)"
      ],
      "metadata": {
        "colab": {
          "base_uri": "https://localhost:8080/"
        },
        "id": "WBDpX5LSnbbw",
        "outputId": "ceb3dd02-ca65-444d-84a2-1dd2648317ef"
      },
      "execution_count": null,
      "outputs": [
        {
          "output_type": "execute_result",
          "data": {
            "text/plain": [
              "<__main__.ListNode at 0x7e294c32ad10>"
            ]
          },
          "metadata": {},
          "execution_count": 3
        }
      ]
    },
    {
      "cell_type": "markdown",
      "source": [
        "**新增`random`指针**\n",
        "- 遍历复制，可以构建`next`引用指向，但**无法构建`random`引用指向**\n",
        "- **错误**如下"
      ],
      "metadata": {
        "id": "dZJB-WC_en7V"
      }
    },
    {
      "cell_type": "code",
      "source": [
        "\"\"\"\n",
        "# Definition for a Node.\n",
        "class Node:\n",
        "    def __init__(self, x: int, next: 'Node' = None, random: 'Node' = None):\n",
        "        self.val = int(x)\n",
        "        self.next = next\n",
        "        self.random = random\n",
        "\"\"\"\n",
        "class Solution:\n",
        "    def copyRandomList(self, head: 'Node') -> 'Node':\n",
        "        cur = head\n",
        "        dum = pre = Node()\n",
        "        while cur:\n",
        "            node = Node(cur.val)\n",
        "            pre.next = node\n",
        "            pre.random = cur.random  # cur.random指向的是原链表中的节点，不是新链表中的节点\n",
        "            cur = cur.next\n",
        "            pre = node\n",
        "        return dum.next"
      ],
      "metadata": {
        "id": "QzQQFIQ8epU0"
      },
      "execution_count": null,
      "outputs": []
    },
    {
      "cell_type": "markdown",
      "source": [
        "\n",
        "\n",
        "**正确解决方案**\n",
        "- 插入新结点：将每个原链表的节点后插入一个新结点\n",
        "- 复制`random`指针：新节点的`random`指针应指向原节点的`random`指针所指向结点后的继结点\n",
        "- 拆分链表：将两个链表分离，原链表恢复，而新链表形成独立链表"
      ],
      "metadata": {
        "id": "oHHGU-FbnaYv"
      }
    },
    {
      "cell_type": "markdown",
      "source": [
        "#### 方法1：**哈希表** important\n",
        "- 时间复杂度$O(N)$\n",
        "- 空间复杂度$O(N)$"
      ],
      "metadata": {
        "id": "-LhiY-fqce17"
      }
    },
    {
      "cell_type": "markdown",
      "source": [
        "**思路**：利用哈希表的查询特点，考虑构建**原链表节点**和**新链表对应节点**的**键值对映射关系**\n",
        "- 再遍历相应的`next`和`random`引用即可\n",
        "    - 在**复制`random`**指针时能**正确**地指向新链表中的结点\n",
        "\n"
      ],
      "metadata": {
        "id": "7Bdj2X_HdJHu"
      }
    },
    {
      "cell_type": "markdown",
      "source": [
        "**算法流程**：\n",
        "- 若头节点`head`是空节点，直接返回`null`\n",
        "- **初始化**：哈希表`hamp`，节头`cur`指向头节点\n",
        "- **复制链表**\n",
        "    - 建立新节点，并向`hmap`添加键值对\n",
        "    - `cur`遍历至原链表下一节点\n",
        "- **构建新链表的引用指向**\n",
        "    - 构建新结点的`next`和`random`引用指向\n",
        "    - `cur`遍历至原链表下一节点\n",
        "- **返回值**：新链表的头节点"
      ],
      "metadata": {
        "id": "HozSihWDhv2j"
      }
    },
    {
      "cell_type": "code",
      "source": [
        "class Solution:\n",
        "    def copyRandomList(self, head: 'Node') -> 'Node':\n",
        "        if not head:\n",
        "            return\n",
        "        hmap = {}\n",
        "        # 复制各节点，建立‘原节点->新节点'的Map映射\n",
        "        cur = head\n",
        "        while cur:\n",
        "            hmap[cur] = Node(cur.val)\n",
        "            cur = cur.next\n",
        "        cur = head\n",
        "        # 构建新节点的next和random指向\n",
        "        while cur:\n",
        "            hmap[cur].next = hmap.get(cur.next)\n",
        "            hmap[cur].random = hmap.get(cur.random)\n",
        "            cur = cur.next\n",
        "        # 返回新链表的头节点\n",
        "        return hmap[head]"
      ],
      "metadata": {
        "id": "bSKZ3-fTcfCo"
      },
      "execution_count": null,
      "outputs": []
    },
    {
      "cell_type": "markdown",
      "source": [
        "#### 方法2：拼接+拆分\n",
        "- 时间复杂度$O(N)$\n",
        "- 空间复杂度$O(1)$"
      ],
      "metadata": {
        "id": "VPi6lZySh3Zl"
      }
    },
    {
      "cell_type": "markdown",
      "source": [
        "算法流程：\n",
        "- 复制各节点，构建拼接链表\n",
        "- 构建新链表各节点的`random`指向\n",
        "- 拆分原/新链表\n",
        "- 返回新链表的头节点`res`即可"
      ],
      "metadata": {
        "id": "pwtlYOJbh6-4"
      }
    },
    {
      "cell_type": "code",
      "source": [
        "class Solution:\n",
        "    def copyRandomList(self, head: 'Node') -> 'Node':\n",
        "        if not head:\n",
        "            return\n",
        "        cur = head\n",
        "        # 复制各节点，并构建拼接链表\n",
        "        while cur:\n",
        "            node = Node(cur.val)\n",
        "            node.next = cur.next\n",
        "            cur.next = node\n",
        "            cur = node.next\n",
        "        # 构建各新节点的random指向\n",
        "        cur = head\n",
        "        while cur:\n",
        "            if cur.random:  # 只对那些有random指针的节点进行处理\n",
        "                node = cur.next\n",
        "                node.random = cur.random.next  # 注：要指向新建的node\n",
        "            cur = cur.next.next  # 注意这一步！！\n",
        "        # 拆分两链表\n",
        "        cur = res = head.next\n",
        "        pre = head\n",
        "        while cur.next:\n",
        "            pre.next = pre.next.next\n",
        "            cur.next = cur.next.next\n",
        "            pre = pre.next\n",
        "            cur = cur.next\n",
        "        pre.next = None  # 单独处理原链表尾节点\n",
        "        return res"
      ],
      "metadata": {
        "id": "MAkdDfi7if2g"
      },
      "execution_count": null,
      "outputs": []
    },
    {
      "cell_type": "markdown",
      "source": [
        "## 哈希表"
      ],
      "metadata": {
        "id": "LviMikiFtsLu"
      }
    },
    {
      "cell_type": "markdown",
      "source": [
        "哈希函数：\n",
        "- **功能**：输入数据，生成整数\n",
        "- **主要特点**：\n",
        "    - 不同的参数 → 不同的整数\n",
        "    - 同样的参数 → 相同的整数"
      ],
      "metadata": {
        "id": "p0NzdppwPDCP"
      }
    },
    {
      "cell_type": "markdown",
      "source": [
        "哈希函数的**简单实现**"
      ],
      "metadata": {
        "id": "tVxfkswfQXy_"
      }
    },
    {
      "cell_type": "code",
      "source": [
        "def cal_hash(keys):\n",
        "    square = 0\n",
        "    for key in keys:\n",
        "        square += ord(key) ** 2\n",
        "    mid = str(square)[3:6]\n",
        "    return int(mid)\n",
        "\n",
        "print(cal_hash('瓜'))\n",
        "print(cal_hash('瓜'))\n",
        "print(cal_hash('苹果'))"
      ],
      "metadata": {
        "colab": {
          "base_uri": "https://localhost:8080/"
        },
        "id": "HbzS8t0IPkgl",
        "outputId": "f3b85acd-1f7a-42f1-8c82-cc533d21781e"
      },
      "execution_count": 11,
      "outputs": [
        {
          "output_type": "stream",
          "name": "stdout",
          "text": [
            "967\n",
            "967\n",
            "771\n"
          ]
        }
      ]
    },
    {
      "cell_type": "markdown",
      "source": [
        "可以使用`SHA-256`或`MD5`等"
      ],
      "metadata": {
        "id": "jldeFl1fQbag"
      }
    },
    {
      "cell_type": "markdown",
      "source": [
        "#### 1.\n",
        "给定一个长度为`n`的整数数组`nums`，数组中的数的范围是`[1, 100]`，返回`nums`中出现一次的数的和"
      ],
      "metadata": {
        "id": "fFMBoPuGv0Wq"
      }
    },
    {
      "cell_type": "code",
      "source": [
        "def sumOfUnique(nums):\n",
        "\n",
        "    # 创建大小为101的哈希表，初始值为0\n",
        "    hash = [0] * 101\n",
        "    sum_unique = 0\n",
        "\n",
        "    for num in nums:\n",
        "        hash[num] += 1\n",
        "\n",
        "    for num in nums:\n",
        "        if hash[num] == 1:\n",
        "            sum_unique += num\n",
        "\n",
        "    return sum_unique\n",
        "\n",
        "nums = [1, 2, 3, 2, 3, 4, 5]\n",
        "print(sumOfUnique(nums))"
      ],
      "metadata": {
        "colab": {
          "base_uri": "https://localhost:8080/"
        },
        "id": "NrPUM3xFdYV-",
        "outputId": "021fbfe6-bc73-47be-a454-22c0524c6f1a"
      },
      "execution_count": null,
      "outputs": [
        {
          "output_type": "stream",
          "name": "stdout",
          "text": [
            "10\n"
          ]
        }
      ]
    },
    {
      "cell_type": "markdown",
      "source": [
        "#### 2.\n",
        "给定一个长度为`2n`整数数组`nums`，数组中的数的范围是`[1, 500]`，判断是否可以划分为`n`个数对\n",
        "- 每个数只属于一个数对\n",
        "- 同一数对中元素相等"
      ],
      "metadata": {
        "id": "41oIgAGVyjNi"
      }
    },
    {
      "cell_type": "code",
      "source": [
        "def fun(nums):\n",
        "    hash = [0] * 501\n",
        "    for num in nums:\n",
        "        hash[num] += 1\n",
        "    for count in hash[1:]:\n",
        "        if count % 2 != 0:\n",
        "            return False\n",
        "    return True"
      ],
      "metadata": {
        "id": "E5FkDW2O1LyG"
      },
      "execution_count": null,
      "outputs": []
    },
    {
      "cell_type": "markdown",
      "source": [
        "#### 3.\n",
        "给定一个仅由小写英文字母组成的字符串，判断是否是全字母（包含所有字母）句"
      ],
      "metadata": {
        "id": "75ChDi4n2cmz"
      }
    },
    {
      "cell_type": "markdown",
      "source": [
        "- `ord()`：可以将字符串中的每个字符转换为对应的ASCII码值\n",
        "- 使用一个256长度的数组可以覆盖所有可能的ASCII字符"
      ],
      "metadata": {
        "id": "-H2VhOyl3jU_"
      }
    },
    {
      "cell_type": "code",
      "source": [
        "def checkIfPangram(sentence: str) -> bool:\n",
        "    hash = [0] * 256\n",
        "    for char in sentence:\n",
        "        hash[ord(char)] += 1\n",
        "    for i in range(ord('a'), ord('z') + 1):  # 遍历从`a`到`z`的ASCII码范围\n",
        "        if hash[i] == 0:\n",
        "            return False\n",
        "    return True\n",
        "\n",
        "checkIfPangram('abcd')"
      ],
      "metadata": {
        "colab": {
          "base_uri": "https://localhost:8080/"
        },
        "id": "RXcbhxCG3JoI",
        "outputId": "5b040201-f336-4bcb-de80-8dfbaf1a6994"
      },
      "execution_count": null,
      "outputs": [
        {
          "output_type": "execute_result",
          "data": {
            "text/plain": [
              "False"
            ]
          },
          "metadata": {},
          "execution_count": 10
        }
      ]
    },
    {
      "cell_type": "markdown",
      "source": [
        "#### 4.\n",
        "给定一个`n`个元素的整数数组`nums`，数组中的数的范围是`[1, 100]`\n",
        "- 如果一组数字`(i, j)`满足一下两个条件，可以认为是一组好数对\n",
        "    - `i < j`\n",
        "    - `nums[i] = nums[j]`\n",
        "- 返回好数对的数量\n",
        "\n",
        "**注**：这里`i`,`j`是**下标**"
      ],
      "metadata": {
        "id": "53Vtm62Z42ZT"
      }
    },
    {
      "cell_type": "code",
      "source": [
        "def numIdenticalPairs(nums: list[int]) -> int:\n",
        "    ans = 0\n",
        "    hash = [0] * 101\n",
        "    for num in nums:\n",
        "        ans += hash[num]\n",
        "        hash[num] += 1"
      ],
      "metadata": {
        "id": "-OorDnwf4ZF7"
      },
      "execution_count": null,
      "outputs": []
    },
    {
      "cell_type": "markdown",
      "source": [
        "#### 5.\n",
        "给定一个`n`个元素的整数数组`nums`和一个整数`k`，数组中的数的范围是`[1, 100]`\n",
        "- 求满足一下两个条件的数对`(i, j)`的数量\n",
        "    - `i < j`\n",
        "    - `|nums[i] - nums[j]| = k`\n",
        "- 返回好数对的数量"
      ],
      "metadata": {
        "id": "kmJidubE8ohb"
      }
    },
    {
      "cell_type": "code",
      "source": [
        "def countKDifference(nums: list[int], k: input) -> int:\n",
        "    ans = 0\n",
        "    hash = [0] * 101\n",
        "    for num in nums:\n",
        "        if num <= k:\n",
        "            ans += hash[num + k]\n",
        "        elif num > k and num <= 100 - k:\n",
        "            ans += hash[num + k]\n",
        "            ans += hash[num - k]\n",
        "        else:\n",
        "            ans += hash[num - k]  # 也可以多一个变量x = num + k，以及x = num - k来做也没有问题\n",
        "        hash[num] += 1\n",
        "    return ans\n",
        "\n",
        "numIdenticalPairs([1, 2, 3, 100, 1, 3], 2)"
      ],
      "metadata": {
        "colab": {
          "base_uri": "https://localhost:8080/"
        },
        "id": "X5Pa49bX9JEa",
        "outputId": "6021b5c3-0f30-4eed-b893-3d37f04f04b4"
      },
      "execution_count": null,
      "outputs": [
        {
          "output_type": "execute_result",
          "data": {
            "text/plain": [
              "6"
            ]
          },
          "metadata": {},
          "execution_count": 12
        }
      ]
    },
    {
      "cell_type": "markdown",
      "source": [
        "#### 6.看\n",
        "题目：**给定**一个`n`个元素的`0/1`数组`nums`，数组中的数的范围是`[0, 1]`，以及一个整数`goal`\n",
        "- `n`最大为30000\n",
        "- 统计有多少和为`goal`的非空子数组\n",
        "\n"
      ],
      "metadata": {
        "id": "sMsJdI029ImY"
      }
    },
    {
      "cell_type": "markdown",
      "source": [
        "**方法**：前缀和+差分，利用哈希表查找\n",
        "- `sum[i] - sum[t] == goal`,`t ∈ [-1, i - 1]`\n",
        "- `sum[i] = sum[t] + goal`\n",
        "\n",
        "**整体偏移`goal`**，且初始时考虑为空数组数组和恰好等于`goal`的情况\n",
        "- `ans += hash[sum[i]]`\n",
        "- `hash[sum[i] + goal] += 1`\n",
        "\n"
      ],
      "metadata": {
        "id": "k98-ibssEE2c"
      }
    },
    {
      "cell_type": "markdown",
      "source": [
        "**哈希表**：\n",
        "- `hash[sum]`表示前缀和为`sum`的子数组出现的次数\n",
        "- 遍历时\n",
        "    - 在每个元素`nums[i]`时计算当前的前缀和`current_sum`\n",
        "    - 查询哈希表，看是否有之间的前缀和满足`current_sum - goal`，即找到多少个子数组的和等于`goal`\n",
        "    - 将`current_sum`存入哈希表，用来计算后续可能的子数组"
      ],
      "metadata": {
        "id": "bshqkeD7KJ-d"
      }
    },
    {
      "cell_type": "code",
      "source": [
        "def numSubarrayWithSum(nums: list[int], goal: int) -> int:\n",
        "    # 存储前缀和的哈希表，需要一个更大的哈希表\n",
        "    hash = [0] * 60010\n",
        "    ans = 0\n",
        "    # 计算前缀和\n",
        "    for i in range(1, len(nums)):\n",
        "        nums[i] += nums[i - 1]\n",
        "    # 初始化哈希表，（空数组或前缀和等于goal的数组）\n",
        "    hash[goal] = 1\n",
        "    # 遍历数组\n",
        "    for i in range(len(nums)):\n",
        "        ans += hash[nums[i]]\n",
        "        # 将当前前缀和存入哈希表中\n",
        "        hash[nums[i] + goal] += 1\n",
        "    return ans\n",
        "\n",
        "numSubarrayWithSum([1, 0, 1, 0, 1], 2)"
      ],
      "metadata": {
        "colab": {
          "base_uri": "https://localhost:8080/"
        },
        "id": "A_RGI84Bu5eX",
        "outputId": "45c04ab5-14d0-4eaf-d528-48a09ddf121a"
      },
      "execution_count": 5,
      "outputs": [
        {
          "output_type": "execute_result",
          "data": {
            "text/plain": [
              "4"
            ]
          },
          "metadata": {},
          "execution_count": 5
        }
      ]
    },
    {
      "cell_type": "markdown",
      "source": [
        "#### 7.\n",
        "题目：给定一个`n`个元素的数组`nums`，数组中的数的范围是`[1, 1000]`，以及一个整数`k`\n",
        "- `n`最大为100000\n",
        "- 统计有多少和为`k`的非空子数组"
      ],
      "metadata": {
        "id": "00IL6EmFKzTG"
      }
    },
    {
      "cell_type": "markdown",
      "source": [
        "如果用数组模拟哈希表，会导致数组下标越界"
      ],
      "metadata": {
        "id": "ykL9-CEiMRh9"
      }
    },
    {
      "cell_type": "code",
      "source": [
        "class Solution:\n",
        "    def subarraySum(self, nums:list[int], k: int) -> int:\n",
        "        hash = {}\n",
        "        ans = 0\n",
        "\n",
        "        # 计算前缀和\n",
        "        for i in range(1, len(nums)):\n",
        "            nums[i] += nums[i - 1]\n",
        "        # 初始化哈希表\n",
        "        hash[k] = 1\n",
        "        # 遍历数组\n",
        "        for i in range(len(nums)):\n",
        "            if nums[i] in hash:\n",
        "                ans += hash[nums[i]]\n",
        "            if nums[i] + k in hash:\n",
        "                hash[nums[i] + k] += 1\n",
        "            else:\n",
        "                hash[nums[i] + k] = 1\n",
        "        return ans\n"
      ],
      "metadata": {
        "id": "5d5yt6k0LEsW"
      },
      "execution_count": null,
      "outputs": []
    },
    {
      "cell_type": "markdown",
      "source": [
        "#### 8.看\n",
        "题目：给定四个整数数组，`nums1`，`nums2`，`nums3`，`nums4`\n",
        "- 数组长度为`n`（`n <= 200`）\n",
        "- 数据范围是`[-2^28, 2^28]`\n",
        "- 计算有多少个元组`(i, j, k, l)`能满足以下两个条件：\n",
        "    - `0 <= i, j, k, l < n`\n",
        "    - `nums1[i] + nums2[j] + nums3[k] + nums4[l] == 0`"
      ],
      "metadata": {
        "id": "U11vvDimMuAb"
      }
    },
    {
      "cell_type": "markdown",
      "source": [
        "- `nums1[i] + nums2[j] + nums3[k] + nums4[l] == 0`\n",
        "→\n",
        "`-(nums1[i] + nums2[j]) == (nums3[k] + nums4[l])`\n",
        "- `hash[-(nums1[i] + nums2[j])] += 1`\n",
        "- `ans += hash[(nums3[k] + nums4[l])]`"
      ],
      "metadata": {
        "id": "AvLaPrfoUw_L"
      }
    },
    {
      "cell_type": "code",
      "source": [
        "class Solution:\n",
        "    def fourSumCount(self, nums1: list[int], nums2: list[int], nums3: list[int], nums4: list[int]) -> int:\n",
        "        hash = {}\n",
        "        ans = 0\n",
        "\n",
        "        # 计算nums1和nums2的和，记录在哈希表中\n",
        "        for num1 in nums1:\n",
        "            for num2 in nums2:\n",
        "                if -(num1 + num2) in hash:\n",
        "                    hash[-(num1 + num2)] += 1\n",
        "                else:\n",
        "                    hash[-(num1 + num2)] = 1\n",
        "\n",
        "        # 计算nums3和nums4的和，在哈希表中找对应的值\n",
        "        for num3 in nums3:\n",
        "            for num4 in nums4:\n",
        "                if (num3 + num4) in hash:\n",
        "                    ans += hash[num3 + num4]\n",
        "\n",
        "        return ans\n",
        "\n",
        "Solution().fourSumCount([1, 2], [-2, -1], [-1, 2], [0, 2])"
      ],
      "metadata": {
        "colab": {
          "base_uri": "https://localhost:8080/"
        },
        "id": "yTza3LPrUIFL",
        "outputId": "9f572332-c7b5-4d27-b721-7cdcf04590fb"
      },
      "execution_count": 14,
      "outputs": [
        {
          "output_type": "execute_result",
          "data": {
            "text/plain": [
              "2"
            ]
          },
          "metadata": {},
          "execution_count": 14
        }
      ]
    },
    {
      "cell_type": "markdown",
      "source": [
        "#### 9.就是前面6题啊\n",
        "题目：给定两个单链表的头结点，求交点，不相交则返回`NULL`"
      ],
      "metadata": {
        "id": "I9QRrzMgVneC"
      }
    },
    {
      "cell_type": "code",
      "source": [
        "class ListNode:\n",
        "    def __init__(self, x):\n",
        "        self.val = x\n",
        "        self.next = None\n",
        "\n",
        "class Solution:\n",
        "    def getIntersectionNode(self, headA: ListNode, headB: ListNode) -> ListNode:\n",
        "        hash = {}\n",
        "\n",
        "        # 遍历链表A，将结点存入哈希表中\n",
        "        while headA:\n",
        "            hash[headA] = True\n",
        "            headA = headA.next\n",
        "\n",
        "        # 遍历链表B，检查每个结点是否在哈希表中\n",
        "        while headB:\n",
        "            if headB in hash:\n",
        "                return headB\n",
        "            headB = headB.next\n",
        "\n",
        "        return None"
      ],
      "metadata": {
        "id": "QgubJaGIV2uS"
      },
      "execution_count": 15,
      "outputs": []
    },
    {
      "cell_type": "code",
      "source": [
        "# 创建链表节点\n",
        "a1 = ListNode(4)\n",
        "a2 = ListNode(1)\n",
        "b1 = ListNode(5)\n",
        "b2 = ListNode(6)\n",
        "b3 = ListNode(1)\n",
        "c1 = ListNode(8)\n",
        "c2 = ListNode(4)\n",
        "c3 = ListNode(5)\n",
        "\n",
        "# 构建链表\n",
        "a1.next = a2\n",
        "a2.next = c1\n",
        "b1.next = b2\n",
        "b2.next = b3\n",
        "b3.next = c1\n",
        "c1.next = c2\n",
        "c2.next = c3\n",
        "\n",
        "Solution().getIntersectionNode(a1, b1)"
      ],
      "metadata": {
        "colab": {
          "base_uri": "https://localhost:8080/"
        },
        "id": "prGtgruebuOv",
        "outputId": "f4af3fb5-fa90-4267-826e-9a30c52aa8ec"
      },
      "execution_count": 16,
      "outputs": [
        {
          "output_type": "execute_result",
          "data": {
            "text/plain": [
              "<__main__.ListNode at 0x79352ac07850>"
            ]
          },
          "metadata": {},
          "execution_count": 16
        }
      ]
    }
  ]
}