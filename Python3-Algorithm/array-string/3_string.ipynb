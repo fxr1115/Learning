{
  "nbformat": 4,
  "nbformat_minor": 0,
  "metadata": {
    "colab": {
      "provenance": [],
      "authorship_tag": "ABX9TyMKnL2skmj93sL5EfOJcN+L",
      "include_colab_link": true
    },
    "kernelspec": {
      "name": "python3",
      "display_name": "Python 3"
    },
    "language_info": {
      "name": "python"
    }
  },
  "cells": [
    {
      "cell_type": "markdown",
      "metadata": {
        "id": "view-in-github",
        "colab_type": "text"
      },
      "source": [
        "<a href=\"https://colab.research.google.com/github/fxr1115/Learning/blob/main/Python3-Algorithm/array-string/3_string.ipynb\" target=\"_parent\"><img src=\"https://colab.research.google.com/assets/colab-badge.svg\" alt=\"Open In Colab\"/></a>"
      ]
    },
    {
      "cell_type": "code",
      "source": [
        "from typing import List"
      ],
      "metadata": {
        "id": "fE0RqW0CCxyY"
      },
      "execution_count": 3,
      "outputs": []
    },
    {
      "cell_type": "markdown",
      "source": [
        "### 字符串"
      ],
      "metadata": {
        "id": "ecZR1bFIA-aJ"
      }
    },
    {
      "cell_type": "markdown",
      "source": [
        "- 字符串的基本操作对象通常是字符串整体或者其子串\n",
        "- 字符串操作比其他数据类型更复杂\n",
        "- Python可以使用`==`来比较两个字符串\n",
        "- Python中，字符串**不可变**——进行字符串的连接操作会带来一些问题，哪怕只是修改其中一个字符，也需要创建一个新的字符串"
      ],
      "metadata": {
        "id": "hbQy72UfBC4r"
      }
    },
    {
      "cell_type": "markdown",
      "source": [
        "### 题目1 最长公共前缀\n",
        "编写一个函数来查找字符串数组中的最长公共前缀，如果不存在公共前缀，返回空字符串"
      ],
      "metadata": {
        "id": "hMrmZi3DBJ3C"
      }
    },
    {
      "cell_type": "markdown",
      "source": [
        "**疏忽**：没有考虑到长度问题，索引会超过一些`str`\n",
        "- `str.join(iterable)`拼接字符串"
      ],
      "metadata": {
        "id": "gKkN7skXBinu"
      }
    },
    {
      "cell_type": "code",
      "execution_count": 4,
      "metadata": {
        "colab": {
          "base_uri": "https://localhost:8080/",
          "height": 35
        },
        "id": "DrrjICjmA6pf",
        "outputId": "5e8f2024-a839-44bc-d7c8-6f3bfbdb4a1c"
      },
      "outputs": [
        {
          "output_type": "execute_result",
          "data": {
            "text/plain": [
              "'fl'"
            ],
            "application/vnd.google.colaboratory.intrinsic+json": {
              "type": "string"
            }
          },
          "metadata": {},
          "execution_count": 4
        }
      ],
      "source": [
        "def longestCommonPrefix(strs: List[str]) -> str:\n",
        "    con = []\n",
        "    fir = strs[0]\n",
        "    for i in range(len(fir)):\n",
        "        for str in strs[1:]:\n",
        "            if len(str) < i:\n",
        "                return ''.join(con)\n",
        "            else:\n",
        "                if fir[i] != str[i]:\n",
        "                    return ''.join(con)\n",
        "        con.append(fir[i])\n",
        "    return ''.join(con)\n",
        "\n",
        "longestCommonPrefix([\"flower\",\"flow\",\"flight\"])"
      ]
    },
    {
      "cell_type": "markdown",
      "source": [
        "**优化**：\n",
        "- 多次对字符串进行长度检查，重复执行，可以*提前做检查*\n",
        "- 先用con保存再拼接，多余，*直接使用字符串*处理更高效\n",
        "- 嵌套循环中，每次都要索引访问`fir[i]`和`str[i]`，可以通过*短路优化*\n",
        "\n",
        "**注**：\n",
        "- `startswith()`是Python字符串的内置方法，判断是否以指定前缀开头"
      ],
      "metadata": {
        "id": "m2eev99jC5j8"
      }
    },
    {
      "cell_type": "code",
      "source": [
        "def longestCommonPrefix(strs: List[str]) -> str:\n",
        "    if not strs:\n",
        "        return ''\n",
        "    # 找到最短字符串长度，初始化为第一个字符串的前min_len个字符\n",
        "    min_len = min(len(str) for str in strs)\n",
        "    prefix = strs[0][:min_len]\n",
        "\n",
        "    for str in strs:\n",
        "        while not str.startswith(prefix):\n",
        "            prefix = prefix[:-1]\n",
        "            if not prefix:\n",
        "                return ''\n",
        "    return prefix\n",
        "\n",
        "longestCommonPrefix([\"flower\",\"flow\",\"flight\"])"
      ],
      "metadata": {
        "colab": {
          "base_uri": "https://localhost:8080/",
          "height": 35
        },
        "id": "kwyrZy0CDEjD",
        "outputId": "9b297a5f-f2c4-47df-a019-0e09ee7f59d4"
      },
      "execution_count": 6,
      "outputs": [
        {
          "output_type": "execute_result",
          "data": {
            "text/plain": [
              "'fl'"
            ],
            "application/vnd.google.colaboratory.intrinsic+json": {
              "type": "string"
            }
          },
          "metadata": {},
          "execution_count": 6
        }
      ]
    },
    {
      "cell_type": "markdown",
      "source": [
        "使用**字典排序**，优化公共前缀的查找\n",
        "- 通过公共前缀的查找，则公共前缀一定是`strs[0]`和`strs[-1]`的公共前缀"
      ],
      "metadata": {
        "id": "z0CPir9pEXTr"
      }
    },
    {
      "cell_type": "code",
      "source": [
        "def longestCommonPrefix(strs: List[str]) -> str:\n",
        "    str1 = ''\n",
        "    strs.sort()\n",
        "\n",
        "    for i in range(min(len(str) for str in strs)):\n",
        "        if strs[0][i] == strs[-1][i]:\n",
        "            str1 += strs[0][i]\n",
        "        else:\n",
        "            break\n",
        "    return str1\n",
        "\n",
        "longestCommonPrefix([\"flower\",\"flow\",\"flight\"])"
      ],
      "metadata": {
        "colab": {
          "base_uri": "https://localhost:8080/",
          "height": 35
        },
        "id": "QroovJidEfOx",
        "outputId": "734176a5-a566-419e-ae28-58355e01098e"
      },
      "execution_count": 9,
      "outputs": [
        {
          "output_type": "execute_result",
          "data": {
            "text/plain": [
              "'fl'"
            ],
            "application/vnd.google.colaboratory.intrinsic+json": {
              "type": "string"
            }
          },
          "metadata": {},
          "execution_count": 9
        }
      ]
    },
    {
      "cell_type": "markdown",
      "source": [
        "### 题目2 最长回文子串\n",
        "给一个字符串，找到字符串中最长的 回文子串（正反读都是一样的内容）"
      ],
      "metadata": {
        "id": "htG5V8gxFZZk"
      }
    },
    {
      "cell_type": "code",
      "source": [
        "def longestPalindrome(s: str) -> str:\n",
        "    n = len(s)\n",
        "    result = s[0]\n",
        "    for i in range(2, n + 1):\n",
        "        for j in range(n - i + 1):\n",
        "            str = s[j: j + i]\n",
        "            if str == str[::-1]:\n",
        "                result = str\n",
        "    return result\n",
        "\n",
        "longestPalindrome(\"babad\")"
      ],
      "metadata": {
        "colab": {
          "base_uri": "https://localhost:8080/",
          "height": 35
        },
        "id": "A3agglSYFf8t",
        "outputId": "8fb4f595-a3a0-4944-e002-57771b33d7c6"
      },
      "execution_count": 11,
      "outputs": [
        {
          "output_type": "execute_result",
          "data": {
            "text/plain": [
              "'aba'"
            ],
            "application/vnd.google.colaboratory.intrinsic+json": {
              "type": "string"
            }
          },
          "metadata": {},
          "execution_count": 11
        }
      ]
    },
    {
      "cell_type": "markdown",
      "source": [
        "**代码改进**：（子串的重复检查，复杂度较高）\n",
        "- 生成并检查*所有可能*的子串，即使有些子串已经被验证过了，也会再次检查\n",
        "- 每次通过*切片和反转*检查回文，增加重复计算\n",
        "- 整体复杂度为**$O(n^3)$**，暴力枚举方式在较长字符串时性能会很差<外层循环、内层循环、切片反转>\n",
        "\n",
        "注：\n",
        "- `s[a, b]`，切片是左闭右开的区间，取不到`b`"
      ],
      "metadata": {
        "id": "Z-IRxCnGGhHa"
      }
    },
    {
      "cell_type": "markdown",
      "source": [
        "**优化**：**中心扩展法**\n",
        "- 利用回文的对称性，以每个字符或字符间隙为中心，向两侧扩展找到最长回文子串，复杂度为O(n^2)\n",
        "- 避免了生成和遍历所有子串，*只需检查**$O(n)$**个中心点*，而每个中心扩张的复杂度为$O(n)$，所以**总复杂度为$O(n^2)$**\n",
        "- *不再需要*字符串切片和反转操作，直接通过指针扩展判断回文"
      ],
      "metadata": {
        "id": "vinMBz9ZGugd"
      }
    },
    {
      "cell_type": "code",
      "source": [
        "class Solution:\n",
        "    def longestPalindrome(self, s: str) -> str:\n",
        "        n = len(s)\n",
        "        if n <= 1:\n",
        "            return s[0]\n",
        "\n",
        "        start, max_len = 0, 0\n",
        "        for i in range(n):\n",
        "            len1 = self.expand_around_center(s, i, i)     # 奇数长回文\n",
        "            len2 = self.expand_around_center(s, i, i + 1)  # 偶数长回文\n",
        "            curr_len = max(len1, len2)\n",
        "            # 更新回文起始位置和长度\n",
        "            if curr_len > max_len:\n",
        "                max_len = curr_len\n",
        "                start = i - (curr_len - 1) //2\n",
        "        return s[start: start + max_len]\n",
        "\n",
        "    def expand_around_center(self, s, left, right):\n",
        "        # 从中心扩展，找到最长回文\n",
        "        while left >= 0 and right < len(s) and s[left] == s[right]:\n",
        "            left -= 1\n",
        "            right += 1\n",
        "        return right - left - 1\n",
        "\n",
        "Solution().longestPalindrome(\"babad\")"
      ],
      "metadata": {
        "colab": {
          "base_uri": "https://localhost:8080/",
          "height": 35
        },
        "id": "opmFu7hsGYrx",
        "outputId": "bb2b05f6-fe15-4b9e-9804-4c6ceac37d36"
      },
      "execution_count": 16,
      "outputs": [
        {
          "output_type": "execute_result",
          "data": {
            "text/plain": [
              "'bab'"
            ],
            "application/vnd.google.colaboratory.intrinsic+json": {
              "type": "string"
            }
          },
          "metadata": {},
          "execution_count": 16
        }
      ]
    },
    {
      "cell_type": "markdown",
      "source": [
        "#### **动态规划**\n",
        "- 通过子串是否为回文来避免重复计算，时间复杂度$O(n^2)$\n",
        "- 利用**二维数组**记录子串是否为回文"
      ],
      "metadata": {
        "id": "0r_-7d-jK39Y"
      }
    },
    {
      "cell_type": "markdown",
      "source": [
        "- 核心思想\n",
        "    - 回文的性质：\n",
        "        - 一个子串`s[i:, j+1]`是回文，当且仅当\n",
        "            - `s[i] = s[j]`（子串两端字符相等）\n",
        "            - `s[i+1: j]`是回文（去掉首尾字符后的子串是回文）\n",
        "    - 状态定义：\n",
        "        - 定义一个二维布尔数组`dp`，其中`dp[i][j]`表示字符串`s[i: j+1]`是否为回文\n",
        "    - 状态转移方程：\n",
        "        - 如果`s[i]==s[j]`，则：\n",
        "            - 当子串长度为1或2时，`dp[i][j] = True`，即单个字符或两个相等的字符是回文\n",
        "            - 当子串长度大于2时，`dp[i][j] = dp[i+1][j-1]`，即去掉收尾后的子串也需是回文\n",
        "    - 初始化：\n",
        "        - 所有单个字符是回文，`dp[i][j] = True`\n",
        "    - 结果：\n",
        "        - 通过遍历`dp`找到最长的回文子串\n"
      ],
      "metadata": {
        "id": "1dvIlMZvLBsl"
      }
    },
    {
      "cell_type": "code",
      "source": [
        "def longestPalindrome(s: str) -> str:\n",
        "    n = len(s)\n",
        "    if n <= 1:\n",
        "        return s[0]\n",
        "\n",
        "    # 生成一个n*n矩阵\n",
        "    dp = [[False] * n for _ in range(n)]\n",
        "    start, max_len = 0, 1\n",
        "\n",
        "    for i in range(n):\n",
        "        dp[i][i] = True\n",
        "\n",
        "    for length in range(2, n + 1):\n",
        "        for i in range(n - length + 1):  # 遍历起始位置\n",
        "            j = i + length - 1     # 结束位置\n",
        "\n",
        "            if s[i] == s[j]:\n",
        "                if length == 2:\n",
        "                    dp[i][j] = True\n",
        "                elif s[i + 1] == s[j - 1]:\n",
        "                    dp[i][j] = True\n",
        "\n",
        "            if dp[i][j] and length > max_len:\n",
        "                start = i\n",
        "                max_len = length\n",
        "    return s[start: start + max_len]\n",
        "\n",
        "longestPalindrome(\"babad\")"
      ],
      "metadata": {
        "colab": {
          "base_uri": "https://localhost:8080/",
          "height": 35
        },
        "id": "pnRuPOJpLPfS",
        "outputId": "adcbebd0-f619-4fa8-a2ae-2eb9f9116c8f"
      },
      "execution_count": 19,
      "outputs": [
        {
          "output_type": "execute_result",
          "data": {
            "text/plain": [
              "'bab'"
            ],
            "application/vnd.google.colaboratory.intrinsic+json": {
              "type": "string"
            }
          },
          "metadata": {},
          "execution_count": 19
        }
      ]
    },
    {
      "cell_type": "markdown",
      "source": [
        "**Manacher算法**：（比较复杂，有时间再看）\n",
        "- 是一个线性时间算法O(n)，通过在字符串中插入特殊字符来避免奇偶回文的判断，并利用已有的回文信息来减少计算\n",
        "- 核心思想：\n",
        "    - 奇偶回文统一处理：在每个字符之间插入特殊字符`#`，将奇数长度和偶数长度的回文统一处理，如`abc`为`#a#b#c#`\n",
        "    - 记录半径数组：定义一个数组`p`，`p[i]`表示以位置`i`为中心的回文半径（不包括中心点）\n",
        "    - 中心扩展优化：用变量`center`表示当前回文的中心，`right`表示这个回文的右边界\n",
        "        - 如果`i`位于`right`的范围内，可以利用对称性直接得出部分回文信息，不需重新计算\n",
        "    - 结果还原：通过数组`p`找到最大回文的中心和半径，从而提取出原始文字中的最长回文"
      ],
      "metadata": {
        "id": "pc1LvFskNNtC"
      }
    },
    {
      "cell_type": "markdown",
      "source": [
        "### 题目3 翻转字符串中的单词\n",
        "给一个字符串，反转字符串中的单词顺序\n",
        "- （返回单词顺序颠倒且单词之间用单个空格连接的结果字符串，并且不存在前导空格和尾随空格）"
      ],
      "metadata": {
        "id": "9oEw2pWRNWb6"
      }
    },
    {
      "cell_type": "markdown",
      "source": [
        "- **`.split()`**，即使用单个空格作为分隔符，多个连续的空格会被视为分隔符之间的空内容，得到空字符串`''`"
      ],
      "metadata": {
        "id": "hWL9l3NPNw_G"
      }
    },
    {
      "cell_type": "code",
      "source": [
        "def reverseWords(s: str) -> str:\n",
        "    s = s.strip()\n",
        "    s_list = s.split(' ')\n",
        "    s_list1 = []\n",
        "    for str in s_list:\n",
        "        if str:\n",
        "            str.strip()\n",
        "            s_list1.append(str)\n",
        "    s_list2 = s_list1[::-1]\n",
        "    return ' '.join(s_list2)\n",
        "\n",
        "reverseWords(\"the sky is blue\")"
      ],
      "metadata": {
        "colab": {
          "base_uri": "https://localhost:8080/",
          "height": 35
        },
        "id": "y6NOYuDILUpG",
        "outputId": "9fd81182-db92-42fd-f2ee-f99ec10fd7ca"
      },
      "execution_count": 20,
      "outputs": [
        {
          "output_type": "execute_result",
          "data": {
            "text/plain": [
              "'blue is sky the'"
            ],
            "application/vnd.google.colaboratory.intrinsic+json": {
              "type": "string"
            }
          },
          "metadata": {},
          "execution_count": 20
        }
      ]
    },
    {
      "cell_type": "markdown",
      "source": [
        "**优化**：\n",
        "- *避免不必要的遍历*：对`s_list`遍历两次（分隔过滤空字符串，反转列表），可以直接使用`split()`，会自动忽略多余的空格\n",
        "- 不需要显式调用`strip()`，当**`split()`不传参**时，会自动移除字符串两端的空白字符\n",
        "- *简化反转*：直接在分割后调用`[::-1]`反转列表，无需显示创建`s_list1`和`s_list2`"
      ],
      "metadata": {
        "id": "MKJsxg_HOoU7"
      }
    },
    {
      "cell_type": "code",
      "source": [
        "def reverseWords(s: str) -> str:\n",
        "    return ' '.join(s.split()[::-1])\n",
        "\n",
        "reverseWords(\"the sky is blue\")"
      ],
      "metadata": {
        "colab": {
          "base_uri": "https://localhost:8080/",
          "height": 35
        },
        "id": "y5e7hVNwJS-R",
        "outputId": "8a7f52c4-4a42-4cef-ecd0-16db8bf06bed"
      },
      "execution_count": 21,
      "outputs": [
        {
          "output_type": "execute_result",
          "data": {
            "text/plain": [
              "'blue is sky the'"
            ],
            "application/vnd.google.colaboratory.intrinsic+json": {
              "type": "string"
            }
          },
          "metadata": {},
          "execution_count": 21
        }
      ]
    },
    {
      "cell_type": "markdown",
      "source": [
        "### **字符串匹配算法**：**KMP**(Knuth-Morris-Pratt)\n"
      ],
      "metadata": {
        "id": "Q3DU2MCDO-Hn"
      }
    },
    {
      "cell_type": "markdown",
      "source": [
        "- 一种改进的字符串匹配算法，核心是利用匹配失败后的信息，尽量减少模式串与主串的匹配次数以达到快速匹配的目的，时间复杂度是O(m+n)\n",
        "- 思想：（B站）\n",
        "    - 模式串是主要，分析模式串就可以匹配任意的主串：每次开始比较的位置，就是当前最大公共前后缀长度加一\n",
        "- **还没明白**"
      ],
      "metadata": {
        "id": "e4WBABYWPPRc"
      }
    },
    {
      "cell_type": "markdown",
      "source": [
        "### 题目4 找出字符串中第一个匹配项的下标\n",
        "在`haystack`字符串中找到`needle`字符串的第一个匹配项的下标（从0开始），如果没有匹配的，返回`-1`\n"
      ],
      "metadata": {
        "id": "iw5uAWguPTnb"
      }
    },
    {
      "cell_type": "code",
      "source": [
        "def strStr(haystack: str, needle: str) -> int:\n",
        "    m, n = len(haystack), len(needle)\n",
        "    for i in range(m - 1 + 1):\n",
        "        if needle == haystack[i: i + n]:\n",
        "            return i\n",
        "        return -1\n",
        "\n",
        "strStr(\"sadbutsad\", \"sad\")"
      ],
      "metadata": {
        "colab": {
          "base_uri": "https://localhost:8080/"
        },
        "id": "eP0GzyTyO_tp",
        "outputId": "66acc8f0-12d6-48fe-f6ed-ed260da24e9e"
      },
      "execution_count": 22,
      "outputs": [
        {
          "output_type": "execute_result",
          "data": {
            "text/plain": [
              "0"
            ]
          },
          "metadata": {},
          "execution_count": 22
        }
      ]
    }
  ]
}