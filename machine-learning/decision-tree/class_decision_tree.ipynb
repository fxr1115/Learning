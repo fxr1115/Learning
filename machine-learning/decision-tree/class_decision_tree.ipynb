{
 "cells": [
  {
   "cell_type": "code",
   "execution_count": 29,
   "id": "430fe735-32af-4932-8d10-290abb5d862a",
   "metadata": {},
   "outputs": [],
   "source": [
    "import matplotlib.pyplot as plt\n",
    "import math\n",
    "from copy import deepcopy"
   ]
  },
  {
   "cell_type": "code",
   "execution_count": 6,
   "id": "fcd1c960-0e7a-43bd-82e1-cb991eca069a",
   "metadata": {},
   "outputs": [],
   "source": [
    "def CreateDateSet():\n",
    "    dataset = [\n",
    "        [0, 0, 0, 0, 'no'],\n",
    "        [0, 0, 0, 1, 'no'],\n",
    "        [0, 1, 0, 1, 'yes'],\n",
    "        [0, 1, 1, 0, 'yes'],\n",
    "        [0, 0, 0, 0, 'no'],\n",
    "        [1, 0, 0, 0, 'no'],\n",
    "        [1, 0, 0, 1, 'no'],\n",
    "        [1, 1, 1, 1, 'yes'],\n",
    "        [1, 0, 1, 2, 'yes'],\n",
    "        [1, 0, 1, 2, 'yes'],\n",
    "        [2, 0, 1, 1, 'yes'],\n",
    "        [2, 1, 0, 1, 'yes'],\n",
    "        [2, 1, 0, 2, 'yes'],\n",
    "        [2, 0, 0, 0, 'no'],\n",
    "    ]\n",
    "    \n",
    "    labels = ['F1-AGE', 'F2-WORK', 'F3-HOME', 'F4-LOAN']\n",
    "\n",
    "    return dataset, labels"
   ]
  },
  {
   "cell_type": "markdown",
   "id": "7e21c265-eb70-4dc8-a582-b71afe117a51",
   "metadata": {},
   "source": [
    "- 特征的索引是根据数据集的列来定的\n",
    "- 在`split_dataset`中使用`del`，会删除该列的特征值，导致在下一次调用`choose_best_feature_to_split`时，数据集的特征数减少，但迭代时仍使用了原始列的数量`num_features = len(dataset[0]) - 1`"
   ]
  },
  {
   "cell_type": "code",
   "execution_count": 42,
   "id": "e084e520-a482-4af3-a086-e1fae7f651d4",
   "metadata": {},
   "outputs": [],
   "source": [
    "class CreatTree:\n",
    "    def __init__(self, dataset, labels):\n",
    "        self.dataset = dataset\n",
    "        self.labels = labels\n",
    "\n",
    "    def creat_tree(self, dataset, labels, feat_labels):\n",
    "        classlist = [example[-1] for example in dataset]\n",
    "\n",
    "        if classlist.count(classlist[0]) == len(classlist):\n",
    "            return classlist[0]\n",
    "\n",
    "        if len(dataset[0]) == 1:\n",
    "            return CreatTree.majority_ent(classlist)\n",
    "        #\n",
    "        best_feat = self.choose_best_feature_to_split(dataset) # 最优特征的索引值\n",
    "        best_feat_label = labels[best_feat]\n",
    "        feat_labels.append(best_feat_label)\n",
    "        #\n",
    "        my_tree = {best_feat_label:{}}\n",
    "        #\n",
    "        del labels[best_feat]\n",
    "        #\n",
    "        feat_values = [example[best_feat] for example in dataset]\n",
    "        unique_feat_value = set(feat_values)\n",
    "        for value in unique_feat_value:\n",
    "            sublabels = labels[:]\n",
    "            split_data = CreatTree.split_dataset(dataset, best_feat, value)\n",
    "            my_tree[best_feat_label][value] = self.creat_tree(CreatTree.split_dataset(dataset, best_feat, value), sublabels, feat_labels)\n",
    "        return my_tree\n",
    "        \n",
    "    @staticmethod\n",
    "    def majority_ent(classlist):\n",
    "        class_count = {}\n",
    "        for vote in classlist:\n",
    "            if vote not in class_count:\n",
    "                class_count[vote] = 1\n",
    "            else:\n",
    "                class_count[vote] += 1\n",
    "        class_counted = sorted(class_count, key=lambda x:class_count[x], reverse=True)\n",
    "        # class_counted 是一个 list。该 list 中包含字典的键，并且这些键是按对应的值降序排列的\n",
    "        return class_counted[0]\n",
    "\n",
    "    def choose_best_feature_to_split(self, dataset):\n",
    "        num_features = len(dataset[0]) - 1\n",
    "        ent = CreatTree.calculate_ent(dataset)\n",
    "        best_information_gain = 0\n",
    "        best_feat = None\n",
    "        for i in range(num_features):\n",
    "            feat_list = [example[i] for example in dataset] # 得到当前列\n",
    "            unique_value = set(feat_list) # 此特征下的所有类\n",
    "            gain = ent\n",
    "            for value in unique_value:\n",
    "                sub_dataset = self.split_dataset(dataset, i, value)\n",
    "                prop = float(len(sub_dataset) / len(feat_list))\n",
    "                gain -= prop * CreatTree.calculate_ent(sub_dataset)\n",
    "            if (gain > best_information_gain):\n",
    "                best_information_gain = gain\n",
    "                best_feat = i\n",
    "        return best_feat\n",
    "            \n",
    "    @staticmethod\n",
    "    def calculate_ent(dataset):\n",
    "        sum_number = len(dataset)\n",
    "        # 每个类的数量\n",
    "        label_count = {}\n",
    "        for feat_vec in dataset:\n",
    "            current_label = feat_vec[-1]\n",
    "            if current_label not in label_count.keys():\n",
    "                label_count[current_label] = 1\n",
    "            else:\n",
    "                label_count[current_label] += 1\n",
    "        ent = 0\n",
    "        for key in label_count:\n",
    "            prop = float(label_count[key] / sum_number)\n",
    "            ent -= (prop * math.log(prop))\n",
    "        return ent\n",
    "\n",
    "    @staticmethod\n",
    "    def split_dataset(dataset, feat_val, value):\n",
    "        sub_dataset = []\n",
    "        for feat_vec in dataset:\n",
    "            if feat_vec[feat_val] == value:\n",
    "                # reduced_feat_vec = feat_vec[:feat_val] + feat_vec[feat_val + 1:]\n",
    "                # sub_dataset.append(feat_vec)\n",
    "                \n",
    "                # 或者\n",
    "                feat_vec_copy = deepcopy(feat_vec)\n",
    "                del feat_vec_copy[feat_val]\n",
    "                sub_dataset.append(feat_vec_copy)\n",
    "                \n",
    "                # del feat_vec[feat_val]\n",
    "\n",
    "        return sub_dataset\n",
    "        # return sub_dataset if sub_dataset else None"
   ]
  },
  {
   "cell_type": "code",
   "execution_count": 43,
   "id": "83c147c0-d9cd-4041-b354-81cafc8302f8",
   "metadata": {},
   "outputs": [
    {
     "data": {
      "text/plain": [
       "{'F2-WORK': {0: {'F3-HOME': {0: 'no', 1: 'yes'}}, 1: 'yes'}}"
      ]
     },
     "execution_count": 43,
     "metadata": {},
     "output_type": "execute_result"
    }
   ],
   "source": [
    "dataset, labels = CreateDateSet()\n",
    "creat_my_tree = CreatTree(dataset, labels)\n",
    "\n",
    "feat_labels = []\n",
    "creat_my_tree.creat_tree(dataset, labels, feat_labels)"
   ]
  },
  {
   "cell_type": "code",
   "execution_count": null,
   "id": "28c4940c-7f29-40f8-9663-b7ebfd4f8b6c",
   "metadata": {},
   "outputs": [],
   "source": []
  }
 ],
 "metadata": {
  "kernelspec": {
   "display_name": "Python 3 (ipykernel)",
   "language": "python",
   "name": "python3"
  },
  "language_info": {
   "codemirror_mode": {
    "name": "ipython",
    "version": 3
   },
   "file_extension": ".py",
   "mimetype": "text/x-python",
   "name": "python",
   "nbconvert_exporter": "python",
   "pygments_lexer": "ipython3",
   "version": "3.8.8"
  }
 },
 "nbformat": 4,
 "nbformat_minor": 5
}
