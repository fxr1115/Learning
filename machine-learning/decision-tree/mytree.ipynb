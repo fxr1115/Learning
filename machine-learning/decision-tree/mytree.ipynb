{
 "cells": [
  {
   "cell_type": "code",
   "execution_count": 1,
   "id": "f3338a24-05db-40e8-b5fe-faa855a16e58",
   "metadata": {},
   "outputs": [],
   "source": [
    "import matplotlib.pyplot as plt\n",
    "import operator\n",
    "import pickle\n",
    "import math\n",
    "\n",
    "from matplotlib.font_manager import FontProperties"
   ]
  },
  {
   "cell_type": "code",
   "execution_count": 9,
   "id": "9ad863e4-6913-4a56-94b5-f5cd60cb6677",
   "metadata": {},
   "outputs": [],
   "source": [
    "# 数据：银行是否给贷款\n",
    "\n",
    "def createDataSet():\n",
    "    dataSet = [\n",
    "        [0, 0, 0, 0, 'no'],\n",
    "        [0, 0, 0, 1, 'no'],\n",
    "        [0, 1, 0, 1, 'yes'],\n",
    "        [0, 1, 1, 0, 'yes'],\n",
    "        [0, 0, 0, 0, 'no'],\n",
    "        [1, 0, 0, 0, 'no'],\n",
    "        [1, 0, 0, 1, 'no'],\n",
    "        [1, 1, 1, 1, 'yes'],\n",
    "        [1, 0, 1, 2, 'yes'],\n",
    "        [1, 0, 1, 2, 'yes'],\n",
    "        [2, 0, 1, 1, 'yes'],\n",
    "        [2, 1, 0, 1, 'yes'],\n",
    "        [2, 1, 0, 2, 'yes'],\n",
    "        [2, 0, 0, 0, 'no'],\n",
    "    ]\n",
    "    labels = ['F1-AGE', 'F2-WORK', 'F3-HOME', 'F4-LOAN']\n",
    "\n",
    "    return dataSet, labels"
   ]
  },
  {
   "cell_type": "code",
   "execution_count": 3,
   "id": "80bdedeb-eb57-45b3-9d41-e475e4bc122a",
   "metadata": {},
   "outputs": [],
   "source": [
    "def majorityCnt(classList):\n",
    "    class_count = {}\n",
    "    for vote in classList:\n",
    "        if vote not in class_count.keys():\n",
    "            class_count[vote] = 1\n",
    "        else:\n",
    "            class_count[vote] += 1\n",
    "    # class_counted = sorted(class_count.items(), key=operator.itemgetter(1), reverse=True)\n",
    "    class_counted = sorted(class_count.items(), key=lambda x: x[1], reverse=True)\n",
    "    # class_counted 是一个 list，其中的每个元素是一个 (key, value) 元组\n",
    "    \n",
    "    # 或者可以：class_counted = sorted(class_count, key=lambda x:class_count[x], reverse=True)\n",
    "    \n",
    "    # return class_counted.keys()[0] 没法这样，因为class_counted是一个包含键值对的元组了已经\n",
    "    return class_counted[0][0]"
   ]
  },
  {
   "cell_type": "markdown",
   "id": "d87d0d40-7e47-4faf-a5cd-b80c2988f43a",
   "metadata": {},
   "source": [
    "#### 熵值、信息增益的计算都在此函数中\n",
    "注：  \n",
    "1.dataset是一个列表，计算个数使用len；.shape是NumPy数组（或Pandas的DateFrame）的属性  "
   ]
  },
  {
   "cell_type": "code",
   "execution_count": 18,
   "id": "dc68cef6-e236-483d-8f76-3e896eee5623",
   "metadata": {},
   "outputs": [],
   "source": [
    "# 这是对分类结果的 信息熵\n",
    "def calculate_ent(dataset):\n",
    "    sum_number = len(dataset)\n",
    "    label_count = {}\n",
    "    for feat_vec in dataset:\n",
    "        current_label = feat_vec[-1]\n",
    "        if current_label not in label_count.keys():\n",
    "            label_count[current_label] = 1\n",
    "        else:\n",
    "            label_count[current_label] += 1\n",
    "\n",
    "    ent = 0\n",
    "    for key in label_count:  # 不用keys()，默认就是对key\n",
    "        prop = float(label_count[key]) / sum_number\n",
    "        ent -= (prop * math.log(prop))\n",
    "\n",
    "    return ent\n",
    "        \n",
    "\n",
    "# 切分数据集\n",
    "def split_dataset(dataset, feat_val, value):\n",
    "    sub_dataset = []\n",
    "    for feat_vec in dataset:\n",
    "        if feat_vec[feat_val] == value:\n",
    "            # 每次迭代，要去掉此列\n",
    "            # reduce_feat_vec = del feat_vec[feat_val]\n",
    "            reduce_feat_vec = feat_vec[:feat_val] + feat_vec[feat_val+1:]\n",
    "            sub_dataset.append(reduce_feat_vec)\n",
    "    return sub_dataset\n",
    "\n",
    "\n",
    "def choose_best_feature_to_split(dataset):\n",
    "    num_feature = len(dataset[0]) - 1\n",
    "    # ent不能设置为0，0相当于一开始是最好的\n",
    "    ent = calculate_ent(dataset)\n",
    "    best_information_gain = 0\n",
    "    best_feat = None\n",
    "    for i in range(num_feature):\n",
    "        feat_list = [example[i] for example in dataset] # 拿到当前列\n",
    "        unique_value = set(feat_list) # 类别个数\n",
    "        gain = ent\n",
    "        for value in unique_value:\n",
    "            sub_dataset = split_dataset(dataset, i, value)\n",
    "            prop = float(len(sub_dataset)) / float(len(feat_list))\n",
    "            gain -= prop * calculate_ent(sub_dataset)\n",
    "        if (gain > best_information_gain):\n",
    "            best_information_gain = gain\n",
    "            best_feat = i  # 是一个索引值\n",
    "    return best_feat\n"
   ]
  },
  {
   "cell_type": "markdown",
   "id": "3562933b-2a72-4659-a10a-c3b477f93131",
   "metadata": {},
   "source": [
    "### 是一个递归调用\n",
    "#### 涉及到需要注意的点\n",
    "1.list如何得到列长  \n",
    "2.set()可以得到元素不重复的集合  "
   ]
  },
  {
   "cell_type": "code",
   "execution_count": 32,
   "id": "0dd69bd7-10c3-41b8-a399-a1f44972bb9a",
   "metadata": {},
   "outputs": [],
   "source": [
    "# 模型需要三个参数\n",
    "# 递归调用，先判断是否是叶结点（内部的标签是否相同）\n",
    "\n",
    "def createTree(dataset, labels, featLabels):\n",
    "    classList = [example[-1] for example in dataset]\n",
    "\n",
    "    # 判断：当前的是否是同一类别\n",
    "    # classList[0] 代表的就是list里的第一个元素\n",
    "    if classList.count(classList[0]) == len(classList):\n",
    "        return classList[0]\n",
    "\n",
    "    # 判断特征集是否为空集（选了一个特征，就得删除一个特征），是的话只需要返回其中类别最多的标签就行\n",
    "    if len(dataset[0]) == 1:  # dataSet[0]就是第一行数据（二维列表，第一行就是第一个数据）\n",
    "        return majorityCnt(classList)\n",
    "\n",
    "    # 需要进一步分叉了\n",
    "    bestFeat = choose_best_feature_to_split(dataset)  # 这是一个索引值\n",
    "    best_feat_label = labels[bestFeat]\n",
    "    featLabels.append(best_feat_label)\n",
    "\n",
    "    # 树，对应一个嵌套的字典\n",
    "    myTree = {best_feat_label:{}}\n",
    "\n",
    "    # 删除此次使用的特征\n",
    "    del labels[bestFeat]\n",
    "\n",
    "    # 当前属性能分为几叉\n",
    "    featValues = [example[bestFeat] for example in dataset]\n",
    "    unique_vals = set(featValues) # 得到所有的可能值（集合，每个只出现一次）\n",
    "    for value in unique_vals:\n",
    "        sublabels = lables[:]\n",
    "        # 对数进行下一步分叉，递归用函数 createTree\n",
    "        myTree[best_feat_label][value] = createTree(split_dataset(dataset, bestFeat, value), sublabels, featLabels)\n",
    "\n",
    "    return myTree"
   ]
  },
  {
   "cell_type": "code",
   "execution_count": 33,
   "id": "10e5af0e-7cc0-44ad-b8f1-25928354181e",
   "metadata": {},
   "outputs": [],
   "source": [
    "if __name__ == '__main__':\n",
    "    dataset, labels = createDataSet()\n",
    "    featLabels = []\n",
    "    myTree = createTree(dataset, labels, featLabels)"
   ]
  },
  {
   "cell_type": "code",
   "execution_count": null,
   "id": "6956382f-3810-43e3-8ab0-70010dc3e91c",
   "metadata": {},
   "outputs": [],
   "source": []
  }
 ],
 "metadata": {
  "kernelspec": {
   "display_name": "Python 3 (ipykernel)",
   "language": "python",
   "name": "python3"
  },
  "language_info": {
   "codemirror_mode": {
    "name": "ipython",
    "version": 3
   },
   "file_extension": ".py",
   "mimetype": "text/x-python",
   "name": "python",
   "nbconvert_exporter": "python",
   "pygments_lexer": "ipython3",
   "version": "3.8.8"
  }
 },
 "nbformat": 4,
 "nbformat_minor": 5
}
