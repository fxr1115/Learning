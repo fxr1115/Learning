{
 "cells": [
  {
   "cell_type": "markdown",
   "id": "f89a407f-db65-47b2-9d9b-5c3bed6a0f2f",
   "metadata": {},
   "source": [
    "### 使用 Plotly 画图工具包，生成交互式图表\n",
    "https://plotly.com/python"
   ]
  },
  {
   "cell_type": "code",
   "execution_count": 1,
   "id": "49de1674-a776-468e-95e9-bc1b0b0f98f2",
   "metadata": {},
   "outputs": [],
   "source": [
    "import numpy as np\n",
    "import pandas as pd\n",
    "import plotly\n",
    "import plotly.graph_objs as go\n",
    "import matplotlib.pyplot as plt\n",
    "\n",
    "from linear_regression_gradient_descent import LinearRegression"
   ]
  },
  {
   "cell_type": "code",
   "execution_count": 2,
   "id": "810e6cdf-f6f0-421b-b375-2fcfca6c52fd",
   "metadata": {},
   "outputs": [],
   "source": [
    "data = pd.read_csv('./data/world-happiness-report-2017.csv')\n",
    "\n",
    "train_data = data.sample(frac=0.8)\n",
    "test_data = data.drop(train_data.index)\n",
    "\n",
    "input_param_name_1 = 'Economy..GDP.per.Capita.'\n",
    "input_param_name_2 = 'Freedom'\n",
    "output_param_name = 'Happiness.Score'\n",
    "\n",
    "x_train = train_data[[input_param_name_1, input_param_name_2]].values\n",
    "y_train = train_data[[output_param_name]].values\n",
    "\n",
    "x_test = test_data[[input_param_name_1, input_param_name_2]].values\n",
    "y_test = test_data[[output_param_name]].values"
   ]
  },
  {
   "cell_type": "markdown",
   "id": "dc7a5e87-0e76-4697-8786-ea23b2562181",
   "metadata": {},
   "source": [
    "plotly.offline.iplot()是用来在Jupyter Notebook中生成交互式图表的Plotly函数"
   ]
  },
  {
   "cell_type": "code",
   "execution_count": 5,
   "id": "d8002618-d6a1-4bd4-a354-cc42bbe8312d",
   "metadata": {},
   "outputs": [
    {
     "data": {
      "application/vnd.plotly.v1+json": {
       "config": {
        "linkText": "Export to plot.ly",
        "plotlyServerURL": "https://plot.ly",
        "showLink": false
       },
       "data": [
        {
         "marker": {
          "line": {
           "color": "rgb(255, 255, 255)",
           "width": 1
          },
          "opacity": 1,
          "size": 10
         },
         "mode": "markers",
         "name": "Training Set",
         "type": "scatter3d",
         "x": [
          1.87076568603516,
          1.53062355518341,
          1.18939554691315,
          1.54625928401947,
          0.603048920631409,
          0.885416388511658,
          1.23374843597412,
          1.3412059545517,
          0.244549930095673,
          0.996192753314972,
          1.02723586559296,
          1.28177809715271,
          0.564305365085602,
          0.991012394428253,
          1.15318381786346,
          1.41691517829895,
          0.161925330758095,
          0.0921023488044739,
          0.85769921541214,
          1.35268235206604,
          1.12209415435791,
          1.22255623340607,
          1.50394463539124,
          0.783756256103516,
          1.61646318435669,
          1.49438726902008,
          0.950612664222717,
          0.786441087722778,
          0.925579309463501,
          1.48792338371277,
          1.12843120098114,
          1.05469870567322,
          0.648457288742065,
          0.667224824428558,
          1.36135590076447,
          1.62634336948395,
          1.53570663928986,
          0.636406779289246,
          1.12112903594971,
          0.72688353061676,
          1.07062232494354,
          0.586682975292206,
          0.368610262870789,
          1.484414935112,
          0.989701807498932,
          0.907975316047668,
          1.08116579055786,
          1.2860119342804,
          1.55167484283447,
          0.0226431842893362,
          1.25278460979462,
          1.07498753070831,
          1.48841226100922,
          0.560479462146759,
          0.951484382152557,
          0.601765096187592,
          1.03522527217865,
          1.00082039833069,
          1.26074862480164,
          1.10180306434631,
          1.32087934017181,
          1.09186446666718,
          1.00985014438629,
          0.479309022426605,
          0.932537317276001,
          0.511135876178741,
          0.476180493831635,
          0.591683447360992,
          1.18529546260834,
          1.43362653255463,
          0.438012987375259,
          1.40167844295502,
          0.119041793048382,
          0.234305649995804,
          1.37538242340088,
          0.368745893239975,
          1.15655755996704,
          0.716249227523804,
          1.13077676296234,
          1.32539355754852,
          1.69227766990662,
          1.40570604801178,
          1.07937383651733,
          0.900596737861633,
          0.3502277135849,
          1.43092346191406,
          1.63295245170593,
          1.12786877155304,
          1.44163393974304,
          0.305808693170547,
          1.28948748111725,
          1.46378076076508,
          1.39506661891937,
          1.10970628261566,
          0.737299203872681,
          1.44357192516327,
          1.10271048545837,
          0.305444717407227,
          1.480633020401,
          0.233442038297653,
          1.1982102394104,
          0.339233845472336,
          0.431085407733917,
          0.89465194940567,
          0.730573117733002,
          1.47920441627502,
          0.367110550403595,
          0.524713635444641,
          1.74194359779358,
          0.777153134346008,
          0.878114581108093,
          0.479820191860199,
          1.48709726333618,
          1.31458234786987,
          1.06457793712616,
          1.48238301277161,
          0.808964252471924,
          1.34327983856201,
          0.401477217674255,
          0.65951669216156,
          0.833756566047668,
          0.872001945972443,
          1.21755969524384,
          1.29121541976929
         ],
         "y": [
          0.604130983352661,
          0.449750572443008,
          0.491247326135635,
          0.505740523338318,
          0.447706192731857,
          0.501537680625916,
          0.550026834011078,
          0.572575807571411,
          0.348587512969971,
          0.381498634815216,
          0.394143968820572,
          0.373783111572266,
          0.430388748645782,
          0.418421149253845,
          0.412730008363724,
          0.505625545978546,
          0.36365869641304,
          0.235961347818375,
          0.585214674472809,
          0.490946173667908,
          0.505196332931519,
          0.255772292613983,
          0.585384488105774,
          0.394952565431595,
          0.635422587394714,
          0.612924098968506,
          0.309410035610199,
          0.658248662948608,
          0.474307239055634,
          0.562511384487152,
          0.153997123241425,
          0.479246735572815,
          0.0960980430245399,
          0.423026293516159,
          0.518630743026733,
          0.60834527015686,
          0.573110342025757,
          0.461603492498398,
          0.194989055395126,
          0.23521526157856,
          0.477487415075302,
          0.478356659412384,
          0.0303698573261499,
          0.601607382297516,
          0.282110154628754,
          0.547509372234344,
          0.472787708044052,
          0.175863519310951,
          0.490968644618988,
          0.602126955986023,
          0.376895278692245,
          0.288515985012054,
          0.536746919155121,
          0.452763766050339,
          0.260287940502167,
          0.633375823497772,
          0.450002878904343,
          0.4551981985569,
          0.325707912445068,
          0.465733230113983,
          0.479131430387497,
          0.233335807919502,
          0.561213254928589,
          0.377922266721725,
          0.473507791757584,
          0.390017777681351,
          0.306613743305206,
          0.249463722109795,
          0.494519203901291,
          0.361466586589813,
          0.16234202682972,
          0.257921665906906,
          0.332881182432175,
          0.480791091918945,
          0.405988603830338,
          0.581843852996826,
          0.295400261878967,
          0.25471106171608,
          0.41827192902565,
          0.295817464590073,
          0.549840569496155,
          0.614062130451202,
          0.55258983373642,
          0.198303267359734,
          0.324367851018906,
          0.470222115516663,
          0.496337592601776,
          0.580200731754303,
          0.508190035820007,
          0.189196765422821,
          0.0957312509417534,
          0.539770722389221,
          0.256450712680817,
          0.580131649971008,
          0.447551846504211,
          0.617950856685638,
          0.288555532693863,
          0.38042613863945,
          0.627162635326385,
          0.466914653778076,
          0.312328577041626,
          0.408842742443085,
          0.425962775945663,
          0.122974775731564,
          0.348079860210419,
          0.611100912094116,
          0.514492034912109,
          0.471566706895828,
          0.59662789106369,
          0.0815394446253777,
          0.408158332109451,
          0.440305948257446,
          0.567766189575195,
          0.234231784939766,
          0.325905978679657,
          0.626006722450256,
          0.435025870800018,
          0.588767051696777,
          0.106179520487785,
          0.0149958552792668,
          0.558732926845551,
          0.531310617923737,
          0.57939225435257,
          0.402264982461929
         ],
         "z": [
          6.375,
          6.3439998626709,
          5.62900018692017,
          6.99300003051758,
          4.17999982833862,
          5.01100015640259,
          6.4520001411438,
          5.75799989700317,
          3.50699996948242,
          4.64400005340576,
          4.95499992370605,
          5.96299982070923,
          4.69500017166138,
          5.33599996566772,
          6.57800006866455,
          5.92000007629395,
          4.02799987792969,
          4.28000020980835,
          5.42999982833862,
          6.60900020599365,
          3.76600003242493,
          5.29300022125244,
          7.3769998550415,
          5.07399988174438,
          7.53700017929077,
          7.28399991989136,
          4.28599977493286,
          5.97100019454956,
          5.31099987030029,
          6.95100021362305,
          5.25,
          4.8289999961853,
          4.29199981689453,
          4.11999988555908,
          6.16800022125244,
          6.64799976348877,
          6.97700023651123,
          4.51399993896484,
          5.23699998855591,
          5.26900005340576,
          6.35699987411499,
          4.60799980163574,
          3.6029999256134,
          7.28399991989136,
          4.7350001335144,
          5.95599985122681,
          5.27299976348877,
          5.32399988174438,
          5.47200012207031,
          5.15100002288818,
          6.65199995040894,
          5.22499990463257,
          6.08699989318848,
          4.55299997329712,
          5.27899980545044,
          4.16800022125244,
          5.71500015258789,
          6.00799989700317,
          5.84999990463257,
          5.52500009536743,
          5.61100006103516,
          5.87200021743774,
          4.44000005722046,
          4.53499984741211,
          5.49300003051758,
          3.34899997711182,
          4.19000005722046,
          3.59299993515015,
          6.59899997711182,
          6.42199993133545,
          3.93600010871887,
          5.83799982070923,
          3.53299999237061,
          4.55000019073486,
          7.21299982070923,
          3.47099995613098,
          5.56899976730347,
          4.77500009536743,
          5.82200002670288,
          6.09800004959106,
          6.57200002670288,
          7.31400012969971,
          5.23000001907349,
          4.37599992752075,
          4.03200006484985,
          6.44199991226196,
          6.10500001907349,
          6.42399978637695,
          6.71400022506714,
          3.64400005340576,
          5.22700023651123,
          6.89099979400635,
          5.96400022506714,
          7.0789999961853,
          6.07100009918213,
          7.4689998626709,
          4.49700021743774,
          3.49499988555908,
          7.50400018692017,
          3.97000002861023,
          4.46500015258789,
          4.46000003814697,
          3.65700006484985,
          4.09600019454956,
          5.18100023269653,
          7.31599998474121,
          4.54500007629395,
          5.04099988937378,
          6.86299991607666,
          3.46199989318848,
          5.2350001335144,
          4.96199989318848,
          7.00600004196167,
          5.90199995040894,
          5.17500019073486,
          7.52199983596802,
          4.29099988937378,
          6.52699995040894,
          3.79399991035461,
          4.13899993896484,
          5.82299995422363,
          6.4539999961853,
          6.4539999961853,
          6.08400011062622
         ]
        },
        {
         "marker": {
          "line": {
           "color": "rgb(255, 255, 255)",
           "width": 1
          },
          "opacity": 1,
          "size": 10
         },
         "mode": "markers",
         "name": "Test Set",
         "type": "scatter3d",
         "x": [
          1.56497955322266,
          1.10735321044922,
          1.38439786434174,
          0.909784495830536,
          1.29178786277771,
          0.728870630264282,
          1.21768391132355,
          1.28455626964569,
          1.3469113111496,
          1.35593807697296,
          1.19827437400818,
          1.06931757926941,
          0.995538592338562,
          1.15360176563263,
          1.3151752948761,
          0.982409417629242,
          0.788547575473785,
          0.596220076084137,
          1.00726580619812,
          1.1614590883255,
          0.36842092871666,
          1.15687310695648,
          0.964434325695038,
          0.792221248149872,
          0.381430715322495,
          0.375846534967422,
          0.521021246910095,
          0.858428180217743,
          0.39724862575531,
          0.091622568666935,
          0
         ],
         "y": [
          0.620070576667786,
          0.437453746795654,
          0.408781230449677,
          0.432452529668808,
          0.520342111587524,
          0.240729048848152,
          0.457003742456436,
          0.437454283237457,
          0.471203625202179,
          0.355111539363861,
          0.300740599632263,
          0.208715528249741,
          0.443323463201523,
          0.398155838251114,
          0.498465299606323,
          0.204403176903725,
          0.571055591106415,
          0.454943388700485,
          0.289680689573288,
          0.289231717586517,
          0.318697690963745,
          0.249322608113289,
          0.520303547382355,
          0.469987004995346,
          0.443185955286026,
          0.336384207010269,
          0.390661299228668,
          0,
          0.147062435746193,
          0.0599007532000542,
          0.270842045545578
         ],
         "z": [
          7.49399995803833,
          6.63500022888184,
          6.40299987792969,
          6.00299978256226,
          5.97300004959106,
          5.83799982070923,
          5.82499980926514,
          5.81899976730347,
          5.80999994277954,
          5.62099981307983,
          5.5,
          5.39499998092651,
          5.26200008392334,
          5.23400020599365,
          5.19500017166138,
          5.18200016021729,
          5.07399988174438,
          5.00400018692017,
          4.80499982833862,
          4.71400022506714,
          4.70900011062622,
          4.69199991226196,
          4.57399988174438,
          4.31500005722046,
          4.08099985122681,
          3.875,
          3.80800008773804,
          3.79500007629395,
          3.59100008010864,
          2.90499997138977,
          2.69300007820129
         ]
        }
       ],
       "layout": {
        "autosize": true,
        "margin": {
         "b": 0,
         "l": 0,
         "r": 0,
         "t": 0
        },
        "scene": {
         "aspectmode": "auto",
         "aspectratio": {
          "x": 1,
          "y": 1,
          "z": 1
         },
         "camera": {
          "center": {
           "x": 0,
           "y": 0,
           "z": 0
          },
          "eye": {
           "x": 0.00425524347473105,
           "y": 0.008084972809008065,
           "z": 0.004065232791410496
          },
          "projection": {
           "type": "perspective"
          },
          "up": {
           "x": 0,
           "y": 0,
           "z": 1
          }
         },
         "xaxis": {
          "title": {
           "text": "Economy..GDP.per.Capita."
          },
          "type": "linear"
         },
         "yaxis": {
          "title": {
           "text": "Freedom"
          },
          "type": "linear"
         },
         "zaxis": {
          "title": {
           "text": "Happiness.Score"
          },
          "type": "linear"
         }
        },
        "template": {
         "data": {
          "bar": [
           {
            "error_x": {
             "color": "#2a3f5f"
            },
            "error_y": {
             "color": "#2a3f5f"
            },
            "marker": {
             "line": {
              "color": "#E5ECF6",
              "width": 0.5
             },
             "pattern": {
              "fillmode": "overlay",
              "size": 10,
              "solidity": 0.2
             }
            },
            "type": "bar"
           }
          ],
          "barpolar": [
           {
            "marker": {
             "line": {
              "color": "#E5ECF6",
              "width": 0.5
             },
             "pattern": {
              "fillmode": "overlay",
              "size": 10,
              "solidity": 0.2
             }
            },
            "type": "barpolar"
           }
          ],
          "carpet": [
           {
            "aaxis": {
             "endlinecolor": "#2a3f5f",
             "gridcolor": "white",
             "linecolor": "white",
             "minorgridcolor": "white",
             "startlinecolor": "#2a3f5f"
            },
            "baxis": {
             "endlinecolor": "#2a3f5f",
             "gridcolor": "white",
             "linecolor": "white",
             "minorgridcolor": "white",
             "startlinecolor": "#2a3f5f"
            },
            "type": "carpet"
           }
          ],
          "choropleth": [
           {
            "colorbar": {
             "outlinewidth": 0,
             "ticks": ""
            },
            "type": "choropleth"
           }
          ],
          "contour": [
           {
            "colorbar": {
             "outlinewidth": 0,
             "ticks": ""
            },
            "colorscale": [
             [
              0,
              "#0d0887"
             ],
             [
              0.1111111111111111,
              "#46039f"
             ],
             [
              0.2222222222222222,
              "#7201a8"
             ],
             [
              0.3333333333333333,
              "#9c179e"
             ],
             [
              0.4444444444444444,
              "#bd3786"
             ],
             [
              0.5555555555555556,
              "#d8576b"
             ],
             [
              0.6666666666666666,
              "#ed7953"
             ],
             [
              0.7777777777777778,
              "#fb9f3a"
             ],
             [
              0.8888888888888888,
              "#fdca26"
             ],
             [
              1,
              "#f0f921"
             ]
            ],
            "type": "contour"
           }
          ],
          "contourcarpet": [
           {
            "colorbar": {
             "outlinewidth": 0,
             "ticks": ""
            },
            "type": "contourcarpet"
           }
          ],
          "heatmap": [
           {
            "colorbar": {
             "outlinewidth": 0,
             "ticks": ""
            },
            "colorscale": [
             [
              0,
              "#0d0887"
             ],
             [
              0.1111111111111111,
              "#46039f"
             ],
             [
              0.2222222222222222,
              "#7201a8"
             ],
             [
              0.3333333333333333,
              "#9c179e"
             ],
             [
              0.4444444444444444,
              "#bd3786"
             ],
             [
              0.5555555555555556,
              "#d8576b"
             ],
             [
              0.6666666666666666,
              "#ed7953"
             ],
             [
              0.7777777777777778,
              "#fb9f3a"
             ],
             [
              0.8888888888888888,
              "#fdca26"
             ],
             [
              1,
              "#f0f921"
             ]
            ],
            "type": "heatmap"
           }
          ],
          "heatmapgl": [
           {
            "colorbar": {
             "outlinewidth": 0,
             "ticks": ""
            },
            "colorscale": [
             [
              0,
              "#0d0887"
             ],
             [
              0.1111111111111111,
              "#46039f"
             ],
             [
              0.2222222222222222,
              "#7201a8"
             ],
             [
              0.3333333333333333,
              "#9c179e"
             ],
             [
              0.4444444444444444,
              "#bd3786"
             ],
             [
              0.5555555555555556,
              "#d8576b"
             ],
             [
              0.6666666666666666,
              "#ed7953"
             ],
             [
              0.7777777777777778,
              "#fb9f3a"
             ],
             [
              0.8888888888888888,
              "#fdca26"
             ],
             [
              1,
              "#f0f921"
             ]
            ],
            "type": "heatmapgl"
           }
          ],
          "histogram": [
           {
            "marker": {
             "pattern": {
              "fillmode": "overlay",
              "size": 10,
              "solidity": 0.2
             }
            },
            "type": "histogram"
           }
          ],
          "histogram2d": [
           {
            "colorbar": {
             "outlinewidth": 0,
             "ticks": ""
            },
            "colorscale": [
             [
              0,
              "#0d0887"
             ],
             [
              0.1111111111111111,
              "#46039f"
             ],
             [
              0.2222222222222222,
              "#7201a8"
             ],
             [
              0.3333333333333333,
              "#9c179e"
             ],
             [
              0.4444444444444444,
              "#bd3786"
             ],
             [
              0.5555555555555556,
              "#d8576b"
             ],
             [
              0.6666666666666666,
              "#ed7953"
             ],
             [
              0.7777777777777778,
              "#fb9f3a"
             ],
             [
              0.8888888888888888,
              "#fdca26"
             ],
             [
              1,
              "#f0f921"
             ]
            ],
            "type": "histogram2d"
           }
          ],
          "histogram2dcontour": [
           {
            "colorbar": {
             "outlinewidth": 0,
             "ticks": ""
            },
            "colorscale": [
             [
              0,
              "#0d0887"
             ],
             [
              0.1111111111111111,
              "#46039f"
             ],
             [
              0.2222222222222222,
              "#7201a8"
             ],
             [
              0.3333333333333333,
              "#9c179e"
             ],
             [
              0.4444444444444444,
              "#bd3786"
             ],
             [
              0.5555555555555556,
              "#d8576b"
             ],
             [
              0.6666666666666666,
              "#ed7953"
             ],
             [
              0.7777777777777778,
              "#fb9f3a"
             ],
             [
              0.8888888888888888,
              "#fdca26"
             ],
             [
              1,
              "#f0f921"
             ]
            ],
            "type": "histogram2dcontour"
           }
          ],
          "mesh3d": [
           {
            "colorbar": {
             "outlinewidth": 0,
             "ticks": ""
            },
            "type": "mesh3d"
           }
          ],
          "parcoords": [
           {
            "line": {
             "colorbar": {
              "outlinewidth": 0,
              "ticks": ""
             }
            },
            "type": "parcoords"
           }
          ],
          "pie": [
           {
            "automargin": true,
            "type": "pie"
           }
          ],
          "scatter": [
           {
            "fillpattern": {
             "fillmode": "overlay",
             "size": 10,
             "solidity": 0.2
            },
            "type": "scatter"
           }
          ],
          "scatter3d": [
           {
            "line": {
             "colorbar": {
              "outlinewidth": 0,
              "ticks": ""
             }
            },
            "marker": {
             "colorbar": {
              "outlinewidth": 0,
              "ticks": ""
             }
            },
            "type": "scatter3d"
           }
          ],
          "scattercarpet": [
           {
            "marker": {
             "colorbar": {
              "outlinewidth": 0,
              "ticks": ""
             }
            },
            "type": "scattercarpet"
           }
          ],
          "scattergeo": [
           {
            "marker": {
             "colorbar": {
              "outlinewidth": 0,
              "ticks": ""
             }
            },
            "type": "scattergeo"
           }
          ],
          "scattergl": [
           {
            "marker": {
             "colorbar": {
              "outlinewidth": 0,
              "ticks": ""
             }
            },
            "type": "scattergl"
           }
          ],
          "scattermapbox": [
           {
            "marker": {
             "colorbar": {
              "outlinewidth": 0,
              "ticks": ""
             }
            },
            "type": "scattermapbox"
           }
          ],
          "scatterpolar": [
           {
            "marker": {
             "colorbar": {
              "outlinewidth": 0,
              "ticks": ""
             }
            },
            "type": "scatterpolar"
           }
          ],
          "scatterpolargl": [
           {
            "marker": {
             "colorbar": {
              "outlinewidth": 0,
              "ticks": ""
             }
            },
            "type": "scatterpolargl"
           }
          ],
          "scatterternary": [
           {
            "marker": {
             "colorbar": {
              "outlinewidth": 0,
              "ticks": ""
             }
            },
            "type": "scatterternary"
           }
          ],
          "surface": [
           {
            "colorbar": {
             "outlinewidth": 0,
             "ticks": ""
            },
            "colorscale": [
             [
              0,
              "#0d0887"
             ],
             [
              0.1111111111111111,
              "#46039f"
             ],
             [
              0.2222222222222222,
              "#7201a8"
             ],
             [
              0.3333333333333333,
              "#9c179e"
             ],
             [
              0.4444444444444444,
              "#bd3786"
             ],
             [
              0.5555555555555556,
              "#d8576b"
             ],
             [
              0.6666666666666666,
              "#ed7953"
             ],
             [
              0.7777777777777778,
              "#fb9f3a"
             ],
             [
              0.8888888888888888,
              "#fdca26"
             ],
             [
              1,
              "#f0f921"
             ]
            ],
            "type": "surface"
           }
          ],
          "table": [
           {
            "cells": {
             "fill": {
              "color": "#EBF0F8"
             },
             "line": {
              "color": "white"
             }
            },
            "header": {
             "fill": {
              "color": "#C8D4E3"
             },
             "line": {
              "color": "white"
             }
            },
            "type": "table"
           }
          ]
         },
         "layout": {
          "annotationdefaults": {
           "arrowcolor": "#2a3f5f",
           "arrowhead": 0,
           "arrowwidth": 1
          },
          "autotypenumbers": "strict",
          "coloraxis": {
           "colorbar": {
            "outlinewidth": 0,
            "ticks": ""
           }
          },
          "colorscale": {
           "diverging": [
            [
             0,
             "#8e0152"
            ],
            [
             0.1,
             "#c51b7d"
            ],
            [
             0.2,
             "#de77ae"
            ],
            [
             0.3,
             "#f1b6da"
            ],
            [
             0.4,
             "#fde0ef"
            ],
            [
             0.5,
             "#f7f7f7"
            ],
            [
             0.6,
             "#e6f5d0"
            ],
            [
             0.7,
             "#b8e186"
            ],
            [
             0.8,
             "#7fbc41"
            ],
            [
             0.9,
             "#4d9221"
            ],
            [
             1,
             "#276419"
            ]
           ],
           "sequential": [
            [
             0,
             "#0d0887"
            ],
            [
             0.1111111111111111,
             "#46039f"
            ],
            [
             0.2222222222222222,
             "#7201a8"
            ],
            [
             0.3333333333333333,
             "#9c179e"
            ],
            [
             0.4444444444444444,
             "#bd3786"
            ],
            [
             0.5555555555555556,
             "#d8576b"
            ],
            [
             0.6666666666666666,
             "#ed7953"
            ],
            [
             0.7777777777777778,
             "#fb9f3a"
            ],
            [
             0.8888888888888888,
             "#fdca26"
            ],
            [
             1,
             "#f0f921"
            ]
           ],
           "sequentialminus": [
            [
             0,
             "#0d0887"
            ],
            [
             0.1111111111111111,
             "#46039f"
            ],
            [
             0.2222222222222222,
             "#7201a8"
            ],
            [
             0.3333333333333333,
             "#9c179e"
            ],
            [
             0.4444444444444444,
             "#bd3786"
            ],
            [
             0.5555555555555556,
             "#d8576b"
            ],
            [
             0.6666666666666666,
             "#ed7953"
            ],
            [
             0.7777777777777778,
             "#fb9f3a"
            ],
            [
             0.8888888888888888,
             "#fdca26"
            ],
            [
             1,
             "#f0f921"
            ]
           ]
          },
          "colorway": [
           "#636efa",
           "#EF553B",
           "#00cc96",
           "#ab63fa",
           "#FFA15A",
           "#19d3f3",
           "#FF6692",
           "#B6E880",
           "#FF97FF",
           "#FECB52"
          ],
          "font": {
           "color": "#2a3f5f"
          },
          "geo": {
           "bgcolor": "white",
           "lakecolor": "white",
           "landcolor": "#E5ECF6",
           "showlakes": true,
           "showland": true,
           "subunitcolor": "white"
          },
          "hoverlabel": {
           "align": "left"
          },
          "hovermode": "closest",
          "mapbox": {
           "style": "light"
          },
          "paper_bgcolor": "white",
          "plot_bgcolor": "#E5ECF6",
          "polar": {
           "angularaxis": {
            "gridcolor": "white",
            "linecolor": "white",
            "ticks": ""
           },
           "bgcolor": "#E5ECF6",
           "radialaxis": {
            "gridcolor": "white",
            "linecolor": "white",
            "ticks": ""
           }
          },
          "scene": {
           "xaxis": {
            "backgroundcolor": "#E5ECF6",
            "gridcolor": "white",
            "gridwidth": 2,
            "linecolor": "white",
            "showbackground": true,
            "ticks": "",
            "zerolinecolor": "white"
           },
           "yaxis": {
            "backgroundcolor": "#E5ECF6",
            "gridcolor": "white",
            "gridwidth": 2,
            "linecolor": "white",
            "showbackground": true,
            "ticks": "",
            "zerolinecolor": "white"
           },
           "zaxis": {
            "backgroundcolor": "#E5ECF6",
            "gridcolor": "white",
            "gridwidth": 2,
            "linecolor": "white",
            "showbackground": true,
            "ticks": "",
            "zerolinecolor": "white"
           }
          },
          "shapedefaults": {
           "line": {
            "color": "#2a3f5f"
           }
          },
          "ternary": {
           "aaxis": {
            "gridcolor": "white",
            "linecolor": "white",
            "ticks": ""
           },
           "baxis": {
            "gridcolor": "white",
            "linecolor": "white",
            "ticks": ""
           },
           "bgcolor": "#E5ECF6",
           "caxis": {
            "gridcolor": "white",
            "linecolor": "white",
            "ticks": ""
           }
          },
          "title": {
           "x": 0.05
          },
          "xaxis": {
           "automargin": true,
           "gridcolor": "white",
           "linecolor": "white",
           "ticks": "",
           "title": {
            "standoff": 15
           },
           "zerolinecolor": "white",
           "zerolinewidth": 2
          },
          "yaxis": {
           "automargin": true,
           "gridcolor": "white",
           "linecolor": "white",
           "ticks": "",
           "title": {
            "standoff": 15
           },
           "zerolinecolor": "white",
           "zerolinewidth": 2
          }
         }
        },
        "title": {
         "text": "Date Sets"
        }
       }
      },
      "image/png": "[encoded data removed]",
      "text/html": [
       "<div>                            <div id=\"5f45ed7d-cd3e-4337-ab93-6fda0b6e2d38\" class=\"plotly-graph-div\" style=\"height:525px; width:100%;\"></div>            <script type=\"text/javascript\">                require([\"plotly\"], function(Plotly) {                    window.PLOTLYENV=window.PLOTLYENV || {};                                    if (document.getElementById(\"5f45ed7d-cd3e-4337-ab93-6fda0b6e2d38\")) {                    Plotly.newPlot(                        \"5f45ed7d-cd3e-4337-ab93-6fda0b6e2d38\",                        [{\"marker\":{\"line\":{\"color\":\"rgb(255, 255, 255)\",\"width\":1},\"opacity\":1,\"size\":10},\"mode\":\"markers\",\"name\":\"Training Set\",\"x\":[1.87076568603516,1.53062355518341,1.18939554691315,1.54625928401947,0.603048920631409,0.885416388511658,1.23374843597412,1.3412059545517,0.244549930095673,0.996192753314972,1.02723586559296,1.28177809715271,0.564305365085602,0.991012394428253,1.15318381786346,1.41691517829895,0.161925330758095,0.0921023488044739,0.85769921541214,1.35268235206604,1.12209415435791,1.22255623340607,1.50394463539124,0.783756256103516,1.61646318435669,1.49438726902008,0.950612664222717,0.786441087722778,0.925579309463501,1.48792338371277,1.12843120098114,1.05469870567322,0.648457288742065,0.667224824428558,1.36135590076447,1.62634336948395,1.53570663928986,0.636406779289246,1.12112903594971,0.72688353061676,1.07062232494354,0.586682975292206,0.368610262870789,1.484414935112,0.989701807498932,0.907975316047668,1.08116579055786,1.2860119342804,1.55167484283447,0.0226431842893362,1.25278460979462,1.07498753070831,1.48841226100922,0.560479462146759,0.951484382152557,0.601765096187592,1.03522527217865,1.00082039833069,1.26074862480164,1.10180306434631,1.32087934017181,1.09186446666718,1.00985014438629,0.479309022426605,0.932537317276001,0.511135876178741,0.476180493831635,0.591683447360992,1.18529546260834,1.43362653255463,0.438012987375259,1.40167844295502,0.119041793048382,0.234305649995804,1.37538242340088,0.368745893239975,1.15655755996704,0.716249227523804,1.13077676296234,1.32539355754852,1.69227766990662,1.40570604801178,1.07937383651733,0.900596737861633,0.3502277135849,1.43092346191406,1.63295245170593,1.12786877155304,1.44163393974304,0.305808693170547,1.28948748111725,1.46378076076508,1.39506661891937,1.10970628261566,0.737299203872681,1.44357192516327,1.10271048545837,0.305444717407227,1.480633020401,0.233442038297653,1.1982102394104,0.339233845472336,0.431085407733917,0.89465194940567,0.730573117733002,1.47920441627502,0.367110550403595,0.524713635444641,1.74194359779358,0.777153134346008,0.878114581108093,0.479820191860199,1.48709726333618,1.31458234786987,1.06457793712616,1.48238301277161,0.808964252471924,1.34327983856201,0.401477217674255,0.65951669216156,0.833756566047668,0.872001945972443,1.21755969524384,1.29121541976929],\"y\":[0.604130983352661,0.449750572443008,0.491247326135635,0.505740523338318,0.447706192731857,0.501537680625916,0.550026834011078,0.572575807571411,0.348587512969971,0.381498634815216,0.394143968820572,0.373783111572266,0.430388748645782,0.418421149253845,0.412730008363724,0.505625545978546,0.36365869641304,0.235961347818375,0.585214674472809,0.490946173667908,0.505196332931519,0.255772292613983,0.585384488105774,0.394952565431595,0.635422587394714,0.612924098968506,0.309410035610199,0.658248662948608,0.474307239055634,0.562511384487152,0.153997123241425,0.479246735572815,0.0960980430245399,0.423026293516159,0.518630743026733,0.60834527015686,0.573110342025757,0.461603492498398,0.194989055395126,0.23521526157856,0.477487415075302,0.478356659412384,0.0303698573261499,0.601607382297516,0.282110154628754,0.547509372234344,0.472787708044052,0.175863519310951,0.490968644618988,0.602126955986023,0.376895278692245,0.288515985012054,0.536746919155121,0.452763766050339,0.260287940502167,0.633375823497772,0.450002878904343,0.4551981985569,0.325707912445068,0.465733230113983,0.479131430387497,0.233335807919502,0.561213254928589,0.377922266721725,0.473507791757584,0.390017777681351,0.306613743305206,0.249463722109795,0.494519203901291,0.361466586589813,0.16234202682972,0.257921665906906,0.332881182432175,0.480791091918945,0.405988603830338,0.581843852996826,0.295400261878967,0.25471106171608,0.41827192902565,0.295817464590073,0.549840569496155,0.614062130451202,0.55258983373642,0.198303267359734,0.324367851018906,0.470222115516663,0.496337592601776,0.580200731754303,0.508190035820007,0.189196765422821,0.0957312509417534,0.539770722389221,0.256450712680817,0.580131649971008,0.447551846504211,0.617950856685638,0.288555532693863,0.38042613863945,0.627162635326385,0.466914653778076,0.312328577041626,0.408842742443085,0.425962775945663,0.122974775731564,0.348079860210419,0.611100912094116,0.514492034912109,0.471566706895828,0.59662789106369,0.0815394446253777,0.408158332109451,0.440305948257446,0.567766189575195,0.234231784939766,0.325905978679657,0.626006722450256,0.435025870800018,0.588767051696777,0.106179520487785,0.0149958552792668,0.558732926845551,0.531310617923737,0.57939225435257,0.402264982461929],\"z\":[6.375,6.3439998626709,5.62900018692017,6.99300003051758,4.17999982833862,5.01100015640259,6.4520001411438,5.75799989700317,3.50699996948242,4.64400005340576,4.95499992370605,5.96299982070923,4.69500017166138,5.33599996566772,6.57800006866455,5.92000007629395,4.02799987792969,4.28000020980835,5.42999982833862,6.60900020599365,3.76600003242493,5.29300022125244,7.3769998550415,5.07399988174438,7.53700017929077,7.28399991989136,4.28599977493286,5.97100019454956,5.31099987030029,6.95100021362305,5.25,4.8289999961853,4.29199981689453,4.11999988555908,6.16800022125244,6.64799976348877,6.97700023651123,4.51399993896484,5.23699998855591,5.26900005340576,6.35699987411499,4.60799980163574,3.6029999256134,7.28399991989136,4.7350001335144,5.95599985122681,5.27299976348877,5.32399988174438,5.47200012207031,5.15100002288818,6.65199995040894,5.22499990463257,6.08699989318848,4.55299997329712,5.27899980545044,4.16800022125244,5.71500015258789,6.00799989700317,5.84999990463257,5.52500009536743,5.61100006103516,5.87200021743774,4.44000005722046,4.53499984741211,5.49300003051758,3.34899997711182,4.19000005722046,3.59299993515015,6.59899997711182,6.42199993133545,3.93600010871887,5.83799982070923,3.53299999237061,4.55000019073486,7.21299982070923,3.47099995613098,5.56899976730347,4.77500009536743,5.82200002670288,6.09800004959106,6.57200002670288,7.31400012969971,5.23000001907349,4.37599992752075,4.03200006484985,6.44199991226196,6.10500001907349,6.42399978637695,6.71400022506714,3.64400005340576,5.22700023651123,6.89099979400635,5.96400022506714,7.0789999961853,6.07100009918213,7.4689998626709,4.49700021743774,3.49499988555908,7.50400018692017,3.97000002861023,4.46500015258789,4.46000003814697,3.65700006484985,4.09600019454956,5.18100023269653,7.31599998474121,4.54500007629395,5.04099988937378,6.86299991607666,3.46199989318848,5.2350001335144,4.96199989318848,7.00600004196167,5.90199995040894,5.17500019073486,7.52199983596802,4.29099988937378,6.52699995040894,3.79399991035461,4.13899993896484,5.82299995422363,6.4539999961853,6.4539999961853,6.08400011062622],\"type\":\"scatter3d\"},{\"marker\":{\"line\":{\"color\":\"rgb(255, 255, 255)\",\"width\":1},\"opacity\":1,\"size\":10},\"mode\":\"markers\",\"name\":\"Test Set\",\"x\":[1.56497955322266,1.10735321044922,1.38439786434174,0.909784495830536,1.29178786277771,0.728870630264282,1.21768391132355,1.28455626964569,1.3469113111496,1.35593807697296,1.19827437400818,1.06931757926941,0.995538592338562,1.15360176563263,1.3151752948761,0.982409417629242,0.788547575473785,0.596220076084137,1.00726580619812,1.1614590883255,0.36842092871666,1.15687310695648,0.964434325695038,0.792221248149872,0.381430715322495,0.375846534967422,0.521021246910095,0.858428180217743,0.39724862575531,0.091622568666935,0.0],\"y\":[0.620070576667786,0.437453746795654,0.408781230449677,0.432452529668808,0.520342111587524,0.240729048848152,0.457003742456436,0.437454283237457,0.471203625202179,0.355111539363861,0.300740599632263,0.208715528249741,0.443323463201523,0.398155838251114,0.498465299606323,0.204403176903725,0.571055591106415,0.454943388700485,0.289680689573288,0.289231717586517,0.318697690963745,0.249322608113289,0.520303547382355,0.469987004995346,0.443185955286026,0.336384207010269,0.390661299228668,0.0,0.147062435746193,0.0599007532000542,0.270842045545578],\"z\":[7.49399995803833,6.63500022888184,6.40299987792969,6.00299978256226,5.97300004959106,5.83799982070923,5.82499980926514,5.81899976730347,5.80999994277954,5.62099981307983,5.5,5.39499998092651,5.26200008392334,5.23400020599365,5.19500017166138,5.18200016021729,5.07399988174438,5.00400018692017,4.80499982833862,4.71400022506714,4.70900011062622,4.69199991226196,4.57399988174438,4.31500005722046,4.08099985122681,3.875,3.80800008773804,3.79500007629395,3.59100008010864,2.90499997138977,2.69300007820129],\"type\":\"scatter3d\"}],                        {\"margin\":{\"b\":0,\"l\":0,\"r\":0,\"t\":0},\"scene\":{\"xaxis\":{\"title\":{\"text\":\"Economy..GDP.per.Capita.\"}},\"yaxis\":{\"title\":{\"text\":\"Freedom\"}},\"zaxis\":{\"title\":{\"text\":\"Happiness.Score\"}}},\"template\":{\"data\":{\"barpolar\":[{\"marker\":{\"line\":{\"color\":\"#E5ECF6\",\"width\":0.5},\"pattern\":{\"fillmode\":\"overlay\",\"size\":10,\"solidity\":0.2}},\"type\":\"barpolar\"}],\"bar\":[{\"error_x\":{\"color\":\"#2a3f5f\"},\"error_y\":{\"color\":\"#2a3f5f\"},\"marker\":{\"line\":{\"color\":\"#E5ECF6\",\"width\":0.5},\"pattern\":{\"fillmode\":\"overlay\",\"size\":10,\"solidity\":0.2}},\"type\":\"bar\"}],\"carpet\":[{\"aaxis\":{\"endlinecolor\":\"#2a3f5f\",\"gridcolor\":\"white\",\"linecolor\":\"white\",\"minorgridcolor\":\"white\",\"startlinecolor\":\"#2a3f5f\"},\"baxis\":{\"endlinecolor\":\"#2a3f5f\",\"gridcolor\":\"white\",\"linecolor\":\"white\",\"minorgridcolor\":\"white\",\"startlinecolor\":\"#2a3f5f\"},\"type\":\"carpet\"}],\"choropleth\":[{\"colorbar\":{\"outlinewidth\":0,\"ticks\":\"\"},\"type\":\"choropleth\"}],\"contourcarpet\":[{\"colorbar\":{\"outlinewidth\":0,\"ticks\":\"\"},\"type\":\"contourcarpet\"}],\"contour\":[{\"colorbar\":{\"outlinewidth\":0,\"ticks\":\"\"},\"colorscale\":[[0.0,\"#0d0887\"],[0.1111111111111111,\"#46039f\"],[0.2222222222222222,\"#7201a8\"],[0.3333333333333333,\"#9c179e\"],[0.4444444444444444,\"#bd3786\"],[0.5555555555555556,\"#d8576b\"],[0.6666666666666666,\"#ed7953\"],[0.7777777777777778,\"#fb9f3a\"],[0.8888888888888888,\"#fdca26\"],[1.0,\"#f0f921\"]],\"type\":\"contour\"}],\"heatmapgl\":[{\"colorbar\":{\"outlinewidth\":0,\"ticks\":\"\"},\"colorscale\":[[0.0,\"#0d0887\"],[0.1111111111111111,\"#46039f\"],[0.2222222222222222,\"#7201a8\"],[0.3333333333333333,\"#9c179e\"],[0.4444444444444444,\"#bd3786\"],[0.5555555555555556,\"#d8576b\"],[0.6666666666666666,\"#ed7953\"],[0.7777777777777778,\"#fb9f3a\"],[0.8888888888888888,\"#fdca26\"],[1.0,\"#f0f921\"]],\"type\":\"heatmapgl\"}],\"heatmap\":[{\"colorbar\":{\"outlinewidth\":0,\"ticks\":\"\"},\"colorscale\":[[0.0,\"#0d0887\"],[0.1111111111111111,\"#46039f\"],[0.2222222222222222,\"#7201a8\"],[0.3333333333333333,\"#9c179e\"],[0.4444444444444444,\"#bd3786\"],[0.5555555555555556,\"#d8576b\"],[0.6666666666666666,\"#ed7953\"],[0.7777777777777778,\"#fb9f3a\"],[0.8888888888888888,\"#fdca26\"],[1.0,\"#f0f921\"]],\"type\":\"heatmap\"}],\"histogram2dcontour\":[{\"colorbar\":{\"outlinewidth\":0,\"ticks\":\"\"},\"colorscale\":[[0.0,\"#0d0887\"],[0.1111111111111111,\"#46039f\"],[0.2222222222222222,\"#7201a8\"],[0.3333333333333333,\"#9c179e\"],[0.4444444444444444,\"#bd3786\"],[0.5555555555555556,\"#d8576b\"],[0.6666666666666666,\"#ed7953\"],[0.7777777777777778,\"#fb9f3a\"],[0.8888888888888888,\"#fdca26\"],[1.0,\"#f0f921\"]],\"type\":\"histogram2dcontour\"}],\"histogram2d\":[{\"colorbar\":{\"outlinewidth\":0,\"ticks\":\"\"},\"colorscale\":[[0.0,\"#0d0887\"],[0.1111111111111111,\"#46039f\"],[0.2222222222222222,\"#7201a8\"],[0.3333333333333333,\"#9c179e\"],[0.4444444444444444,\"#bd3786\"],[0.5555555555555556,\"#d8576b\"],[0.6666666666666666,\"#ed7953\"],[0.7777777777777778,\"#fb9f3a\"],[0.8888888888888888,\"#fdca26\"],[1.0,\"#f0f921\"]],\"type\":\"histogram2d\"}],\"histogram\":[{\"marker\":{\"pattern\":{\"fillmode\":\"overlay\",\"size\":10,\"solidity\":0.2}},\"type\":\"histogram\"}],\"mesh3d\":[{\"colorbar\":{\"outlinewidth\":0,\"ticks\":\"\"},\"type\":\"mesh3d\"}],\"parcoords\":[{\"line\":{\"colorbar\":{\"outlinewidth\":0,\"ticks\":\"\"}},\"type\":\"parcoords\"}],\"pie\":[{\"automargin\":true,\"type\":\"pie\"}],\"scatter3d\":[{\"line\":{\"colorbar\":{\"outlinewidth\":0,\"ticks\":\"\"}},\"marker\":{\"colorbar\":{\"outlinewidth\":0,\"ticks\":\"\"}},\"type\":\"scatter3d\"}],\"scattercarpet\":[{\"marker\":{\"colorbar\":{\"outlinewidth\":0,\"ticks\":\"\"}},\"type\":\"scattercarpet\"}],\"scattergeo\":[{\"marker\":{\"colorbar\":{\"outlinewidth\":0,\"ticks\":\"\"}},\"type\":\"scattergeo\"}],\"scattergl\":[{\"marker\":{\"colorbar\":{\"outlinewidth\":0,\"ticks\":\"\"}},\"type\":\"scattergl\"}],\"scattermapbox\":[{\"marker\":{\"colorbar\":{\"outlinewidth\":0,\"ticks\":\"\"}},\"type\":\"scattermapbox\"}],\"scatterpolargl\":[{\"marker\":{\"colorbar\":{\"outlinewidth\":0,\"ticks\":\"\"}},\"type\":\"scatterpolargl\"}],\"scatterpolar\":[{\"marker\":{\"colorbar\":{\"outlinewidth\":0,\"ticks\":\"\"}},\"type\":\"scatterpolar\"}],\"scatter\":[{\"fillpattern\":{\"fillmode\":\"overlay\",\"size\":10,\"solidity\":0.2},\"type\":\"scatter\"}],\"scatterternary\":[{\"marker\":{\"colorbar\":{\"outlinewidth\":0,\"ticks\":\"\"}},\"type\":\"scatterternary\"}],\"surface\":[{\"colorbar\":{\"outlinewidth\":0,\"ticks\":\"\"},\"colorscale\":[[0.0,\"#0d0887\"],[0.1111111111111111,\"#46039f\"],[0.2222222222222222,\"#7201a8\"],[0.3333333333333333,\"#9c179e\"],[0.4444444444444444,\"#bd3786\"],[0.5555555555555556,\"#d8576b\"],[0.6666666666666666,\"#ed7953\"],[0.7777777777777778,\"#fb9f3a\"],[0.8888888888888888,\"#fdca26\"],[1.0,\"#f0f921\"]],\"type\":\"surface\"}],\"table\":[{\"cells\":{\"fill\":{\"color\":\"#EBF0F8\"},\"line\":{\"color\":\"white\"}},\"header\":{\"fill\":{\"color\":\"#C8D4E3\"},\"line\":{\"color\":\"white\"}},\"type\":\"table\"}]},\"layout\":{\"annotationdefaults\":{\"arrowcolor\":\"#2a3f5f\",\"arrowhead\":0,\"arrowwidth\":1},\"autotypenumbers\":\"strict\",\"coloraxis\":{\"colorbar\":{\"outlinewidth\":0,\"ticks\":\"\"}},\"colorscale\":{\"diverging\":[[0,\"#8e0152\"],[0.1,\"#c51b7d\"],[0.2,\"#de77ae\"],[0.3,\"#f1b6da\"],[0.4,\"#fde0ef\"],[0.5,\"#f7f7f7\"],[0.6,\"#e6f5d0\"],[0.7,\"#b8e186\"],[0.8,\"#7fbc41\"],[0.9,\"#4d9221\"],[1,\"#276419\"]],\"sequential\":[[0.0,\"#0d0887\"],[0.1111111111111111,\"#46039f\"],[0.2222222222222222,\"#7201a8\"],[0.3333333333333333,\"#9c179e\"],[0.4444444444444444,\"#bd3786\"],[0.5555555555555556,\"#d8576b\"],[0.6666666666666666,\"#ed7953\"],[0.7777777777777778,\"#fb9f3a\"],[0.8888888888888888,\"#fdca26\"],[1.0,\"#f0f921\"]],\"sequentialminus\":[[0.0,\"#0d0887\"],[0.1111111111111111,\"#46039f\"],[0.2222222222222222,\"#7201a8\"],[0.3333333333333333,\"#9c179e\"],[0.4444444444444444,\"#bd3786\"],[0.5555555555555556,\"#d8576b\"],[0.6666666666666666,\"#ed7953\"],[0.7777777777777778,\"#fb9f3a\"],[0.8888888888888888,\"#fdca26\"],[1.0,\"#f0f921\"]]},\"colorway\":[\"#636efa\",\"#EF553B\",\"#00cc96\",\"#ab63fa\",\"#FFA15A\",\"#19d3f3\",\"#FF6692\",\"#B6E880\",\"#FF97FF\",\"#FECB52\"],\"font\":{\"color\":\"#2a3f5f\"},\"geo\":{\"bgcolor\":\"white\",\"lakecolor\":\"white\",\"landcolor\":\"#E5ECF6\",\"showlakes\":true,\"showland\":true,\"subunitcolor\":\"white\"},\"hoverlabel\":{\"align\":\"left\"},\"hovermode\":\"closest\",\"mapbox\":{\"style\":\"light\"},\"paper_bgcolor\":\"white\",\"plot_bgcolor\":\"#E5ECF6\",\"polar\":{\"angularaxis\":{\"gridcolor\":\"white\",\"linecolor\":\"white\",\"ticks\":\"\"},\"bgcolor\":\"#E5ECF6\",\"radialaxis\":{\"gridcolor\":\"white\",\"linecolor\":\"white\",\"ticks\":\"\"}},\"scene\":{\"xaxis\":{\"backgroundcolor\":\"#E5ECF6\",\"gridcolor\":\"white\",\"gridwidth\":2,\"linecolor\":\"white\",\"showbackground\":true,\"ticks\":\"\",\"zerolinecolor\":\"white\"},\"yaxis\":{\"backgroundcolor\":\"#E5ECF6\",\"gridcolor\":\"white\",\"gridwidth\":2,\"linecolor\":\"white\",\"showbackground\":true,\"ticks\":\"\",\"zerolinecolor\":\"white\"},\"zaxis\":{\"backgroundcolor\":\"#E5ECF6\",\"gridcolor\":\"white\",\"gridwidth\":2,\"linecolor\":\"white\",\"showbackground\":true,\"ticks\":\"\",\"zerolinecolor\":\"white\"}},\"shapedefaults\":{\"line\":{\"color\":\"#2a3f5f\"}},\"ternary\":{\"aaxis\":{\"gridcolor\":\"white\",\"linecolor\":\"white\",\"ticks\":\"\"},\"baxis\":{\"gridcolor\":\"white\",\"linecolor\":\"white\",\"ticks\":\"\"},\"bgcolor\":\"#E5ECF6\",\"caxis\":{\"gridcolor\":\"white\",\"linecolor\":\"white\",\"ticks\":\"\"}},\"title\":{\"x\":0.05},\"xaxis\":{\"automargin\":true,\"gridcolor\":\"white\",\"linecolor\":\"white\",\"ticks\":\"\",\"title\":{\"standoff\":15},\"zerolinecolor\":\"white\",\"zerolinewidth\":2},\"yaxis\":{\"automargin\":true,\"gridcolor\":\"white\",\"linecolor\":\"white\",\"ticks\":\"\",\"title\":{\"standoff\":15},\"zerolinecolor\":\"white\",\"zerolinewidth\":2}}},\"title\":{\"text\":\"Date Sets\"}},                        {\"responsive\": true}                    ).then(function(){\n",
       "                            \n",
       "var gd = document.getElementById('5f45ed7d-cd3e-4337-ab93-6fda0b6e2d38');\n",
       "var x = new MutationObserver(function (mutations, observer) {{\n",
       "        var display = window.getComputedStyle(gd).display;\n",
       "        if (!display || display === 'none') {{\n",
       "            console.log([gd, 'removed!']);\n",
       "            Plotly.purge(gd);\n",
       "            observer.disconnect();\n",
       "        }}\n",
       "}});\n",
       "\n",
       "// Listen for the removal of the full notebook cells\n",
       "var notebookContainer = gd.closest('#notebook-container');\n",
       "if (notebookContainer) {{\n",
       "    x.observe(notebookContainer, {childList: true});\n",
       "}}\n",
       "\n",
       "// Listen for the clearing of the current output cell\n",
       "var outputEl = gd.closest('.output');\n",
       "if (outputEl) {{\n",
       "    x.observe(outputEl, {childList: true});\n",
       "}}\n",
       "\n",
       "                        })                };                });            </script>        </div>"
      ]
     },
     "metadata": {},
     "output_type": "display_data"
    }
   ],
   "source": [
    "plot_training_trace = go.Scatter3d(\n",
    "    x=x_train[:, 0].flatten(),\n",
    "    y=x_train[:, 1].flatten(),\n",
    "    z=y_train.flatten(),\n",
    "    name='Training Set',\n",
    "    mode='markers',\n",
    "    marker={\n",
    "        'size': 10,\n",
    "        'opacity': 1,\n",
    "        'line': {\n",
    "            'color': 'rgb(255, 255, 255)',\n",
    "            'width': 1\n",
    "        },\n",
    "    }\n",
    ")\n",
    "\n",
    "plot_test_trace = go.Scatter3d(\n",
    "    x=x_test[:, 0].flatten(),\n",
    "    y=x_test[:, 1].flatten(),\n",
    "    z=y_test.flatten(),\n",
    "    name='Test Set',\n",
    "    mode='markers',\n",
    "    marker={\n",
    "        'size': 10,\n",
    "        'opacity': 1,\n",
    "        'line': {\n",
    "            'color': 'rgb(255, 255, 255)',\n",
    "            'width': 1\n",
    "        },\n",
    "    }\n",
    ")\n",
    "\n",
    "plot_layout = go.Layout(\n",
    "    title='Date Sets',\n",
    "    scene={\n",
    "        'xaxis': {'title': input_param_name_1},\n",
    "        'yaxis': {'title': input_param_name_2},\n",
    "        'zaxis': {'title': output_param_name} \n",
    "    },\n",
    "    margin={'l': 0, 'r': 0, 'b': 0, 't': 0}\n",
    ")\n",
    "\n",
    "plot_data = [plot_training_trace, plot_test_trace]\n",
    "\n",
    "plot_figure = go.Figure(data=plot_data, layout=plot_layout)\n",
    "\n",
    "plotly.offline.iplot(plot_figure)"
   ]
  },
  {
   "cell_type": "code",
   "execution_count": 10,
   "id": "83706798-aab6-4abb-bc7c-ae7ef3e92426",
   "metadata": {},
   "outputs": [
    {
     "name": "stdout",
     "output_type": "stream",
     "text": [
      "[[5.40016268]\n",
      " [0.7822835 ]\n",
      " [0.3660583 ]]\n",
      "开始的损失 15.108331088475987\n",
      "0.16473537993164747\n"
     ]
    }
   ],
   "source": [
    "num_iterations = 500\n",
    "learning_rate = 0.01\n",
    "ploynomial_degree = 0\n",
    "sinusoid_degree = 0\n",
    "\n",
    "linear_regression = LinearRegression(x_train, y_train, ploynomial_degree, sinusoid_degree)\n",
    "theta, cost_history = linear_regression.train(learning_rate, num_iterations)\n",
    "\n",
    "print(theta)\n",
    "print('开始的损失', cost_history[0])\n",
    "print(cost_history[-1])"
   ]
  },
  {
   "cell_type": "code",
   "execution_count": 7,
   "id": "18b2ac81-31f7-4ac8-a373-619278a427aa",
   "metadata": {
    "scrolled": true
   },
   "outputs": [
    {
     "data": {
      "image/png": "[encoded data removed]",
      "text/plain": [
       "<Figure size 640x480 with 1 Axes>"
      ]
     },
     "metadata": {},
     "output_type": "display_data"
    }
   ],
   "source": [
    "plt.plot(range(num_iterations), cost_history)\n",
    "plt.xlabel('iteration')\n",
    "plt.ylabel('cost')\n",
    "plt.title('GDP')\n",
    "plt.show()"
   ]
  },
  {
   "cell_type": "markdown",
   "id": "64a65af2-ec00-43d2-91a4-a992f16ffb62",
   "metadata": {},
   "source": [
    "#### 注：x值和y值的取值应该是不同的，所以要相互组合"
   ]
  },
  {
   "cell_type": "markdown",
   "id": "8b6cfa65-c4cb-433d-9882-8cc67f14ecbe",
   "metadata": {},
   "source": [
    "x_predictions —— 得到的是一个二维数组  \n",
    "x_predictions[x_y_index] —— 得到的是一个一维数组（即x_predictions中的一行）"
   ]
  },
  {
   "cell_type": "markdown",
   "id": "2d1b183c-bb00-4cb7-a405-e7b821c829a1",
   "metadata": {},
   "source": [
    "### 问题：用自行定义的x、y生成的预测得到的结果非常不对"
   ]
  },
  {
   "cell_type": "code",
   "execution_count": 28,
   "id": "838494c5-62d2-4da0-80e5-e50291a7c898",
   "metadata": {},
   "outputs": [],
   "source": [
    "predictions_num = 10\n",
    "\n",
    "x_min = x_train[:, 0].min()\n",
    "x_max = x_train[:, 0].max()\n",
    "\n",
    "y_min = x_train[:, 1].min()\n",
    "y_max = x_train[:, 1].max()\n",
    "\n",
    "x_axis = np.linspace(x_min, x_max, predictions_num)\n",
    "y_axis = np.linspace(y_min, y_max, predictions_num)\n",
    "\n",
    "x_predictions = np.zeros((predictions_num * predictions_num, 1))\n",
    "y_predictions = np.zeros((predictions_num * predictions_num, 1))\n",
    "\n",
    "x_y_index = 0\n",
    "for x_index, x_value in enumerate(x_axis):\n",
    "    for y_index, y_value in enumerate(y_axis):\n",
    "        x_predictions[x_y_index] = x_value\n",
    "        y_predictions[x_y_index] = y_value\n",
    "        x_y_index += 1\n",
    "\n",
    "z_predictions = linear_regression.predict(np.hstack((x_predictions, y_predictions)))"
   ]
  },
  {
   "cell_type": "code",
   "execution_count": 29,
   "id": "23ba3f64-cf98-4d70-95a5-ca29e73c6f3c",
   "metadata": {},
   "outputs": [
    {
     "data": {
      "application/vnd.plotly.v1+json": {
       "config": {
        "linkText": "Export to plot.ly",
        "plotlyServerURL": "https://plot.ly",
        "showLink": false
       },
       "data": [
        {
         "marker": {
          "line": {
           "color": "rgb(255, 255, 255)",
           "width": 1
          },
          "opacity": 1,
          "size": 10
         },
         "mode": "markers",
         "name": "Training Set",
         "type": "scatter3d",
         "x": [
          1.87076568603516,
          1.53062355518341,
          1.18939554691315,
          1.54625928401947,
          0.603048920631409,
          0.885416388511658,
          1.23374843597412,
          1.3412059545517,
          0.244549930095673,
          0.996192753314972,
          1.02723586559296,
          1.28177809715271,
          0.564305365085602,
          0.991012394428253,
          1.15318381786346,
          1.41691517829895,
          0.161925330758095,
          0.0921023488044739,
          0.85769921541214,
          1.35268235206604,
          1.12209415435791,
          1.22255623340607,
          1.50394463539124,
          0.783756256103516,
          1.61646318435669,
          1.49438726902008,
          0.950612664222717,
          0.786441087722778,
          0.925579309463501,
          1.48792338371277,
          1.12843120098114,
          1.05469870567322,
          0.648457288742065,
          0.667224824428558,
          1.36135590076447,
          1.62634336948395,
          1.53570663928986,
          0.636406779289246,
          1.12112903594971,
          0.72688353061676,
          1.07062232494354,
          0.586682975292206,
          0.368610262870789,
          1.484414935112,
          0.989701807498932,
          0.907975316047668,
          1.08116579055786,
          1.2860119342804,
          1.55167484283447,
          0.0226431842893362,
          1.25278460979462,
          1.07498753070831,
          1.48841226100922,
          0.560479462146759,
          0.951484382152557,
          0.601765096187592,
          1.03522527217865,
          1.00082039833069,
          1.26074862480164,
          1.10180306434631,
          1.32087934017181,
          1.09186446666718,
          1.00985014438629,
          0.479309022426605,
          0.932537317276001,
          0.511135876178741,
          0.476180493831635,
          0.591683447360992,
          1.18529546260834,
          1.43362653255463,
          0.438012987375259,
          1.40167844295502,
          0.119041793048382,
          0.234305649995804,
          1.37538242340088,
          0.368745893239975,
          1.15655755996704,
          0.716249227523804,
          1.13077676296234,
          1.32539355754852,
          1.69227766990662,
          1.40570604801178,
          1.07937383651733,
          0.900596737861633,
          0.3502277135849,
          1.43092346191406,
          1.63295245170593,
          1.12786877155304,
          1.44163393974304,
          0.305808693170547,
          1.28948748111725,
          1.46378076076508,
          1.39506661891937,
          1.10970628261566,
          0.737299203872681,
          1.44357192516327,
          1.10271048545837,
          0.305444717407227,
          1.480633020401,
          0.233442038297653,
          1.1982102394104,
          0.339233845472336,
          0.431085407733917,
          0.89465194940567,
          0.730573117733002,
          1.47920441627502,
          0.367110550403595,
          0.524713635444641,
          1.74194359779358,
          0.777153134346008,
          0.878114581108093,
          0.479820191860199,
          1.48709726333618,
          1.31458234786987,
          1.06457793712616,
          1.48238301277161,
          0.808964252471924,
          1.34327983856201,
          0.401477217674255,
          0.65951669216156,
          0.833756566047668,
          0.872001945972443,
          1.21755969524384,
          1.29121541976929
         ],
         "y": [
          0.604130983352661,
          0.449750572443008,
          0.491247326135635,
          0.505740523338318,
          0.447706192731857,
          0.501537680625916,
          0.550026834011078,
          0.572575807571411,
          0.348587512969971,
          0.381498634815216,
          0.394143968820572,
          0.373783111572266,
          0.430388748645782,
          0.418421149253845,
          0.412730008363724,
          0.505625545978546,
          0.36365869641304,
          0.235961347818375,
          0.585214674472809,
          0.490946173667908,
          0.505196332931519,
          0.255772292613983,
          0.585384488105774,
          0.394952565431595,
          0.635422587394714,
          0.612924098968506,
          0.309410035610199,
          0.658248662948608,
          0.474307239055634,
          0.562511384487152,
          0.153997123241425,
          0.479246735572815,
          0.0960980430245399,
          0.423026293516159,
          0.518630743026733,
          0.60834527015686,
          0.573110342025757,
          0.461603492498398,
          0.194989055395126,
          0.23521526157856,
          0.477487415075302,
          0.478356659412384,
          0.0303698573261499,
          0.601607382297516,
          0.282110154628754,
          0.547509372234344,
          0.472787708044052,
          0.175863519310951,
          0.490968644618988,
          0.602126955986023,
          0.376895278692245,
          0.288515985012054,
          0.536746919155121,
          0.452763766050339,
          0.260287940502167,
          0.633375823497772,
          0.450002878904343,
          0.4551981985569,
          0.325707912445068,
          0.465733230113983,
          0.479131430387497,
          0.233335807919502,
          0.561213254928589,
          0.377922266721725,
          0.473507791757584,
          0.390017777681351,
          0.306613743305206,
          0.249463722109795,
          0.494519203901291,
          0.361466586589813,
          0.16234202682972,
          0.257921665906906,
          0.332881182432175,
          0.480791091918945,
          0.405988603830338,
          0.581843852996826,
          0.295400261878967,
          0.25471106171608,
          0.41827192902565,
          0.295817464590073,
          0.549840569496155,
          0.614062130451202,
          0.55258983373642,
          0.198303267359734,
          0.324367851018906,
          0.470222115516663,
          0.496337592601776,
          0.580200731754303,
          0.508190035820007,
          0.189196765422821,
          0.0957312509417534,
          0.539770722389221,
          0.256450712680817,
          0.580131649971008,
          0.447551846504211,
          0.617950856685638,
          0.288555532693863,
          0.38042613863945,
          0.627162635326385,
          0.466914653778076,
          0.312328577041626,
          0.408842742443085,
          0.425962775945663,
          0.122974775731564,
          0.348079860210419,
          0.611100912094116,
          0.514492034912109,
          0.471566706895828,
          0.59662789106369,
          0.0815394446253777,
          0.408158332109451,
          0.440305948257446,
          0.567766189575195,
          0.234231784939766,
          0.325905978679657,
          0.626006722450256,
          0.435025870800018,
          0.588767051696777,
          0.106179520487785,
          0.0149958552792668,
          0.558732926845551,
          0.531310617923737,
          0.57939225435257,
          0.402264982461929
         ],
         "z": [
          6.375,
          6.3439998626709,
          5.62900018692017,
          6.99300003051758,
          4.17999982833862,
          5.01100015640259,
          6.4520001411438,
          5.75799989700317,
          3.50699996948242,
          4.64400005340576,
          4.95499992370605,
          5.96299982070923,
          4.69500017166138,
          5.33599996566772,
          6.57800006866455,
          5.92000007629395,
          4.02799987792969,
          4.28000020980835,
          5.42999982833862,
          6.60900020599365,
          3.76600003242493,
          5.29300022125244,
          7.3769998550415,
          5.07399988174438,
          7.53700017929077,
          7.28399991989136,
          4.28599977493286,
          5.97100019454956,
          5.31099987030029,
          6.95100021362305,
          5.25,
          4.8289999961853,
          4.29199981689453,
          4.11999988555908,
          6.16800022125244,
          6.64799976348877,
          6.97700023651123,
          4.51399993896484,
          5.23699998855591,
          5.26900005340576,
          6.35699987411499,
          4.60799980163574,
          3.6029999256134,
          7.28399991989136,
          4.7350001335144,
          5.95599985122681,
          5.27299976348877,
          5.32399988174438,
          5.47200012207031,
          5.15100002288818,
          6.65199995040894,
          5.22499990463257,
          6.08699989318848,
          4.55299997329712,
          5.27899980545044,
          4.16800022125244,
          5.71500015258789,
          6.00799989700317,
          5.84999990463257,
          5.52500009536743,
          5.61100006103516,
          5.87200021743774,
          4.44000005722046,
          4.53499984741211,
          5.49300003051758,
          3.34899997711182,
          4.19000005722046,
          3.59299993515015,
          6.59899997711182,
          6.42199993133545,
          3.93600010871887,
          5.83799982070923,
          3.53299999237061,
          4.55000019073486,
          7.21299982070923,
          3.47099995613098,
          5.56899976730347,
          4.77500009536743,
          5.82200002670288,
          6.09800004959106,
          6.57200002670288,
          7.31400012969971,
          5.23000001907349,
          4.37599992752075,
          4.03200006484985,
          6.44199991226196,
          6.10500001907349,
          6.42399978637695,
          6.71400022506714,
          3.64400005340576,
          5.22700023651123,
          6.89099979400635,
          5.96400022506714,
          7.0789999961853,
          6.07100009918213,
          7.4689998626709,
          4.49700021743774,
          3.49499988555908,
          7.50400018692017,
          3.97000002861023,
          4.46500015258789,
          4.46000003814697,
          3.65700006484985,
          4.09600019454956,
          5.18100023269653,
          7.31599998474121,
          4.54500007629395,
          5.04099988937378,
          6.86299991607666,
          3.46199989318848,
          5.2350001335144,
          4.96199989318848,
          7.00600004196167,
          5.90199995040894,
          5.17500019073486,
          7.52199983596802,
          4.29099988937378,
          6.52699995040894,
          3.79399991035461,
          4.13899993896484,
          5.82299995422363,
          6.4539999961853,
          6.4539999961853,
          6.08400011062622
         ]
        },
        {
         "marker": {
          "line": {
           "color": "rgb(255, 255, 255)",
           "width": 1
          },
          "opacity": 1,
          "size": 10
         },
         "mode": "markers",
         "name": "Test Set",
         "type": "scatter3d",
         "x": [
          1.56497955322266,
          1.10735321044922,
          1.38439786434174,
          0.909784495830536,
          1.29178786277771,
          0.728870630264282,
          1.21768391132355,
          1.28455626964569,
          1.3469113111496,
          1.35593807697296,
          1.19827437400818,
          1.06931757926941,
          0.995538592338562,
          1.15360176563263,
          1.3151752948761,
          0.982409417629242,
          0.788547575473785,
          0.596220076084137,
          1.00726580619812,
          1.1614590883255,
          0.36842092871666,
          1.15687310695648,
          0.964434325695038,
          0.792221248149872,
          0.381430715322495,
          0.375846534967422,
          0.521021246910095,
          0.858428180217743,
          0.39724862575531,
          0.091622568666935,
          0
         ],
         "y": [
          0.620070576667786,
          0.437453746795654,
          0.408781230449677,
          0.432452529668808,
          0.520342111587524,
          0.240729048848152,
          0.457003742456436,
          0.437454283237457,
          0.471203625202179,
          0.355111539363861,
          0.300740599632263,
          0.208715528249741,
          0.443323463201523,
          0.398155838251114,
          0.498465299606323,
          0.204403176903725,
          0.571055591106415,
          0.454943388700485,
          0.289680689573288,
          0.289231717586517,
          0.318697690963745,
          0.249322608113289,
          0.520303547382355,
          0.469987004995346,
          0.443185955286026,
          0.336384207010269,
          0.390661299228668,
          0,
          0.147062435746193,
          0.0599007532000542,
          0.270842045545578
         ],
         "z": [
          7.49399995803833,
          6.63500022888184,
          6.40299987792969,
          6.00299978256226,
          5.97300004959106,
          5.83799982070923,
          5.82499980926514,
          5.81899976730347,
          5.80999994277954,
          5.62099981307983,
          5.5,
          5.39499998092651,
          5.26200008392334,
          5.23400020599365,
          5.19500017166138,
          5.18200016021729,
          5.07399988174438,
          5.00400018692017,
          4.80499982833862,
          4.71400022506714,
          4.70900011062622,
          4.69199991226196,
          4.57399988174438,
          4.31500005722046,
          4.08099985122681,
          3.875,
          3.80800008773804,
          3.79500007629395,
          3.59100008010864,
          2.90499997138977,
          2.69300007820129
         ]
        },
        {
         "marker": {
          "size": 1
         },
         "mode": "markers",
         "name": "Prediction Plane",
         "opacity": 0.8,
         "surfaceaxis": 2,
         "type": "scatter3d",
         "x": [
          0.0226431842893362,
          0.0226431842893362,
          0.0226431842893362,
          0.0226431842893362,
          0.0226431842893362,
          0.0226431842893362,
          0.0226431842893362,
          0.0226431842893362,
          0.0226431842893362,
          0.0226431842893362,
          0.22799012892776108,
          0.22799012892776108,
          0.22799012892776108,
          0.22799012892776108,
          0.22799012892776108,
          0.22799012892776108,
          0.22799012892776108,
          0.22799012892776108,
          0.22799012892776108,
          0.22799012892776108,
          0.43333707356618595,
          0.43333707356618595,
          0.43333707356618595,
          0.43333707356618595,
          0.43333707356618595,
          0.43333707356618595,
          0.43333707356618595,
          0.43333707356618595,
          0.43333707356618595,
          0.43333707356618595,
          0.6386840182046108,
          0.6386840182046108,
          0.6386840182046108,
          0.6386840182046108,
          0.6386840182046108,
          0.6386840182046108,
          0.6386840182046108,
          0.6386840182046108,
          0.6386840182046108,
          0.6386840182046108,
          0.8440309628430357,
          0.8440309628430357,
          0.8440309628430357,
          0.8440309628430357,
          0.8440309628430357,
          0.8440309628430357,
          0.8440309628430357,
          0.8440309628430357,
          0.8440309628430357,
          0.8440309628430357,
          1.0493779074814606,
          1.0493779074814606,
          1.0493779074814606,
          1.0493779074814606,
          1.0493779074814606,
          1.0493779074814606,
          1.0493779074814606,
          1.0493779074814606,
          1.0493779074814606,
          1.0493779074814606,
          1.2547248521198855,
          1.2547248521198855,
          1.2547248521198855,
          1.2547248521198855,
          1.2547248521198855,
          1.2547248521198855,
          1.2547248521198855,
          1.2547248521198855,
          1.2547248521198855,
          1.2547248521198855,
          1.4600717967583103,
          1.4600717967583103,
          1.4600717967583103,
          1.4600717967583103,
          1.4600717967583103,
          1.4600717967583103,
          1.4600717967583103,
          1.4600717967583103,
          1.4600717967583103,
          1.4600717967583103,
          1.6654187413967352,
          1.6654187413967352,
          1.6654187413967352,
          1.6654187413967352,
          1.6654187413967352,
          1.6654187413967352,
          1.6654187413967352,
          1.6654187413967352,
          1.6654187413967352,
          1.6654187413967352,
          1.87076568603516,
          1.87076568603516,
          1.87076568603516,
          1.87076568603516,
          1.87076568603516,
          1.87076568603516,
          1.87076568603516,
          1.87076568603516,
          1.87076568603516,
          1.87076568603516
         ],
         "y": [
          0.0149958552792668,
          0.08646838946474913,
          0.1579409236502315,
          0.22941345783571385,
          0.30088599202119615,
          0.3723585262066785,
          0.44383106039216086,
          0.5153035945776432,
          0.5867761287631256,
          0.658248662948608,
          0.0149958552792668,
          0.08646838946474913,
          0.1579409236502315,
          0.22941345783571385,
          0.30088599202119615,
          0.3723585262066785,
          0.44383106039216086,
          0.5153035945776432,
          0.5867761287631256,
          0.658248662948608,
          0.0149958552792668,
          0.08646838946474913,
          0.1579409236502315,
          0.22941345783571385,
          0.30088599202119615,
          0.3723585262066785,
          0.44383106039216086,
          0.5153035945776432,
          0.5867761287631256,
          0.658248662948608,
          0.0149958552792668,
          0.08646838946474913,
          0.1579409236502315,
          0.22941345783571385,
          0.30088599202119615,
          0.3723585262066785,
          0.44383106039216086,
          0.5153035945776432,
          0.5867761287631256,
          0.658248662948608,
          0.0149958552792668,
          0.08646838946474913,
          0.1579409236502315,
          0.22941345783571385,
          0.30088599202119615,
          0.3723585262066785,
          0.44383106039216086,
          0.5153035945776432,
          0.5867761287631256,
          0.658248662948608,
          0.0149958552792668,
          0.08646838946474913,
          0.1579409236502315,
          0.22941345783571385,
          0.30088599202119615,
          0.3723585262066785,
          0.44383106039216086,
          0.5153035945776432,
          0.5867761287631256,
          0.658248662948608,
          0.0149958552792668,
          0.08646838946474913,
          0.1579409236502315,
          0.22941345783571385,
          0.30088599202119615,
          0.3723585262066785,
          0.44383106039216086,
          0.5153035945776432,
          0.5867761287631256,
          0.658248662948608,
          0.0149958552792668,
          0.08646838946474913,
          0.1579409236502315,
          0.22941345783571385,
          0.30088599202119615,
          0.3723585262066785,
          0.44383106039216086,
          0.5153035945776432,
          0.5867761287631256,
          0.658248662948608,
          0.0149958552792668,
          0.08646838946474913,
          0.1579409236502315,
          0.22941345783571385,
          0.30088599202119615,
          0.3723585262066785,
          0.44383106039216086,
          0.5153035945776432,
          0.5867761287631256,
          0.658248662948608,
          0.0149958552792668,
          0.08646838946474913,
          0.1579409236502315,
          0.22941345783571385,
          0.30088599202119615,
          0.3723585262066785,
          0.44383106039216086,
          0.5153035945776432,
          0.5867761287631256,
          0.658248662948608
         ],
         "z": [
          3.6010568479201446,
          3.728501989901707,
          3.8559471318832688,
          3.983392273864831,
          4.110837415846393,
          4.238282557827955,
          4.365727699809518,
          4.493172841791079,
          4.620617983772641,
          4.748063125754204,
          3.8734130027040488,
          4.000858144685611,
          4.128303286667173,
          4.255748428648735,
          4.383193570630297,
          4.5106387126118594,
          4.638083854593422,
          4.765528996574983,
          4.8929741385565455,
          5.020419280538108,
          4.145769157487953,
          4.273214299469515,
          4.400659441451078,
          4.528104583432639,
          4.655549725414201,
          4.782994867395764,
          4.910440009377326,
          5.037885151358887,
          5.16533029334045,
          5.292775435322012,
          4.418125312271857,
          4.545570454253419,
          4.673015596234982,
          4.800460738216543,
          4.9279058801981055,
          5.055351022179668,
          5.18279616416123,
          5.3102413061427916,
          5.437686448124354,
          5.565131590105916,
          4.690481467055761,
          4.817926609037324,
          4.945371751018886,
          5.072816893000447,
          5.20026203498201,
          5.327707176963572,
          5.455152318945134,
          5.582597460926696,
          5.710042602908258,
          5.83748774488982,
          4.962837621839666,
          5.090282763821229,
          5.217727905802791,
          5.345173047784352,
          5.472618189765915,
          5.600063331747477,
          5.727508473729039,
          5.854953615710601,
          5.982398757692163,
          6.109843899673725,
          5.2351937766235705,
          5.362638918605133,
          5.490084060586695,
          5.617529202568257,
          5.744974344549819,
          5.872419486531381,
          5.9998646285129436,
          6.127309770494505,
          6.254754912476067,
          6.38220005445763,
          5.507549931407475,
          5.634995073389037,
          5.762440215370599,
          5.889885357352161,
          6.017330499333723,
          6.144775641315285,
          6.272220783296848,
          6.399665925278409,
          6.5271110672599715,
          6.654556209241534,
          5.779906086191379,
          5.907351228172941,
          6.0347963701545035,
          6.162241512136065,
          6.289686654117627,
          6.41713179609919,
          6.544576938080752,
          6.672022080062313,
          6.799467222043876,
          6.926912364025438,
          6.052262240975283,
          6.179707382956845,
          6.307152524938408,
          6.434597666919969,
          6.5620428089015315,
          6.689487950883094,
          6.816933092864656,
          6.9443782348462175,
          7.07182337682778,
          7.199268518809342
         ]
        }
       ],
       "layout": {
        "autosize": true,
        "margin": {
         "b": 0,
         "l": 0,
         "r": 0,
         "t": 0
        },
        "scene": {
         "aspectmode": "auto",
         "aspectratio": {
          "x": 1,
          "y": 1,
          "z": 1
         },
         "camera": {
          "center": {
           "x": 0,
           "y": 0,
           "z": 0
          },
          "eye": {
           "x": 1.5103512401146009,
           "y": -0.0704682873028894,
           "z": 0.6032565940176892
          },
          "projection": {
           "type": "perspective"
          },
          "up": {
           "x": 0,
           "y": 0,
           "z": 1
          }
         },
         "xaxis": {
          "title": {
           "text": "Economy..GDP.per.Capita."
          },
          "type": "linear"
         },
         "yaxis": {
          "title": {
           "text": "Freedom"
          },
          "type": "linear"
         },
         "zaxis": {
          "title": {
           "text": "Happiness.Score"
          },
          "type": "linear"
         }
        },
        "template": {
         "data": {
          "bar": [
           {
            "error_x": {
             "color": "#2a3f5f"
            },
            "error_y": {
             "color": "#2a3f5f"
            },
            "marker": {
             "line": {
              "color": "#E5ECF6",
              "width": 0.5
             },
             "pattern": {
              "fillmode": "overlay",
              "size": 10,
              "solidity": 0.2
             }
            },
            "type": "bar"
           }
          ],
          "barpolar": [
           {
            "marker": {
             "line": {
              "color": "#E5ECF6",
              "width": 0.5
             },
             "pattern": {
              "fillmode": "overlay",
              "size": 10,
              "solidity": 0.2
             }
            },
            "type": "barpolar"
           }
          ],
          "carpet": [
           {
            "aaxis": {
             "endlinecolor": "#2a3f5f",
             "gridcolor": "white",
             "linecolor": "white",
             "minorgridcolor": "white",
             "startlinecolor": "#2a3f5f"
            },
            "baxis": {
             "endlinecolor": "#2a3f5f",
             "gridcolor": "white",
             "linecolor": "white",
             "minorgridcolor": "white",
             "startlinecolor": "#2a3f5f"
            },
            "type": "carpet"
           }
          ],
          "choropleth": [
           {
            "colorbar": {
             "outlinewidth": 0,
             "ticks": ""
            },
            "type": "choropleth"
           }
          ],
          "contour": [
           {
            "colorbar": {
             "outlinewidth": 0,
             "ticks": ""
            },
            "colorscale": [
             [
              0,
              "#0d0887"
             ],
             [
              0.1111111111111111,
              "#46039f"
             ],
             [
              0.2222222222222222,
              "#7201a8"
             ],
             [
              0.3333333333333333,
              "#9c179e"
             ],
             [
              0.4444444444444444,
              "#bd3786"
             ],
             [
              0.5555555555555556,
              "#d8576b"
             ],
             [
              0.6666666666666666,
              "#ed7953"
             ],
             [
              0.7777777777777778,
              "#fb9f3a"
             ],
             [
              0.8888888888888888,
              "#fdca26"
             ],
             [
              1,
              "#f0f921"
             ]
            ],
            "type": "contour"
           }
          ],
          "contourcarpet": [
           {
            "colorbar": {
             "outlinewidth": 0,
             "ticks": ""
            },
            "type": "contourcarpet"
           }
          ],
          "heatmap": [
           {
            "colorbar": {
             "outlinewidth": 0,
             "ticks": ""
            },
            "colorscale": [
             [
              0,
              "#0d0887"
             ],
             [
              0.1111111111111111,
              "#46039f"
             ],
             [
              0.2222222222222222,
              "#7201a8"
             ],
             [
              0.3333333333333333,
              "#9c179e"
             ],
             [
              0.4444444444444444,
              "#bd3786"
             ],
             [
              0.5555555555555556,
              "#d8576b"
             ],
             [
              0.6666666666666666,
              "#ed7953"
             ],
             [
              0.7777777777777778,
              "#fb9f3a"
             ],
             [
              0.8888888888888888,
              "#fdca26"
             ],
             [
              1,
              "#f0f921"
             ]
            ],
            "type": "heatmap"
           }
          ],
          "heatmapgl": [
           {
            "colorbar": {
             "outlinewidth": 0,
             "ticks": ""
            },
            "colorscale": [
             [
              0,
              "#0d0887"
             ],
             [
              0.1111111111111111,
              "#46039f"
             ],
             [
              0.2222222222222222,
              "#7201a8"
             ],
             [
              0.3333333333333333,
              "#9c179e"
             ],
             [
              0.4444444444444444,
              "#bd3786"
             ],
             [
              0.5555555555555556,
              "#d8576b"
             ],
             [
              0.6666666666666666,
              "#ed7953"
             ],
             [
              0.7777777777777778,
              "#fb9f3a"
             ],
             [
              0.8888888888888888,
              "#fdca26"
             ],
             [
              1,
              "#f0f921"
             ]
            ],
            "type": "heatmapgl"
           }
          ],
          "histogram": [
           {
            "marker": {
             "pattern": {
              "fillmode": "overlay",
              "size": 10,
              "solidity": 0.2
             }
            },
            "type": "histogram"
           }
          ],
          "histogram2d": [
           {
            "colorbar": {
             "outlinewidth": 0,
             "ticks": ""
            },
            "colorscale": [
             [
              0,
              "#0d0887"
             ],
             [
              0.1111111111111111,
              "#46039f"
             ],
             [
              0.2222222222222222,
              "#7201a8"
             ],
             [
              0.3333333333333333,
              "#9c179e"
             ],
             [
              0.4444444444444444,
              "#bd3786"
             ],
             [
              0.5555555555555556,
              "#d8576b"
             ],
             [
              0.6666666666666666,
              "#ed7953"
             ],
             [
              0.7777777777777778,
              "#fb9f3a"
             ],
             [
              0.8888888888888888,
              "#fdca26"
             ],
             [
              1,
              "#f0f921"
             ]
            ],
            "type": "histogram2d"
           }
          ],
          "histogram2dcontour": [
           {
            "colorbar": {
             "outlinewidth": 0,
             "ticks": ""
            },
            "colorscale": [
             [
              0,
              "#0d0887"
             ],
             [
              0.1111111111111111,
              "#46039f"
             ],
             [
              0.2222222222222222,
              "#7201a8"
             ],
             [
              0.3333333333333333,
              "#9c179e"
             ],
             [
              0.4444444444444444,
              "#bd3786"
             ],
             [
              0.5555555555555556,
              "#d8576b"
             ],
             [
              0.6666666666666666,
              "#ed7953"
             ],
             [
              0.7777777777777778,
              "#fb9f3a"
             ],
             [
              0.8888888888888888,
              "#fdca26"
             ],
             [
              1,
              "#f0f921"
             ]
            ],
            "type": "histogram2dcontour"
           }
          ],
          "mesh3d": [
           {
            "colorbar": {
             "outlinewidth": 0,
             "ticks": ""
            },
            "type": "mesh3d"
           }
          ],
          "parcoords": [
           {
            "line": {
             "colorbar": {
              "outlinewidth": 0,
              "ticks": ""
             }
            },
            "type": "parcoords"
           }
          ],
          "pie": [
           {
            "automargin": true,
            "type": "pie"
           }
          ],
          "scatter": [
           {
            "fillpattern": {
             "fillmode": "overlay",
             "size": 10,
             "solidity": 0.2
            },
            "type": "scatter"
           }
          ],
          "scatter3d": [
           {
            "line": {
             "colorbar": {
              "outlinewidth": 0,
              "ticks": ""
             }
            },
            "marker": {
             "colorbar": {
              "outlinewidth": 0,
              "ticks": ""
             }
            },
            "type": "scatter3d"
           }
          ],
          "scattercarpet": [
           {
            "marker": {
             "colorbar": {
              "outlinewidth": 0,
              "ticks": ""
             }
            },
            "type": "scattercarpet"
           }
          ],
          "scattergeo": [
           {
            "marker": {
             "colorbar": {
              "outlinewidth": 0,
              "ticks": ""
             }
            },
            "type": "scattergeo"
           }
          ],
          "scattergl": [
           {
            "marker": {
             "colorbar": {
              "outlinewidth": 0,
              "ticks": ""
             }
            },
            "type": "scattergl"
           }
          ],
          "scattermapbox": [
           {
            "marker": {
             "colorbar": {
              "outlinewidth": 0,
              "ticks": ""
             }
            },
            "type": "scattermapbox"
           }
          ],
          "scatterpolar": [
           {
            "marker": {
             "colorbar": {
              "outlinewidth": 0,
              "ticks": ""
             }
            },
            "type": "scatterpolar"
           }
          ],
          "scatterpolargl": [
           {
            "marker": {
             "colorbar": {
              "outlinewidth": 0,
              "ticks": ""
             }
            },
            "type": "scatterpolargl"
           }
          ],
          "scatterternary": [
           {
            "marker": {
             "colorbar": {
              "outlinewidth": 0,
              "ticks": ""
             }
            },
            "type": "scatterternary"
           }
          ],
          "surface": [
           {
            "colorbar": {
             "outlinewidth": 0,
             "ticks": ""
            },
            "colorscale": [
             [
              0,
              "#0d0887"
             ],
             [
              0.1111111111111111,
              "#46039f"
             ],
             [
              0.2222222222222222,
              "#7201a8"
             ],
             [
              0.3333333333333333,
              "#9c179e"
             ],
             [
              0.4444444444444444,
              "#bd3786"
             ],
             [
              0.5555555555555556,
              "#d8576b"
             ],
             [
              0.6666666666666666,
              "#ed7953"
             ],
             [
              0.7777777777777778,
              "#fb9f3a"
             ],
             [
              0.8888888888888888,
              "#fdca26"
             ],
             [
              1,
              "#f0f921"
             ]
            ],
            "type": "surface"
           }
          ],
          "table": [
           {
            "cells": {
             "fill": {
              "color": "#EBF0F8"
             },
             "line": {
              "color": "white"
             }
            },
            "header": {
             "fill": {
              "color": "#C8D4E3"
             },
             "line": {
              "color": "white"
             }
            },
            "type": "table"
           }
          ]
         },
         "layout": {
          "annotationdefaults": {
           "arrowcolor": "#2a3f5f",
           "arrowhead": 0,
           "arrowwidth": 1
          },
          "autotypenumbers": "strict",
          "coloraxis": {
           "colorbar": {
            "outlinewidth": 0,
            "ticks": ""
           }
          },
          "colorscale": {
           "diverging": [
            [
             0,
             "#8e0152"
            ],
            [
             0.1,
             "#c51b7d"
            ],
            [
             0.2,
             "#de77ae"
            ],
            [
             0.3,
             "#f1b6da"
            ],
            [
             0.4,
             "#fde0ef"
            ],
            [
             0.5,
             "#f7f7f7"
            ],
            [
             0.6,
             "#e6f5d0"
            ],
            [
             0.7,
             "#b8e186"
            ],
            [
             0.8,
             "#7fbc41"
            ],
            [
             0.9,
             "#4d9221"
            ],
            [
             1,
             "#276419"
            ]
           ],
           "sequential": [
            [
             0,
             "#0d0887"
            ],
            [
             0.1111111111111111,
             "#46039f"
            ],
            [
             0.2222222222222222,
             "#7201a8"
            ],
            [
             0.3333333333333333,
             "#9c179e"
            ],
            [
             0.4444444444444444,
             "#bd3786"
            ],
            [
             0.5555555555555556,
             "#d8576b"
            ],
            [
             0.6666666666666666,
             "#ed7953"
            ],
            [
             0.7777777777777778,
             "#fb9f3a"
            ],
            [
             0.8888888888888888,
             "#fdca26"
            ],
            [
             1,
             "#f0f921"
            ]
           ],
           "sequentialminus": [
            [
             0,
             "#0d0887"
            ],
            [
             0.1111111111111111,
             "#46039f"
            ],
            [
             0.2222222222222222,
             "#7201a8"
            ],
            [
             0.3333333333333333,
             "#9c179e"
            ],
            [
             0.4444444444444444,
             "#bd3786"
            ],
            [
             0.5555555555555556,
             "#d8576b"
            ],
            [
             0.6666666666666666,
             "#ed7953"
            ],
            [
             0.7777777777777778,
             "#fb9f3a"
            ],
            [
             0.8888888888888888,
             "#fdca26"
            ],
            [
             1,
             "#f0f921"
            ]
           ]
          },
          "colorway": [
           "#636efa",
           "#EF553B",
           "#00cc96",
           "#ab63fa",
           "#FFA15A",
           "#19d3f3",
           "#FF6692",
           "#B6E880",
           "#FF97FF",
           "#FECB52"
          ],
          "font": {
           "color": "#2a3f5f"
          },
          "geo": {
           "bgcolor": "white",
           "lakecolor": "white",
           "landcolor": "#E5ECF6",
           "showlakes": true,
           "showland": true,
           "subunitcolor": "white"
          },
          "hoverlabel": {
           "align": "left"
          },
          "hovermode": "closest",
          "mapbox": {
           "style": "light"
          },
          "paper_bgcolor": "white",
          "plot_bgcolor": "#E5ECF6",
          "polar": {
           "angularaxis": {
            "gridcolor": "white",
            "linecolor": "white",
            "ticks": ""
           },
           "bgcolor": "#E5ECF6",
           "radialaxis": {
            "gridcolor": "white",
            "linecolor": "white",
            "ticks": ""
           }
          },
          "scene": {
           "xaxis": {
            "backgroundcolor": "#E5ECF6",
            "gridcolor": "white",
            "gridwidth": 2,
            "linecolor": "white",
            "showbackground": true,
            "ticks": "",
            "zerolinecolor": "white"
           },
           "yaxis": {
            "backgroundcolor": "#E5ECF6",
            "gridcolor": "white",
            "gridwidth": 2,
            "linecolor": "white",
            "showbackground": true,
            "ticks": "",
            "zerolinecolor": "white"
           },
           "zaxis": {
            "backgroundcolor": "#E5ECF6",
            "gridcolor": "white",
            "gridwidth": 2,
            "linecolor": "white",
            "showbackground": true,
            "ticks": "",
            "zerolinecolor": "white"
           }
          },
          "shapedefaults": {
           "line": {
            "color": "#2a3f5f"
           }
          },
          "ternary": {
           "aaxis": {
            "gridcolor": "white",
            "linecolor": "white",
            "ticks": ""
           },
           "baxis": {
            "gridcolor": "white",
            "linecolor": "white",
            "ticks": ""
           },
           "bgcolor": "#E5ECF6",
           "caxis": {
            "gridcolor": "white",
            "linecolor": "white",
            "ticks": ""
           }
          },
          "title": {
           "x": 0.05
          },
          "xaxis": {
           "automargin": true,
           "gridcolor": "white",
           "linecolor": "white",
           "ticks": "",
           "title": {
            "standoff": 15
           },
           "zerolinecolor": "white",
           "zerolinewidth": 2
          },
          "yaxis": {
           "automargin": true,
           "gridcolor": "white",
           "linecolor": "white",
           "ticks": "",
           "title": {
            "standoff": 15
           },
           "zerolinecolor": "white",
           "zerolinewidth": 2
          }
         }
        },
        "title": {
         "text": "Date Sets"
        }
       }
      },
      "image/png": "[encoded data removed]",
      "text/html": [
       "<div>                            <div id=\"1fec3338-f53c-4c69-8bfc-afebfe7236f3\" class=\"plotly-graph-div\" style=\"height:525px; width:100%;\"></div>            <script type=\"text/javascript\">                require([\"plotly\"], function(Plotly) {                    window.PLOTLYENV=window.PLOTLYENV || {};                                    if (document.getElementById(\"1fec3338-f53c-4c69-8bfc-afebfe7236f3\")) {                    Plotly.newPlot(                        \"1fec3338-f53c-4c69-8bfc-afebfe7236f3\",                        [{\"marker\":{\"line\":{\"color\":\"rgb(255, 255, 255)\",\"width\":1},\"opacity\":1,\"size\":10},\"mode\":\"markers\",\"name\":\"Training Set\",\"x\":[1.87076568603516,1.53062355518341,1.18939554691315,1.54625928401947,0.603048920631409,0.885416388511658,1.23374843597412,1.3412059545517,0.244549930095673,0.996192753314972,1.02723586559296,1.28177809715271,0.564305365085602,0.991012394428253,1.15318381786346,1.41691517829895,0.161925330758095,0.0921023488044739,0.85769921541214,1.35268235206604,1.12209415435791,1.22255623340607,1.50394463539124,0.783756256103516,1.61646318435669,1.49438726902008,0.950612664222717,0.786441087722778,0.925579309463501,1.48792338371277,1.12843120098114,1.05469870567322,0.648457288742065,0.667224824428558,1.36135590076447,1.62634336948395,1.53570663928986,0.636406779289246,1.12112903594971,0.72688353061676,1.07062232494354,0.586682975292206,0.368610262870789,1.484414935112,0.989701807498932,0.907975316047668,1.08116579055786,1.2860119342804,1.55167484283447,0.0226431842893362,1.25278460979462,1.07498753070831,1.48841226100922,0.560479462146759,0.951484382152557,0.601765096187592,1.03522527217865,1.00082039833069,1.26074862480164,1.10180306434631,1.32087934017181,1.09186446666718,1.00985014438629,0.479309022426605,0.932537317276001,0.511135876178741,0.476180493831635,0.591683447360992,1.18529546260834,1.43362653255463,0.438012987375259,1.40167844295502,0.119041793048382,0.234305649995804,1.37538242340088,0.368745893239975,1.15655755996704,0.716249227523804,1.13077676296234,1.32539355754852,1.69227766990662,1.40570604801178,1.07937383651733,0.900596737861633,0.3502277135849,1.43092346191406,1.63295245170593,1.12786877155304,1.44163393974304,0.305808693170547,1.28948748111725,1.46378076076508,1.39506661891937,1.10970628261566,0.737299203872681,1.44357192516327,1.10271048545837,0.305444717407227,1.480633020401,0.233442038297653,1.1982102394104,0.339233845472336,0.431085407733917,0.89465194940567,0.730573117733002,1.47920441627502,0.367110550403595,0.524713635444641,1.74194359779358,0.777153134346008,0.878114581108093,0.479820191860199,1.48709726333618,1.31458234786987,1.06457793712616,1.48238301277161,0.808964252471924,1.34327983856201,0.401477217674255,0.65951669216156,0.833756566047668,0.872001945972443,1.21755969524384,1.29121541976929],\"y\":[0.604130983352661,0.449750572443008,0.491247326135635,0.505740523338318,0.447706192731857,0.501537680625916,0.550026834011078,0.572575807571411,0.348587512969971,0.381498634815216,0.394143968820572,0.373783111572266,0.430388748645782,0.418421149253845,0.412730008363724,0.505625545978546,0.36365869641304,0.235961347818375,0.585214674472809,0.490946173667908,0.505196332931519,0.255772292613983,0.585384488105774,0.394952565431595,0.635422587394714,0.612924098968506,0.309410035610199,0.658248662948608,0.474307239055634,0.562511384487152,0.153997123241425,0.479246735572815,0.0960980430245399,0.423026293516159,0.518630743026733,0.60834527015686,0.573110342025757,0.461603492498398,0.194989055395126,0.23521526157856,0.477487415075302,0.478356659412384,0.0303698573261499,0.601607382297516,0.282110154628754,0.547509372234344,0.472787708044052,0.175863519310951,0.490968644618988,0.602126955986023,0.376895278692245,0.288515985012054,0.536746919155121,0.452763766050339,0.260287940502167,0.633375823497772,0.450002878904343,0.4551981985569,0.325707912445068,0.465733230113983,0.479131430387497,0.233335807919502,0.561213254928589,0.377922266721725,0.473507791757584,0.390017777681351,0.306613743305206,0.249463722109795,0.494519203901291,0.361466586589813,0.16234202682972,0.257921665906906,0.332881182432175,0.480791091918945,0.405988603830338,0.581843852996826,0.295400261878967,0.25471106171608,0.41827192902565,0.295817464590073,0.549840569496155,0.614062130451202,0.55258983373642,0.198303267359734,0.324367851018906,0.470222115516663,0.496337592601776,0.580200731754303,0.508190035820007,0.189196765422821,0.0957312509417534,0.539770722389221,0.256450712680817,0.580131649971008,0.447551846504211,0.617950856685638,0.288555532693863,0.38042613863945,0.627162635326385,0.466914653778076,0.312328577041626,0.408842742443085,0.425962775945663,0.122974775731564,0.348079860210419,0.611100912094116,0.514492034912109,0.471566706895828,0.59662789106369,0.0815394446253777,0.408158332109451,0.440305948257446,0.567766189575195,0.234231784939766,0.325905978679657,0.626006722450256,0.435025870800018,0.588767051696777,0.106179520487785,0.0149958552792668,0.558732926845551,0.531310617923737,0.57939225435257,0.402264982461929],\"z\":[6.375,6.3439998626709,5.62900018692017,6.99300003051758,4.17999982833862,5.01100015640259,6.4520001411438,5.75799989700317,3.50699996948242,4.64400005340576,4.95499992370605,5.96299982070923,4.69500017166138,5.33599996566772,6.57800006866455,5.92000007629395,4.02799987792969,4.28000020980835,5.42999982833862,6.60900020599365,3.76600003242493,5.29300022125244,7.3769998550415,5.07399988174438,7.53700017929077,7.28399991989136,4.28599977493286,5.97100019454956,5.31099987030029,6.95100021362305,5.25,4.8289999961853,4.29199981689453,4.11999988555908,6.16800022125244,6.64799976348877,6.97700023651123,4.51399993896484,5.23699998855591,5.26900005340576,6.35699987411499,4.60799980163574,3.6029999256134,7.28399991989136,4.7350001335144,5.95599985122681,5.27299976348877,5.32399988174438,5.47200012207031,5.15100002288818,6.65199995040894,5.22499990463257,6.08699989318848,4.55299997329712,5.27899980545044,4.16800022125244,5.71500015258789,6.00799989700317,5.84999990463257,5.52500009536743,5.61100006103516,5.87200021743774,4.44000005722046,4.53499984741211,5.49300003051758,3.34899997711182,4.19000005722046,3.59299993515015,6.59899997711182,6.42199993133545,3.93600010871887,5.83799982070923,3.53299999237061,4.55000019073486,7.21299982070923,3.47099995613098,5.56899976730347,4.77500009536743,5.82200002670288,6.09800004959106,6.57200002670288,7.31400012969971,5.23000001907349,4.37599992752075,4.03200006484985,6.44199991226196,6.10500001907349,6.42399978637695,6.71400022506714,3.64400005340576,5.22700023651123,6.89099979400635,5.96400022506714,7.0789999961853,6.07100009918213,7.4689998626709,4.49700021743774,3.49499988555908,7.50400018692017,3.97000002861023,4.46500015258789,4.46000003814697,3.65700006484985,4.09600019454956,5.18100023269653,7.31599998474121,4.54500007629395,5.04099988937378,6.86299991607666,3.46199989318848,5.2350001335144,4.96199989318848,7.00600004196167,5.90199995040894,5.17500019073486,7.52199983596802,4.29099988937378,6.52699995040894,3.79399991035461,4.13899993896484,5.82299995422363,6.4539999961853,6.4539999961853,6.08400011062622],\"type\":\"scatter3d\"},{\"marker\":{\"line\":{\"color\":\"rgb(255, 255, 255)\",\"width\":1},\"opacity\":1,\"size\":10},\"mode\":\"markers\",\"name\":\"Test Set\",\"x\":[1.56497955322266,1.10735321044922,1.38439786434174,0.909784495830536,1.29178786277771,0.728870630264282,1.21768391132355,1.28455626964569,1.3469113111496,1.35593807697296,1.19827437400818,1.06931757926941,0.995538592338562,1.15360176563263,1.3151752948761,0.982409417629242,0.788547575473785,0.596220076084137,1.00726580619812,1.1614590883255,0.36842092871666,1.15687310695648,0.964434325695038,0.792221248149872,0.381430715322495,0.375846534967422,0.521021246910095,0.858428180217743,0.39724862575531,0.091622568666935,0.0],\"y\":[0.620070576667786,0.437453746795654,0.408781230449677,0.432452529668808,0.520342111587524,0.240729048848152,0.457003742456436,0.437454283237457,0.471203625202179,0.355111539363861,0.300740599632263,0.208715528249741,0.443323463201523,0.398155838251114,0.498465299606323,0.204403176903725,0.571055591106415,0.454943388700485,0.289680689573288,0.289231717586517,0.318697690963745,0.249322608113289,0.520303547382355,0.469987004995346,0.443185955286026,0.336384207010269,0.390661299228668,0.0,0.147062435746193,0.0599007532000542,0.270842045545578],\"z\":[7.49399995803833,6.63500022888184,6.40299987792969,6.00299978256226,5.97300004959106,5.83799982070923,5.82499980926514,5.81899976730347,5.80999994277954,5.62099981307983,5.5,5.39499998092651,5.26200008392334,5.23400020599365,5.19500017166138,5.18200016021729,5.07399988174438,5.00400018692017,4.80499982833862,4.71400022506714,4.70900011062622,4.69199991226196,4.57399988174438,4.31500005722046,4.08099985122681,3.875,3.80800008773804,3.79500007629395,3.59100008010864,2.90499997138977,2.69300007820129],\"type\":\"scatter3d\"},{\"marker\":{\"size\":1},\"mode\":\"markers\",\"name\":\"Prediction Plane\",\"opacity\":0.8,\"surfaceaxis\":2,\"x\":[0.0226431842893362,0.0226431842893362,0.0226431842893362,0.0226431842893362,0.0226431842893362,0.0226431842893362,0.0226431842893362,0.0226431842893362,0.0226431842893362,0.0226431842893362,0.22799012892776108,0.22799012892776108,0.22799012892776108,0.22799012892776108,0.22799012892776108,0.22799012892776108,0.22799012892776108,0.22799012892776108,0.22799012892776108,0.22799012892776108,0.43333707356618595,0.43333707356618595,0.43333707356618595,0.43333707356618595,0.43333707356618595,0.43333707356618595,0.43333707356618595,0.43333707356618595,0.43333707356618595,0.43333707356618595,0.6386840182046108,0.6386840182046108,0.6386840182046108,0.6386840182046108,0.6386840182046108,0.6386840182046108,0.6386840182046108,0.6386840182046108,0.6386840182046108,0.6386840182046108,0.8440309628430357,0.8440309628430357,0.8440309628430357,0.8440309628430357,0.8440309628430357,0.8440309628430357,0.8440309628430357,0.8440309628430357,0.8440309628430357,0.8440309628430357,1.0493779074814606,1.0493779074814606,1.0493779074814606,1.0493779074814606,1.0493779074814606,1.0493779074814606,1.0493779074814606,1.0493779074814606,1.0493779074814606,1.0493779074814606,1.2547248521198855,1.2547248521198855,1.2547248521198855,1.2547248521198855,1.2547248521198855,1.2547248521198855,1.2547248521198855,1.2547248521198855,1.2547248521198855,1.2547248521198855,1.4600717967583103,1.4600717967583103,1.4600717967583103,1.4600717967583103,1.4600717967583103,1.4600717967583103,1.4600717967583103,1.4600717967583103,1.4600717967583103,1.4600717967583103,1.6654187413967352,1.6654187413967352,1.6654187413967352,1.6654187413967352,1.6654187413967352,1.6654187413967352,1.6654187413967352,1.6654187413967352,1.6654187413967352,1.6654187413967352,1.87076568603516,1.87076568603516,1.87076568603516,1.87076568603516,1.87076568603516,1.87076568603516,1.87076568603516,1.87076568603516,1.87076568603516,1.87076568603516],\"y\":[0.0149958552792668,0.08646838946474913,0.1579409236502315,0.22941345783571385,0.30088599202119615,0.3723585262066785,0.44383106039216086,0.5153035945776432,0.5867761287631256,0.658248662948608,0.0149958552792668,0.08646838946474913,0.1579409236502315,0.22941345783571385,0.30088599202119615,0.3723585262066785,0.44383106039216086,0.5153035945776432,0.5867761287631256,0.658248662948608,0.0149958552792668,0.08646838946474913,0.1579409236502315,0.22941345783571385,0.30088599202119615,0.3723585262066785,0.44383106039216086,0.5153035945776432,0.5867761287631256,0.658248662948608,0.0149958552792668,0.08646838946474913,0.1579409236502315,0.22941345783571385,0.30088599202119615,0.3723585262066785,0.44383106039216086,0.5153035945776432,0.5867761287631256,0.658248662948608,0.0149958552792668,0.08646838946474913,0.1579409236502315,0.22941345783571385,0.30088599202119615,0.3723585262066785,0.44383106039216086,0.5153035945776432,0.5867761287631256,0.658248662948608,0.0149958552792668,0.08646838946474913,0.1579409236502315,0.22941345783571385,0.30088599202119615,0.3723585262066785,0.44383106039216086,0.5153035945776432,0.5867761287631256,0.658248662948608,0.0149958552792668,0.08646838946474913,0.1579409236502315,0.22941345783571385,0.30088599202119615,0.3723585262066785,0.44383106039216086,0.5153035945776432,0.5867761287631256,0.658248662948608,0.0149958552792668,0.08646838946474913,0.1579409236502315,0.22941345783571385,0.30088599202119615,0.3723585262066785,0.44383106039216086,0.5153035945776432,0.5867761287631256,0.658248662948608,0.0149958552792668,0.08646838946474913,0.1579409236502315,0.22941345783571385,0.30088599202119615,0.3723585262066785,0.44383106039216086,0.5153035945776432,0.5867761287631256,0.658248662948608,0.0149958552792668,0.08646838946474913,0.1579409236502315,0.22941345783571385,0.30088599202119615,0.3723585262066785,0.44383106039216086,0.5153035945776432,0.5867761287631256,0.658248662948608],\"z\":[3.6010568479201446,3.728501989901707,3.8559471318832688,3.983392273864831,4.110837415846393,4.238282557827955,4.365727699809518,4.493172841791079,4.620617983772641,4.748063125754204,3.8734130027040488,4.000858144685611,4.128303286667173,4.255748428648735,4.383193570630297,4.5106387126118594,4.638083854593422,4.765528996574983,4.8929741385565455,5.020419280538108,4.145769157487953,4.273214299469515,4.400659441451078,4.528104583432639,4.655549725414201,4.782994867395764,4.910440009377326,5.037885151358887,5.16533029334045,5.292775435322012,4.418125312271857,4.545570454253419,4.673015596234982,4.800460738216543,4.9279058801981055,5.055351022179668,5.18279616416123,5.3102413061427916,5.437686448124354,5.565131590105916,4.690481467055761,4.817926609037324,4.945371751018886,5.072816893000447,5.20026203498201,5.327707176963572,5.455152318945134,5.582597460926696,5.710042602908258,5.83748774488982,4.962837621839666,5.090282763821229,5.217727905802791,5.345173047784352,5.472618189765915,5.600063331747477,5.727508473729039,5.854953615710601,5.982398757692163,6.109843899673725,5.2351937766235705,5.362638918605133,5.490084060586695,5.617529202568257,5.744974344549819,5.872419486531381,5.9998646285129436,6.127309770494505,6.254754912476067,6.38220005445763,5.507549931407475,5.634995073389037,5.762440215370599,5.889885357352161,6.017330499333723,6.144775641315285,6.272220783296848,6.399665925278409,6.5271110672599715,6.654556209241534,5.779906086191379,5.907351228172941,6.0347963701545035,6.162241512136065,6.289686654117627,6.41713179609919,6.544576938080752,6.672022080062313,6.799467222043876,6.926912364025438,6.052262240975283,6.179707382956845,6.307152524938408,6.434597666919969,6.5620428089015315,6.689487950883094,6.816933092864656,6.9443782348462175,7.07182337682778,7.199268518809342],\"type\":\"scatter3d\"}],                        {\"margin\":{\"b\":0,\"l\":0,\"r\":0,\"t\":0},\"scene\":{\"xaxis\":{\"title\":{\"text\":\"Economy..GDP.per.Capita.\"}},\"yaxis\":{\"title\":{\"text\":\"Freedom\"}},\"zaxis\":{\"title\":{\"text\":\"Happiness.Score\"}}},\"template\":{\"data\":{\"barpolar\":[{\"marker\":{\"line\":{\"color\":\"#E5ECF6\",\"width\":0.5},\"pattern\":{\"fillmode\":\"overlay\",\"size\":10,\"solidity\":0.2}},\"type\":\"barpolar\"}],\"bar\":[{\"error_x\":{\"color\":\"#2a3f5f\"},\"error_y\":{\"color\":\"#2a3f5f\"},\"marker\":{\"line\":{\"color\":\"#E5ECF6\",\"width\":0.5},\"pattern\":{\"fillmode\":\"overlay\",\"size\":10,\"solidity\":0.2}},\"type\":\"bar\"}],\"carpet\":[{\"aaxis\":{\"endlinecolor\":\"#2a3f5f\",\"gridcolor\":\"white\",\"linecolor\":\"white\",\"minorgridcolor\":\"white\",\"startlinecolor\":\"#2a3f5f\"},\"baxis\":{\"endlinecolor\":\"#2a3f5f\",\"gridcolor\":\"white\",\"linecolor\":\"white\",\"minorgridcolor\":\"white\",\"startlinecolor\":\"#2a3f5f\"},\"type\":\"carpet\"}],\"choropleth\":[{\"colorbar\":{\"outlinewidth\":0,\"ticks\":\"\"},\"type\":\"choropleth\"}],\"contourcarpet\":[{\"colorbar\":{\"outlinewidth\":0,\"ticks\":\"\"},\"type\":\"contourcarpet\"}],\"contour\":[{\"colorbar\":{\"outlinewidth\":0,\"ticks\":\"\"},\"colorscale\":[[0.0,\"#0d0887\"],[0.1111111111111111,\"#46039f\"],[0.2222222222222222,\"#7201a8\"],[0.3333333333333333,\"#9c179e\"],[0.4444444444444444,\"#bd3786\"],[0.5555555555555556,\"#d8576b\"],[0.6666666666666666,\"#ed7953\"],[0.7777777777777778,\"#fb9f3a\"],[0.8888888888888888,\"#fdca26\"],[1.0,\"#f0f921\"]],\"type\":\"contour\"}],\"heatmapgl\":[{\"colorbar\":{\"outlinewidth\":0,\"ticks\":\"\"},\"colorscale\":[[0.0,\"#0d0887\"],[0.1111111111111111,\"#46039f\"],[0.2222222222222222,\"#7201a8\"],[0.3333333333333333,\"#9c179e\"],[0.4444444444444444,\"#bd3786\"],[0.5555555555555556,\"#d8576b\"],[0.6666666666666666,\"#ed7953\"],[0.7777777777777778,\"#fb9f3a\"],[0.8888888888888888,\"#fdca26\"],[1.0,\"#f0f921\"]],\"type\":\"heatmapgl\"}],\"heatmap\":[{\"colorbar\":{\"outlinewidth\":0,\"ticks\":\"\"},\"colorscale\":[[0.0,\"#0d0887\"],[0.1111111111111111,\"#46039f\"],[0.2222222222222222,\"#7201a8\"],[0.3333333333333333,\"#9c179e\"],[0.4444444444444444,\"#bd3786\"],[0.5555555555555556,\"#d8576b\"],[0.6666666666666666,\"#ed7953\"],[0.7777777777777778,\"#fb9f3a\"],[0.8888888888888888,\"#fdca26\"],[1.0,\"#f0f921\"]],\"type\":\"heatmap\"}],\"histogram2dcontour\":[{\"colorbar\":{\"outlinewidth\":0,\"ticks\":\"\"},\"colorscale\":[[0.0,\"#0d0887\"],[0.1111111111111111,\"#46039f\"],[0.2222222222222222,\"#7201a8\"],[0.3333333333333333,\"#9c179e\"],[0.4444444444444444,\"#bd3786\"],[0.5555555555555556,\"#d8576b\"],[0.6666666666666666,\"#ed7953\"],[0.7777777777777778,\"#fb9f3a\"],[0.8888888888888888,\"#fdca26\"],[1.0,\"#f0f921\"]],\"type\":\"histogram2dcontour\"}],\"histogram2d\":[{\"colorbar\":{\"outlinewidth\":0,\"ticks\":\"\"},\"colorscale\":[[0.0,\"#0d0887\"],[0.1111111111111111,\"#46039f\"],[0.2222222222222222,\"#7201a8\"],[0.3333333333333333,\"#9c179e\"],[0.4444444444444444,\"#bd3786\"],[0.5555555555555556,\"#d8576b\"],[0.6666666666666666,\"#ed7953\"],[0.7777777777777778,\"#fb9f3a\"],[0.8888888888888888,\"#fdca26\"],[1.0,\"#f0f921\"]],\"type\":\"histogram2d\"}],\"histogram\":[{\"marker\":{\"pattern\":{\"fillmode\":\"overlay\",\"size\":10,\"solidity\":0.2}},\"type\":\"histogram\"}],\"mesh3d\":[{\"colorbar\":{\"outlinewidth\":0,\"ticks\":\"\"},\"type\":\"mesh3d\"}],\"parcoords\":[{\"line\":{\"colorbar\":{\"outlinewidth\":0,\"ticks\":\"\"}},\"type\":\"parcoords\"}],\"pie\":[{\"automargin\":true,\"type\":\"pie\"}],\"scatter3d\":[{\"line\":{\"colorbar\":{\"outlinewidth\":0,\"ticks\":\"\"}},\"marker\":{\"colorbar\":{\"outlinewidth\":0,\"ticks\":\"\"}},\"type\":\"scatter3d\"}],\"scattercarpet\":[{\"marker\":{\"colorbar\":{\"outlinewidth\":0,\"ticks\":\"\"}},\"type\":\"scattercarpet\"}],\"scattergeo\":[{\"marker\":{\"colorbar\":{\"outlinewidth\":0,\"ticks\":\"\"}},\"type\":\"scattergeo\"}],\"scattergl\":[{\"marker\":{\"colorbar\":{\"outlinewidth\":0,\"ticks\":\"\"}},\"type\":\"scattergl\"}],\"scattermapbox\":[{\"marker\":{\"colorbar\":{\"outlinewidth\":0,\"ticks\":\"\"}},\"type\":\"scattermapbox\"}],\"scatterpolargl\":[{\"marker\":{\"colorbar\":{\"outlinewidth\":0,\"ticks\":\"\"}},\"type\":\"scatterpolargl\"}],\"scatterpolar\":[{\"marker\":{\"colorbar\":{\"outlinewidth\":0,\"ticks\":\"\"}},\"type\":\"scatterpolar\"}],\"scatter\":[{\"fillpattern\":{\"fillmode\":\"overlay\",\"size\":10,\"solidity\":0.2},\"type\":\"scatter\"}],\"scatterternary\":[{\"marker\":{\"colorbar\":{\"outlinewidth\":0,\"ticks\":\"\"}},\"type\":\"scatterternary\"}],\"surface\":[{\"colorbar\":{\"outlinewidth\":0,\"ticks\":\"\"},\"colorscale\":[[0.0,\"#0d0887\"],[0.1111111111111111,\"#46039f\"],[0.2222222222222222,\"#7201a8\"],[0.3333333333333333,\"#9c179e\"],[0.4444444444444444,\"#bd3786\"],[0.5555555555555556,\"#d8576b\"],[0.6666666666666666,\"#ed7953\"],[0.7777777777777778,\"#fb9f3a\"],[0.8888888888888888,\"#fdca26\"],[1.0,\"#f0f921\"]],\"type\":\"surface\"}],\"table\":[{\"cells\":{\"fill\":{\"color\":\"#EBF0F8\"},\"line\":{\"color\":\"white\"}},\"header\":{\"fill\":{\"color\":\"#C8D4E3\"},\"line\":{\"color\":\"white\"}},\"type\":\"table\"}]},\"layout\":{\"annotationdefaults\":{\"arrowcolor\":\"#2a3f5f\",\"arrowhead\":0,\"arrowwidth\":1},\"autotypenumbers\":\"strict\",\"coloraxis\":{\"colorbar\":{\"outlinewidth\":0,\"ticks\":\"\"}},\"colorscale\":{\"diverging\":[[0,\"#8e0152\"],[0.1,\"#c51b7d\"],[0.2,\"#de77ae\"],[0.3,\"#f1b6da\"],[0.4,\"#fde0ef\"],[0.5,\"#f7f7f7\"],[0.6,\"#e6f5d0\"],[0.7,\"#b8e186\"],[0.8,\"#7fbc41\"],[0.9,\"#4d9221\"],[1,\"#276419\"]],\"sequential\":[[0.0,\"#0d0887\"],[0.1111111111111111,\"#46039f\"],[0.2222222222222222,\"#7201a8\"],[0.3333333333333333,\"#9c179e\"],[0.4444444444444444,\"#bd3786\"],[0.5555555555555556,\"#d8576b\"],[0.6666666666666666,\"#ed7953\"],[0.7777777777777778,\"#fb9f3a\"],[0.8888888888888888,\"#fdca26\"],[1.0,\"#f0f921\"]],\"sequentialminus\":[[0.0,\"#0d0887\"],[0.1111111111111111,\"#46039f\"],[0.2222222222222222,\"#7201a8\"],[0.3333333333333333,\"#9c179e\"],[0.4444444444444444,\"#bd3786\"],[0.5555555555555556,\"#d8576b\"],[0.6666666666666666,\"#ed7953\"],[0.7777777777777778,\"#fb9f3a\"],[0.8888888888888888,\"#fdca26\"],[1.0,\"#f0f921\"]]},\"colorway\":[\"#636efa\",\"#EF553B\",\"#00cc96\",\"#ab63fa\",\"#FFA15A\",\"#19d3f3\",\"#FF6692\",\"#B6E880\",\"#FF97FF\",\"#FECB52\"],\"font\":{\"color\":\"#2a3f5f\"},\"geo\":{\"bgcolor\":\"white\",\"lakecolor\":\"white\",\"landcolor\":\"#E5ECF6\",\"showlakes\":true,\"showland\":true,\"subunitcolor\":\"white\"},\"hoverlabel\":{\"align\":\"left\"},\"hovermode\":\"closest\",\"mapbox\":{\"style\":\"light\"},\"paper_bgcolor\":\"white\",\"plot_bgcolor\":\"#E5ECF6\",\"polar\":{\"angularaxis\":{\"gridcolor\":\"white\",\"linecolor\":\"white\",\"ticks\":\"\"},\"bgcolor\":\"#E5ECF6\",\"radialaxis\":{\"gridcolor\":\"white\",\"linecolor\":\"white\",\"ticks\":\"\"}},\"scene\":{\"xaxis\":{\"backgroundcolor\":\"#E5ECF6\",\"gridcolor\":\"white\",\"gridwidth\":2,\"linecolor\":\"white\",\"showbackground\":true,\"ticks\":\"\",\"zerolinecolor\":\"white\"},\"yaxis\":{\"backgroundcolor\":\"#E5ECF6\",\"gridcolor\":\"white\",\"gridwidth\":2,\"linecolor\":\"white\",\"showbackground\":true,\"ticks\":\"\",\"zerolinecolor\":\"white\"},\"zaxis\":{\"backgroundcolor\":\"#E5ECF6\",\"gridcolor\":\"white\",\"gridwidth\":2,\"linecolor\":\"white\",\"showbackground\":true,\"ticks\":\"\",\"zerolinecolor\":\"white\"}},\"shapedefaults\":{\"line\":{\"color\":\"#2a3f5f\"}},\"ternary\":{\"aaxis\":{\"gridcolor\":\"white\",\"linecolor\":\"white\",\"ticks\":\"\"},\"baxis\":{\"gridcolor\":\"white\",\"linecolor\":\"white\",\"ticks\":\"\"},\"bgcolor\":\"#E5ECF6\",\"caxis\":{\"gridcolor\":\"white\",\"linecolor\":\"white\",\"ticks\":\"\"}},\"title\":{\"x\":0.05},\"xaxis\":{\"automargin\":true,\"gridcolor\":\"white\",\"linecolor\":\"white\",\"ticks\":\"\",\"title\":{\"standoff\":15},\"zerolinecolor\":\"white\",\"zerolinewidth\":2},\"yaxis\":{\"automargin\":true,\"gridcolor\":\"white\",\"linecolor\":\"white\",\"ticks\":\"\",\"title\":{\"standoff\":15},\"zerolinecolor\":\"white\",\"zerolinewidth\":2}}},\"title\":{\"text\":\"Date Sets\"}},                        {\"responsive\": true}                    ).then(function(){\n",
       "                            \n",
       "var gd = document.getElementById('1fec3338-f53c-4c69-8bfc-afebfe7236f3');\n",
       "var x = new MutationObserver(function (mutations, observer) {{\n",
       "        var display = window.getComputedStyle(gd).display;\n",
       "        if (!display || display === 'none') {{\n",
       "            console.log([gd, 'removed!']);\n",
       "            Plotly.purge(gd);\n",
       "            observer.disconnect();\n",
       "        }}\n",
       "}});\n",
       "\n",
       "// Listen for the removal of the full notebook cells\n",
       "var notebookContainer = gd.closest('#notebook-container');\n",
       "if (notebookContainer) {{\n",
       "    x.observe(notebookContainer, {childList: true});\n",
       "}}\n",
       "\n",
       "// Listen for the clearing of the current output cell\n",
       "var outputEl = gd.closest('.output');\n",
       "if (outputEl) {{\n",
       "    x.observe(outputEl, {childList: true});\n",
       "}}\n",
       "\n",
       "                        })                };                });            </script>        </div>"
      ]
     },
     "metadata": {},
     "output_type": "display_data"
    }
   ],
   "source": [
    "plot_predictions_trace = go.Scatter3d(\n",
    "    x=x_predictions.flatten(),\n",
    "    y=y_predictions.flatten(),\n",
    "    z=z_predictions.flatten(),\n",
    "    name='Prediction Plane',\n",
    "    mode='markers',\n",
    "    marker={\n",
    "        'size': 1,\n",
    "    },\n",
    "    opacity=0.8,\n",
    "    surfaceaxis=2, \n",
    ")\n",
    "\n",
    "plot_data = [plot_training_trace, plot_test_trace, plot_predictions_trace]\n",
    "plot_figure = go.Figure(data=plot_data, layout=plot_layout)\n",
    "plotly.offline.iplot(plot_figure)"
   ]
  },
  {
   "cell_type": "code",
   "execution_count": null,
   "id": "6e065850-b053-4dd1-a3ee-9543b2da1e66",
   "metadata": {},
   "outputs": [],
   "source": []
  }
 ],
 "metadata": {
  "kernelspec": {
   "display_name": "Python 3 (ipykernel)",
   "language": "python",
   "name": "python3"
  },
  "language_info": {
   "codemirror_mode": {
    "name": "ipython",
    "version": 3
   },
   "file_extension": ".py",
   "mimetype": "text/x-python",
   "name": "python",
   "nbconvert_exporter": "python",
   "pygments_lexer": "ipython3",
   "version": "3.8.8"
  }
 },
 "nbformat": 4,
 "nbformat_minor": 5
}
